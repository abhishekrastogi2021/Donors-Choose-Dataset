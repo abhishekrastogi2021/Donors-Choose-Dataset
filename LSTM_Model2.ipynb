{
 "cells": [
  {
   "cell_type": "code",
   "execution_count": 1,
   "metadata": {
    "colab": {
     "base_uri": "https://localhost:8080/",
     "height": 34
    },
    "colab_type": "code",
    "id": "dDUz8xEiJ1sN",
    "outputId": "522b113d-e9c4-4630-933e-13c98c79a6c1"
   },
   "outputs": [
    {
     "name": "stderr",
     "output_type": "stream",
     "text": [
      "Using TensorFlow backend.\n"
     ]
    }
   ],
   "source": [
    "# importing libraries\n",
    "\n",
    "import warnings\n",
    "warnings.filterwarnings(\"ignore\")\n",
    "import pandas as pd\n",
    "import numpy as np\n",
    "from keras.layers import Input, Embedding, LSTM, Dropout, BatchNormalization, Dense, concatenate, Flatten, Conv1D, MaxPool1D, LeakyReLU, ELU, SpatialDropout1D, MaxPooling1D, GlobalAveragePooling1D, GlobalMaxPooling1D\n",
    "from keras.preprocessing.text import Tokenizer, one_hot\n",
    "from keras.preprocessing.sequence import pad_sequences\n",
    "from keras.models import Model, load_model\n",
    "from keras import regularizers\n",
    "from keras.optimizers import *\n",
    "from keras.callbacks import ModelCheckpoint, EarlyStopping, TensorBoard, ReduceLROnPlateau\n",
    "from sklearn.feature_extraction.text import TfidfVectorizer, CountVectorizer\n",
    "from sklearn.metrics import roc_auc_score\n",
    "import tensorflow as tf\n",
    "from tensorboardcolab import *\n",
    "import matplotlib.pyplot as plt\n",
    "%matplotlib inline\n",
    "import re\n",
    "from tqdm import tqdm\n",
    "from sklearn.preprocessing import LabelEncoder\n",
    "import seaborn as sns\n",
    "import pickle"
   ]
  },
  {
   "cell_type": "code",
   "execution_count": 2,
   "metadata": {
    "colab": {
     "base_uri": "https://localhost:8080/",
     "height": 125
    },
    "colab_type": "code",
    "id": "6gBmCPILPWh_",
    "outputId": "156a7e63-a2af-4253-b0f1-2e6b5ed17bbe"
   },
   "outputs": [
    {
     "name": "stdout",
     "output_type": "stream",
     "text": [
      "Go to this URL in a browser: https://accounts.google.com/o/oauth2/auth?client_id=947318989803-6bn6qk8qdgf4n4g3pfee6491hc0brc4i.apps.googleusercontent.com&redirect_uri=urn%3Aietf%3Awg%3Aoauth%3A2.0%3Aoob&scope=email%20https%3A%2F%2Fwww.googleapis.com%2Fauth%2Fdocs.test%20https%3A%2F%2Fwww.googleapis.com%2Fauth%2Fdrive%20https%3A%2F%2Fwww.googleapis.com%2Fauth%2Fdrive.photos.readonly%20https%3A%2F%2Fwww.googleapis.com%2Fauth%2Fpeopleapi.readonly&response_type=code\n",
      "\n",
      "Enter your authorization code:\n",
      "··········\n",
      "Mounted at /content/drive\n"
     ]
    }
   ],
   "source": [
    "# https://medium.com/@rushic24/mounting-google-drive-in-google-colab-5ecd1d3b735a\n",
    "# https://towardsdatascience.com/3-ways-to-load-csv-files-into-colab-7c14fcbdcb92#targetText=To%20start%2C%20log%20into%20your,Colab%20has%20it%20installed%20already).\n",
    "\n",
    "from google.colab import drive\n",
    "drive.mount('/content/drive')"
   ]
  },
  {
   "cell_type": "code",
   "execution_count": 3,
   "metadata": {
    "colab": {
     "base_uri": "https://localhost:8080/",
     "height": 548
    },
    "colab_type": "code",
    "id": "I6C5-QfeR_sN",
    "outputId": "89328b65-8671-4da6-c637-d70e46f5bb4c"
   },
   "outputs": [
    {
     "data": {
      "text/html": [
       "<div>\n",
       "<style scoped>\n",
       "    .dataframe tbody tr th:only-of-type {\n",
       "        vertical-align: middle;\n",
       "    }\n",
       "\n",
       "    .dataframe tbody tr th {\n",
       "        vertical-align: top;\n",
       "    }\n",
       "\n",
       "    .dataframe thead th {\n",
       "        text-align: right;\n",
       "    }\n",
       "</style>\n",
       "<table border=\"1\" class=\"dataframe\">\n",
       "  <thead>\n",
       "    <tr style=\"text-align: right;\">\n",
       "      <th></th>\n",
       "      <th>school_state</th>\n",
       "      <th>teacher_prefix</th>\n",
       "      <th>project_grade_category</th>\n",
       "      <th>teacher_number_of_previously_posted_projects</th>\n",
       "      <th>project_is_approved</th>\n",
       "      <th>clean_categories</th>\n",
       "      <th>clean_subcategories</th>\n",
       "      <th>essay</th>\n",
       "      <th>price</th>\n",
       "    </tr>\n",
       "  </thead>\n",
       "  <tbody>\n",
       "    <tr>\n",
       "      <th>0</th>\n",
       "      <td>ca</td>\n",
       "      <td>mrs</td>\n",
       "      <td>grades_prek_2</td>\n",
       "      <td>53</td>\n",
       "      <td>1</td>\n",
       "      <td>math_science</td>\n",
       "      <td>appliedsciences health_lifescience</td>\n",
       "      <td>i fortunate enough use fairy tale stem kits cl...</td>\n",
       "      <td>725.05</td>\n",
       "    </tr>\n",
       "    <tr>\n",
       "      <th>1</th>\n",
       "      <td>ut</td>\n",
       "      <td>ms</td>\n",
       "      <td>grades_3_5</td>\n",
       "      <td>4</td>\n",
       "      <td>1</td>\n",
       "      <td>specialneeds</td>\n",
       "      <td>specialneeds</td>\n",
       "      <td>imagine 8 9 years old you third grade classroo...</td>\n",
       "      <td>213.03</td>\n",
       "    </tr>\n",
       "    <tr>\n",
       "      <th>2</th>\n",
       "      <td>ca</td>\n",
       "      <td>mrs</td>\n",
       "      <td>grades_prek_2</td>\n",
       "      <td>10</td>\n",
       "      <td>1</td>\n",
       "      <td>literacy_language</td>\n",
       "      <td>literacy</td>\n",
       "      <td>having class 24 students comes diverse learner...</td>\n",
       "      <td>329.00</td>\n",
       "    </tr>\n",
       "    <tr>\n",
       "      <th>3</th>\n",
       "      <td>ga</td>\n",
       "      <td>mrs</td>\n",
       "      <td>grades_prek_2</td>\n",
       "      <td>2</td>\n",
       "      <td>1</td>\n",
       "      <td>appliedlearning</td>\n",
       "      <td>earlydevelopment</td>\n",
       "      <td>i recently read article giving students choice...</td>\n",
       "      <td>481.04</td>\n",
       "    </tr>\n",
       "    <tr>\n",
       "      <th>4</th>\n",
       "      <td>wa</td>\n",
       "      <td>mrs</td>\n",
       "      <td>grades_3_5</td>\n",
       "      <td>2</td>\n",
       "      <td>1</td>\n",
       "      <td>literacy_language</td>\n",
       "      <td>literacy</td>\n",
       "      <td>my students crave challenge eat obstacles brea...</td>\n",
       "      <td>17.74</td>\n",
       "    </tr>\n",
       "  </tbody>\n",
       "</table>\n",
       "</div>"
      ],
      "text/plain": [
       "  school_state  ...   price\n",
       "0           ca  ...  725.05\n",
       "1           ut  ...  213.03\n",
       "2           ca  ...  329.00\n",
       "3           ga  ...  481.04\n",
       "4           wa  ...   17.74\n",
       "\n",
       "[5 rows x 9 columns]"
      ]
     },
     "execution_count": 3,
     "metadata": {
      "tags": []
     },
     "output_type": "execute_result"
    }
   ],
   "source": [
    "# reading datasets\n",
    "\n",
    "project_data = pd.read_csv(\"/content/drive/My Drive/Data/preprocessed_data.csv\")\n",
    "#pd.read_csv(\"preprocessed_data.csv\")\n",
    "project_data.head()"
   ]
  },
  {
   "cell_type": "code",
   "execution_count": 4,
   "metadata": {
    "colab": {
     "base_uri": "https://localhost:8080/",
     "height": 105
    },
    "colab_type": "code",
    "id": "Oux9huXDXbkp",
    "outputId": "4a2e1682-90c1-4556-8835-1e83abf36394"
   },
   "outputs": [
    {
     "name": "stdout",
     "output_type": "stream",
     "text": [
      "Number of data points in train data (109248, 9)\n",
      "--------------------------------------------------\n",
      "The attributes of data : ['school_state' 'teacher_prefix' 'project_grade_category'\n",
      " 'teacher_number_of_previously_posted_projects' 'project_is_approved'\n",
      " 'clean_categories' 'clean_subcategories' 'essay' 'price']\n"
     ]
    }
   ],
   "source": [
    "print(\"Number of data points in train data\", project_data.shape)\n",
    "print('-'*50)\n",
    "print(\"The attributes of data :\", project_data.columns.values)"
   ]
  },
  {
   "cell_type": "code",
   "execution_count": 5,
   "metadata": {
    "colab": {
     "base_uri": "https://localhost:8080/",
     "height": 94
    },
    "colab_type": "code",
    "id": "eRrUqKfxXg-0",
    "outputId": "1b4818c8-32b3-4479-9eb8-f0a441c54a44"
   },
   "outputs": [
    {
     "data": {
      "text/html": [
       "<div>\n",
       "<style scoped>\n",
       "    .dataframe tbody tr th:only-of-type {\n",
       "        vertical-align: middle;\n",
       "    }\n",
       "\n",
       "    .dataframe tbody tr th {\n",
       "        vertical-align: top;\n",
       "    }\n",
       "\n",
       "    .dataframe thead th {\n",
       "        text-align: right;\n",
       "    }\n",
       "</style>\n",
       "<table border=\"1\" class=\"dataframe\">\n",
       "  <thead>\n",
       "    <tr style=\"text-align: right;\">\n",
       "      <th></th>\n",
       "      <th>school_state</th>\n",
       "      <th>teacher_prefix</th>\n",
       "      <th>project_grade_category</th>\n",
       "      <th>teacher_number_of_previously_posted_projects</th>\n",
       "      <th>clean_categories</th>\n",
       "      <th>clean_subcategories</th>\n",
       "      <th>essay</th>\n",
       "      <th>price</th>\n",
       "    </tr>\n",
       "  </thead>\n",
       "  <tbody>\n",
       "    <tr>\n",
       "      <th>0</th>\n",
       "      <td>ca</td>\n",
       "      <td>mrs</td>\n",
       "      <td>grades_prek_2</td>\n",
       "      <td>53</td>\n",
       "      <td>math_science</td>\n",
       "      <td>appliedsciences health_lifescience</td>\n",
       "      <td>i fortunate enough use fairy tale stem kits cl...</td>\n",
       "      <td>725.05</td>\n",
       "    </tr>\n",
       "  </tbody>\n",
       "</table>\n",
       "</div>"
      ],
      "text/plain": [
       "  school_state  ...   price\n",
       "0           ca  ...  725.05\n",
       "\n",
       "[1 rows x 8 columns]"
      ]
     },
     "execution_count": 5,
     "metadata": {
      "tags": []
     },
     "output_type": "execute_result"
    }
   ],
   "source": [
    "approved_project = project_data['project_is_approved'].values\n",
    "project_data.drop(['project_is_approved'], axis=1, inplace=True)\n",
    "project_data.head(1)"
   ]
  },
  {
   "cell_type": "code",
   "execution_count": 0,
   "metadata": {
    "colab": {},
    "colab_type": "code",
    "collapsed": true,
    "id": "8Q1W8CUBYFFk"
   },
   "outputs": [],
   "source": [
    "# Data splitting\n",
    "\n",
    "from sklearn.model_selection import train_test_split\n",
    "\n",
    "# Splitting in train and test\n",
    "X_train, X_test, y_train, y_test = train_test_split(project_data, approved_project, test_size=0.33, stratify=approved_project)\n",
    "\n"
   ]
  },
  {
   "cell_type": "code",
   "execution_count": 18,
   "metadata": {
    "colab": {
     "base_uri": "https://localhost:8080/",
     "height": 140
    },
    "colab_type": "code",
    "id": "qU1_Aj45L-hN",
    "outputId": "ce1fa7ff-6999-403f-d38a-f80b32d38bff"
   },
   "outputs": [
    {
     "data": {
      "text/plain": [
       "TfidfVectorizer(analyzer='word', binary=False, decode_error='strict',\n",
       "                dtype=<class 'numpy.float64'>, encoding='utf-8',\n",
       "                input='content', lowercase=True, max_df=1.0, max_features=None,\n",
       "                min_df=1, ngram_range=(1, 1), norm='l2', preprocessor=None,\n",
       "                smooth_idf=True, stop_words=None, strip_accents=None,\n",
       "                sublinear_tf=False, token_pattern='(?u)\\\\b\\\\w\\\\w+\\\\b',\n",
       "                tokenizer=None, use_idf=True, vocabulary=None)"
      ]
     },
     "execution_count": 18,
     "metadata": {
      "tags": []
     },
     "output_type": "execute_result"
    }
   ],
   "source": [
    "tfidf_essay_vectorizer = TfidfVectorizer()\n",
    "tfidf_essay_vectorizer.fit(X_train[\"essay\"])\n",
    "#X_Train_essay_tfidf = tfidf_essay_vectorizer.transform(X_train[\"essay\"])"
   ]
  },
  {
   "cell_type": "code",
   "execution_count": 22,
   "metadata": {
    "colab": {
     "base_uri": "https://localhost:8080/",
     "height": 52
    },
    "colab_type": "code",
    "id": "ewTOqNUzO05B",
    "outputId": "b3a78f55-14ea-4acb-9e63-993bba72a73e"
   },
   "outputs": [
    {
     "data": {
      "text/plain": [
       "array([ 7.17702919,  5.86940787, 11.50776253, ..., 11.10229743,\n",
       "       11.50776253, 11.50776253])"
      ]
     },
     "execution_count": 22,
     "metadata": {
      "tags": []
     },
     "output_type": "execute_result"
    }
   ],
   "source": [
    "tfidf_essay_vectorizer.idf_"
   ]
  },
  {
   "cell_type": "code",
   "execution_count": 0,
   "metadata": {
    "colab": {},
    "colab_type": "code",
    "collapsed": true,
    "id": "hW7KSKshPs6R"
   },
   "outputs": [],
   "source": [
    "# we are converting a dictionary with word as a key, and the idf as a value\n",
    "\n",
    "dictionary = dict(zip(tfidf_essay_vectorizer.get_feature_names(), list(tfidf_essay_vectorizer.idf_)))\n",
    "tfidf_words = set(tfidf_essay_vectorizer.get_feature_names())"
   ]
  },
  {
   "cell_type": "code",
   "execution_count": 0,
   "metadata": {
    "colab": {},
    "colab_type": "code",
    "collapsed": true,
    "id": "TPRvwvvISFVl"
   },
   "outputs": [],
   "source": [
    "tfidf_dictinary_df = pd.DataFrame(list(dictionary.items()), columns=['Word', 'Value'])"
   ]
  },
  {
   "cell_type": "code",
   "execution_count": 0,
   "metadata": {
    "colab": {},
    "colab_type": "code",
    "collapsed": true,
    "id": "h3MUEa-PSpli"
   },
   "outputs": [],
   "source": [
    "tfidf_dictinary_df = tfidf_dictinary_df.sort_values(by ='Value' )"
   ]
  },
  {
   "cell_type": "code",
   "execution_count": 35,
   "metadata": {
    "colab": {
     "base_uri": "https://localhost:8080/",
     "height": 52
    },
    "colab_type": "code",
    "id": "YY5LsDPeS8DB",
    "outputId": "0e0662a0-b6fc-40ee-a8b0-59995b167175"
   },
   "outputs": [
    {
     "name": "stdout",
     "output_type": "stream",
     "text": [
      "1.0080242390926728\n",
      "11.50776253494305\n"
     ]
    }
   ],
   "source": [
    "print(tfidf_dictinary_df[\"Value\"].min())\n",
    "print(tfidf_dictinary_df[\"Value\"].max())\n"
   ]
  },
  {
   "cell_type": "code",
   "execution_count": 38,
   "metadata": {
    "colab": {
     "base_uri": "https://localhost:8080/",
     "height": 295
    },
    "colab_type": "code",
    "id": "tqnWdABITdRW",
    "outputId": "dae050ef-b459-4326-db61-70e1aea842d3"
   },
   "outputs": [
    {
     "data": {
      "image/png": "[encoded data removed]",
      "text/plain": [
       "<Figure size 432x288 with 1 Axes>"
      ]
     },
     "metadata": {
      "tags": []
     },
     "output_type": "display_data"
    }
   ],
   "source": [
    "sns.boxplot(x=\"Value\", data=tfidf_dictinary_df )\n",
    "plt.xlabel(\"idf value\")\n",
    "plt.title(\"box plot of idf value\")\n",
    "plt.show()"
   ]
  },
  {
   "cell_type": "code",
   "execution_count": 40,
   "metadata": {
    "colab": {
     "base_uri": "https://localhost:8080/",
     "height": 87
    },
    "colab_type": "code",
    "id": "UCzAjNCKU6ks",
    "outputId": "f1535d63-f2b6-4ff1-b49d-15edf1c60ed1"
   },
   "outputs": [
    {
     "name": "stdout",
     "output_type": "stream",
     "text": [
      "\n",
      "Quantiles:\n",
      "[ 1.00802424  7.48241084  8.94281318  9.89832462 10.5914718  11.10229743\n",
      " 11.10229743 11.50776253 11.50776253 11.50776253]\n"
     ]
    }
   ],
   "source": [
    "print(\"\\nQuantiles:\")\n",
    "print(np.percentile(tfidf_dictinary_df['Value'],np.arange(0, 100, 10)))"
   ]
  },
  {
   "cell_type": "code",
   "execution_count": 41,
   "metadata": {
    "colab": {
     "base_uri": "https://localhost:8080/",
     "height": 34
    },
    "colab_type": "code",
    "id": "XffBfOUhVQtT",
    "outputId": "d77969ac-ea93-4e7c-edf0-7082d6f82dc1"
   },
   "outputs": [
    {
     "data": {
      "text/plain": [
       "(4833, 2)"
      ]
     },
     "execution_count": 41,
     "metadata": {
      "tags": []
     },
     "output_type": "execute_result"
    }
   ],
   "source": [
    "final_tfidf = tfidf_dictinary_df[tfidf_dictinary_df[\"Value\"] <=  np.percentile(tfidf_dictinary_df['Value'],10)]\n",
    "final_tfidf.shape"
   ]
  },
  {
   "cell_type": "code",
   "execution_count": 42,
   "metadata": {
    "colab": {
     "base_uri": "https://localhost:8080/",
     "height": 72
    },
    "colab_type": "code",
    "id": "T4CVrXPiYFnQ",
    "outputId": "9cd8f279-1d19-4748-a08f-2b8dd177d941"
   },
   "outputs": [
    {
     "name": "stdout",
     "output_type": "stream",
     "text": [
      "WARNING:tensorflow:From /usr/local/lib/python3.6/dist-packages/keras/backend/tensorflow_backend.py:541: The name tf.placeholder is deprecated. Please use tf.compat.v1.placeholder instead.\n",
      "\n"
     ]
    }
   ],
   "source": [
    "#clearing the graph of tensorflow\n",
    "tf.keras.backend.clear_session()\n",
    "\n",
    "input_seq_total_text_data = Input(shape=(300,),name=\"input_seq_total_text_data\")"
   ]
  },
  {
   "cell_type": "code",
   "execution_count": 0,
   "metadata": {
    "colab": {},
    "colab_type": "code",
    "collapsed": true,
    "id": "jx_DxrAaWer2"
   },
   "outputs": [],
   "source": [
    "final_word_list = final_tfidf[\"Word\"].tolist()"
   ]
  },
  {
   "cell_type": "code",
   "execution_count": 47,
   "metadata": {
    "colab": {
     "base_uri": "https://localhost:8080/",
     "height": 34
    },
    "colab_type": "code",
    "id": "JfE_wmXdYZ2y",
    "outputId": "183ea46b-43b2-4566-f986-e37f14d87aed"
   },
   "outputs": [
    {
     "data": {
      "text/plain": [
       "4834"
      ]
     },
     "execution_count": 47,
     "metadata": {
      "tags": []
     },
     "output_type": "execute_result"
    }
   ],
   "source": [
    "# https://machinelearningmastery.com/use-word-embedding-layers-deep-learning-keras/\n",
    "\n",
    "# prepare tokenizer\n",
    "text_tokenizer = Tokenizer()\n",
    "text_tokenizer.fit_on_texts(final_word_list)\n",
    "vocab_size = len(text_tokenizer.word_index) + 1\n",
    "vocab_size"
   ]
  },
  {
   "cell_type": "code",
   "execution_count": 0,
   "metadata": {
    "colab": {},
    "colab_type": "code",
    "collapsed": true,
    "id": "euF1OAnyYaWp"
   },
   "outputs": [],
   "source": [
    "# integer encode the data\n",
    "\n",
    "encoded_essay_train = text_tokenizer.texts_to_sequences(X_train[\"essay\"])\n",
    "encoded_essay_test = text_tokenizer.texts_to_sequences(X_test[\"essay\"])\n"
   ]
  },
  {
   "cell_type": "code",
   "execution_count": 49,
   "metadata": {
    "colab": {
     "base_uri": "https://localhost:8080/",
     "height": 52
    },
    "colab_type": "code",
    "id": "C-YTXtG2Ykno",
    "outputId": "44833e76-7210-4222-8df3-5af4145e9d21"
   },
   "outputs": [
    {
     "name": "stdout",
     "output_type": "stream",
     "text": [
      "(73196, 300)\n",
      "(36052, 300)\n"
     ]
    }
   ],
   "source": [
    "# Padding data\n",
    "\n",
    "padded_text_train = pad_sequences(encoded_essay_train, maxlen=300, padding='post', truncating='post')\n",
    "padded_text_test = pad_sequences(encoded_essay_test, maxlen=300, padding='post', truncating='post')\n",
    "\n",
    "print(padded_text_train.shape)\n",
    "print(padded_text_test.shape)\n",
    "\n",
    "\n"
   ]
  },
  {
   "cell_type": "code",
   "execution_count": 0,
   "metadata": {
    "colab": {},
    "colab_type": "code",
    "collapsed": true,
    "id": "r9_5kwMOYamS"
   },
   "outputs": [],
   "source": [
    "f = open(\"/content/drive/My Drive/Data/glove_vectors\", \"rb\")\n",
    "glove_words = pickle.load(f)"
   ]
  },
  {
   "cell_type": "code",
   "execution_count": 51,
   "metadata": {
    "colab": {
     "base_uri": "https://localhost:8080/",
     "height": 34
    },
    "colab_type": "code",
    "id": "3y_Hj4sOZ1gv",
    "outputId": "97354078-b2e1-43a3-9464-921e65cdeb65"
   },
   "outputs": [
    {
     "name": "stdout",
     "output_type": "stream",
     "text": [
      "(4834, 300)\n"
     ]
    }
   ],
   "source": [
    "# create a weight matrix for words in training docs\n",
    "\n",
    "embedding_matrix = np.zeros((vocab_size, 300))\n",
    "for word, i in text_tokenizer.word_index.items():\n",
    "    \n",
    "    embedding_vector = glove_words.get(word)\n",
    "    if embedding_vector is not None:\n",
    "        \n",
    "        embedding_matrix[i] = embedding_vector\n",
    "        \n",
    "print(embedding_matrix.shape)"
   ]
  },
  {
   "cell_type": "code",
   "execution_count": 52,
   "metadata": {
    "colab": {
     "base_uri": "https://localhost:8080/",
     "height": 72
    },
    "colab_type": "code",
    "id": "OF-1zKA-Z4YX",
    "outputId": "f82c675c-ea83-465a-b3c2-b058466b4c38"
   },
   "outputs": [
    {
     "name": "stdout",
     "output_type": "stream",
     "text": [
      "WARNING:tensorflow:From /usr/local/lib/python3.6/dist-packages/keras/backend/tensorflow_backend.py:66: The name tf.get_default_graph is deprecated. Please use tf.compat.v1.get_default_graph instead.\n",
      "\n"
     ]
    }
   ],
   "source": [
    "Emb_Txt_Data = Embedding(vocab_size, 300, weights = [embedding_matrix], input_length = 300, trainable=False)"
   ]
  },
  {
   "cell_type": "code",
   "execution_count": 53,
   "metadata": {
    "colab": {
     "base_uri": "https://localhost:8080/",
     "height": 283
    },
    "colab_type": "code",
    "id": "LQUv_pJjZ9Ih",
    "outputId": "4d2bac52-8a20-4952-a915-f5caf5f94843"
   },
   "outputs": [
    {
     "name": "stdout",
     "output_type": "stream",
     "text": [
      "WARNING:tensorflow:From /usr/local/lib/python3.6/dist-packages/keras/backend/tensorflow_backend.py:4432: The name tf.random_uniform is deprecated. Please use tf.random.uniform instead.\n",
      "\n",
      "WARNING:tensorflow:From /usr/local/lib/python3.6/dist-packages/keras/backend/tensorflow_backend.py:190: The name tf.get_default_session is deprecated. Please use tf.compat.v1.get_default_session instead.\n",
      "\n",
      "WARNING:tensorflow:From /usr/local/lib/python3.6/dist-packages/keras/backend/tensorflow_backend.py:197: The name tf.ConfigProto is deprecated. Please use tf.compat.v1.ConfigProto instead.\n",
      "\n",
      "WARNING:tensorflow:From /usr/local/lib/python3.6/dist-packages/keras/backend/tensorflow_backend.py:203: The name tf.Session is deprecated. Please use tf.compat.v1.Session instead.\n",
      "\n",
      "WARNING:tensorflow:From /usr/local/lib/python3.6/dist-packages/keras/backend/tensorflow_backend.py:207: The name tf.global_variables is deprecated. Please use tf.compat.v1.global_variables instead.\n",
      "\n",
      "WARNING:tensorflow:From /usr/local/lib/python3.6/dist-packages/keras/backend/tensorflow_backend.py:216: The name tf.is_variable_initialized is deprecated. Please use tf.compat.v1.is_variable_initialized instead.\n",
      "\n",
      "WARNING:tensorflow:From /usr/local/lib/python3.6/dist-packages/keras/backend/tensorflow_backend.py:223: The name tf.variables_initializer is deprecated. Please use tf.compat.v1.variables_initializer instead.\n",
      "\n"
     ]
    }
   ],
   "source": [
    "Emb_Text_Data = (Emb_Txt_Data)(input_seq_total_text_data)"
   ]
  },
  {
   "cell_type": "code",
   "execution_count": 54,
   "metadata": {
    "colab": {
     "base_uri": "https://localhost:8080/",
     "height": 34
    },
    "colab_type": "code",
    "id": "Enri55NNaB1_",
    "outputId": "394437f7-aa90-4b13-d711-dfd60513ede9"
   },
   "outputs": [
    {
     "data": {
      "text/plain": [
       "<tf.Tensor 'embedding_1/embedding_lookup/Identity:0' shape=(?, 300, 300) dtype=float32>"
      ]
     },
     "execution_count": 54,
     "metadata": {
      "tags": []
     },
     "output_type": "execute_result"
    }
   ],
   "source": [
    "Emb_Text_Data"
   ]
  },
  {
   "cell_type": "code",
   "execution_count": 55,
   "metadata": {
    "colab": {
     "base_uri": "https://localhost:8080/",
     "height": 125
    },
    "colab_type": "code",
    "id": "x7HksS9taGC6",
    "outputId": "8c5e5f9e-b99c-4f7d-bd5f-cbae91348d0c"
   },
   "outputs": [
    {
     "name": "stdout",
     "output_type": "stream",
     "text": [
      "WARNING:tensorflow:From /usr/local/lib/python3.6/dist-packages/keras/backend/tensorflow_backend.py:148: The name tf.placeholder_with_default is deprecated. Please use tf.compat.v1.placeholder_with_default instead.\n",
      "\n",
      "WARNING:tensorflow:From /usr/local/lib/python3.6/dist-packages/keras/backend/tensorflow_backend.py:3733: calling dropout (from tensorflow.python.ops.nn_ops) with keep_prob is deprecated and will be removed in a future version.\n",
      "Instructions for updating:\n",
      "Please use `rate` instead of `keep_prob`. Rate should be set to `rate = 1 - keep_prob`.\n"
     ]
    }
   ],
   "source": [
    "lstm = LSTM(64, recurrent_dropout=0.5, kernel_regularizer = regularizers.l2(0.001), return_sequences = True)(Emb_Text_Data)"
   ]
  },
  {
   "cell_type": "code",
   "execution_count": 56,
   "metadata": {
    "colab": {
     "base_uri": "https://localhost:8080/",
     "height": 34
    },
    "colab_type": "code",
    "id": "6tILvSCgaGXa",
    "outputId": "ae6833e3-bec6-4103-c2d1-580cac6e00b5"
   },
   "outputs": [
    {
     "data": {
      "text/plain": [
       "<tf.Tensor 'lstm_1/transpose_1:0' shape=(?, ?, 64) dtype=float32>"
      ]
     },
     "execution_count": 56,
     "metadata": {
      "tags": []
     },
     "output_type": "execute_result"
    }
   ],
   "source": [
    "lstm"
   ]
  },
  {
   "cell_type": "code",
   "execution_count": 0,
   "metadata": {
    "colab": {},
    "colab_type": "code",
    "collapsed": true,
    "id": "n98T0yeLaNLV"
   },
   "outputs": [],
   "source": [
    "flatten = Flatten()(lstm)"
   ]
  },
  {
   "cell_type": "code",
   "execution_count": 58,
   "metadata": {
    "colab": {
     "base_uri": "https://localhost:8080/",
     "height": 34
    },
    "colab_type": "code",
    "id": "4Cj2MmXDaNjr",
    "outputId": "ac9412dd-03fb-4149-9d96-029108f4f32b"
   },
   "outputs": [
    {
     "data": {
      "text/plain": [
       "<tf.Tensor 'flatten_1/Reshape:0' shape=(?, ?) dtype=float32>"
      ]
     },
     "execution_count": 58,
     "metadata": {
      "tags": []
     },
     "output_type": "execute_result"
    }
   ],
   "source": [
    "flatten"
   ]
  },
  {
   "cell_type": "code",
   "execution_count": 0,
   "metadata": {
    "colab": {},
    "colab_type": "code",
    "collapsed": true,
    "id": "xo8BGAslaTG9"
   },
   "outputs": [],
   "source": [
    "# processing for school state\n",
    "\n",
    "input_school_state = Input(shape=(50,),name=\"input_school_state\")"
   ]
  },
  {
   "cell_type": "code",
   "execution_count": 60,
   "metadata": {
    "colab": {
     "base_uri": "https://localhost:8080/",
     "height": 34
    },
    "colab_type": "code",
    "id": "MpaSGmMiaTSK",
    "outputId": "e57613ef-df57-49bc-f06c-9c12a4da12b1"
   },
   "outputs": [
    {
     "name": "stdout",
     "output_type": "stream",
     "text": [
      "51\n"
     ]
    }
   ],
   "source": [
    "unique_school_state  = X_train[\"school_state\"].nunique()\n",
    "print(unique_school_state)\n",
    "\n",
    "Emb_State_Data = Embedding(unique_school_state, 300, input_length = 50)(input_school_state)"
   ]
  },
  {
   "cell_type": "code",
   "execution_count": 0,
   "metadata": {
    "colab": {},
    "colab_type": "code",
    "collapsed": true,
    "id": "qqkuOq1TaYq-"
   },
   "outputs": [],
   "source": [
    "flatten_1 = Flatten()(Emb_State_Data)"
   ]
  },
  {
   "cell_type": "code",
   "execution_count": 0,
   "metadata": {
    "colab": {},
    "colab_type": "code",
    "collapsed": true,
    "id": "XlFxBV9haYt3"
   },
   "outputs": [],
   "source": [
    "encoded_school_state_train = [one_hot(d, unique_school_state) for d in X_train['school_state']]\n",
    "encoded_school_state_test = [one_hot(d, unique_school_state) for d in X_test['school_state']]\n"
   ]
  },
  {
   "cell_type": "code",
   "execution_count": 63,
   "metadata": {
    "colab": {
     "base_uri": "https://localhost:8080/",
     "height": 52
    },
    "colab_type": "code",
    "id": "Iz1clcD4aYwh",
    "outputId": "4eb90eb2-5820-49dc-82a8-b4e98e6ff27b"
   },
   "outputs": [
    {
     "name": "stdout",
     "output_type": "stream",
     "text": [
      "(73196, 50)\n",
      "(36052, 50)\n"
     ]
    }
   ],
   "source": [
    "padded_school_state_train = pad_sequences(encoded_school_state_train, maxlen=50, padding='post')\n",
    "padded_school_state_test = pad_sequences(encoded_school_state_test, maxlen=50, padding='post')\n",
    "\n",
    "print(padded_school_state_train.shape)\n",
    "print(padded_school_state_test.shape)"
   ]
  },
  {
   "cell_type": "code",
   "execution_count": 64,
   "metadata": {
    "colab": {
     "base_uri": "https://localhost:8080/",
     "height": 34
    },
    "colab_type": "code",
    "id": "rheNLDN5aYze",
    "outputId": "4d4fcb7a-dd4e-4412-9d4f-846740b3d283"
   },
   "outputs": [
    {
     "name": "stdout",
     "output_type": "stream",
     "text": [
      "4\n"
     ]
    }
   ],
   "source": [
    "# processing for project grade category\n",
    "\n",
    "input_project_grade_category = Input(shape=(50,),name=\"input_project_grade_category\")\n",
    "\n",
    "unique_project_grade  = X_train[\"project_grade_category\"].nunique()\n",
    "print(unique_project_grade)\n",
    "\n",
    "Emb_PGC_Data = Embedding(unique_project_grade, 300, input_length = 50)(input_project_grade_category)\n",
    "flatten_2 = Flatten()(Emb_PGC_Data)\n",
    "\n"
   ]
  },
  {
   "cell_type": "code",
   "execution_count": 65,
   "metadata": {
    "colab": {
     "base_uri": "https://localhost:8080/",
     "height": 52
    },
    "colab_type": "code",
    "id": "SFZmVSKAaY2v",
    "outputId": "dd244f0c-ef52-4c32-9453-575d56547552"
   },
   "outputs": [
    {
     "name": "stdout",
     "output_type": "stream",
     "text": [
      "(73196, 50)\n",
      "(36052, 50)\n"
     ]
    }
   ],
   "source": [
    "encoded_project_grade_train = [one_hot(d, unique_project_grade) for d in X_train['project_grade_category']]\n",
    "encoded_project_grade_test = [one_hot(d, unique_project_grade) for d in X_test['project_grade_category']]\n",
    "\n",
    "padded_project_grade_train = pad_sequences(encoded_project_grade_train, maxlen=50, padding='post')\n",
    "padded_project_grade_test = pad_sequences(encoded_project_grade_test, maxlen=50, padding='post')\n",
    "\n",
    "print(padded_project_grade_train.shape)\n",
    "print(padded_project_grade_test.shape)"
   ]
  },
  {
   "cell_type": "code",
   "execution_count": 66,
   "metadata": {
    "colab": {
     "base_uri": "https://localhost:8080/",
     "height": 34
    },
    "colab_type": "code",
    "id": "fI-VJdDyalBm",
    "outputId": "e363b295-a49f-47f5-aba5-dd4b5af52db5"
   },
   "outputs": [
    {
     "name": "stdout",
     "output_type": "stream",
     "text": [
      "51\n"
     ]
    }
   ],
   "source": [
    "# processing for clean categories\n",
    "\n",
    "input_clean_categories = Input(shape=(50,),name=\"input_clean_categories\")\n",
    "\n",
    "unique_clean_categories  = X_train[\"clean_categories\"].nunique()\n",
    "print(unique_clean_categories)\n",
    "\n",
    "Emb_clean_categories_Data = Embedding(unique_clean_categories, 300, input_length = 50)(input_clean_categories)\n",
    "flatten_3 = Flatten()(Emb_clean_categories_Data)\n",
    "\n"
   ]
  },
  {
   "cell_type": "code",
   "execution_count": 67,
   "metadata": {
    "colab": {
     "base_uri": "https://localhost:8080/",
     "height": 52
    },
    "colab_type": "code",
    "id": "qkaF7FsWalLT",
    "outputId": "b52d4642-7fda-404a-a351-11dbf1588a3b"
   },
   "outputs": [
    {
     "name": "stdout",
     "output_type": "stream",
     "text": [
      "(73196, 50)\n",
      "(36052, 50)\n"
     ]
    }
   ],
   "source": [
    "encoded_clean_categories_train = [one_hot(d, unique_clean_categories) for d in X_train['clean_categories']]\n",
    "encoded_clean_categories_test = [one_hot(d, unique_clean_categories) for d in X_test['clean_categories']]\n",
    "\n",
    "padded_clean_categories_train = pad_sequences(encoded_clean_categories_train, maxlen=50, padding='post')\n",
    "padded_clean_categories_test = pad_sequences(encoded_clean_categories_test, maxlen=50, padding='post')\n",
    "\n",
    "\n",
    "print(padded_clean_categories_train.shape)\n",
    "print(padded_clean_categories_test.shape)"
   ]
  },
  {
   "cell_type": "code",
   "execution_count": 68,
   "metadata": {
    "colab": {
     "base_uri": "https://localhost:8080/",
     "height": 34
    },
    "colab_type": "code",
    "id": "rJl2dG2QalV0",
    "outputId": "9adbf686-07a7-4b22-9073-42e21d53aaed"
   },
   "outputs": [
    {
     "name": "stdout",
     "output_type": "stream",
     "text": [
      "395\n"
     ]
    }
   ],
   "source": [
    "# processing for clean subcategories\n",
    "\n",
    "input_clean_subcategories = Input(shape=(50,),name=\"input_clean_subcategories\")\n",
    "\n",
    "unique_clean_subcategories  = X_train[\"clean_subcategories\"].nunique()\n",
    "print(unique_clean_subcategories)\n",
    "\n",
    "Emb_clean_subcategories_Data = Embedding(unique_clean_subcategories, 300, input_length = 50)(input_clean_subcategories)\n",
    "flatten_4 = Flatten()(Emb_clean_subcategories_Data)\n",
    "\n"
   ]
  },
  {
   "cell_type": "code",
   "execution_count": 69,
   "metadata": {
    "colab": {
     "base_uri": "https://localhost:8080/",
     "height": 52
    },
    "colab_type": "code",
    "id": "tQcjOvEealZE",
    "outputId": "7925f468-7e04-4202-cbc9-7feff7ce7a73"
   },
   "outputs": [
    {
     "name": "stdout",
     "output_type": "stream",
     "text": [
      "(73196, 50)\n",
      "(36052, 50)\n"
     ]
    }
   ],
   "source": [
    "encoded_clean_subcategories_train = [one_hot(d, unique_clean_subcategories) for d in X_train['clean_subcategories']]\n",
    "encoded_clean_subcategories_test = [one_hot(d, unique_clean_subcategories) for d in X_test['clean_subcategories']]\n",
    "\n",
    "padded_clean_subcategories_train = pad_sequences(encoded_clean_subcategories_train, maxlen=50, padding='post')\n",
    "padded_clean_subcategories_test = pad_sequences(encoded_clean_subcategories_test, maxlen=50, padding='post')\n",
    "\n",
    "print(padded_clean_subcategories_train.shape)\n",
    "print(padded_clean_subcategories_test.shape)"
   ]
  },
  {
   "cell_type": "code",
   "execution_count": 70,
   "metadata": {
    "colab": {
     "base_uri": "https://localhost:8080/",
     "height": 34
    },
    "colab_type": "code",
    "id": "kQog_a8Salcd",
    "outputId": "a2cd390d-b667-445e-b3c8-f34d2a3bf386"
   },
   "outputs": [
    {
     "name": "stdout",
     "output_type": "stream",
     "text": [
      "5\n"
     ]
    }
   ],
   "source": [
    "# processing for teacher prefix\n",
    "\n",
    "input_teacher_prefix = Input(shape=(50,),name=\"input_teacher_prefix\")\n",
    "\n",
    "unique_teacher_prefix  = X_train[\"teacher_prefix\"].nunique()\n",
    "print(unique_teacher_prefix)\n",
    "\n",
    "Emb_teacher_prefix_Data = Embedding(unique_teacher_prefix, 300, input_length = 50)(input_teacher_prefix)\n",
    "flatten_5 = Flatten()(Emb_teacher_prefix_Data)\n",
    "\n"
   ]
  },
  {
   "cell_type": "code",
   "execution_count": 71,
   "metadata": {
    "colab": {
     "base_uri": "https://localhost:8080/",
     "height": 52
    },
    "colab_type": "code",
    "id": "XSOcC49KawuV",
    "outputId": "145bac57-4fc4-40ae-9221-fc0bbe16fb8d"
   },
   "outputs": [
    {
     "name": "stdout",
     "output_type": "stream",
     "text": [
      "(73196, 50)\n",
      "(36052, 50)\n"
     ]
    }
   ],
   "source": [
    "encoded_teacher_prefix_train = [one_hot(d, unique_teacher_prefix) for d in X_train['teacher_prefix']]\n",
    "encoded_teacher_prefix_test = [one_hot(d, unique_teacher_prefix) for d in X_test['teacher_prefix']]\n",
    "\n",
    "padded_teacher_prefix_train = pad_sequences(encoded_teacher_prefix_train, maxlen=50, padding='post')\n",
    "padded_teacher_prefix_test = pad_sequences(encoded_teacher_prefix_test, maxlen=50, padding='post')\n",
    "\n",
    "print(padded_teacher_prefix_train.shape)\n",
    "print(padded_teacher_prefix_test.shape)"
   ]
  },
  {
   "cell_type": "code",
   "execution_count": 72,
   "metadata": {
    "colab": {
     "base_uri": "https://localhost:8080/",
     "height": 72
    },
    "colab_type": "code",
    "id": "qvpfd6Yeawxf",
    "outputId": "c4fa7362-54d2-4b67-ec74-67d0281d4ec0"
   },
   "outputs": [
    {
     "name": "stdout",
     "output_type": "stream",
     "text": [
      "WARNING:tensorflow:From /usr/local/lib/python3.6/dist-packages/keras/backend/tensorflow_backend.py:4479: The name tf.truncated_normal is deprecated. Please use tf.random.truncated_normal instead.\n",
      "\n"
     ]
    }
   ],
   "source": [
    "# Processing numerical features\n",
    "\n",
    "input_numerical_data = Input(shape=(2,),name=\"input_numerical_data\")\n",
    "\n",
    "Dense_for_rem_input = Dense(units=32,activation='relu',kernel_initializer='he_normal',name=\"Dense_for_rem_input\")(input_numerical_data)"
   ]
  },
  {
   "cell_type": "code",
   "execution_count": 0,
   "metadata": {
    "colab": {},
    "colab_type": "code",
    "collapsed": true,
    "id": "4CqU8Slcaw0s"
   },
   "outputs": [],
   "source": [
    "teacher_number_of_previously_posted_projects_train = X_train['teacher_number_of_previously_posted_projects'].values.reshape(-1, 1)\n",
    "price_train = X_train['price'].values.reshape(-1, 1)\n",
    "\n",
    "teacher_number_of_previously_posted_projects_test = X_test['teacher_number_of_previously_posted_projects'].values.reshape(-1, 1)\n",
    "price_test = X_test['price'].values.reshape(-1, 1)\n",
    "\n",
    "concat_numerical_train = np.concatenate((teacher_number_of_previously_posted_projects_train,price_train),axis=1)\n",
    "concat_numerical_test = np.concatenate((teacher_number_of_previously_posted_projects_test,price_test),axis=1)"
   ]
  },
  {
   "cell_type": "code",
   "execution_count": 0,
   "metadata": {
    "colab": {},
    "colab_type": "code",
    "collapsed": true,
    "id": "7uvddZhsaw3S"
   },
   "outputs": [],
   "source": [
    "concatenate = concatenate(inputs=[flatten, flatten_1, flatten_2, flatten_3, flatten_4, flatten_5, input_numerical_data],name=\"concatenate\")"
   ]
  },
  {
   "cell_type": "code",
   "execution_count": 75,
   "metadata": {
    "colab": {
     "base_uri": "https://localhost:8080/",
     "height": 1000
    },
    "colab_type": "code",
    "id": "2ugWHxJPaw6m",
    "outputId": "9e7b7481-7651-40d8-8591-873c3cd6c67d"
   },
   "outputs": [
    {
     "name": "stdout",
     "output_type": "stream",
     "text": [
      "WARNING:tensorflow:Large dropout rate: 0.7 (>0.5). In TensorFlow 2.x, dropout() uses dropout rate instead of keep_prob. Please ensure that this is intended.\n",
      "Model: \"model_1\"\n",
      "__________________________________________________________________________________________________\n",
      "Layer (type)                    Output Shape         Param #     Connected to                     \n",
      "==================================================================================================\n",
      "input_seq_total_text_data (Inpu (None, 300)          0                                            \n",
      "__________________________________________________________________________________________________\n",
      "embedding_1 (Embedding)         (None, 300, 300)     1450200     input_seq_total_text_data[0][0]  \n",
      "__________________________________________________________________________________________________\n",
      "input_school_state (InputLayer) (None, 50)           0                                            \n",
      "__________________________________________________________________________________________________\n",
      "input_project_grade_category (I (None, 50)           0                                            \n",
      "__________________________________________________________________________________________________\n",
      "input_clean_categories (InputLa (None, 50)           0                                            \n",
      "__________________________________________________________________________________________________\n",
      "input_clean_subcategories (Inpu (None, 50)           0                                            \n",
      "__________________________________________________________________________________________________\n",
      "input_teacher_prefix (InputLaye (None, 50)           0                                            \n",
      "__________________________________________________________________________________________________\n",
      "lstm_1 (LSTM)                   (None, 300, 64)      93440       embedding_1[0][0]                \n",
      "__________________________________________________________________________________________________\n",
      "embedding_2 (Embedding)         (None, 50, 300)      15300       input_school_state[0][0]         \n",
      "__________________________________________________________________________________________________\n",
      "embedding_3 (Embedding)         (None, 50, 300)      1200        input_project_grade_category[0][0\n",
      "__________________________________________________________________________________________________\n",
      "embedding_4 (Embedding)         (None, 50, 300)      15300       input_clean_categories[0][0]     \n",
      "__________________________________________________________________________________________________\n",
      "embedding_5 (Embedding)         (None, 50, 300)      118500      input_clean_subcategories[0][0]  \n",
      "__________________________________________________________________________________________________\n",
      "embedding_6 (Embedding)         (None, 50, 300)      1500        input_teacher_prefix[0][0]       \n",
      "__________________________________________________________________________________________________\n",
      "flatten_1 (Flatten)             (None, 19200)        0           lstm_1[0][0]                     \n",
      "__________________________________________________________________________________________________\n",
      "flatten_2 (Flatten)             (None, 15000)        0           embedding_2[0][0]                \n",
      "__________________________________________________________________________________________________\n",
      "flatten_3 (Flatten)             (None, 15000)        0           embedding_3[0][0]                \n",
      "__________________________________________________________________________________________________\n",
      "flatten_4 (Flatten)             (None, 15000)        0           embedding_4[0][0]                \n",
      "__________________________________________________________________________________________________\n",
      "flatten_5 (Flatten)             (None, 15000)        0           embedding_5[0][0]                \n",
      "__________________________________________________________________________________________________\n",
      "flatten_6 (Flatten)             (None, 15000)        0           embedding_6[0][0]                \n",
      "__________________________________________________________________________________________________\n",
      "input_numerical_data (InputLaye (None, 2)            0                                            \n",
      "__________________________________________________________________________________________________\n",
      "concatenate (Concatenate)       (None, 94202)        0           flatten_1[0][0]                  \n",
      "                                                                 flatten_2[0][0]                  \n",
      "                                                                 flatten_3[0][0]                  \n",
      "                                                                 flatten_4[0][0]                  \n",
      "                                                                 flatten_5[0][0]                  \n",
      "                                                                 flatten_6[0][0]                  \n",
      "                                                                 input_numerical_data[0][0]       \n",
      "__________________________________________________________________________________________________\n",
      "dense_1 (Dense)                 (None, 256)          24115968    concatenate[0][0]                \n",
      "__________________________________________________________________________________________________\n",
      "dropout_1 (Dropout)             (None, 256)          0           dense_1[0][0]                    \n",
      "__________________________________________________________________________________________________\n",
      "dense_2 (Dense)                 (None, 128)          32896       dropout_1[0][0]                  \n",
      "__________________________________________________________________________________________________\n",
      "dropout_2 (Dropout)             (None, 128)          0           dense_2[0][0]                    \n",
      "__________________________________________________________________________________________________\n",
      "dense_3 (Dense)                 (None, 64)           8256        dropout_2[0][0]                  \n",
      "__________________________________________________________________________________________________\n",
      "dropout_3 (Dropout)             (None, 64)           0           dense_3[0][0]                    \n",
      "__________________________________________________________________________________________________\n",
      "dense_4 (Dense)                 (None, 32)           2080        dropout_3[0][0]                  \n",
      "__________________________________________________________________________________________________\n",
      "batch_normalization_1 (BatchNor (None, 32)           128         dense_4[0][0]                    \n",
      "__________________________________________________________________________________________________\n",
      "output (Dense)                  (None, 2)            66          batch_normalization_1[0][0]      \n",
      "==================================================================================================\n",
      "Total params: 25,854,834\n",
      "Trainable params: 24,404,570\n",
      "Non-trainable params: 1,450,264\n",
      "__________________________________________________________________________________________________\n"
     ]
    }
   ],
   "source": [
    "Dense_layer1_after_concat = Dense(256,activation=\"relu\", kernel_initializer=\"he_normal\", kernel_regularizer=regularizers.l2(0.001))(concatenate)\n",
    "\n",
    "dropout = Dropout(0.5)(Dense_layer1_after_concat)\n",
    "\n",
    "Dense_layer2_after_concat = Dense(128,activation=\"relu\", kernel_initializer=\"he_normal\", kernel_regularizer=regularizers.l2(0.001))(dropout)\n",
    "\n",
    "dropuout_1 = Dropout(0.3)(Dense_layer2_after_concat)\n",
    "\n",
    "Dense_layer3_after_concat = Dense(64,activation='relu',kernel_initializer='he_normal', kernel_regularizer=regularizers.l2(0.001))(dropuout_1)\n",
    "\n",
    "dropuout_2 = Dropout(0.7)(Dense_layer3_after_concat)\n",
    "\n",
    "Dense_layer4_after_concat = Dense(32,activation='relu',kernel_initializer='he_normal', kernel_regularizer=regularizers.l2(0.001))(dropuout_2)\n",
    "\n",
    "batchnormalization_1 = BatchNormalization()(Dense_layer4_after_concat)\n",
    "\n",
    "output_layer_to_classify_with_softmax = Dense(2,activation='softmax',kernel_initializer=\"he_normal\",name=\"output\")(batchnormalization_1)\n",
    "\n",
    "model_1 = Model(inputs=[input_seq_total_text_data,input_school_state,input_project_grade_category,input_clean_categories,input_clean_subcategories,input_teacher_prefix,input_numerical_data],outputs=[output_layer_to_classify_with_softmax])\n",
    "\n",
    "model_1.summary()"
   ]
  },
  {
   "cell_type": "code",
   "execution_count": 76,
   "metadata": {
    "colab": {
     "base_uri": "https://localhost:8080/",
     "height": 70
    },
    "colab_type": "code",
    "id": "QP-7EOq-RG1H",
    "outputId": "3827740f-94e1-42d8-d753-b32cb0c0c00f"
   },
   "outputs": [
    {
     "name": "stdout",
     "output_type": "stream",
     "text": [
      "Wait for 8 seconds...\n",
      "TensorBoard link:\n",
      "https://6faa743d.ngrok.io\n"
     ]
    }
   ],
   "source": [
    "# https://github.com/taomanwai/tensorboardcolab/blob/master/README.md\n",
    "\n",
    "tbc=TensorBoardColab()"
   ]
  },
  {
   "cell_type": "code",
   "execution_count": 0,
   "metadata": {
    "colab": {},
    "colab_type": "code",
    "collapsed": true,
    "id": "qOR7YWD5a81y"
   },
   "outputs": [],
   "source": [
    "# https://machinelearningmastery.com/check-point-deep-learning-models-keras/\n",
    "# https://machinelearningmastery.com/how-to-stop-training-deep-neural-networks-at-the-right-time-using-early-stopping/\n",
    "# https://medium.com/singlestone/keras-callbacks-monitor-and-improve-your-deep-learning-205a8a27e91c\n",
    "# https://www.tensorflow.org/tensorboard/get_started\n",
    "# https://keras.rstudio.com/reference/callback_tensorboard.html\n",
    "# https://colab.research.google.com/drive/1afN2SALDooZIHbBGmWZMT6cZ8ccVElWk#scrollTo=4pxUfiLhbS4Y&forceEdit=true&sandboxMode=true\n",
    "\n",
    "#tensorboard_model_1 = TensorBoard(log_dir='./log', histogram_freq=1, write_graph=True, write_grads=True, batch_size=512, write_images=True)\n",
    "\n",
    "#callbacks_1 = [tensorboard_model_1]"
   ]
  },
  {
   "cell_type": "code",
   "execution_count": 0,
   "metadata": {
    "colab": {},
    "colab_type": "code",
    "collapsed": true,
    "id": "6ssCr1mpa9N_"
   },
   "outputs": [],
   "source": [
    "model_1_train_data = [padded_text_train,padded_school_state_train,padded_project_grade_train,padded_clean_categories_train,padded_clean_subcategories_train,padded_teacher_prefix_train,concat_numerical_train]\n",
    "\n",
    "model_1_test_data = [padded_text_test,padded_school_state_test,padded_project_grade_test,padded_clean_categories_test,padded_clean_subcategories_test,padded_teacher_prefix_test,concat_numerical_test]\n"
   ]
  },
  {
   "cell_type": "code",
   "execution_count": 0,
   "metadata": {
    "colab": {},
    "colab_type": "code",
    "collapsed": true,
    "id": "JmvJtTNda9WM"
   },
   "outputs": [],
   "source": [
    "from keras.utils import np_utils\n",
    "\n",
    "Y_train = np_utils.to_categorical(y_train, 2) \n",
    "Y_test = np_utils.to_categorical(y_test, 2)"
   ]
  },
  {
   "cell_type": "code",
   "execution_count": 0,
   "metadata": {
    "colab": {},
    "colab_type": "code",
    "collapsed": true,
    "id": "lpFVLmSZcnh6"
   },
   "outputs": [],
   "source": [
    "# https://stackoverflow.com/questions/41032551/how-to-compute-receiving-operating-characteristic-roc-and-auc-in-keras\n",
    "\n",
    "def auroc(y_true, y_pred):\n",
    "    return tf.py_func(roc_auc_score, (y_true, y_pred), tf.double)"
   ]
  },
  {
   "cell_type": "code",
   "execution_count": 81,
   "metadata": {
    "colab": {
     "base_uri": "https://localhost:8080/",
     "height": 316
    },
    "colab_type": "code",
    "id": "IdDS-mKba9Zh",
    "outputId": "1e37aa2a-be3f-4758-ebfc-9211e2e8725a"
   },
   "outputs": [
    {
     "name": "stdout",
     "output_type": "stream",
     "text": [
      "WARNING:tensorflow:From /usr/local/lib/python3.6/dist-packages/keras/optimizers.py:793: The name tf.train.Optimizer is deprecated. Please use tf.compat.v1.train.Optimizer instead.\n",
      "\n",
      "WARNING:tensorflow:From /usr/local/lib/python3.6/dist-packages/keras/backend/tensorflow_backend.py:3576: The name tf.log is deprecated. Please use tf.math.log instead.\n",
      "\n",
      "WARNING:tensorflow:From <ipython-input-80-2303c0155baf>:3: py_func (from tensorflow.python.ops.script_ops) is deprecated and will be removed in a future version.\n",
      "Instructions for updating:\n",
      "tf.py_func is deprecated in TF V2. Instead, there are two\n",
      "    options available in V2.\n",
      "    - tf.py_function takes a python function which manipulates tf eager\n",
      "    tensors instead of numpy arrays. It's easy to convert a tf eager tensor to\n",
      "    an ndarray (just call tensor.numpy()) but having access to eager tensors\n",
      "    means `tf.py_function`s can use accelerators such as GPUs as well as\n",
      "    being differentiable using a gradient tape.\n",
      "    - tf.numpy_function maintains the semantics of the deprecated tf.py_func\n",
      "    (it is not differentiable, and manipulates numpy arrays). It drops the\n",
      "    stateful argument making all functions stateful.\n",
      "    \n"
     ]
    }
   ],
   "source": [
    "model_1.compile(optimizer='adam', loss='categorical_crossentropy', metrics=[auroc])"
   ]
  },
  {
   "cell_type": "code",
   "execution_count": 82,
   "metadata": {
    "colab": {
     "base_uri": "https://localhost:8080/",
     "height": 987
    },
    "colab_type": "code",
    "id": "_AZTlCmqa9cY",
    "outputId": "3b2130eb-a13b-4e9f-e80a-0a5c1130765b"
   },
   "outputs": [
    {
     "name": "stdout",
     "output_type": "stream",
     "text": [
      "WARNING:tensorflow:From /usr/local/lib/python3.6/dist-packages/tensorflow_core/python/ops/math_grad.py:1424: where (from tensorflow.python.ops.array_ops) is deprecated and will be removed in a future version.\n",
      "Instructions for updating:\n",
      "Use tf.where in 2.0, which has the same broadcast rule as np.where\n",
      "WARNING:tensorflow:From /usr/local/lib/python3.6/dist-packages/keras/backend/tensorflow_backend.py:1033: The name tf.assign_add is deprecated. Please use tf.compat.v1.assign_add instead.\n",
      "\n",
      "WARNING:tensorflow:From /usr/local/lib/python3.6/dist-packages/keras/backend/tensorflow_backend.py:1020: The name tf.assign is deprecated. Please use tf.compat.v1.assign instead.\n",
      "\n",
      "Train on 73196 samples, validate on 36052 samples\n",
      "WARNING:tensorflow:From /usr/local/lib/python3.6/dist-packages/tensorboardcolab/core.py:49: The name tf.summary.FileWriter is deprecated. Please use tf.compat.v1.summary.FileWriter instead.\n",
      "\n",
      "WARNING:tensorflow:From /usr/local/lib/python3.6/dist-packages/keras/callbacks.py:1122: The name tf.summary.merge_all is deprecated. Please use tf.compat.v1.summary.merge_all instead.\n",
      "\n",
      "Epoch 1/20\n",
      "73196/73196 [==============================] - 112s 2ms/step - loss: 1.0029 - auroc: 0.5110 - val_loss: 0.6552 - val_auroc: 0.5750\n",
      "WARNING:tensorflow:From /usr/local/lib/python3.6/dist-packages/tensorboardcolab/callbacks.py:51: The name tf.Summary is deprecated. Please use tf.compat.v1.Summary instead.\n",
      "\n",
      "Epoch 2/20\n",
      "73196/73196 [==============================] - 112s 2ms/step - loss: 0.6007 - auroc: 0.5522 - val_loss: 0.5611 - val_auroc: 0.6482\n",
      "Epoch 3/20\n",
      "73196/73196 [==============================] - 112s 2ms/step - loss: 0.5233 - auroc: 0.6398 - val_loss: 0.5098 - val_auroc: 0.7154\n",
      "Epoch 4/20\n",
      "73196/73196 [==============================] - 113s 2ms/step - loss: 0.4779 - auroc: 0.6889 - val_loss: 0.4817 - val_auroc: 0.7250\n",
      "Epoch 5/20\n",
      "73196/73196 [==============================] - 111s 2ms/step - loss: 0.4503 - auroc: 0.7068 - val_loss: 0.4587 - val_auroc: 0.7360\n",
      "Epoch 6/20\n",
      "73196/73196 [==============================] - 111s 2ms/step - loss: 0.4326 - auroc: 0.7158 - val_loss: 0.4469 - val_auroc: 0.7395\n",
      "Epoch 7/20\n",
      "73196/73196 [==============================] - 111s 2ms/step - loss: 0.4191 - auroc: 0.7249 - val_loss: 0.4198 - val_auroc: 0.7432\n",
      "Epoch 8/20\n",
      "73196/73196 [==============================] - 111s 2ms/step - loss: 0.4086 - auroc: 0.7278 - val_loss: 0.4135 - val_auroc: 0.7431\n",
      "Epoch 9/20\n",
      "73196/73196 [==============================] - 111s 2ms/step - loss: 0.4031 - auroc: 0.7348 - val_loss: 0.4026 - val_auroc: 0.7479\n",
      "Epoch 10/20\n",
      "73196/73196 [==============================] - 111s 2ms/step - loss: 0.4013 - auroc: 0.7315 - val_loss: 0.3997 - val_auroc: 0.7458\n",
      "Epoch 11/20\n",
      "73196/73196 [==============================] - 111s 2ms/step - loss: 0.3980 - auroc: 0.7357 - val_loss: 0.4045 - val_auroc: 0.7479\n",
      "Epoch 12/20\n",
      "73196/73196 [==============================] - 111s 2ms/step - loss: 0.3973 - auroc: 0.7349 - val_loss: 0.3982 - val_auroc: 0.7509\n",
      "Epoch 13/20\n",
      "73196/73196 [==============================] - 111s 2ms/step - loss: 0.4024 - auroc: 0.7309 - val_loss: 0.4084 - val_auroc: 0.7498\n",
      "Epoch 14/20\n",
      "73196/73196 [==============================] - 111s 2ms/step - loss: 0.3979 - auroc: 0.7385 - val_loss: 0.3961 - val_auroc: 0.7517\n",
      "Epoch 15/20\n",
      "73196/73196 [==============================] - 112s 2ms/step - loss: 0.3950 - auroc: 0.7394 - val_loss: 0.3982 - val_auroc: 0.7544\n",
      "Epoch 16/20\n",
      "73196/73196 [==============================] - 110s 2ms/step - loss: 0.3928 - auroc: 0.7416 - val_loss: 0.3963 - val_auroc: 0.7534\n",
      "Epoch 17/20\n",
      "73196/73196 [==============================] - 110s 1ms/step - loss: 0.3920 - auroc: 0.7420 - val_loss: 0.3907 - val_auroc: 0.7506\n",
      "Epoch 18/20\n",
      "73196/73196 [==============================] - 110s 2ms/step - loss: 0.3929 - auroc: 0.7413 - val_loss: 0.3944 - val_auroc: 0.7533\n",
      "Epoch 19/20\n",
      "73196/73196 [==============================] - 110s 2ms/step - loss: 0.3911 - auroc: 0.7450 - val_loss: 0.3950 - val_auroc: 0.7551\n",
      "Epoch 20/20\n",
      "73196/73196 [==============================] - 110s 2ms/step - loss: 0.3913 - auroc: 0.7424 - val_loss: 0.3971 - val_auroc: 0.7534\n"
     ]
    }
   ],
   "source": [
    "history = model_1.fit(model_1_train_data, Y_train, batch_size=512, epochs=20, verbose=1, validation_data=(model_1_test_data, Y_test), callbacks=[TensorBoardColabCallback(tbc)])"
   ]
  },
  {
   "cell_type": "code",
   "execution_count": 83,
   "metadata": {
    "colab": {
     "base_uri": "https://localhost:8080/",
     "height": 513
    },
    "colab_type": "code",
    "id": "yHQVsfxva9ft",
    "outputId": "bd13899f-251a-4eed-ee7d-89a80e3d84a9"
   },
   "outputs": [
    {
     "data": {
      "image/png": "[encoded data removed]",
      "text/plain": [
       "<Figure size 432x288 with 1 Axes>"
      ]
     },
     "metadata": {
      "tags": []
     },
     "output_type": "display_data"
    },
    {
     "data": {
      "image/png": "[encoded data removed]",
      "text/plain": [
       "<Figure size 432x288 with 1 Axes>"
      ]
     },
     "metadata": {
      "tags": []
     },
     "output_type": "display_data"
    }
   ],
   "source": [
    "plt.plot(history.history['auroc'], 'r')\n",
    "plt.plot(history.history['val_auroc'], 'b')\n",
    "plt.legend({'Train ROCAUC': 'r', 'Test ROCAUC':'b'})\n",
    "plt.show()\n",
    "\n",
    "\n",
    "plt.plot(history.history['loss'], 'r')\n",
    "plt.plot(history.history['val_loss'], 'b')\n",
    "plt.legend({'Train Loss': 'r', 'Test Loss':'b'})\n",
    "plt.show()"
   ]
  },
  {
   "cell_type": "markdown",
   "metadata": {},
   "source": [
    "Model ROCAUC value is 0.7534"
   ]
  }
 ],
 "metadata": {
  "accelerator": "GPU",
  "colab": {
   "collapsed_sections": [],
   "machine_shape": "hm",
   "name": "Copy of Copy of abhishekrastogi8@gmail.com_Assignment-14-Model 1.ipynb",
   "provenance": []
  },
  "kernelspec": {
   "display_name": "Python 3",
   "language": "python",
   "name": "python3"
  },
  "language_info": {
   "codemirror_mode": {
    "name": "ipython",
    "version": 3
   },
   "file_extension": ".py",
   "mimetype": "text/x-python",
   "name": "python",
   "nbconvert_exporter": "python",
   "pygments_lexer": "ipython3",
   "version": "3.6.2"
  }
 },
 "nbformat": 4,
 "nbformat_minor": 1
}
