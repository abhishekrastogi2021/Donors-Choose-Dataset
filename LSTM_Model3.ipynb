{
 "cells": [
  {
   "cell_type": "code",
   "execution_count": 1,
   "metadata": {
    "colab": {
     "base_uri": "https://localhost:8080/",
     "height": 81
    },
    "colab_type": "code",
    "id": "dDUz8xEiJ1sN",
    "outputId": "5b2df6ce-4ed7-412c-c20d-6fdc1e7fe1cd"
   },
   "outputs": [
    {
     "name": "stderr",
     "output_type": "stream",
     "text": [
      "Using TensorFlow backend.\n"
     ]
    },
    {
     "data": {
      "text/html": [
       "<p style=\"color: red;\">\n",
       "The default version of TensorFlow in Colab will soon switch to TensorFlow 2.x.<br>\n",
       "We recommend you <a href=\"https://www.tensorflow.org/guide/migrate\" target=\"_blank\">upgrade</a> now \n",
       "or ensure your notebook will continue to use TensorFlow 1.x via the <code>%tensorflow_version 1.x</code> magic:\n",
       "<a href=\"https://colab.research.google.com/notebooks/tensorflow_version.ipynb\" target=\"_blank\">more info</a>.</p>\n"
      ],
      "text/plain": [
       "<IPython.core.display.HTML object>"
      ]
     },
     "metadata": {
      "tags": []
     },
     "output_type": "display_data"
    }
   ],
   "source": [
    "# importing libraries\n",
    "\n",
    "import warnings\n",
    "warnings.filterwarnings(\"ignore\")\n",
    "import pandas as pd\n",
    "import numpy as np\n",
    "from keras.layers import Input, Embedding, LSTM, Dropout, BatchNormalization, Dense, concatenate, Flatten, Conv1D, MaxPool1D, LeakyReLU, ELU, SpatialDropout1D, MaxPooling1D, GlobalAveragePooling1D, GlobalMaxPooling1D\n",
    "from keras.preprocessing.text import Tokenizer, one_hot\n",
    "from keras.preprocessing.sequence import pad_sequences\n",
    "from keras.models import Model, load_model\n",
    "from keras import regularizers\n",
    "from keras.optimizers import *\n",
    "from keras.callbacks import ModelCheckpoint, EarlyStopping, TensorBoard, ReduceLROnPlateau\n",
    "from sklearn.feature_extraction.text import TfidfVectorizer, CountVectorizer\n",
    "from sklearn.metrics import roc_auc_score\n",
    "import tensorflow as tf\n",
    "from tensorboardcolab import *\n",
    "import matplotlib.pyplot as plt\n",
    "%matplotlib inline\n",
    "import re\n",
    "from tqdm import tqdm\n",
    "from sklearn.preprocessing import LabelEncoder\n",
    "import seaborn as sns\n",
    "import pickle"
   ]
  },
  {
   "cell_type": "code",
   "execution_count": 2,
   "metadata": {
    "colab": {
     "base_uri": "https://localhost:8080/",
     "height": 125
    },
    "colab_type": "code",
    "id": "6gBmCPILPWh_",
    "outputId": "7de76655-3335-436e-80c0-d9c1bd70783f"
   },
   "outputs": [
    {
     "name": "stdout",
     "output_type": "stream",
     "text": [
      "Go to this URL in a browser: https://accounts.google.com/o/oauth2/auth?client_id=947318989803-6bn6qk8qdgf4n4g3pfee6491hc0brc4i.apps.googleusercontent.com&redirect_uri=urn%3Aietf%3Awg%3Aoauth%3A2.0%3Aoob&scope=email%20https%3A%2F%2Fwww.googleapis.com%2Fauth%2Fdocs.test%20https%3A%2F%2Fwww.googleapis.com%2Fauth%2Fdrive%20https%3A%2F%2Fwww.googleapis.com%2Fauth%2Fdrive.photos.readonly%20https%3A%2F%2Fwww.googleapis.com%2Fauth%2Fpeopleapi.readonly&response_type=code\n",
      "\n",
      "Enter your authorization code:\n",
      "··········\n",
      "Mounted at /content/drive\n"
     ]
    }
   ],
   "source": [
    "# https://medium.com/@rushic24/mounting-google-drive-in-google-colab-5ecd1d3b735a\n",
    "# https://towardsdatascience.com/3-ways-to-load-csv-files-into-colab-7c14fcbdcb92#targetText=To%20start%2C%20log%20into%20your,Colab%20has%20it%20installed%20already).\n",
    "\n",
    "from google.colab import drive\n",
    "drive.mount('/content/drive')"
   ]
  },
  {
   "cell_type": "code",
   "execution_count": 3,
   "metadata": {
    "colab": {
     "base_uri": "https://localhost:8080/",
     "height": 548
    },
    "colab_type": "code",
    "id": "I6C5-QfeR_sN",
    "outputId": "f941f895-ba54-467d-c6db-3264f17a13ab"
   },
   "outputs": [
    {
     "data": {
      "text/html": [
       "<div>\n",
       "<style scoped>\n",
       "    .dataframe tbody tr th:only-of-type {\n",
       "        vertical-align: middle;\n",
       "    }\n",
       "\n",
       "    .dataframe tbody tr th {\n",
       "        vertical-align: top;\n",
       "    }\n",
       "\n",
       "    .dataframe thead th {\n",
       "        text-align: right;\n",
       "    }\n",
       "</style>\n",
       "<table border=\"1\" class=\"dataframe\">\n",
       "  <thead>\n",
       "    <tr style=\"text-align: right;\">\n",
       "      <th></th>\n",
       "      <th>school_state</th>\n",
       "      <th>teacher_prefix</th>\n",
       "      <th>project_grade_category</th>\n",
       "      <th>teacher_number_of_previously_posted_projects</th>\n",
       "      <th>project_is_approved</th>\n",
       "      <th>clean_categories</th>\n",
       "      <th>clean_subcategories</th>\n",
       "      <th>essay</th>\n",
       "      <th>price</th>\n",
       "    </tr>\n",
       "  </thead>\n",
       "  <tbody>\n",
       "    <tr>\n",
       "      <th>0</th>\n",
       "      <td>ca</td>\n",
       "      <td>mrs</td>\n",
       "      <td>grades_prek_2</td>\n",
       "      <td>53</td>\n",
       "      <td>1</td>\n",
       "      <td>math_science</td>\n",
       "      <td>appliedsciences health_lifescience</td>\n",
       "      <td>i fortunate enough use fairy tale stem kits cl...</td>\n",
       "      <td>725.05</td>\n",
       "    </tr>\n",
       "    <tr>\n",
       "      <th>1</th>\n",
       "      <td>ut</td>\n",
       "      <td>ms</td>\n",
       "      <td>grades_3_5</td>\n",
       "      <td>4</td>\n",
       "      <td>1</td>\n",
       "      <td>specialneeds</td>\n",
       "      <td>specialneeds</td>\n",
       "      <td>imagine 8 9 years old you third grade classroo...</td>\n",
       "      <td>213.03</td>\n",
       "    </tr>\n",
       "    <tr>\n",
       "      <th>2</th>\n",
       "      <td>ca</td>\n",
       "      <td>mrs</td>\n",
       "      <td>grades_prek_2</td>\n",
       "      <td>10</td>\n",
       "      <td>1</td>\n",
       "      <td>literacy_language</td>\n",
       "      <td>literacy</td>\n",
       "      <td>having class 24 students comes diverse learner...</td>\n",
       "      <td>329.00</td>\n",
       "    </tr>\n",
       "    <tr>\n",
       "      <th>3</th>\n",
       "      <td>ga</td>\n",
       "      <td>mrs</td>\n",
       "      <td>grades_prek_2</td>\n",
       "      <td>2</td>\n",
       "      <td>1</td>\n",
       "      <td>appliedlearning</td>\n",
       "      <td>earlydevelopment</td>\n",
       "      <td>i recently read article giving students choice...</td>\n",
       "      <td>481.04</td>\n",
       "    </tr>\n",
       "    <tr>\n",
       "      <th>4</th>\n",
       "      <td>wa</td>\n",
       "      <td>mrs</td>\n",
       "      <td>grades_3_5</td>\n",
       "      <td>2</td>\n",
       "      <td>1</td>\n",
       "      <td>literacy_language</td>\n",
       "      <td>literacy</td>\n",
       "      <td>my students crave challenge eat obstacles brea...</td>\n",
       "      <td>17.74</td>\n",
       "    </tr>\n",
       "  </tbody>\n",
       "</table>\n",
       "</div>"
      ],
      "text/plain": [
       "  school_state  ...   price\n",
       "0           ca  ...  725.05\n",
       "1           ut  ...  213.03\n",
       "2           ca  ...  329.00\n",
       "3           ga  ...  481.04\n",
       "4           wa  ...   17.74\n",
       "\n",
       "[5 rows x 9 columns]"
      ]
     },
     "execution_count": 3,
     "metadata": {
      "tags": []
     },
     "output_type": "execute_result"
    }
   ],
   "source": [
    "# reading datasets\n",
    "\n",
    "project_data = pd.read_csv(\"/content/drive/My Drive/Data/preprocessed_data.csv\")\n",
    "#pd.read_csv(\"preprocessed_data.csv\")\n",
    "project_data.head()"
   ]
  },
  {
   "cell_type": "code",
   "execution_count": 4,
   "metadata": {
    "colab": {
     "base_uri": "https://localhost:8080/",
     "height": 105
    },
    "colab_type": "code",
    "id": "Oux9huXDXbkp",
    "outputId": "edce234b-5684-4821-8779-a33a88ffa6d3"
   },
   "outputs": [
    {
     "name": "stdout",
     "output_type": "stream",
     "text": [
      "Number of data points in train data (109248, 9)\n",
      "--------------------------------------------------\n",
      "The attributes of data : ['school_state' 'teacher_prefix' 'project_grade_category'\n",
      " 'teacher_number_of_previously_posted_projects' 'project_is_approved'\n",
      " 'clean_categories' 'clean_subcategories' 'essay' 'price']\n"
     ]
    }
   ],
   "source": [
    "print(\"Number of data points in train data\", project_data.shape)\n",
    "print('-'*50)\n",
    "print(\"The attributes of data :\", project_data.columns.values)"
   ]
  },
  {
   "cell_type": "code",
   "execution_count": 5,
   "metadata": {
    "colab": {
     "base_uri": "https://localhost:8080/",
     "height": 94
    },
    "colab_type": "code",
    "id": "eRrUqKfxXg-0",
    "outputId": "fa57139c-4acd-4ce3-fbb8-8b10f705c83b"
   },
   "outputs": [
    {
     "data": {
      "text/html": [
       "<div>\n",
       "<style scoped>\n",
       "    .dataframe tbody tr th:only-of-type {\n",
       "        vertical-align: middle;\n",
       "    }\n",
       "\n",
       "    .dataframe tbody tr th {\n",
       "        vertical-align: top;\n",
       "    }\n",
       "\n",
       "    .dataframe thead th {\n",
       "        text-align: right;\n",
       "    }\n",
       "</style>\n",
       "<table border=\"1\" class=\"dataframe\">\n",
       "  <thead>\n",
       "    <tr style=\"text-align: right;\">\n",
       "      <th></th>\n",
       "      <th>school_state</th>\n",
       "      <th>teacher_prefix</th>\n",
       "      <th>project_grade_category</th>\n",
       "      <th>teacher_number_of_previously_posted_projects</th>\n",
       "      <th>clean_categories</th>\n",
       "      <th>clean_subcategories</th>\n",
       "      <th>essay</th>\n",
       "      <th>price</th>\n",
       "    </tr>\n",
       "  </thead>\n",
       "  <tbody>\n",
       "    <tr>\n",
       "      <th>0</th>\n",
       "      <td>ca</td>\n",
       "      <td>mrs</td>\n",
       "      <td>grades_prek_2</td>\n",
       "      <td>53</td>\n",
       "      <td>math_science</td>\n",
       "      <td>appliedsciences health_lifescience</td>\n",
       "      <td>i fortunate enough use fairy tale stem kits cl...</td>\n",
       "      <td>725.05</td>\n",
       "    </tr>\n",
       "  </tbody>\n",
       "</table>\n",
       "</div>"
      ],
      "text/plain": [
       "  school_state  ...   price\n",
       "0           ca  ...  725.05\n",
       "\n",
       "[1 rows x 8 columns]"
      ]
     },
     "execution_count": 5,
     "metadata": {
      "tags": []
     },
     "output_type": "execute_result"
    }
   ],
   "source": [
    "approved_project = project_data['project_is_approved'].values\n",
    "project_data.drop(['project_is_approved'], axis=1, inplace=True)\n",
    "project_data.head(1)"
   ]
  },
  {
   "cell_type": "code",
   "execution_count": 0,
   "metadata": {
    "colab": {},
    "colab_type": "code",
    "collapsed": true,
    "id": "8Q1W8CUBYFFk"
   },
   "outputs": [],
   "source": [
    "# Data splitting\n",
    "\n",
    "from sklearn.model_selection import train_test_split\n",
    "\n",
    "# Splitting in train and test\n",
    "X_train, X_test, y_train, y_test = train_test_split(project_data, approved_project, test_size=0.33, stratify=approved_project)\n",
    "\n"
   ]
  },
  {
   "cell_type": "code",
   "execution_count": 7,
   "metadata": {
    "colab": {
     "base_uri": "https://localhost:8080/",
     "height": 140
    },
    "colab_type": "code",
    "id": "qU1_Aj45L-hN",
    "outputId": "6c3d2cc7-2bc7-4c55-9a98-839a9b399bec"
   },
   "outputs": [
    {
     "data": {
      "text/plain": [
       "TfidfVectorizer(analyzer='word', binary=False, decode_error='strict',\n",
       "                dtype=<class 'numpy.float64'>, encoding='utf-8',\n",
       "                input='content', lowercase=True, max_df=1.0, max_features=None,\n",
       "                min_df=1, ngram_range=(1, 1), norm='l2', preprocessor=None,\n",
       "                smooth_idf=True, stop_words=None, strip_accents=None,\n",
       "                sublinear_tf=False, token_pattern='(?u)\\\\b\\\\w\\\\w+\\\\b',\n",
       "                tokenizer=None, use_idf=True, vocabulary=None)"
      ]
     },
     "execution_count": 7,
     "metadata": {
      "tags": []
     },
     "output_type": "execute_result"
    }
   ],
   "source": [
    "tfidf_essay_vectorizer = TfidfVectorizer()\n",
    "tfidf_essay_vectorizer.fit(X_train[\"essay\"])\n",
    "#X_Train_essay_tfidf = tfidf_essay_vectorizer.transform(X_train[\"essay\"])"
   ]
  },
  {
   "cell_type": "code",
   "execution_count": 8,
   "metadata": {
    "colab": {
     "base_uri": "https://localhost:8080/",
     "height": 52
    },
    "colab_type": "code",
    "id": "ewTOqNUzO05B",
    "outputId": "7b9504f6-04d0-4340-cd79-a5ad4371728d"
   },
   "outputs": [
    {
     "data": {
      "text/plain": [
       "array([ 7.15105371,  5.92992128, 11.50776253, ..., 11.50776253,\n",
       "       11.50776253, 11.10229743])"
      ]
     },
     "execution_count": 8,
     "metadata": {
      "tags": []
     },
     "output_type": "execute_result"
    }
   ],
   "source": [
    "tfidf_essay_vectorizer.idf_"
   ]
  },
  {
   "cell_type": "code",
   "execution_count": 0,
   "metadata": {
    "colab": {},
    "colab_type": "code",
    "collapsed": true,
    "id": "hW7KSKshPs6R"
   },
   "outputs": [],
   "source": [
    "# we are converting a dictionary with word as a key, and the idf as a value\n",
    "\n",
    "dictionary = dict(zip(tfidf_essay_vectorizer.get_feature_names(), list(tfidf_essay_vectorizer.idf_)))\n",
    "tfidf_words = set(tfidf_essay_vectorizer.get_feature_names())"
   ]
  },
  {
   "cell_type": "code",
   "execution_count": 0,
   "metadata": {
    "colab": {},
    "colab_type": "code",
    "collapsed": true,
    "id": "TPRvwvvISFVl"
   },
   "outputs": [],
   "source": [
    "tfidf_dictinary_df = pd.DataFrame(list(dictionary.items()), columns=['Word', 'Value'])"
   ]
  },
  {
   "cell_type": "code",
   "execution_count": 0,
   "metadata": {
    "colab": {},
    "colab_type": "code",
    "collapsed": true,
    "id": "h3MUEa-PSpli"
   },
   "outputs": [],
   "source": [
    "tfidf_dictinary_df = tfidf_dictinary_df.sort_values(by ='Value' )"
   ]
  },
  {
   "cell_type": "code",
   "execution_count": 12,
   "metadata": {
    "colab": {
     "base_uri": "https://localhost:8080/",
     "height": 52
    },
    "colab_type": "code",
    "id": "YY5LsDPeS8DB",
    "outputId": "e28322d0-29c0-47be-d2c4-bc3f8f302684"
   },
   "outputs": [
    {
     "name": "stdout",
     "output_type": "stream",
     "text": [
      "1.0074459895205732\n",
      "11.50776253494305\n"
     ]
    }
   ],
   "source": [
    "print(tfidf_dictinary_df[\"Value\"].min())\n",
    "print(tfidf_dictinary_df[\"Value\"].max())\n"
   ]
  },
  {
   "cell_type": "code",
   "execution_count": 13,
   "metadata": {
    "colab": {
     "base_uri": "https://localhost:8080/",
     "height": 295
    },
    "colab_type": "code",
    "id": "tqnWdABITdRW",
    "outputId": "629237bd-638e-4b8a-8b9b-8ad1d94823ed"
   },
   "outputs": [
    {
     "data": {
      "image/png": "[encoded data removed]",
      "text/plain": [
       "<Figure size 432x288 with 1 Axes>"
      ]
     },
     "metadata": {
      "tags": []
     },
     "output_type": "display_data"
    }
   ],
   "source": [
    "sns.boxplot(x=\"Value\", data=tfidf_dictinary_df )\n",
    "plt.xlabel(\"idf value\")\n",
    "plt.title(\"box plot of idf value\")\n",
    "plt.show()"
   ]
  },
  {
   "cell_type": "code",
   "execution_count": 14,
   "metadata": {
    "colab": {
     "base_uri": "https://localhost:8080/",
     "height": 87
    },
    "colab_type": "code",
    "id": "UCzAjNCKU6ks",
    "outputId": "2e0071d8-8115-4ef0-8732-79446f8964a9"
   },
   "outputs": [
    {
     "name": "stdout",
     "output_type": "stream",
     "text": [
      "\n",
      "Quantiles:\n",
      "[ 1.00744599  7.48241084  8.94281318  9.89832462 10.5914718  11.10229743\n",
      " 11.10229743 11.50776253 11.50776253 11.50776253]\n"
     ]
    }
   ],
   "source": [
    "print(\"\\nQuantiles:\")\n",
    "print(np.percentile(tfidf_dictinary_df['Value'],np.arange(0, 100, 10)))"
   ]
  },
  {
   "cell_type": "code",
   "execution_count": 15,
   "metadata": {
    "colab": {
     "base_uri": "https://localhost:8080/",
     "height": 34
    },
    "colab_type": "code",
    "id": "XffBfOUhVQtT",
    "outputId": "1fce715e-cf93-4452-9623-cef6638b71c5"
   },
   "outputs": [
    {
     "data": {
      "text/plain": [
       "(4848, 2)"
      ]
     },
     "execution_count": 15,
     "metadata": {
      "tags": []
     },
     "output_type": "execute_result"
    }
   ],
   "source": [
    "final_tfidf = tfidf_dictinary_df[tfidf_dictinary_df[\"Value\"] <=  np.percentile(tfidf_dictinary_df['Value'],10)]\n",
    "final_tfidf.shape"
   ]
  },
  {
   "cell_type": "code",
   "execution_count": 16,
   "metadata": {
    "colab": {
     "base_uri": "https://localhost:8080/",
     "height": 72
    },
    "colab_type": "code",
    "id": "T4CVrXPiYFnQ",
    "outputId": "d6b12c8e-552d-4649-d8fa-84c0dcd00959"
   },
   "outputs": [
    {
     "name": "stdout",
     "output_type": "stream",
     "text": [
      "WARNING:tensorflow:From /usr/local/lib/python3.6/dist-packages/keras/backend/tensorflow_backend.py:541: The name tf.placeholder is deprecated. Please use tf.compat.v1.placeholder instead.\n",
      "\n"
     ]
    }
   ],
   "source": [
    "#clearing the graph of tensorflow\n",
    "tf.keras.backend.clear_session()\n",
    "\n",
    "input_seq_total_text_data = Input(shape=(300,),name=\"input_seq_total_text_data\")"
   ]
  },
  {
   "cell_type": "code",
   "execution_count": 0,
   "metadata": {
    "colab": {},
    "colab_type": "code",
    "collapsed": true,
    "id": "jx_DxrAaWer2"
   },
   "outputs": [],
   "source": [
    "final_word_list = final_tfidf[\"Word\"].tolist()"
   ]
  },
  {
   "cell_type": "code",
   "execution_count": 18,
   "metadata": {
    "colab": {
     "base_uri": "https://localhost:8080/",
     "height": 34
    },
    "colab_type": "code",
    "id": "JfE_wmXdYZ2y",
    "outputId": "c0b7140a-969a-4031-fe10-24931b0c2096"
   },
   "outputs": [
    {
     "data": {
      "text/plain": [
       "4849"
      ]
     },
     "execution_count": 18,
     "metadata": {
      "tags": []
     },
     "output_type": "execute_result"
    }
   ],
   "source": [
    "# https://machinelearningmastery.com/use-word-embedding-layers-deep-learning-keras/\n",
    "\n",
    "# prepare tokenizer\n",
    "text_tokenizer = Tokenizer()\n",
    "text_tokenizer.fit_on_texts(final_word_list)\n",
    "vocab_size = len(text_tokenizer.word_index) + 1\n",
    "vocab_size"
   ]
  },
  {
   "cell_type": "code",
   "execution_count": 0,
   "metadata": {
    "colab": {},
    "colab_type": "code",
    "collapsed": true,
    "id": "euF1OAnyYaWp"
   },
   "outputs": [],
   "source": [
    "# integer encode the data\n",
    "\n",
    "encoded_essay_train = text_tokenizer.texts_to_sequences(X_train[\"essay\"])\n",
    "encoded_essay_test = text_tokenizer.texts_to_sequences(X_test[\"essay\"])\n"
   ]
  },
  {
   "cell_type": "code",
   "execution_count": 20,
   "metadata": {
    "colab": {
     "base_uri": "https://localhost:8080/",
     "height": 52
    },
    "colab_type": "code",
    "id": "C-YTXtG2Ykno",
    "outputId": "fd18a2ea-df8a-41b7-b78e-704b7338a7f9"
   },
   "outputs": [
    {
     "name": "stdout",
     "output_type": "stream",
     "text": [
      "(73196, 300)\n",
      "(36052, 300)\n"
     ]
    }
   ],
   "source": [
    "# Padding data\n",
    "\n",
    "padded_text_train = pad_sequences(encoded_essay_train, maxlen=300, padding='post', truncating='post')\n",
    "padded_text_test = pad_sequences(encoded_essay_test, maxlen=300, padding='post', truncating='post')\n",
    "\n",
    "print(padded_text_train.shape)\n",
    "print(padded_text_test.shape)\n",
    "\n",
    "\n"
   ]
  },
  {
   "cell_type": "code",
   "execution_count": 0,
   "metadata": {
    "colab": {},
    "colab_type": "code",
    "collapsed": true,
    "id": "r9_5kwMOYamS"
   },
   "outputs": [],
   "source": [
    "f = open(\"/content/drive/My Drive/Data/glove_vectors\", \"rb\")\n",
    "glove_words = pickle.load(f)"
   ]
  },
  {
   "cell_type": "code",
   "execution_count": 22,
   "metadata": {
    "colab": {
     "base_uri": "https://localhost:8080/",
     "height": 34
    },
    "colab_type": "code",
    "id": "3y_Hj4sOZ1gv",
    "outputId": "e4e27fc4-819c-447c-dfc2-b3315c10145c"
   },
   "outputs": [
    {
     "name": "stdout",
     "output_type": "stream",
     "text": [
      "(4849, 300)\n"
     ]
    }
   ],
   "source": [
    "# create a weight matrix for words in training docs\n",
    "\n",
    "embedding_matrix = np.zeros((vocab_size, 300))\n",
    "for word, i in text_tokenizer.word_index.items():\n",
    "    \n",
    "    embedding_vector = glove_words.get(word)\n",
    "    if embedding_vector is not None:\n",
    "        \n",
    "        embedding_matrix[i] = embedding_vector\n",
    "        \n",
    "print(embedding_matrix.shape)"
   ]
  },
  {
   "cell_type": "code",
   "execution_count": 23,
   "metadata": {
    "colab": {
     "base_uri": "https://localhost:8080/",
     "height": 72
    },
    "colab_type": "code",
    "id": "OF-1zKA-Z4YX",
    "outputId": "dd1146a3-2664-479e-f0e7-cf36681cee24"
   },
   "outputs": [
    {
     "name": "stdout",
     "output_type": "stream",
     "text": [
      "WARNING:tensorflow:From /usr/local/lib/python3.6/dist-packages/keras/backend/tensorflow_backend.py:66: The name tf.get_default_graph is deprecated. Please use tf.compat.v1.get_default_graph instead.\n",
      "\n"
     ]
    }
   ],
   "source": [
    "Emb_Txt_Data = Embedding(vocab_size, 300, weights = [embedding_matrix], input_length = 300, trainable=False)"
   ]
  },
  {
   "cell_type": "code",
   "execution_count": 24,
   "metadata": {
    "colab": {
     "base_uri": "https://localhost:8080/",
     "height": 283
    },
    "colab_type": "code",
    "id": "LQUv_pJjZ9Ih",
    "outputId": "a9983b28-6c02-4c7a-e031-b41aa162998e"
   },
   "outputs": [
    {
     "name": "stdout",
     "output_type": "stream",
     "text": [
      "WARNING:tensorflow:From /usr/local/lib/python3.6/dist-packages/keras/backend/tensorflow_backend.py:4432: The name tf.random_uniform is deprecated. Please use tf.random.uniform instead.\n",
      "\n",
      "WARNING:tensorflow:From /usr/local/lib/python3.6/dist-packages/keras/backend/tensorflow_backend.py:190: The name tf.get_default_session is deprecated. Please use tf.compat.v1.get_default_session instead.\n",
      "\n",
      "WARNING:tensorflow:From /usr/local/lib/python3.6/dist-packages/keras/backend/tensorflow_backend.py:197: The name tf.ConfigProto is deprecated. Please use tf.compat.v1.ConfigProto instead.\n",
      "\n",
      "WARNING:tensorflow:From /usr/local/lib/python3.6/dist-packages/keras/backend/tensorflow_backend.py:203: The name tf.Session is deprecated. Please use tf.compat.v1.Session instead.\n",
      "\n",
      "WARNING:tensorflow:From /usr/local/lib/python3.6/dist-packages/keras/backend/tensorflow_backend.py:207: The name tf.global_variables is deprecated. Please use tf.compat.v1.global_variables instead.\n",
      "\n",
      "WARNING:tensorflow:From /usr/local/lib/python3.6/dist-packages/keras/backend/tensorflow_backend.py:216: The name tf.is_variable_initialized is deprecated. Please use tf.compat.v1.is_variable_initialized instead.\n",
      "\n",
      "WARNING:tensorflow:From /usr/local/lib/python3.6/dist-packages/keras/backend/tensorflow_backend.py:223: The name tf.variables_initializer is deprecated. Please use tf.compat.v1.variables_initializer instead.\n",
      "\n"
     ]
    }
   ],
   "source": [
    "Emb_Text_Data = (Emb_Txt_Data)(input_seq_total_text_data)"
   ]
  },
  {
   "cell_type": "code",
   "execution_count": 25,
   "metadata": {
    "colab": {
     "base_uri": "https://localhost:8080/",
     "height": 34
    },
    "colab_type": "code",
    "id": "Enri55NNaB1_",
    "outputId": "a3276d6b-e92d-4f96-e265-2186f6ed6f4e"
   },
   "outputs": [
    {
     "data": {
      "text/plain": [
       "<tf.Tensor 'embedding_1/embedding_lookup/Identity:0' shape=(?, 300, 300) dtype=float32>"
      ]
     },
     "execution_count": 25,
     "metadata": {
      "tags": []
     },
     "output_type": "execute_result"
    }
   ],
   "source": [
    "Emb_Text_Data"
   ]
  },
  {
   "cell_type": "code",
   "execution_count": 26,
   "metadata": {
    "colab": {
     "base_uri": "https://localhost:8080/",
     "height": 125
    },
    "colab_type": "code",
    "id": "x7HksS9taGC6",
    "outputId": "2f9cd30c-d060-4132-e0b4-04b3323775f2"
   },
   "outputs": [
    {
     "name": "stdout",
     "output_type": "stream",
     "text": [
      "WARNING:tensorflow:From /usr/local/lib/python3.6/dist-packages/keras/backend/tensorflow_backend.py:148: The name tf.placeholder_with_default is deprecated. Please use tf.compat.v1.placeholder_with_default instead.\n",
      "\n",
      "WARNING:tensorflow:From /usr/local/lib/python3.6/dist-packages/keras/backend/tensorflow_backend.py:3733: calling dropout (from tensorflow.python.ops.nn_ops) with keep_prob is deprecated and will be removed in a future version.\n",
      "Instructions for updating:\n",
      "Please use `rate` instead of `keep_prob`. Rate should be set to `rate = 1 - keep_prob`.\n"
     ]
    }
   ],
   "source": [
    "lstm = LSTM(64, recurrent_dropout=0.5, kernel_regularizer = regularizers.l2(0.001), return_sequences = True)(Emb_Text_Data)"
   ]
  },
  {
   "cell_type": "code",
   "execution_count": 27,
   "metadata": {
    "colab": {
     "base_uri": "https://localhost:8080/",
     "height": 34
    },
    "colab_type": "code",
    "id": "6tILvSCgaGXa",
    "outputId": "0f8c7752-5583-421a-9862-86ba149aea88"
   },
   "outputs": [
    {
     "data": {
      "text/plain": [
       "<tf.Tensor 'lstm_1/transpose_1:0' shape=(?, ?, 64) dtype=float32>"
      ]
     },
     "execution_count": 27,
     "metadata": {
      "tags": []
     },
     "output_type": "execute_result"
    }
   ],
   "source": [
    "lstm"
   ]
  },
  {
   "cell_type": "code",
   "execution_count": 0,
   "metadata": {
    "colab": {},
    "colab_type": "code",
    "collapsed": true,
    "id": "n98T0yeLaNLV"
   },
   "outputs": [],
   "source": [
    "flatten = Flatten()(lstm)"
   ]
  },
  {
   "cell_type": "code",
   "execution_count": 29,
   "metadata": {
    "colab": {
     "base_uri": "https://localhost:8080/",
     "height": 34
    },
    "colab_type": "code",
    "id": "4Cj2MmXDaNjr",
    "outputId": "fdfb500a-9e98-42a2-9c7d-12e13efc63ef"
   },
   "outputs": [
    {
     "data": {
      "text/plain": [
       "<tf.Tensor 'flatten_1/Reshape:0' shape=(?, ?) dtype=float32>"
      ]
     },
     "execution_count": 29,
     "metadata": {
      "tags": []
     },
     "output_type": "execute_result"
    }
   ],
   "source": [
    "flatten"
   ]
  },
  {
   "cell_type": "code",
   "execution_count": 0,
   "metadata": {
    "colab": {},
    "colab_type": "code",
    "collapsed": true,
    "id": "xo8BGAslaTG9"
   },
   "outputs": [],
   "source": [
    "# Vectorizing schoolstate on Train, Test \n",
    "\n",
    "ssvectorizer = CountVectorizer()\n",
    "\n",
    "# Fit only to train data\n",
    "ssvectorizer.fit(X_train['school_state'].values)\n",
    "\n",
    "# Transform to train,test and CV data\n",
    "X_Train_ss_one_hot = ssvectorizer.transform(X_train['school_state'].values)\n",
    "X_Test_ss_one_hot = ssvectorizer.transform(X_test['school_state'].values)\n"
   ]
  },
  {
   "cell_type": "code",
   "execution_count": 0,
   "metadata": {
    "colab": {},
    "colab_type": "code",
    "collapsed": true,
    "id": "rheNLDN5aYze"
   },
   "outputs": [],
   "source": [
    "# Vectorizing project grade category on Train, Test \n",
    "\n",
    "pgcvectorizer = CountVectorizer()\n",
    "\n",
    "# Fit only to train data\n",
    "pgcvectorizer.fit(X_train['project_grade_category'].values)\n",
    "\n",
    "# Transform to train,test and CV data\n",
    "X_Train_pgc_one_hot = pgcvectorizer.transform(X_train['project_grade_category'].values)\n",
    "X_Test_pgc_one_hot = pgcvectorizer.transform(X_test['project_grade_category'].values)\n"
   ]
  },
  {
   "cell_type": "code",
   "execution_count": 0,
   "metadata": {
    "colab": {},
    "colab_type": "code",
    "collapsed": true,
    "id": "fI-VJdDyalBm"
   },
   "outputs": [],
   "source": [
    "# Vectorizing clean_categories on Train, Test \n",
    "\n",
    "ccvectorizer = CountVectorizer()\n",
    "\n",
    "# Fit only to train data\n",
    "ccvectorizer.fit(X_train['clean_categories'].values)\n",
    "\n",
    "# Transform to train,test \n",
    "X_Train_cc_one_hot = ccvectorizer.transform(X_train['clean_categories'].values)\n",
    "X_Test_cc_one_hot = ccvectorizer.transform(X_test['clean_categories'].values)\n"
   ]
  },
  {
   "cell_type": "code",
   "execution_count": 0,
   "metadata": {
    "colab": {},
    "colab_type": "code",
    "collapsed": true,
    "id": "rJl2dG2QalV0"
   },
   "outputs": [],
   "source": [
    "# Vectorizing clean_subcategories on Train, Test \n",
    "\n",
    "csvectorizer = CountVectorizer()\n",
    "\n",
    "# Fit only to train data\n",
    "csvectorizer.fit(X_train['clean_subcategories'].values)\n",
    "\n",
    "# Transform to train,test \n",
    "X_Train_cs_one_hot = ccvectorizer.transform(X_train['clean_subcategories'].values)\n",
    "X_Test_cs_one_hot = ccvectorizer.transform(X_test['clean_subcategories'].values)\n"
   ]
  },
  {
   "cell_type": "code",
   "execution_count": 0,
   "metadata": {
    "colab": {},
    "colab_type": "code",
    "collapsed": true,
    "id": "kQog_a8Salcd"
   },
   "outputs": [],
   "source": [
    "# Vectorizing teacher prefix on Train, Test \n",
    "\n",
    "tpvectorizer = CountVectorizer()\n",
    "\n",
    "# Fit only to train data\n",
    "tpvectorizer.fit(X_train['teacher_prefix'].values)\n",
    "\n",
    "# Transform to train,test \n",
    "X_Train_tp_one_hot = ccvectorizer.transform(X_train['teacher_prefix'].values)\n",
    "X_Test_tp_one_hot = ccvectorizer.transform(X_test['teacher_prefix'].values)\n"
   ]
  },
  {
   "cell_type": "code",
   "execution_count": 0,
   "metadata": {
    "colab": {},
    "colab_type": "code",
    "collapsed": true,
    "id": "4CqU8Slcaw0s"
   },
   "outputs": [],
   "source": [
    "teacher_number_of_previously_posted_projects_train = X_train['teacher_number_of_previously_posted_projects'].values.reshape(-1, 1)\n",
    "price_train = X_train['price'].values.reshape(-1, 1)\n",
    "\n",
    "teacher_number_of_previously_posted_projects_test = X_test['teacher_number_of_previously_posted_projects'].values.reshape(-1, 1)\n",
    "price_test = X_test['price'].values.reshape(-1, 1)\n",
    "\n",
    "concat_numerical_train = np.concatenate((teacher_number_of_previously_posted_projects_train,price_train),axis=1)\n",
    "concat_numerical_test = np.concatenate((teacher_number_of_previously_posted_projects_test,price_test),axis=1)"
   ]
  },
  {
   "cell_type": "code",
   "execution_count": 0,
   "metadata": {
    "colab": {},
    "colab_type": "code",
    "collapsed": true,
    "id": "xd5KH0wpnf66"
   },
   "outputs": [],
   "source": [
    "from scipy.sparse import hstack\n",
    "\n",
    "X_tr = hstack((X_Train_cc_one_hot,X_Train_cs_one_hot,X_Train_ss_one_hot,X_Train_tp_one_hot,X_Train_pgc_one_hot,concat_numerical_train)).todense()\n",
    "X_te = hstack((X_Test_cc_one_hot,X_Test_cs_one_hot,X_Test_ss_one_hot,X_Test_tp_one_hot,X_Test_pgc_one_hot,concat_numerical_test)).todense()"
   ]
  },
  {
   "cell_type": "code",
   "execution_count": 0,
   "metadata": {
    "colab": {},
    "colab_type": "code",
    "collapsed": true,
    "id": "4xdPNy4KyVg6"
   },
   "outputs": [],
   "source": [
    "X_tr_final = np.expand_dims(X_tr,2)\n",
    "X_te_final = np.expand_dims(X_te,2)"
   ]
  },
  {
   "cell_type": "code",
   "execution_count": 38,
   "metadata": {
    "colab": {
     "base_uri": "https://localhost:8080/",
     "height": 52
    },
    "colab_type": "code",
    "id": "tQNzFmnlpDzv",
    "outputId": "ec421f8d-595a-4de3-9bd6-dec58bccfe29"
   },
   "outputs": [
    {
     "name": "stdout",
     "output_type": "stream",
     "text": [
      "(73196, 84, 1)\n",
      "(36052, 84, 1)\n"
     ]
    }
   ],
   "source": [
    "print(X_tr_final.shape)\n",
    "print(X_te_final.shape)"
   ]
  },
  {
   "cell_type": "code",
   "execution_count": 0,
   "metadata": {
    "colab": {},
    "colab_type": "code",
    "collapsed": true,
    "id": "eGfJPHiYqvq-"
   },
   "outputs": [],
   "source": [
    "Other_than_text_data =  Input(shape=(84,1),name='Other_than_text_data')"
   ]
  },
  {
   "cell_type": "code",
   "execution_count": 40,
   "metadata": {
    "colab": {
     "base_uri": "https://localhost:8080/",
     "height": 72
    },
    "colab_type": "code",
    "id": "HeKf8CiqrwEK",
    "outputId": "7733adaf-77e8-4d7a-b2bb-0efb9edfe22b"
   },
   "outputs": [
    {
     "name": "stdout",
     "output_type": "stream",
     "text": [
      "WARNING:tensorflow:From /usr/local/lib/python3.6/dist-packages/keras/backend/tensorflow_backend.py:4479: The name tf.truncated_normal is deprecated. Please use tf.random.truncated_normal instead.\n",
      "\n"
     ]
    }
   ],
   "source": [
    "Conv1D_1 = Conv1D(64, 3, activation='relu', kernel_initializer=\"he_normal\")(Other_than_text_data)\n",
    "Conv1D_2 = Conv1D(64, 3, activation='relu', kernel_initializer=\"he_normal\")(Conv1D_1)\n",
    "Conv1D_3 = Conv1D(32, 3, activation='relu', kernel_initializer=\"he_normal\")(Conv1D_2)\n",
    "Conv1D_4 = Conv1D(32, 3, activation='relu', kernel_initializer=\"he_normal\")(Conv1D_3)\n",
    "Conv1D_5 = Conv1D(16, 3, activation='relu', kernel_initializer=\"he_normal\")(Conv1D_4)\n",
    "flatten_1 = Flatten()(Conv1D_5)\n",
    "\n"
   ]
  },
  {
   "cell_type": "code",
   "execution_count": 0,
   "metadata": {
    "colab": {},
    "colab_type": "code",
    "collapsed": true,
    "id": "7uvddZhsaw3S"
   },
   "outputs": [],
   "source": [
    "concatenate = concatenate(inputs=[flatten, flatten_1],name=\"concatenate\")"
   ]
  },
  {
   "cell_type": "code",
   "execution_count": 42,
   "metadata": {
    "colab": {
     "base_uri": "https://localhost:8080/",
     "height": 932
    },
    "colab_type": "code",
    "id": "2ugWHxJPaw6m",
    "outputId": "680e67c8-1a0c-4d79-a744-b188446e50cf"
   },
   "outputs": [
    {
     "name": "stdout",
     "output_type": "stream",
     "text": [
      "WARNING:tensorflow:Large dropout rate: 0.7 (>0.5). In TensorFlow 2.x, dropout() uses dropout rate instead of keep_prob. Please ensure that this is intended.\n",
      "Model: \"model_1\"\n",
      "__________________________________________________________________________________________________\n",
      "Layer (type)                    Output Shape         Param #     Connected to                     \n",
      "==================================================================================================\n",
      "Other_than_text_data (InputLaye (None, 84, 1)        0                                            \n",
      "__________________________________________________________________________________________________\n",
      "conv1d_1 (Conv1D)               (None, 82, 64)       256         Other_than_text_data[0][0]       \n",
      "__________________________________________________________________________________________________\n",
      "conv1d_2 (Conv1D)               (None, 80, 64)       12352       conv1d_1[0][0]                   \n",
      "__________________________________________________________________________________________________\n",
      "input_seq_total_text_data (Inpu (None, 300)          0                                            \n",
      "__________________________________________________________________________________________________\n",
      "conv1d_3 (Conv1D)               (None, 78, 32)       6176        conv1d_2[0][0]                   \n",
      "__________________________________________________________________________________________________\n",
      "embedding_1 (Embedding)         (None, 300, 300)     1454700     input_seq_total_text_data[0][0]  \n",
      "__________________________________________________________________________________________________\n",
      "conv1d_4 (Conv1D)               (None, 76, 32)       3104        conv1d_3[0][0]                   \n",
      "__________________________________________________________________________________________________\n",
      "lstm_1 (LSTM)                   (None, 300, 64)      93440       embedding_1[0][0]                \n",
      "__________________________________________________________________________________________________\n",
      "conv1d_5 (Conv1D)               (None, 74, 16)       1552        conv1d_4[0][0]                   \n",
      "__________________________________________________________________________________________________\n",
      "flatten_1 (Flatten)             (None, 19200)        0           lstm_1[0][0]                     \n",
      "__________________________________________________________________________________________________\n",
      "flatten_2 (Flatten)             (None, 1184)         0           conv1d_5[0][0]                   \n",
      "__________________________________________________________________________________________________\n",
      "concatenate (Concatenate)       (None, 20384)        0           flatten_1[0][0]                  \n",
      "                                                                 flatten_2[0][0]                  \n",
      "__________________________________________________________________________________________________\n",
      "dense_1 (Dense)                 (None, 256)          5218560     concatenate[0][0]                \n",
      "__________________________________________________________________________________________________\n",
      "dropout_1 (Dropout)             (None, 256)          0           dense_1[0][0]                    \n",
      "__________________________________________________________________________________________________\n",
      "dense_2 (Dense)                 (None, 128)          32896       dropout_1[0][0]                  \n",
      "__________________________________________________________________________________________________\n",
      "dropout_2 (Dropout)             (None, 128)          0           dense_2[0][0]                    \n",
      "__________________________________________________________________________________________________\n",
      "dense_3 (Dense)                 (None, 64)           8256        dropout_2[0][0]                  \n",
      "__________________________________________________________________________________________________\n",
      "dropout_3 (Dropout)             (None, 64)           0           dense_3[0][0]                    \n",
      "__________________________________________________________________________________________________\n",
      "dense_4 (Dense)                 (None, 32)           2080        dropout_3[0][0]                  \n",
      "__________________________________________________________________________________________________\n",
      "batch_normalization_1 (BatchNor (None, 32)           128         dense_4[0][0]                    \n",
      "__________________________________________________________________________________________________\n",
      "output (Dense)                  (None, 2)            66          batch_normalization_1[0][0]      \n",
      "==================================================================================================\n",
      "Total params: 6,833,566\n",
      "Trainable params: 5,378,802\n",
      "Non-trainable params: 1,454,764\n",
      "__________________________________________________________________________________________________\n"
     ]
    }
   ],
   "source": [
    "Dense_layer1_after_concat = Dense(256,activation=\"relu\", kernel_initializer=\"he_normal\", kernel_regularizer=regularizers.l2(0.001))(concatenate)\n",
    "\n",
    "dropout = Dropout(0.5)(Dense_layer1_after_concat)\n",
    "\n",
    "Dense_layer2_after_concat = Dense(128,activation=\"relu\", kernel_initializer=\"he_normal\", kernel_regularizer=regularizers.l2(0.001))(dropout)\n",
    "\n",
    "dropuout_1 = Dropout(0.3)(Dense_layer2_after_concat)\n",
    "\n",
    "Dense_layer3_after_concat = Dense(64,activation='relu',kernel_initializer='he_normal', kernel_regularizer=regularizers.l2(0.001))(dropuout_1)\n",
    "\n",
    "dropuout_2 = Dropout(0.7)(Dense_layer3_after_concat)\n",
    "\n",
    "Dense_layer4_after_concat = Dense(32,activation='relu',kernel_initializer='he_normal', kernel_regularizer=regularizers.l2(0.001))(dropuout_2)\n",
    "\n",
    "batchnormalization_1 = BatchNormalization()(Dense_layer4_after_concat)\n",
    "\n",
    "output_layer_to_classify_with_softmax = Dense(2,activation='softmax',kernel_initializer=\"he_normal\",name=\"output\")(batchnormalization_1)\n",
    "\n",
    "model_1 = Model(inputs=[input_seq_total_text_data,Other_than_text_data],outputs=[output_layer_to_classify_with_softmax])\n",
    "\n",
    "model_1.summary()"
   ]
  },
  {
   "cell_type": "code",
   "execution_count": 43,
   "metadata": {
    "colab": {
     "base_uri": "https://localhost:8080/",
     "height": 70
    },
    "colab_type": "code",
    "id": "QP-7EOq-RG1H",
    "outputId": "0c4a29ca-c2c1-4fb5-e173-9f74e1865aa6"
   },
   "outputs": [
    {
     "name": "stdout",
     "output_type": "stream",
     "text": [
      "Wait for 8 seconds...\n",
      "TensorBoard link:\n",
      "https://823175b0.ngrok.io\n"
     ]
    }
   ],
   "source": [
    "# https://github.com/taomanwai/tensorboardcolab/blob/master/README.md\n",
    "\n",
    "tbc=TensorBoardColab()"
   ]
  },
  {
   "cell_type": "code",
   "execution_count": 0,
   "metadata": {
    "colab": {},
    "colab_type": "code",
    "collapsed": true,
    "id": "qOR7YWD5a81y"
   },
   "outputs": [],
   "source": [
    "# https://machinelearningmastery.com/check-point-deep-learning-models-keras/\n",
    "# https://machinelearningmastery.com/how-to-stop-training-deep-neural-networks-at-the-right-time-using-early-stopping/\n",
    "# https://medium.com/singlestone/keras-callbacks-monitor-and-improve-your-deep-learning-205a8a27e91c\n",
    "# https://www.tensorflow.org/tensorboard/get_started\n",
    "# https://keras.rstudio.com/reference/callback_tensorboard.html\n",
    "# https://colab.research.google.com/drive/1afN2SALDooZIHbBGmWZMT6cZ8ccVElWk#scrollTo=4pxUfiLhbS4Y&forceEdit=true&sandboxMode=true\n",
    "\n",
    "#tensorboard_model_1 = TensorBoard(log_dir='./log', histogram_freq=1, write_graph=True, write_grads=True, batch_size=512, write_images=True)\n",
    "\n",
    "#callbacks_1 = [tensorboard_model_1]"
   ]
  },
  {
   "cell_type": "code",
   "execution_count": 0,
   "metadata": {
    "colab": {},
    "colab_type": "code",
    "collapsed": true,
    "id": "6ssCr1mpa9N_"
   },
   "outputs": [],
   "source": [
    "model_1_train_data = [padded_text_train,X_tr_final]\n",
    "\n",
    "model_1_test_data = [padded_text_test,X_te_final]\n"
   ]
  },
  {
   "cell_type": "code",
   "execution_count": 0,
   "metadata": {
    "colab": {},
    "colab_type": "code",
    "collapsed": true,
    "id": "JmvJtTNda9WM"
   },
   "outputs": [],
   "source": [
    "from keras.utils import np_utils\n",
    "\n",
    "Y_train = np_utils.to_categorical(y_train, 2) \n",
    "Y_test = np_utils.to_categorical(y_test, 2)"
   ]
  },
  {
   "cell_type": "code",
   "execution_count": 0,
   "metadata": {
    "colab": {},
    "colab_type": "code",
    "collapsed": true,
    "id": "lpFVLmSZcnh6"
   },
   "outputs": [],
   "source": [
    "# https://stackoverflow.com/questions/41032551/how-to-compute-receiving-operating-characteristic-roc-and-auc-in-keras\n",
    "\n",
    "def auroc(y_true, y_pred):\n",
    "    return tf.py_func(roc_auc_score, (y_true, y_pred), tf.double)"
   ]
  },
  {
   "cell_type": "code",
   "execution_count": 48,
   "metadata": {
    "colab": {
     "base_uri": "https://localhost:8080/",
     "height": 316
    },
    "colab_type": "code",
    "id": "IdDS-mKba9Zh",
    "outputId": "9f304e82-8221-4fce-b8d8-ec0b188bc292"
   },
   "outputs": [
    {
     "name": "stdout",
     "output_type": "stream",
     "text": [
      "WARNING:tensorflow:From /usr/local/lib/python3.6/dist-packages/keras/optimizers.py:793: The name tf.train.Optimizer is deprecated. Please use tf.compat.v1.train.Optimizer instead.\n",
      "\n",
      "WARNING:tensorflow:From /usr/local/lib/python3.6/dist-packages/keras/backend/tensorflow_backend.py:3576: The name tf.log is deprecated. Please use tf.math.log instead.\n",
      "\n",
      "WARNING:tensorflow:From <ipython-input-47-2303c0155baf>:3: py_func (from tensorflow.python.ops.script_ops) is deprecated and will be removed in a future version.\n",
      "Instructions for updating:\n",
      "tf.py_func is deprecated in TF V2. Instead, there are two\n",
      "    options available in V2.\n",
      "    - tf.py_function takes a python function which manipulates tf eager\n",
      "    tensors instead of numpy arrays. It's easy to convert a tf eager tensor to\n",
      "    an ndarray (just call tensor.numpy()) but having access to eager tensors\n",
      "    means `tf.py_function`s can use accelerators such as GPUs as well as\n",
      "    being differentiable using a gradient tape.\n",
      "    - tf.numpy_function maintains the semantics of the deprecated tf.py_func\n",
      "    (it is not differentiable, and manipulates numpy arrays). It drops the\n",
      "    stateful argument making all functions stateful.\n",
      "    \n"
     ]
    }
   ],
   "source": [
    "model_1.compile(optimizer='adam', loss='categorical_crossentropy', metrics=[auroc])"
   ]
  },
  {
   "cell_type": "code",
   "execution_count": 49,
   "metadata": {
    "colab": {
     "base_uri": "https://localhost:8080/",
     "height": 987
    },
    "colab_type": "code",
    "id": "_AZTlCmqa9cY",
    "outputId": "68af5c96-5206-4546-e0de-1c645e929821"
   },
   "outputs": [
    {
     "name": "stdout",
     "output_type": "stream",
     "text": [
      "WARNING:tensorflow:From /usr/local/lib/python3.6/dist-packages/tensorflow_core/python/ops/math_grad.py:1424: where (from tensorflow.python.ops.array_ops) is deprecated and will be removed in a future version.\n",
      "Instructions for updating:\n",
      "Use tf.where in 2.0, which has the same broadcast rule as np.where\n",
      "WARNING:tensorflow:From /usr/local/lib/python3.6/dist-packages/keras/backend/tensorflow_backend.py:1033: The name tf.assign_add is deprecated. Please use tf.compat.v1.assign_add instead.\n",
      "\n",
      "WARNING:tensorflow:From /usr/local/lib/python3.6/dist-packages/keras/backend/tensorflow_backend.py:1020: The name tf.assign is deprecated. Please use tf.compat.v1.assign instead.\n",
      "\n",
      "Train on 73196 samples, validate on 36052 samples\n",
      "WARNING:tensorflow:From /usr/local/lib/python3.6/dist-packages/tensorboardcolab/core.py:49: The name tf.summary.FileWriter is deprecated. Please use tf.compat.v1.summary.FileWriter instead.\n",
      "\n",
      "WARNING:tensorflow:From /usr/local/lib/python3.6/dist-packages/keras/callbacks.py:1122: The name tf.summary.merge_all is deprecated. Please use tf.compat.v1.summary.merge_all instead.\n",
      "\n",
      "Epoch 1/20\n",
      "73196/73196 [==============================] - 120s 2ms/step - loss: 1.1107 - auroc: 0.5020 - val_loss: 0.7047 - val_auroc: 0.5247\n",
      "WARNING:tensorflow:From /usr/local/lib/python3.6/dist-packages/tensorboardcolab/callbacks.py:51: The name tf.Summary is deprecated. Please use tf.compat.v1.Summary instead.\n",
      "\n",
      "Epoch 2/20\n",
      "73196/73196 [==============================] - 111s 2ms/step - loss: 0.6265 - auroc: 0.5073 - val_loss: 0.5712 - val_auroc: 0.5892\n",
      "Epoch 3/20\n",
      "73196/73196 [==============================] - 111s 2ms/step - loss: 0.5415 - auroc: 0.5718 - val_loss: 0.5289 - val_auroc: 0.6975\n",
      "Epoch 4/20\n",
      "73196/73196 [==============================] - 111s 2ms/step - loss: 0.4967 - auroc: 0.6779 - val_loss: 0.5092 - val_auroc: 0.7190\n",
      "Epoch 5/20\n",
      "73196/73196 [==============================] - 110s 2ms/step - loss: 0.4605 - auroc: 0.7159 - val_loss: 0.4795 - val_auroc: 0.7142\n",
      "Epoch 6/20\n",
      "73196/73196 [==============================] - 111s 2ms/step - loss: 0.4380 - auroc: 0.7304 - val_loss: 0.4575 - val_auroc: 0.7466\n",
      "Epoch 7/20\n",
      "73196/73196 [==============================] - 111s 2ms/step - loss: 0.4243 - auroc: 0.7360 - val_loss: 0.4325 - val_auroc: 0.7503\n",
      "Epoch 8/20\n",
      "73196/73196 [==============================] - 112s 2ms/step - loss: 0.4143 - auroc: 0.7377 - val_loss: 0.4311 - val_auroc: 0.7520\n",
      "Epoch 9/20\n",
      "73196/73196 [==============================] - 111s 2ms/step - loss: 0.4094 - auroc: 0.7401 - val_loss: 0.4160 - val_auroc: 0.7502\n",
      "Epoch 10/20\n",
      "73196/73196 [==============================] - 112s 2ms/step - loss: 0.4043 - auroc: 0.7453 - val_loss: 0.4142 - val_auroc: 0.7534\n",
      "Epoch 11/20\n",
      "73196/73196 [==============================] - 111s 2ms/step - loss: 0.4029 - auroc: 0.7431 - val_loss: 0.4124 - val_auroc: 0.7532\n",
      "Epoch 12/20\n",
      "73196/73196 [==============================] - 111s 2ms/step - loss: 0.3995 - auroc: 0.7468 - val_loss: 0.4129 - val_auroc: 0.7540\n",
      "Epoch 13/20\n",
      "73196/73196 [==============================] - 112s 2ms/step - loss: 0.3979 - auroc: 0.7480 - val_loss: 0.4367 - val_auroc: 0.7441\n",
      "Epoch 14/20\n",
      "73196/73196 [==============================] - 112s 2ms/step - loss: 0.3970 - auroc: 0.7480 - val_loss: 0.4049 - val_auroc: 0.7542\n",
      "Epoch 15/20\n",
      "73196/73196 [==============================] - 113s 2ms/step - loss: 0.3952 - auroc: 0.7506 - val_loss: 0.4172 - val_auroc: 0.7542\n",
      "Epoch 16/20\n",
      "73196/73196 [==============================] - 111s 2ms/step - loss: 0.3941 - auroc: 0.7509 - val_loss: 0.4106 - val_auroc: 0.7563\n",
      "Epoch 17/20\n",
      "73196/73196 [==============================] - 111s 2ms/step - loss: 0.3947 - auroc: 0.7470 - val_loss: 0.4201 - val_auroc: 0.7567\n",
      "Epoch 18/20\n",
      "73196/73196 [==============================] - 111s 2ms/step - loss: 0.3928 - auroc: 0.7510 - val_loss: 0.3972 - val_auroc: 0.7522\n",
      "Epoch 19/20\n",
      "73196/73196 [==============================] - 111s 2ms/step - loss: 0.3918 - auroc: 0.7520 - val_loss: 0.4049 - val_auroc: 0.7563\n",
      "Epoch 20/20\n",
      "73196/73196 [==============================] - 111s 2ms/step - loss: 0.3911 - auroc: 0.7539 - val_loss: 0.4000 - val_auroc: 0.7564\n"
     ]
    }
   ],
   "source": [
    "history = model_1.fit(model_1_train_data, Y_train, batch_size=512, epochs=20, verbose=1, validation_data=(model_1_test_data, Y_test), callbacks=[TensorBoardColabCallback(tbc)])"
   ]
  },
  {
   "cell_type": "code",
   "execution_count": 50,
   "metadata": {
    "colab": {
     "base_uri": "https://localhost:8080/",
     "height": 513
    },
    "colab_type": "code",
    "id": "yHQVsfxva9ft",
    "outputId": "ae585caf-8376-41bf-8b00-349464565c03"
   },
   "outputs": [
    {
     "data": {
      "image/png": "[encoded data removed]",
      "text/plain": [
       "<Figure size 432x288 with 1 Axes>"
      ]
     },
     "metadata": {
      "tags": []
     },
     "output_type": "display_data"
    },
    {
     "data": {
      "image/png": "[encoded data removed]",
      "text/plain": [
       "<Figure size 432x288 with 1 Axes>"
      ]
     },
     "metadata": {
      "tags": []
     },
     "output_type": "display_data"
    }
   ],
   "source": [
    "plt.plot(history.history['auroc'], 'r')\n",
    "plt.plot(history.history['val_auroc'], 'b')\n",
    "plt.legend({'Train ROCAUC': 'r', 'Test ROCAUC':'b'})\n",
    "plt.show()\n",
    "\n",
    "\n",
    "plt.plot(history.history['loss'], 'r')\n",
    "plt.plot(history.history['val_loss'], 'b')\n",
    "plt.legend({'Train Loss': 'r', 'Test Loss':'b'})\n",
    "plt.show()"
   ]
  },
  {
   "cell_type": "markdown",
   "metadata": {},
   "source": [
    "Model ROCAUC value is 0.7564"
   ]
  }
 ],
 "metadata": {
  "accelerator": "GPU",
  "colab": {
   "collapsed_sections": [],
   "machine_shape": "hm",
   "name": "Copy of Copy of abhishekrastogi8@gmail.com_Assignment-14-Model 1.ipynb",
   "provenance": []
  },
  "kernelspec": {
   "display_name": "Python 3",
   "language": "python",
   "name": "python3"
  },
  "language_info": {
   "codemirror_mode": {
    "name": "ipython",
    "version": 3
   },
   "file_extension": ".py",
   "mimetype": "text/x-python",
   "name": "python",
   "nbconvert_exporter": "python",
   "pygments_lexer": "ipython3",
   "version": "3.6.2"
  }
 },
 "nbformat": 4,
 "nbformat_minor": 1
}
