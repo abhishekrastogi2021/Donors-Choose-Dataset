{
 "cells": [
  {
   "cell_type": "code",
   "execution_count": 1,
   "metadata": {
    "colab": {
     "base_uri": "https://localhost:8080/",
     "height": 34
    },
    "colab_type": "code",
    "id": "dDUz8xEiJ1sN",
    "outputId": "9ece7a13-100e-41d8-e105-3824b96274c4"
   },
   "outputs": [
    {
     "name": "stderr",
     "output_type": "stream",
     "text": [
      "Using TensorFlow backend.\n"
     ]
    }
   ],
   "source": [
    "# importing libraries\n",
    "\n",
    "import warnings\n",
    "warnings.filterwarnings(\"ignore\")\n",
    "import pandas as pd\n",
    "import numpy as np\n",
    "from keras.layers import Input, Embedding, LSTM, Dropout, BatchNormalization, Dense, concatenate, Flatten, Conv1D, MaxPool1D, LeakyReLU, ELU, SpatialDropout1D, MaxPooling1D, GlobalAveragePooling1D, GlobalMaxPooling1D\n",
    "from keras.preprocessing.text import Tokenizer, one_hot\n",
    "from keras.preprocessing.sequence import pad_sequences\n",
    "from keras.models import Model, load_model\n",
    "from keras import regularizers\n",
    "from keras.optimizers import *\n",
    "from keras.callbacks import ModelCheckpoint, EarlyStopping, TensorBoard, ReduceLROnPlateau\n",
    "from sklearn.feature_extraction.text import TfidfVectorizer, CountVectorizer\n",
    "from sklearn.metrics import roc_auc_score\n",
    "import tensorflow as tf\n",
    "from tensorboardcolab import *\n",
    "import matplotlib.pyplot as plt\n",
    "%matplotlib inline\n",
    "import re\n",
    "from tqdm import tqdm\n",
    "from sklearn.preprocessing import LabelEncoder\n",
    "import seaborn as sns\n",
    "import pickle"
   ]
  },
  {
   "cell_type": "code",
   "execution_count": 2,
   "metadata": {
    "colab": {
     "base_uri": "https://localhost:8080/",
     "height": 125
    },
    "colab_type": "code",
    "id": "6gBmCPILPWh_",
    "outputId": "a86d05a0-36ae-442e-b61c-40dd847efb45"
   },
   "outputs": [
    {
     "name": "stdout",
     "output_type": "stream",
     "text": [
      "Go to this URL in a browser: https://accounts.google.com/o/oauth2/auth?client_id=947318989803-6bn6qk8qdgf4n4g3pfee6491hc0brc4i.apps.googleusercontent.com&redirect_uri=urn%3Aietf%3Awg%3Aoauth%3A2.0%3Aoob&scope=email%20https%3A%2F%2Fwww.googleapis.com%2Fauth%2Fdocs.test%20https%3A%2F%2Fwww.googleapis.com%2Fauth%2Fdrive%20https%3A%2F%2Fwww.googleapis.com%2Fauth%2Fdrive.photos.readonly%20https%3A%2F%2Fwww.googleapis.com%2Fauth%2Fpeopleapi.readonly&response_type=code\n",
      "\n",
      "Enter your authorization code:\n",
      "··········\n",
      "Mounted at /content/drive\n"
     ]
    }
   ],
   "source": [
    "# https://medium.com/@rushic24/mounting-google-drive-in-google-colab-5ecd1d3b735a\n",
    "# https://towardsdatascience.com/3-ways-to-load-csv-files-into-colab-7c14fcbdcb92#targetText=To%20start%2C%20log%20into%20your,Colab%20has%20it%20installed%20already).\n",
    "\n",
    "from google.colab import drive\n",
    "drive.mount('/content/drive')"
   ]
  },
  {
   "cell_type": "code",
   "execution_count": 3,
   "metadata": {
    "colab": {
     "base_uri": "https://localhost:8080/",
     "height": 548
    },
    "colab_type": "code",
    "id": "I6C5-QfeR_sN",
    "outputId": "462f9f88-29b7-4533-fd57-9a2ee736cd24"
   },
   "outputs": [
    {
     "data": {
      "text/html": [
       "<div>\n",
       "<style scoped>\n",
       "    .dataframe tbody tr th:only-of-type {\n",
       "        vertical-align: middle;\n",
       "    }\n",
       "\n",
       "    .dataframe tbody tr th {\n",
       "        vertical-align: top;\n",
       "    }\n",
       "\n",
       "    .dataframe thead th {\n",
       "        text-align: right;\n",
       "    }\n",
       "</style>\n",
       "<table border=\"1\" class=\"dataframe\">\n",
       "  <thead>\n",
       "    <tr style=\"text-align: right;\">\n",
       "      <th></th>\n",
       "      <th>school_state</th>\n",
       "      <th>teacher_prefix</th>\n",
       "      <th>project_grade_category</th>\n",
       "      <th>teacher_number_of_previously_posted_projects</th>\n",
       "      <th>project_is_approved</th>\n",
       "      <th>clean_categories</th>\n",
       "      <th>clean_subcategories</th>\n",
       "      <th>essay</th>\n",
       "      <th>price</th>\n",
       "    </tr>\n",
       "  </thead>\n",
       "  <tbody>\n",
       "    <tr>\n",
       "      <th>0</th>\n",
       "      <td>ca</td>\n",
       "      <td>mrs</td>\n",
       "      <td>grades_prek_2</td>\n",
       "      <td>53</td>\n",
       "      <td>1</td>\n",
       "      <td>math_science</td>\n",
       "      <td>appliedsciences health_lifescience</td>\n",
       "      <td>i fortunate enough use fairy tale stem kits cl...</td>\n",
       "      <td>725.05</td>\n",
       "    </tr>\n",
       "    <tr>\n",
       "      <th>1</th>\n",
       "      <td>ut</td>\n",
       "      <td>ms</td>\n",
       "      <td>grades_3_5</td>\n",
       "      <td>4</td>\n",
       "      <td>1</td>\n",
       "      <td>specialneeds</td>\n",
       "      <td>specialneeds</td>\n",
       "      <td>imagine 8 9 years old you third grade classroo...</td>\n",
       "      <td>213.03</td>\n",
       "    </tr>\n",
       "    <tr>\n",
       "      <th>2</th>\n",
       "      <td>ca</td>\n",
       "      <td>mrs</td>\n",
       "      <td>grades_prek_2</td>\n",
       "      <td>10</td>\n",
       "      <td>1</td>\n",
       "      <td>literacy_language</td>\n",
       "      <td>literacy</td>\n",
       "      <td>having class 24 students comes diverse learner...</td>\n",
       "      <td>329.00</td>\n",
       "    </tr>\n",
       "    <tr>\n",
       "      <th>3</th>\n",
       "      <td>ga</td>\n",
       "      <td>mrs</td>\n",
       "      <td>grades_prek_2</td>\n",
       "      <td>2</td>\n",
       "      <td>1</td>\n",
       "      <td>appliedlearning</td>\n",
       "      <td>earlydevelopment</td>\n",
       "      <td>i recently read article giving students choice...</td>\n",
       "      <td>481.04</td>\n",
       "    </tr>\n",
       "    <tr>\n",
       "      <th>4</th>\n",
       "      <td>wa</td>\n",
       "      <td>mrs</td>\n",
       "      <td>grades_3_5</td>\n",
       "      <td>2</td>\n",
       "      <td>1</td>\n",
       "      <td>literacy_language</td>\n",
       "      <td>literacy</td>\n",
       "      <td>my students crave challenge eat obstacles brea...</td>\n",
       "      <td>17.74</td>\n",
       "    </tr>\n",
       "  </tbody>\n",
       "</table>\n",
       "</div>"
      ],
      "text/plain": [
       "  school_state  ...   price\n",
       "0           ca  ...  725.05\n",
       "1           ut  ...  213.03\n",
       "2           ca  ...  329.00\n",
       "3           ga  ...  481.04\n",
       "4           wa  ...   17.74\n",
       "\n",
       "[5 rows x 9 columns]"
      ]
     },
     "execution_count": 3,
     "metadata": {
      "tags": []
     },
     "output_type": "execute_result"
    }
   ],
   "source": [
    "# reading datasets\n",
    "\n",
    "project_data = pd.read_csv(\"/content/drive/My Drive/Data/preprocessed_data.csv\")\n",
    "#pd.read_csv(\"preprocessed_data.csv\")\n",
    "project_data.head()"
   ]
  },
  {
   "cell_type": "code",
   "execution_count": 4,
   "metadata": {
    "colab": {
     "base_uri": "https://localhost:8080/",
     "height": 105
    },
    "colab_type": "code",
    "id": "Oux9huXDXbkp",
    "outputId": "f010d684-2941-4396-bebe-70ecd0c52d47"
   },
   "outputs": [
    {
     "name": "stdout",
     "output_type": "stream",
     "text": [
      "Number of data points in train data (109248, 9)\n",
      "--------------------------------------------------\n",
      "The attributes of data : ['school_state' 'teacher_prefix' 'project_grade_category'\n",
      " 'teacher_number_of_previously_posted_projects' 'project_is_approved'\n",
      " 'clean_categories' 'clean_subcategories' 'essay' 'price']\n"
     ]
    }
   ],
   "source": [
    "print(\"Number of data points in train data\", project_data.shape)\n",
    "print('-'*50)\n",
    "print(\"The attributes of data :\", project_data.columns.values)"
   ]
  },
  {
   "cell_type": "code",
   "execution_count": 5,
   "metadata": {
    "colab": {
     "base_uri": "https://localhost:8080/",
     "height": 94
    },
    "colab_type": "code",
    "id": "eRrUqKfxXg-0",
    "outputId": "2cdc8812-b5f3-4c89-e8ff-a41264d14241"
   },
   "outputs": [
    {
     "data": {
      "text/html": [
       "<div>\n",
       "<style scoped>\n",
       "    .dataframe tbody tr th:only-of-type {\n",
       "        vertical-align: middle;\n",
       "    }\n",
       "\n",
       "    .dataframe tbody tr th {\n",
       "        vertical-align: top;\n",
       "    }\n",
       "\n",
       "    .dataframe thead th {\n",
       "        text-align: right;\n",
       "    }\n",
       "</style>\n",
       "<table border=\"1\" class=\"dataframe\">\n",
       "  <thead>\n",
       "    <tr style=\"text-align: right;\">\n",
       "      <th></th>\n",
       "      <th>school_state</th>\n",
       "      <th>teacher_prefix</th>\n",
       "      <th>project_grade_category</th>\n",
       "      <th>teacher_number_of_previously_posted_projects</th>\n",
       "      <th>clean_categories</th>\n",
       "      <th>clean_subcategories</th>\n",
       "      <th>essay</th>\n",
       "      <th>price</th>\n",
       "    </tr>\n",
       "  </thead>\n",
       "  <tbody>\n",
       "    <tr>\n",
       "      <th>0</th>\n",
       "      <td>ca</td>\n",
       "      <td>mrs</td>\n",
       "      <td>grades_prek_2</td>\n",
       "      <td>53</td>\n",
       "      <td>math_science</td>\n",
       "      <td>appliedsciences health_lifescience</td>\n",
       "      <td>i fortunate enough use fairy tale stem kits cl...</td>\n",
       "      <td>725.05</td>\n",
       "    </tr>\n",
       "  </tbody>\n",
       "</table>\n",
       "</div>"
      ],
      "text/plain": [
       "  school_state  ...   price\n",
       "0           ca  ...  725.05\n",
       "\n",
       "[1 rows x 8 columns]"
      ]
     },
     "execution_count": 5,
     "metadata": {
      "tags": []
     },
     "output_type": "execute_result"
    }
   ],
   "source": [
    "approved_project = project_data['project_is_approved'].values\n",
    "project_data.drop(['project_is_approved'], axis=1, inplace=True)\n",
    "project_data.head(1)"
   ]
  },
  {
   "cell_type": "code",
   "execution_count": 0,
   "metadata": {
    "colab": {},
    "colab_type": "code",
    "collapsed": true,
    "id": "8Q1W8CUBYFFk"
   },
   "outputs": [],
   "source": [
    "# Data splitting\n",
    "\n",
    "from sklearn.model_selection import train_test_split\n",
    "\n",
    "# Splitting in train and test\n",
    "X_train, X_test, y_train, y_test = train_test_split(project_data, approved_project, test_size=0.33, stratify=approved_project)\n",
    "\n"
   ]
  },
  {
   "cell_type": "code",
   "execution_count": 7,
   "metadata": {
    "colab": {
     "base_uri": "https://localhost:8080/",
     "height": 72
    },
    "colab_type": "code",
    "id": "T4CVrXPiYFnQ",
    "outputId": "47c0bdd6-e2d8-4020-e34b-236b1b9c1bab"
   },
   "outputs": [
    {
     "name": "stdout",
     "output_type": "stream",
     "text": [
      "WARNING:tensorflow:From /usr/local/lib/python3.6/dist-packages/keras/backend/tensorflow_backend.py:541: The name tf.placeholder is deprecated. Please use tf.compat.v1.placeholder instead.\n",
      "\n"
     ]
    }
   ],
   "source": [
    "#clearing the graph of tensorflow\n",
    "tf.keras.backend.clear_session()\n",
    "\n",
    "input_seq_total_text_data = Input(shape=(300,),name=\"input_seq_total_text_data\")"
   ]
  },
  {
   "cell_type": "code",
   "execution_count": 8,
   "metadata": {
    "colab": {
     "base_uri": "https://localhost:8080/",
     "height": 34
    },
    "colab_type": "code",
    "id": "JfE_wmXdYZ2y",
    "outputId": "8d60ed8b-2b74-4ccc-f739-89b56e452bf5"
   },
   "outputs": [
    {
     "data": {
      "text/plain": [
       "48319"
      ]
     },
     "execution_count": 8,
     "metadata": {
      "tags": []
     },
     "output_type": "execute_result"
    }
   ],
   "source": [
    "# https://machinelearningmastery.com/use-word-embedding-layers-deep-learning-keras/\n",
    "\n",
    "# prepare tokenizer\n",
    "text_tokenizer = Tokenizer()\n",
    "text_tokenizer.fit_on_texts(X_train[\"essay\"])\n",
    "vocab_size = len(text_tokenizer.word_index) + 1\n",
    "vocab_size"
   ]
  },
  {
   "cell_type": "code",
   "execution_count": 0,
   "metadata": {
    "colab": {},
    "colab_type": "code",
    "collapsed": true,
    "id": "euF1OAnyYaWp"
   },
   "outputs": [],
   "source": [
    "# integer encode the data\n",
    "\n",
    "encoded_essay_train = text_tokenizer.texts_to_sequences(X_train[\"essay\"])\n",
    "encoded_essay_test = text_tokenizer.texts_to_sequences(X_test[\"essay\"])\n"
   ]
  },
  {
   "cell_type": "code",
   "execution_count": 10,
   "metadata": {
    "colab": {
     "base_uri": "https://localhost:8080/",
     "height": 52
    },
    "colab_type": "code",
    "id": "C-YTXtG2Ykno",
    "outputId": "019ae2a3-7fbc-452e-a833-7680f74adf1c"
   },
   "outputs": [
    {
     "name": "stdout",
     "output_type": "stream",
     "text": [
      "(73196, 300)\n",
      "(36052, 300)\n"
     ]
    }
   ],
   "source": [
    "# Padding data\n",
    "\n",
    "padded_text_train = pad_sequences(encoded_essay_train, maxlen=300, padding='post', truncating='post')\n",
    "padded_text_test = pad_sequences(encoded_essay_test, maxlen=300, padding='post', truncating='post')\n",
    "\n",
    "print(padded_text_train.shape)\n",
    "print(padded_text_test.shape)\n",
    "\n",
    "\n"
   ]
  },
  {
   "cell_type": "code",
   "execution_count": 0,
   "metadata": {
    "colab": {},
    "colab_type": "code",
    "collapsed": true,
    "id": "r9_5kwMOYamS"
   },
   "outputs": [],
   "source": [
    "f = open(\"/content/drive/My Drive/Data/glove_vectors\", \"rb\")\n",
    "glove_words = pickle.load(f)"
   ]
  },
  {
   "cell_type": "code",
   "execution_count": 12,
   "metadata": {
    "colab": {
     "base_uri": "https://localhost:8080/",
     "height": 34
    },
    "colab_type": "code",
    "id": "3y_Hj4sOZ1gv",
    "outputId": "18db2e6f-5f85-4e7f-fe5c-f13d360daec0"
   },
   "outputs": [
    {
     "name": "stdout",
     "output_type": "stream",
     "text": [
      "(48319, 300)\n"
     ]
    }
   ],
   "source": [
    "# create a weight matrix for words in training docs\n",
    "\n",
    "embedding_matrix = np.zeros((vocab_size, 300))\n",
    "for word, i in text_tokenizer.word_index.items():\n",
    "    \n",
    "    embedding_vector = glove_words.get(word)\n",
    "    if embedding_vector is not None:\n",
    "        \n",
    "        embedding_matrix[i] = embedding_vector\n",
    "        \n",
    "print(embedding_matrix.shape)"
   ]
  },
  {
   "cell_type": "code",
   "execution_count": 13,
   "metadata": {
    "colab": {
     "base_uri": "https://localhost:8080/",
     "height": 72
    },
    "colab_type": "code",
    "id": "OF-1zKA-Z4YX",
    "outputId": "4c2418ea-7181-45f2-9487-c0eb8266dcd0"
   },
   "outputs": [
    {
     "name": "stdout",
     "output_type": "stream",
     "text": [
      "WARNING:tensorflow:From /usr/local/lib/python3.6/dist-packages/keras/backend/tensorflow_backend.py:66: The name tf.get_default_graph is deprecated. Please use tf.compat.v1.get_default_graph instead.\n",
      "\n"
     ]
    }
   ],
   "source": [
    "Emb_Txt_Data = Embedding(vocab_size, 300, weights = [embedding_matrix], input_length = 300, trainable=False)"
   ]
  },
  {
   "cell_type": "code",
   "execution_count": 14,
   "metadata": {
    "colab": {
     "base_uri": "https://localhost:8080/",
     "height": 283
    },
    "colab_type": "code",
    "id": "LQUv_pJjZ9Ih",
    "outputId": "3911beda-ab89-4000-a16b-610d9914e8a3"
   },
   "outputs": [
    {
     "name": "stdout",
     "output_type": "stream",
     "text": [
      "WARNING:tensorflow:From /usr/local/lib/python3.6/dist-packages/keras/backend/tensorflow_backend.py:4432: The name tf.random_uniform is deprecated. Please use tf.random.uniform instead.\n",
      "\n",
      "WARNING:tensorflow:From /usr/local/lib/python3.6/dist-packages/keras/backend/tensorflow_backend.py:190: The name tf.get_default_session is deprecated. Please use tf.compat.v1.get_default_session instead.\n",
      "\n",
      "WARNING:tensorflow:From /usr/local/lib/python3.6/dist-packages/keras/backend/tensorflow_backend.py:197: The name tf.ConfigProto is deprecated. Please use tf.compat.v1.ConfigProto instead.\n",
      "\n",
      "WARNING:tensorflow:From /usr/local/lib/python3.6/dist-packages/keras/backend/tensorflow_backend.py:203: The name tf.Session is deprecated. Please use tf.compat.v1.Session instead.\n",
      "\n",
      "WARNING:tensorflow:From /usr/local/lib/python3.6/dist-packages/keras/backend/tensorflow_backend.py:207: The name tf.global_variables is deprecated. Please use tf.compat.v1.global_variables instead.\n",
      "\n",
      "WARNING:tensorflow:From /usr/local/lib/python3.6/dist-packages/keras/backend/tensorflow_backend.py:216: The name tf.is_variable_initialized is deprecated. Please use tf.compat.v1.is_variable_initialized instead.\n",
      "\n",
      "WARNING:tensorflow:From /usr/local/lib/python3.6/dist-packages/keras/backend/tensorflow_backend.py:223: The name tf.variables_initializer is deprecated. Please use tf.compat.v1.variables_initializer instead.\n",
      "\n"
     ]
    }
   ],
   "source": [
    "Emb_Text_Data = (Emb_Txt_Data)(input_seq_total_text_data)"
   ]
  },
  {
   "cell_type": "code",
   "execution_count": 15,
   "metadata": {
    "colab": {
     "base_uri": "https://localhost:8080/",
     "height": 34
    },
    "colab_type": "code",
    "id": "Enri55NNaB1_",
    "outputId": "c4f232a8-af24-47c4-fe71-692be7ca95d5"
   },
   "outputs": [
    {
     "data": {
      "text/plain": [
       "<tf.Tensor 'embedding_1/embedding_lookup/Identity:0' shape=(?, 300, 300) dtype=float32>"
      ]
     },
     "execution_count": 15,
     "metadata": {
      "tags": []
     },
     "output_type": "execute_result"
    }
   ],
   "source": [
    "Emb_Text_Data"
   ]
  },
  {
   "cell_type": "code",
   "execution_count": 16,
   "metadata": {
    "colab": {
     "base_uri": "https://localhost:8080/",
     "height": 125
    },
    "colab_type": "code",
    "id": "x7HksS9taGC6",
    "outputId": "b6fb74db-7665-4833-8f73-09abcabc0514"
   },
   "outputs": [
    {
     "name": "stdout",
     "output_type": "stream",
     "text": [
      "WARNING:tensorflow:From /usr/local/lib/python3.6/dist-packages/keras/backend/tensorflow_backend.py:148: The name tf.placeholder_with_default is deprecated. Please use tf.compat.v1.placeholder_with_default instead.\n",
      "\n",
      "WARNING:tensorflow:From /usr/local/lib/python3.6/dist-packages/keras/backend/tensorflow_backend.py:3733: calling dropout (from tensorflow.python.ops.nn_ops) with keep_prob is deprecated and will be removed in a future version.\n",
      "Instructions for updating:\n",
      "Please use `rate` instead of `keep_prob`. Rate should be set to `rate = 1 - keep_prob`.\n"
     ]
    }
   ],
   "source": [
    "lstm = LSTM(64, recurrent_dropout=0.5, kernel_regularizer = regularizers.l2(0.001), return_sequences = True)(Emb_Text_Data)"
   ]
  },
  {
   "cell_type": "code",
   "execution_count": 17,
   "metadata": {
    "colab": {
     "base_uri": "https://localhost:8080/",
     "height": 34
    },
    "colab_type": "code",
    "id": "6tILvSCgaGXa",
    "outputId": "b41eb1fc-c2a4-4aa0-bf53-b46ff12c0c39"
   },
   "outputs": [
    {
     "data": {
      "text/plain": [
       "<tf.Tensor 'lstm_1/transpose_1:0' shape=(?, ?, 64) dtype=float32>"
      ]
     },
     "execution_count": 17,
     "metadata": {
      "tags": []
     },
     "output_type": "execute_result"
    }
   ],
   "source": [
    "lstm"
   ]
  },
  {
   "cell_type": "code",
   "execution_count": 0,
   "metadata": {
    "colab": {},
    "colab_type": "code",
    "collapsed": true,
    "id": "n98T0yeLaNLV"
   },
   "outputs": [],
   "source": [
    "flatten = Flatten()(lstm)"
   ]
  },
  {
   "cell_type": "code",
   "execution_count": 19,
   "metadata": {
    "colab": {
     "base_uri": "https://localhost:8080/",
     "height": 34
    },
    "colab_type": "code",
    "id": "4Cj2MmXDaNjr",
    "outputId": "16471228-f186-4a37-d70a-593803e5c134"
   },
   "outputs": [
    {
     "data": {
      "text/plain": [
       "<tf.Tensor 'flatten_1/Reshape:0' shape=(?, ?) dtype=float32>"
      ]
     },
     "execution_count": 19,
     "metadata": {
      "tags": []
     },
     "output_type": "execute_result"
    }
   ],
   "source": [
    "flatten"
   ]
  },
  {
   "cell_type": "code",
   "execution_count": 0,
   "metadata": {
    "colab": {},
    "colab_type": "code",
    "collapsed": true,
    "id": "xo8BGAslaTG9"
   },
   "outputs": [],
   "source": [
    "# processing for school state\n",
    "\n",
    "input_school_state = Input(shape=(50,),name=\"input_school_state\")"
   ]
  },
  {
   "cell_type": "code",
   "execution_count": 21,
   "metadata": {
    "colab": {
     "base_uri": "https://localhost:8080/",
     "height": 34
    },
    "colab_type": "code",
    "id": "MpaSGmMiaTSK",
    "outputId": "f8fa406b-f8f5-4420-deb6-83b24237eb8c"
   },
   "outputs": [
    {
     "name": "stdout",
     "output_type": "stream",
     "text": [
      "51\n"
     ]
    }
   ],
   "source": [
    "unique_school_state  = X_train[\"school_state\"].nunique()\n",
    "print(unique_school_state)\n",
    "\n",
    "Emb_State_Data = Embedding(unique_school_state, 300, input_length = 50)(input_school_state)"
   ]
  },
  {
   "cell_type": "code",
   "execution_count": 0,
   "metadata": {
    "colab": {},
    "colab_type": "code",
    "collapsed": true,
    "id": "qqkuOq1TaYq-"
   },
   "outputs": [],
   "source": [
    "flatten_1 = Flatten()(Emb_State_Data)"
   ]
  },
  {
   "cell_type": "code",
   "execution_count": 0,
   "metadata": {
    "colab": {},
    "colab_type": "code",
    "collapsed": true,
    "id": "XlFxBV9haYt3"
   },
   "outputs": [],
   "source": [
    "encoded_school_state_train = [one_hot(d, unique_school_state) for d in X_train['school_state']]\n",
    "encoded_school_state_test = [one_hot(d, unique_school_state) for d in X_test['school_state']]\n"
   ]
  },
  {
   "cell_type": "code",
   "execution_count": 24,
   "metadata": {
    "colab": {
     "base_uri": "https://localhost:8080/",
     "height": 52
    },
    "colab_type": "code",
    "id": "Iz1clcD4aYwh",
    "outputId": "95638c25-68b1-4a5f-8f26-cc11ae433dd4"
   },
   "outputs": [
    {
     "name": "stdout",
     "output_type": "stream",
     "text": [
      "(73196, 50)\n",
      "(36052, 50)\n"
     ]
    }
   ],
   "source": [
    "padded_school_state_train = pad_sequences(encoded_school_state_train, maxlen=50, padding='post')\n",
    "padded_school_state_test = pad_sequences(encoded_school_state_test, maxlen=50, padding='post')\n",
    "\n",
    "print(padded_school_state_train.shape)\n",
    "print(padded_school_state_test.shape)"
   ]
  },
  {
   "cell_type": "code",
   "execution_count": 25,
   "metadata": {
    "colab": {
     "base_uri": "https://localhost:8080/",
     "height": 34
    },
    "colab_type": "code",
    "id": "rheNLDN5aYze",
    "outputId": "7343a4c6-8d69-4386-dbff-9a703eca9f6d"
   },
   "outputs": [
    {
     "name": "stdout",
     "output_type": "stream",
     "text": [
      "4\n"
     ]
    }
   ],
   "source": [
    "# processing for project grade category\n",
    "\n",
    "input_project_grade_category = Input(shape=(50,),name=\"input_project_grade_category\")\n",
    "\n",
    "unique_project_grade  = X_train[\"project_grade_category\"].nunique()\n",
    "print(unique_project_grade)\n",
    "\n",
    "Emb_PGC_Data = Embedding(unique_project_grade, 300, input_length = 50)(input_project_grade_category)\n",
    "flatten_2 = Flatten()(Emb_PGC_Data)\n",
    "\n"
   ]
  },
  {
   "cell_type": "code",
   "execution_count": 26,
   "metadata": {
    "colab": {
     "base_uri": "https://localhost:8080/",
     "height": 52
    },
    "colab_type": "code",
    "id": "SFZmVSKAaY2v",
    "outputId": "5d44f893-6da6-4a68-956d-0afd3435a61f"
   },
   "outputs": [
    {
     "name": "stdout",
     "output_type": "stream",
     "text": [
      "(73196, 50)\n",
      "(36052, 50)\n"
     ]
    }
   ],
   "source": [
    "encoded_project_grade_train = [one_hot(d, unique_project_grade) for d in X_train['project_grade_category']]\n",
    "encoded_project_grade_test = [one_hot(d, unique_project_grade) for d in X_test['project_grade_category']]\n",
    "\n",
    "padded_project_grade_train = pad_sequences(encoded_project_grade_train, maxlen=50, padding='post')\n",
    "padded_project_grade_test = pad_sequences(encoded_project_grade_test, maxlen=50, padding='post')\n",
    "\n",
    "print(padded_project_grade_train.shape)\n",
    "print(padded_project_grade_test.shape)"
   ]
  },
  {
   "cell_type": "code",
   "execution_count": 27,
   "metadata": {
    "colab": {
     "base_uri": "https://localhost:8080/",
     "height": 34
    },
    "colab_type": "code",
    "id": "fI-VJdDyalBm",
    "outputId": "7b082498-9b7c-46e1-bf6a-a8b207410163"
   },
   "outputs": [
    {
     "name": "stdout",
     "output_type": "stream",
     "text": [
      "51\n"
     ]
    }
   ],
   "source": [
    "# processing for clean categories\n",
    "\n",
    "input_clean_categories = Input(shape=(50,),name=\"input_clean_categories\")\n",
    "\n",
    "unique_clean_categories  = X_train[\"clean_categories\"].nunique()\n",
    "print(unique_clean_categories)\n",
    "\n",
    "Emb_clean_categories_Data = Embedding(unique_clean_categories, 300, input_length = 50)(input_clean_categories)\n",
    "flatten_3 = Flatten()(Emb_clean_categories_Data)\n",
    "\n"
   ]
  },
  {
   "cell_type": "code",
   "execution_count": 28,
   "metadata": {
    "colab": {
     "base_uri": "https://localhost:8080/",
     "height": 52
    },
    "colab_type": "code",
    "id": "qkaF7FsWalLT",
    "outputId": "31dffed2-ba4e-42f1-b7a1-f36228b8f9e1"
   },
   "outputs": [
    {
     "name": "stdout",
     "output_type": "stream",
     "text": [
      "(73196, 50)\n",
      "(36052, 50)\n"
     ]
    }
   ],
   "source": [
    "encoded_clean_categories_train = [one_hot(d, unique_clean_categories) for d in X_train['clean_categories']]\n",
    "encoded_clean_categories_test = [one_hot(d, unique_clean_categories) for d in X_test['clean_categories']]\n",
    "\n",
    "padded_clean_categories_train = pad_sequences(encoded_clean_categories_train, maxlen=50, padding='post')\n",
    "padded_clean_categories_test = pad_sequences(encoded_clean_categories_test, maxlen=50, padding='post')\n",
    "\n",
    "\n",
    "print(padded_clean_categories_train.shape)\n",
    "print(padded_clean_categories_test.shape)"
   ]
  },
  {
   "cell_type": "code",
   "execution_count": 29,
   "metadata": {
    "colab": {
     "base_uri": "https://localhost:8080/",
     "height": 34
    },
    "colab_type": "code",
    "id": "rJl2dG2QalV0",
    "outputId": "86af197f-69bf-4c5e-ad4a-145073aa30b6"
   },
   "outputs": [
    {
     "name": "stdout",
     "output_type": "stream",
     "text": [
      "394\n"
     ]
    }
   ],
   "source": [
    "# processing for clean subcategories\n",
    "\n",
    "input_clean_subcategories = Input(shape=(50,),name=\"input_clean_subcategories\")\n",
    "\n",
    "unique_clean_subcategories  = X_train[\"clean_subcategories\"].nunique()\n",
    "print(unique_clean_subcategories)\n",
    "\n",
    "Emb_clean_subcategories_Data = Embedding(unique_clean_subcategories, 300, input_length = 50)(input_clean_subcategories)\n",
    "flatten_4 = Flatten()(Emb_clean_subcategories_Data)\n",
    "\n"
   ]
  },
  {
   "cell_type": "code",
   "execution_count": 30,
   "metadata": {
    "colab": {
     "base_uri": "https://localhost:8080/",
     "height": 52
    },
    "colab_type": "code",
    "id": "tQcjOvEealZE",
    "outputId": "c42e01b2-6cf7-4c6e-af1a-28ba1be50906"
   },
   "outputs": [
    {
     "name": "stdout",
     "output_type": "stream",
     "text": [
      "(73196, 50)\n",
      "(36052, 50)\n"
     ]
    }
   ],
   "source": [
    "encoded_clean_subcategories_train = [one_hot(d, unique_clean_subcategories) for d in X_train['clean_subcategories']]\n",
    "encoded_clean_subcategories_test = [one_hot(d, unique_clean_subcategories) for d in X_test['clean_subcategories']]\n",
    "\n",
    "padded_clean_subcategories_train = pad_sequences(encoded_clean_subcategories_train, maxlen=50, padding='post')\n",
    "padded_clean_subcategories_test = pad_sequences(encoded_clean_subcategories_test, maxlen=50, padding='post')\n",
    "\n",
    "print(padded_clean_subcategories_train.shape)\n",
    "print(padded_clean_subcategories_test.shape)"
   ]
  },
  {
   "cell_type": "code",
   "execution_count": 31,
   "metadata": {
    "colab": {
     "base_uri": "https://localhost:8080/",
     "height": 34
    },
    "colab_type": "code",
    "id": "kQog_a8Salcd",
    "outputId": "9dccda01-294d-4214-d623-426389183de3"
   },
   "outputs": [
    {
     "name": "stdout",
     "output_type": "stream",
     "text": [
      "5\n"
     ]
    }
   ],
   "source": [
    "# processing for teacher prefix\n",
    "\n",
    "input_teacher_prefix = Input(shape=(50,),name=\"input_teacher_prefix\")\n",
    "\n",
    "unique_teacher_prefix  = X_train[\"teacher_prefix\"].nunique()\n",
    "print(unique_teacher_prefix)\n",
    "\n",
    "Emb_teacher_prefix_Data = Embedding(unique_teacher_prefix, 300, input_length = 50)(input_teacher_prefix)\n",
    "flatten_5 = Flatten()(Emb_teacher_prefix_Data)\n",
    "\n"
   ]
  },
  {
   "cell_type": "code",
   "execution_count": 32,
   "metadata": {
    "colab": {
     "base_uri": "https://localhost:8080/",
     "height": 52
    },
    "colab_type": "code",
    "id": "XSOcC49KawuV",
    "outputId": "c7b8ea9b-86e0-4bad-cd43-1cf16e88c43a"
   },
   "outputs": [
    {
     "name": "stdout",
     "output_type": "stream",
     "text": [
      "(73196, 50)\n",
      "(36052, 50)\n"
     ]
    }
   ],
   "source": [
    "encoded_teacher_prefix_train = [one_hot(d, unique_teacher_prefix) for d in X_train['teacher_prefix']]\n",
    "encoded_teacher_prefix_test = [one_hot(d, unique_teacher_prefix) for d in X_test['teacher_prefix']]\n",
    "\n",
    "padded_teacher_prefix_train = pad_sequences(encoded_teacher_prefix_train, maxlen=50, padding='post')\n",
    "padded_teacher_prefix_test = pad_sequences(encoded_teacher_prefix_test, maxlen=50, padding='post')\n",
    "\n",
    "print(padded_teacher_prefix_train.shape)\n",
    "print(padded_teacher_prefix_test.shape)"
   ]
  },
  {
   "cell_type": "code",
   "execution_count": 33,
   "metadata": {
    "colab": {
     "base_uri": "https://localhost:8080/",
     "height": 72
    },
    "colab_type": "code",
    "id": "qvpfd6Yeawxf",
    "outputId": "5cef96f1-2058-4892-97c8-03f1c0f6bb5e"
   },
   "outputs": [
    {
     "name": "stdout",
     "output_type": "stream",
     "text": [
      "WARNING:tensorflow:From /usr/local/lib/python3.6/dist-packages/keras/backend/tensorflow_backend.py:4479: The name tf.truncated_normal is deprecated. Please use tf.random.truncated_normal instead.\n",
      "\n"
     ]
    }
   ],
   "source": [
    "# Processing numerical features\n",
    "\n",
    "input_numerical_data = Input(shape=(2,),name=\"input_numerical_data\")\n",
    "\n",
    "Dense_for_rem_input = Dense(units=32,activation='relu',kernel_initializer='he_normal',name=\"Dense_for_rem_input\")(input_numerical_data)"
   ]
  },
  {
   "cell_type": "code",
   "execution_count": 0,
   "metadata": {
    "colab": {},
    "colab_type": "code",
    "collapsed": true,
    "id": "4CqU8Slcaw0s"
   },
   "outputs": [],
   "source": [
    "teacher_number_of_previously_posted_projects_train = X_train['teacher_number_of_previously_posted_projects'].values.reshape(-1, 1)\n",
    "price_train = X_train['price'].values.reshape(-1, 1)\n",
    "\n",
    "teacher_number_of_previously_posted_projects_test = X_test['teacher_number_of_previously_posted_projects'].values.reshape(-1, 1)\n",
    "price_test = X_test['price'].values.reshape(-1, 1)\n",
    "\n",
    "concat_numerical_train = np.concatenate((teacher_number_of_previously_posted_projects_train,price_train),axis=1)\n",
    "concat_numerical_test = np.concatenate((teacher_number_of_previously_posted_projects_test,price_test),axis=1)"
   ]
  },
  {
   "cell_type": "code",
   "execution_count": 0,
   "metadata": {
    "colab": {},
    "colab_type": "code",
    "collapsed": true,
    "id": "7uvddZhsaw3S"
   },
   "outputs": [],
   "source": [
    "concatenate = concatenate(inputs=[flatten, flatten_1, flatten_2, flatten_3, flatten_4, flatten_5, input_numerical_data],name=\"concatenate\")"
   ]
  },
  {
   "cell_type": "code",
   "execution_count": 36,
   "metadata": {
    "colab": {
     "base_uri": "https://localhost:8080/",
     "height": 1000
    },
    "colab_type": "code",
    "id": "2ugWHxJPaw6m",
    "outputId": "930dcae3-010b-4213-97e2-e39f7986c973"
   },
   "outputs": [
    {
     "name": "stdout",
     "output_type": "stream",
     "text": [
      "Model: \"model_1\"\n",
      "__________________________________________________________________________________________________\n",
      "Layer (type)                    Output Shape         Param #     Connected to                     \n",
      "==================================================================================================\n",
      "input_seq_total_text_data (Inpu (None, 300)          0                                            \n",
      "__________________________________________________________________________________________________\n",
      "embedding_1 (Embedding)         (None, 300, 300)     14495700    input_seq_total_text_data[0][0]  \n",
      "__________________________________________________________________________________________________\n",
      "input_school_state (InputLayer) (None, 50)           0                                            \n",
      "__________________________________________________________________________________________________\n",
      "input_project_grade_category (I (None, 50)           0                                            \n",
      "__________________________________________________________________________________________________\n",
      "input_clean_categories (InputLa (None, 50)           0                                            \n",
      "__________________________________________________________________________________________________\n",
      "input_clean_subcategories (Inpu (None, 50)           0                                            \n",
      "__________________________________________________________________________________________________\n",
      "input_teacher_prefix (InputLaye (None, 50)           0                                            \n",
      "__________________________________________________________________________________________________\n",
      "lstm_1 (LSTM)                   (None, 300, 64)      93440       embedding_1[0][0]                \n",
      "__________________________________________________________________________________________________\n",
      "embedding_2 (Embedding)         (None, 50, 300)      15300       input_school_state[0][0]         \n",
      "__________________________________________________________________________________________________\n",
      "embedding_3 (Embedding)         (None, 50, 300)      1200        input_project_grade_category[0][0\n",
      "__________________________________________________________________________________________________\n",
      "embedding_4 (Embedding)         (None, 50, 300)      15300       input_clean_categories[0][0]     \n",
      "__________________________________________________________________________________________________\n",
      "embedding_5 (Embedding)         (None, 50, 300)      118200      input_clean_subcategories[0][0]  \n",
      "__________________________________________________________________________________________________\n",
      "embedding_6 (Embedding)         (None, 50, 300)      1500        input_teacher_prefix[0][0]       \n",
      "__________________________________________________________________________________________________\n",
      "flatten_1 (Flatten)             (None, 19200)        0           lstm_1[0][0]                     \n",
      "__________________________________________________________________________________________________\n",
      "flatten_2 (Flatten)             (None, 15000)        0           embedding_2[0][0]                \n",
      "__________________________________________________________________________________________________\n",
      "flatten_3 (Flatten)             (None, 15000)        0           embedding_3[0][0]                \n",
      "__________________________________________________________________________________________________\n",
      "flatten_4 (Flatten)             (None, 15000)        0           embedding_4[0][0]                \n",
      "__________________________________________________________________________________________________\n",
      "flatten_5 (Flatten)             (None, 15000)        0           embedding_5[0][0]                \n",
      "__________________________________________________________________________________________________\n",
      "flatten_6 (Flatten)             (None, 15000)        0           embedding_6[0][0]                \n",
      "__________________________________________________________________________________________________\n",
      "input_numerical_data (InputLaye (None, 2)            0                                            \n",
      "__________________________________________________________________________________________________\n",
      "concatenate (Concatenate)       (None, 94202)        0           flatten_1[0][0]                  \n",
      "                                                                 flatten_2[0][0]                  \n",
      "                                                                 flatten_3[0][0]                  \n",
      "                                                                 flatten_4[0][0]                  \n",
      "                                                                 flatten_5[0][0]                  \n",
      "                                                                 flatten_6[0][0]                  \n",
      "                                                                 input_numerical_data[0][0]       \n",
      "__________________________________________________________________________________________________\n",
      "dense_1 (Dense)                 (None, 128)          12057984    concatenate[0][0]                \n",
      "__________________________________________________________________________________________________\n",
      "dropout_1 (Dropout)             (None, 128)          0           dense_1[0][0]                    \n",
      "__________________________________________________________________________________________________\n",
      "dense_2 (Dense)                 (None, 64)           8256        dropout_1[0][0]                  \n",
      "__________________________________________________________________________________________________\n",
      "dropout_2 (Dropout)             (None, 64)           0           dense_2[0][0]                    \n",
      "__________________________________________________________________________________________________\n",
      "dense_3 (Dense)                 (None, 32)           2080        dropout_2[0][0]                  \n",
      "__________________________________________________________________________________________________\n",
      "dense_4 (Dense)                 (None, 16)           528         dense_3[0][0]                    \n",
      "__________________________________________________________________________________________________\n",
      "output (Dense)                  (None, 2)            34          dense_4[0][0]                    \n",
      "==================================================================================================\n",
      "Total params: 26,809,522\n",
      "Trainable params: 12,313,822\n",
      "Non-trainable params: 14,495,700\n",
      "__________________________________________________________________________________________________\n"
     ]
    }
   ],
   "source": [
    "Dense_layer1_after_concat = Dense(128,activation=\"relu\", kernel_initializer=\"he_normal\", kernel_regularizer=regularizers.l2(0.001))(concatenate)\n",
    "\n",
    "dropout = Dropout(0.5)(Dense_layer1_after_concat)\n",
    "\n",
    "Dense_layer2_after_concat = Dense(64,activation=\"relu\", kernel_initializer=\"he_normal\", kernel_regularizer=regularizers.l2(0.001))(dropout)\n",
    "\n",
    "dropuout_1 = Dropout(0.5)(Dense_layer2_after_concat)\n",
    "\n",
    "Dense_layer3_after_concat = Dense(32,activation='relu',kernel_initializer='he_normal', kernel_regularizer=regularizers.l2(0.001))(dropuout_1)\n",
    "\n",
    "Dense_layer4_after_concat = Dense(16,activation='relu',kernel_initializer='he_normal', kernel_regularizer=regularizers.l2(0.001))(Dense_layer3_after_concat)\n",
    "\n",
    "output_layer_to_classify_with_softmax = Dense(2,activation='softmax',kernel_initializer=\"he_normal\",name=\"output\")(Dense_layer4_after_concat)\n",
    "\n",
    "model_1 = Model(inputs=[input_seq_total_text_data,input_school_state,input_project_grade_category,input_clean_categories,input_clean_subcategories,input_teacher_prefix,input_numerical_data],outputs=[output_layer_to_classify_with_softmax])\n",
    "\n",
    "model_1.summary()"
   ]
  },
  {
   "cell_type": "code",
   "execution_count": 37,
   "metadata": {
    "colab": {
     "base_uri": "https://localhost:8080/",
     "height": 70
    },
    "colab_type": "code",
    "id": "QP-7EOq-RG1H",
    "outputId": "5cb00016-95af-4bbb-ca71-b072b714125e"
   },
   "outputs": [
    {
     "name": "stdout",
     "output_type": "stream",
     "text": [
      "Wait for 8 seconds...\n",
      "TensorBoard link:\n",
      "https://6291a79d.ngrok.io\n"
     ]
    }
   ],
   "source": [
    "# https://github.com/taomanwai/tensorboardcolab/blob/master/README.md\n",
    "\n",
    "tbc=TensorBoardColab()"
   ]
  },
  {
   "cell_type": "code",
   "execution_count": 0,
   "metadata": {
    "colab": {},
    "colab_type": "code",
    "collapsed": true,
    "id": "qOR7YWD5a81y"
   },
   "outputs": [],
   "source": [
    "# https://machinelearningmastery.com/check-point-deep-learning-models-keras/\n",
    "# https://machinelearningmastery.com/how-to-stop-training-deep-neural-networks-at-the-right-time-using-early-stopping/\n",
    "# https://medium.com/singlestone/keras-callbacks-monitor-and-improve-your-deep-learning-205a8a27e91c\n",
    "# https://www.tensorflow.org/tensorboard/get_started\n",
    "# https://keras.rstudio.com/reference/callback_tensorboard.html\n",
    "# https://colab.research.google.com/drive/1afN2SALDooZIHbBGmWZMT6cZ8ccVElWk#scrollTo=4pxUfiLhbS4Y&forceEdit=true&sandboxMode=true\n",
    "\n",
    "#tensorboard_model_1 = TensorBoard(log_dir='./log', histogram_freq=1, write_graph=True, write_grads=True, batch_size=512, write_images=True)\n",
    "\n",
    "#callbacks_1 = [tensorboard_model_1]"
   ]
  },
  {
   "cell_type": "code",
   "execution_count": 0,
   "metadata": {
    "colab": {},
    "colab_type": "code",
    "collapsed": true,
    "id": "6ssCr1mpa9N_"
   },
   "outputs": [],
   "source": [
    "model_1_train_data = [padded_text_train,padded_school_state_train,padded_project_grade_train,padded_clean_categories_train,padded_clean_subcategories_train,padded_teacher_prefix_train,concat_numerical_train]\n",
    "\n",
    "model_1_test_data = [padded_text_test,padded_school_state_test,padded_project_grade_test,padded_clean_categories_test,padded_clean_subcategories_test,padded_teacher_prefix_test,concat_numerical_test]\n"
   ]
  },
  {
   "cell_type": "code",
   "execution_count": 0,
   "metadata": {
    "colab": {},
    "colab_type": "code",
    "collapsed": true,
    "id": "JmvJtTNda9WM"
   },
   "outputs": [],
   "source": [
    "from keras.utils import np_utils\n",
    "\n",
    "Y_train = np_utils.to_categorical(y_train, 2) \n",
    "Y_test = np_utils.to_categorical(y_test, 2)"
   ]
  },
  {
   "cell_type": "code",
   "execution_count": 0,
   "metadata": {
    "colab": {},
    "colab_type": "code",
    "collapsed": true,
    "id": "lpFVLmSZcnh6"
   },
   "outputs": [],
   "source": [
    "# https://stackoverflow.com/questions/41032551/how-to-compute-receiving-operating-characteristic-roc-and-auc-in-keras\n",
    "\n",
    "def auroc(y_true, y_pred):\n",
    "    return tf.py_func(roc_auc_score, (y_true, y_pred), tf.double)"
   ]
  },
  {
   "cell_type": "code",
   "execution_count": 42,
   "metadata": {
    "colab": {
     "base_uri": "https://localhost:8080/",
     "height": 316
    },
    "colab_type": "code",
    "id": "IdDS-mKba9Zh",
    "outputId": "2c91e928-2b22-4294-b8f2-83a4d0db352b"
   },
   "outputs": [
    {
     "name": "stdout",
     "output_type": "stream",
     "text": [
      "WARNING:tensorflow:From /usr/local/lib/python3.6/dist-packages/keras/optimizers.py:793: The name tf.train.Optimizer is deprecated. Please use tf.compat.v1.train.Optimizer instead.\n",
      "\n",
      "WARNING:tensorflow:From /usr/local/lib/python3.6/dist-packages/keras/backend/tensorflow_backend.py:3576: The name tf.log is deprecated. Please use tf.math.log instead.\n",
      "\n",
      "WARNING:tensorflow:From <ipython-input-41-2303c0155baf>:3: py_func (from tensorflow.python.ops.script_ops) is deprecated and will be removed in a future version.\n",
      "Instructions for updating:\n",
      "tf.py_func is deprecated in TF V2. Instead, there are two\n",
      "    options available in V2.\n",
      "    - tf.py_function takes a python function which manipulates tf eager\n",
      "    tensors instead of numpy arrays. It's easy to convert a tf eager tensor to\n",
      "    an ndarray (just call tensor.numpy()) but having access to eager tensors\n",
      "    means `tf.py_function`s can use accelerators such as GPUs as well as\n",
      "    being differentiable using a gradient tape.\n",
      "    - tf.numpy_function maintains the semantics of the deprecated tf.py_func\n",
      "    (it is not differentiable, and manipulates numpy arrays). It drops the\n",
      "    stateful argument making all functions stateful.\n",
      "    \n"
     ]
    }
   ],
   "source": [
    "model_1.compile(optimizer='adam', loss='categorical_crossentropy', metrics=[auroc])"
   ]
  },
  {
   "cell_type": "code",
   "execution_count": 43,
   "metadata": {
    "colab": {
     "base_uri": "https://localhost:8080/",
     "height": 987
    },
    "colab_type": "code",
    "id": "_AZTlCmqa9cY",
    "outputId": "8ac8ae24-91b7-4ff5-cd95-c8a828fd2847"
   },
   "outputs": [
    {
     "name": "stdout",
     "output_type": "stream",
     "text": [
      "WARNING:tensorflow:From /usr/local/lib/python3.6/dist-packages/tensorflow_core/python/ops/math_grad.py:1424: where (from tensorflow.python.ops.array_ops) is deprecated and will be removed in a future version.\n",
      "Instructions for updating:\n",
      "Use tf.where in 2.0, which has the same broadcast rule as np.where\n",
      "WARNING:tensorflow:From /usr/local/lib/python3.6/dist-packages/keras/backend/tensorflow_backend.py:1033: The name tf.assign_add is deprecated. Please use tf.compat.v1.assign_add instead.\n",
      "\n",
      "WARNING:tensorflow:From /usr/local/lib/python3.6/dist-packages/keras/backend/tensorflow_backend.py:1020: The name tf.assign is deprecated. Please use tf.compat.v1.assign instead.\n",
      "\n",
      "Train on 73196 samples, validate on 36052 samples\n",
      "WARNING:tensorflow:From /usr/local/lib/python3.6/dist-packages/tensorboardcolab/core.py:49: The name tf.summary.FileWriter is deprecated. Please use tf.compat.v1.summary.FileWriter instead.\n",
      "\n",
      "WARNING:tensorflow:From /usr/local/lib/python3.6/dist-packages/keras/callbacks.py:1122: The name tf.summary.merge_all is deprecated. Please use tf.compat.v1.summary.merge_all instead.\n",
      "\n",
      "Epoch 1/20\n",
      "73196/73196 [==============================] - 115s 2ms/step - loss: 0.7977 - auroc: 0.6039 - val_loss: 0.6384 - val_auroc: 0.7193\n",
      "WARNING:tensorflow:From /usr/local/lib/python3.6/dist-packages/tensorboardcolab/callbacks.py:51: The name tf.Summary is deprecated. Please use tf.compat.v1.Summary instead.\n",
      "\n",
      "Epoch 2/20\n",
      "73196/73196 [==============================] - 113s 2ms/step - loss: 0.5497 - auroc: 0.6927 - val_loss: 0.5446 - val_auroc: 0.7346\n",
      "Epoch 3/20\n",
      "73196/73196 [==============================] - 113s 2ms/step - loss: 0.5031 - auroc: 0.7088 - val_loss: 0.5081 - val_auroc: 0.7440\n",
      "Epoch 4/20\n",
      "73196/73196 [==============================] - 115s 2ms/step - loss: 0.4750 - auroc: 0.7186 - val_loss: 0.4785 - val_auroc: 0.7344\n",
      "Epoch 5/20\n",
      "73196/73196 [==============================] - 116s 2ms/step - loss: 0.4534 - auroc: 0.7271 - val_loss: 0.4611 - val_auroc: 0.7533\n",
      "Epoch 6/20\n",
      "73196/73196 [==============================] - 112s 2ms/step - loss: 0.4377 - auroc: 0.7346 - val_loss: 0.4467 - val_auroc: 0.7550\n",
      "Epoch 7/20\n",
      "73196/73196 [==============================] - 109s 1ms/step - loss: 0.4262 - auroc: 0.7366 - val_loss: 0.4237 - val_auroc: 0.7522\n",
      "Epoch 8/20\n",
      "73196/73196 [==============================] - 110s 1ms/step - loss: 0.4170 - auroc: 0.7409 - val_loss: 0.4248 - val_auroc: 0.7555\n",
      "Epoch 9/20\n",
      "73196/73196 [==============================] - 116s 2ms/step - loss: 0.4114 - auroc: 0.7412 - val_loss: 0.4039 - val_auroc: 0.7612\n",
      "Epoch 10/20\n",
      "73196/73196 [==============================] - 116s 2ms/step - loss: 0.4054 - auroc: 0.7444 - val_loss: 0.3970 - val_auroc: 0.7632\n",
      "Epoch 11/20\n",
      "73196/73196 [==============================] - 116s 2ms/step - loss: 0.4018 - auroc: 0.7459 - val_loss: 0.3979 - val_auroc: 0.7577\n",
      "Epoch 12/20\n",
      "73196/73196 [==============================] - 115s 2ms/step - loss: 0.3989 - auroc: 0.7474 - val_loss: 0.3933 - val_auroc: 0.7650\n",
      "Epoch 13/20\n",
      "73196/73196 [==============================] - 115s 2ms/step - loss: 0.3971 - auroc: 0.7471 - val_loss: 0.3901 - val_auroc: 0.7621\n",
      "Epoch 14/20\n",
      "73196/73196 [==============================] - 114s 2ms/step - loss: 0.3939 - auroc: 0.7492 - val_loss: 0.3873 - val_auroc: 0.7652\n",
      "Epoch 15/20\n",
      "73196/73196 [==============================] - 113s 2ms/step - loss: 0.3925 - auroc: 0.7478 - val_loss: 0.3908 - val_auroc: 0.7662\n",
      "Epoch 16/20\n",
      "73196/73196 [==============================] - 112s 2ms/step - loss: 0.3912 - auroc: 0.7508 - val_loss: 0.3871 - val_auroc: 0.7665\n",
      "Epoch 17/20\n",
      "73196/73196 [==============================] - 111s 2ms/step - loss: 0.3910 - auroc: 0.7513 - val_loss: 0.3839 - val_auroc: 0.7653\n",
      "Epoch 18/20\n",
      "73196/73196 [==============================] - 114s 2ms/step - loss: 0.3877 - auroc: 0.7538 - val_loss: 0.3810 - val_auroc: 0.7681\n",
      "Epoch 19/20\n",
      "73196/73196 [==============================] - 115s 2ms/step - loss: 0.3888 - auroc: 0.7512 - val_loss: 0.3833 - val_auroc: 0.7653\n",
      "Epoch 20/20\n",
      "73196/73196 [==============================] - 116s 2ms/step - loss: 0.3880 - auroc: 0.7542 - val_loss: 0.3914 - val_auroc: 0.7672\n"
     ]
    }
   ],
   "source": [
    "history = model_1.fit(model_1_train_data, Y_train, batch_size=512, epochs=20, verbose=1, validation_data=(model_1_test_data, Y_test), callbacks=[TensorBoardColabCallback(tbc)])"
   ]
  },
  {
   "cell_type": "code",
   "execution_count": 44,
   "metadata": {
    "colab": {
     "base_uri": "https://localhost:8080/",
     "height": 521
    },
    "colab_type": "code",
    "id": "yHQVsfxva9ft",
    "outputId": "7c99d2a2-26f8-4934-b9d1-1d67146a6efa"
   },
   "outputs": [
    {
     "data": {
      "image/png": "[encoded data removed]",
      "text/plain": [
       "<Figure size 432x288 with 1 Axes>"
      ]
     },
     "metadata": {
      "tags": []
     },
     "output_type": "display_data"
    },
    {
     "data": {
      "image/png": "[encoded data removed]",
      "text/plain": [
       "<Figure size 432x288 with 1 Axes>"
      ]
     },
     "metadata": {
      "tags": []
     },
     "output_type": "display_data"
    }
   ],
   "source": [
    "plt.plot(history.history['auroc'], 'r')\n",
    "plt.plot(history.history['val_auroc'], 'b')\n",
    "plt.legend({'Train ROCAUC': 'r', 'Test ROCAUC':'b'})\n",
    "plt.show()\n",
    "\n",
    "\n",
    "plt.plot(history.history['loss'], 'r')\n",
    "plt.plot(history.history['val_loss'], 'b')\n",
    "plt.legend({'Train Loss': 'r', 'Test Loss':'b'})\n",
    "plt.show()"
   ]
  },
  {
   "cell_type": "markdown",
   "metadata": {},
   "source": [
    "Model ROCAUC Value is 0.7672."
   ]
  }
 ],
 "metadata": {
  "accelerator": "GPU",
  "colab": {
   "collapsed_sections": [],
   "machine_shape": "hm",
   "name": "Copy of Copy of abhishekrastogi8@gmail.com_Assignment-14-Model 1.ipynb",
   "provenance": []
  },
  "kernelspec": {
   "display_name": "Python 3",
   "language": "python",
   "name": "python3"
  },
  "language_info": {
   "codemirror_mode": {
    "name": "ipython",
    "version": 3
   },
   "file_extension": ".py",
   "mimetype": "text/x-python",
   "name": "python",
   "nbconvert_exporter": "python",
   "pygments_lexer": "ipython3",
   "version": "3.6.2"
  }
 },
 "nbformat": 4,
 "nbformat_minor": 1
}
