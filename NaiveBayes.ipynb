{
 "cells": [
  {
   "cell_type": "markdown",
   "metadata": {
    "colab_type": "text",
    "id": "7Od5bBp9N1Lg"
   },
   "source": [
    "# DonorsChoose"
   ]
  },
  {
   "cell_type": "markdown",
   "metadata": {
    "colab_type": "text",
    "id": "5u7wpFZwN1Lh"
   },
   "source": [
    "<p>\n",
    "DonorsChoose.org receives hundreds of thousands of project proposals each year for classroom projects in need of funding. Right now, a large number of volunteers is needed to manually screen each submission before it's approved to be posted on the DonorsChoose.org website.\n",
    "</p>\n",
    "<p>\n",
    "    Next year, DonorsChoose.org expects to receive close to 500,000 project proposals. As a result, there are three main problems they need to solve:\n",
    "<ul>\n",
    "<li>\n",
    "    How to scale current manual processes and resources to screen 500,000 projects so that they can be posted as quickly and as efficiently as possible</li>\n",
    "    <li>How to increase the consistency of project vetting across different volunteers to improve the experience for teachers</li>\n",
    "    <li>How to focus volunteer time on the applications that need the most assistance</li>\n",
    "    </ul>\n",
    "</p>    \n",
    "<p>\n",
    "The goal of the competition is to predict whether or not a DonorsChoose.org project proposal submitted by a teacher will be approved, using the text of project descriptions as well as additional metadata about the project, teacher, and school. DonorsChoose.org can then use this information to identify projects most likely to need further review before approval.\n",
    "</p>"
   ]
  },
  {
   "cell_type": "markdown",
   "metadata": {
    "colab_type": "text",
    "id": "keOckW8PN1Li"
   },
   "source": [
    "## About the DonorsChoose Data Set\n",
    "\n",
    "The `train.csv` data set provided by DonorsChoose contains the following features:\n",
    "\n",
    "Feature | Description \n",
    "----------|---------------\n",
    "**`project_id`** | A unique identifier for the proposed project. **Example:** `p036502`   \n",
    "**`project_title`**    | Title of the project. **Examples:**<br><ul><li><code>Art Will Make You Happy!</code></li><li><code>First Grade Fun</code></li></ul> \n",
    "**`project_grade_category`** | Grade level of students for which the project is targeted. One of the following enumerated values: <br/><ul><li><code>Grades PreK-2</code></li><li><code>Grades 3-5</code></li><li><code>Grades 6-8</code></li><li><code>Grades 9-12</code></li></ul>  \n",
    " **`project_subject_categories`** | One or more (comma-separated) subject categories for the project from the following enumerated list of values:  <br/><ul><li><code>Applied Learning</code></li><li><code>Care &amp; Hunger</code></li><li><code>Health &amp; Sports</code></li><li><code>History &amp; Civics</code></li><li><code>Literacy &amp; Language</code></li><li><code>Math &amp; Science</code></li><li><code>Music &amp; The Arts</code></li><li><code>Special Needs</code></li><li><code>Warmth</code></li></ul><br/> **Examples:** <br/><ul><li><code>Music &amp; The Arts</code></li><li><code>Literacy &amp; Language, Math &amp; Science</code></li>  \n",
    "  **`school_state`** | State where school is located ([Two-letter U.S. postal code](https://en.wikipedia.org/wiki/List_of_U.S._state_abbreviations#Postal_codes)). **Example:** `WY`\n",
    "**`project_subject_subcategories`** | One or more (comma-separated) subject subcategories for the project. **Examples:** <br/><ul><li><code>Literacy</code></li><li><code>Literature &amp; Writing, Social Sciences</code></li></ul> \n",
    "**`project_resource_summary`** | An explanation of the resources needed for the project. **Example:** <br/><ul><li><code>My students need hands on literacy materials to manage sensory needs!</code</li></ul> \n",
    "**`project_essay_1`**    | First application essay<sup>*</sup>  \n",
    "**`project_essay_2`**    | Second application essay<sup>*</sup> \n",
    "**`project_essay_3`**    | Third application essay<sup>*</sup> \n",
    "**`project_essay_4`**    | Fourth application essay<sup>*</sup> \n",
    "**`project_submitted_datetime`** | Datetime when project application was submitted. **Example:** `2016-04-28 12:43:56.245`   \n",
    "**`teacher_id`** | A unique identifier for the teacher of the proposed project. **Example:** `bdf8baa8fedef6bfeec7ae4ff1c15c56`  \n",
    "**`teacher_prefix`** | Teacher's title. One of the following enumerated values: <br/><ul><li><code>nan</code></li><li><code>Dr.</code></li><li><code>Mr.</code></li><li><code>Mrs.</code></li><li><code>Ms.</code></li><li><code>Teacher.</code></li></ul>  \n",
    "**`teacher_number_of_previously_posted_projects`** | Number of project applications previously submitted by the same teacher. **Example:** `2` \n",
    "\n",
    "<sup>*</sup> See the section <b>Notes on the Essay Data</b> for more details about these features.\n",
    "\n",
    "Additionally, the `resources.csv` data set provides more data about the resources required for each project. Each line in this file represents a resource required by a project:\n",
    "\n",
    "Feature | Description \n",
    "----------|---------------\n",
    "**`id`** | A `project_id` value from the `train.csv` file.  **Example:** `p036502`   \n",
    "**`description`** | Desciption of the resource. **Example:** `Tenor Saxophone Reeds, Box of 25`   \n",
    "**`quantity`** | Quantity of the resource required. **Example:** `3`   \n",
    "**`price`** | Price of the resource required. **Example:** `9.95`   \n",
    "\n",
    "**Note:** Many projects require multiple resources. The `id` value corresponds to a `project_id` in train.csv, so you use it as a key to retrieve all resources needed for a project:\n",
    "\n",
    "The data set contains the following label (the value you will attempt to predict):\n",
    "\n",
    "Label | Description\n",
    "----------|---------------\n",
    "`project_is_approved` | A binary flag indicating whether DonorsChoose approved the project. A value of `0` indicates the project was not approved, and a value of `1` indicates the project was approved."
   ]
  },
  {
   "cell_type": "markdown",
   "metadata": {
    "colab_type": "text",
    "id": "uxakXcmGN1Lj"
   },
   "source": [
    "### Notes on the Essay Data\n",
    "\n",
    "<ul>\n",
    "Prior to May 17, 2016, the prompts for the essays were as follows:\n",
    "<li>__project_essay_1:__ \"Introduce us to your classroom\"</li>\n",
    "<li>__project_essay_2:__ \"Tell us more about your students\"</li>\n",
    "<li>__project_essay_3:__ \"Describe how your students will use the materials you're requesting\"</li>\n",
    "<li>__project_essay_3:__ \"Close by sharing why your project will make a difference\"</li>\n",
    "</ul>\n",
    "\n",
    "\n",
    "<ul>\n",
    "Starting on May 17, 2016, the number of essays was reduced from 4 to 2, and the prompts for the first 2 essays were changed to the following:<br>\n",
    "<li>__project_essay_1:__ \"Describe your students: What makes your students special? Specific details about their background, your neighborhood, and your school are all helpful.\"</li>\n",
    "<li>__project_essay_2:__ \"About your project: How will these materials make a difference in your students' learning and improve their school lives?\"</li>\n",
    "<br>For all projects with project_submitted_datetime of 2016-05-17 and later, the values of project_essay_3 and project_essay_4 will be NaN.\n",
    "</ul>\n"
   ]
  },
  {
   "cell_type": "code",
   "execution_count": 6,
   "metadata": {
    "colab": {},
    "colab_type": "code",
    "id": "Ac3XhloUN1Ll",
    "outputId": "85b85465-2d9f-4fc0-980a-b36834b07c96"
   },
   "outputs": [
    {
     "name": "stderr",
     "output_type": "stream",
     "text": [
      "IOPub data rate exceeded.\n",
      "The notebook server will temporarily stop sending output\n",
      "to the client in order to avoid crashing it.\n",
      "To change this limit, set the config variable\n",
      "`--NotebookApp.iopub_data_rate_limit`.\n"
     ]
    }
   ],
   "source": [
    "%matplotlib inline\n",
    "import warnings\n",
    "warnings.filterwarnings(\"ignore\")\n",
    "\n",
    "import sqlite3\n",
    "import pandas as pd\n",
    "import numpy as np\n",
    "import nltk\n",
    "import string\n",
    "import matplotlib.pyplot as plt\n",
    "import seaborn as sns\n",
    "from sklearn.feature_extraction.text import TfidfTransformer\n",
    "from sklearn.feature_extraction.text import TfidfVectorizer\n",
    "\n",
    "from sklearn.feature_extraction.text import CountVectorizer\n",
    "from sklearn.metrics import confusion_matrix\n",
    "from sklearn import metrics\n",
    "from sklearn.metrics import roc_curve, auc\n",
    "from nltk.stem.porter import PorterStemmer\n",
    "\n",
    "import re\n",
    "# Tutorial about Python regular expressions: https://pymotw.com/2/re/\n",
    "import string\n",
    "from nltk.corpus import stopwords\n",
    "from nltk.stem import PorterStemmer\n",
    "from nltk.stem.wordnet import WordNetLemmatizer\n",
    "\n",
    "from gensim.models import Word2Vec\n",
    "from gensim.models import KeyedVectors\n",
    "import pickle\n",
    "\n",
    "from tqdm import tqdm\n",
    "import os\n",
    "\n",
    "from plotly import plotly\n",
    "import plotly.offline as offline\n",
    "import plotly.graph_objs as go\n",
    "offline.init_notebook_mode()\n",
    "from collections import Counter"
   ]
  },
  {
   "cell_type": "markdown",
   "metadata": {
    "colab_type": "text",
    "id": "So4PAGWPN1Lv"
   },
   "source": [
    "## 1.1 Reading Data"
   ]
  },
  {
   "cell_type": "code",
   "execution_count": 7,
   "metadata": {
    "colab": {},
    "colab_type": "code",
    "collapsed": true,
    "id": "kV1VkghZN1Lw"
   },
   "outputs": [],
   "source": [
    "project_data = pd.read_csv('train_data.csv')\n",
    "resource_data = pd.read_csv('resources.csv')"
   ]
  },
  {
   "cell_type": "code",
   "execution_count": 8,
   "metadata": {
    "colab": {},
    "colab_type": "code",
    "id": "2XZKpv2zN1L0",
    "outputId": "8f6e9329-73c0-46a1-dcd3-cfbb1ebae005"
   },
   "outputs": [
    {
     "name": "stdout",
     "output_type": "stream",
     "text": [
      "Number of data points in train data (32414, 17)\n",
      "--------------------------------------------------\n",
      "The attributes of data : ['Unnamed: 0' 'id' 'teacher_id' 'teacher_prefix' 'school_state'\n",
      " 'project_submitted_datetime' 'project_grade_category'\n",
      " 'project_subject_categories' 'project_subject_subcategories'\n",
      " 'project_title' 'project_essay_1' 'project_essay_2' 'project_essay_3'\n",
      " 'project_essay_4' 'project_resource_summary'\n",
      " 'teacher_number_of_previously_posted_projects' 'project_is_approved']\n"
     ]
    }
   ],
   "source": [
    "print(\"Number of data points in train data\", project_data.shape)\n",
    "print('-'*50)\n",
    "print(\"The attributes of data :\", project_data.columns.values)"
   ]
  },
  {
   "cell_type": "code",
   "execution_count": 9,
   "metadata": {
    "colab": {},
    "colab_type": "code",
    "id": "56EW1wdvN1L5",
    "outputId": "bb0af8a7-834e-42ea-afcb-492b1e14d4df"
   },
   "outputs": [
    {
     "name": "stdout",
     "output_type": "stream",
     "text": [
      "Number of data points in train data (32414, 4)\n",
      "['id' 'description' 'quantity' 'price']\n"
     ]
    },
    {
     "data": {
      "text/html": [
       "<div>\n",
       "<style>\n",
       "    .dataframe thead tr:only-child th {\n",
       "        text-align: right;\n",
       "    }\n",
       "\n",
       "    .dataframe thead th {\n",
       "        text-align: left;\n",
       "    }\n",
       "\n",
       "    .dataframe tbody tr th {\n",
       "        vertical-align: top;\n",
       "    }\n",
       "</style>\n",
       "<table border=\"1\" class=\"dataframe\">\n",
       "  <thead>\n",
       "    <tr style=\"text-align: right;\">\n",
       "      <th></th>\n",
       "      <th>id</th>\n",
       "      <th>description</th>\n",
       "      <th>quantity</th>\n",
       "      <th>price</th>\n",
       "    </tr>\n",
       "  </thead>\n",
       "  <tbody>\n",
       "    <tr>\n",
       "      <th>0</th>\n",
       "      <td>p253737</td>\n",
       "      <td>LC652 - Lakeshore Double-Space Mobile Drying Rack</td>\n",
       "      <td>1</td>\n",
       "      <td>149.00</td>\n",
       "    </tr>\n",
       "    <tr>\n",
       "      <th>1</th>\n",
       "      <td>p258326</td>\n",
       "      <td>Bouncy Bands for Desks (Blue support pipes)</td>\n",
       "      <td>3</td>\n",
       "      <td>14.95</td>\n",
       "    </tr>\n",
       "  </tbody>\n",
       "</table>\n",
       "</div>"
      ],
      "text/plain": [
       "        id                                        description  quantity  \\\n",
       "0  p253737  LC652 - Lakeshore Double-Space Mobile Drying Rack         1   \n",
       "1  p258326        Bouncy Bands for Desks (Blue support pipes)         3   \n",
       "\n",
       "    price  \n",
       "0  149.00  \n",
       "1   14.95  "
      ]
     },
     "execution_count": 9,
     "metadata": {},
     "output_type": "execute_result"
    }
   ],
   "source": [
    "print(\"Number of data points in train data\", resource_data.shape)\n",
    "print(resource_data.columns.values)\n",
    "resource_data.head(2)"
   ]
  },
  {
   "cell_type": "markdown",
   "metadata": {
    "colab_type": "text",
    "id": "49t2H2HwN1L8"
   },
   "source": [
    "## 1.2 preprocessing of `project_subject_categories`"
   ]
  },
  {
   "cell_type": "code",
   "execution_count": 10,
   "metadata": {
    "colab": {},
    "colab_type": "code",
    "collapsed": true,
    "id": "RMx6975eN1L-"
   },
   "outputs": [],
   "source": [
    "catogories = list(project_data['project_subject_categories'].values)\n",
    "# remove special characters from list of strings python: https://stackoverflow.com/a/47301924/4084039\n",
    "\n",
    "# https://www.geeksforgeeks.org/removing-stop-words-nltk-python/\n",
    "# https://stackoverflow.com/questions/23669024/how-to-strip-a-specific-word-from-a-string\n",
    "# https://stackoverflow.com/questions/8270092/remove-all-whitespace-in-a-string-in-python\n",
    "cat_list = []\n",
    "for i in catogories:\n",
    "    temp = \"\"\n",
    "    # consider we have text like this \"Math & Science, Warmth, Care & Hunger\"\n",
    "    for j in i.split(','): # it will split it in three parts [\"Math & Science\", \"Warmth\", \"Care & Hunger\"]\n",
    "        if 'The' in j.split(): # this will split each of the catogory based on space \"Math & Science\"=> \"Math\",\"&\", \"Science\"\n",
    "            j=j.replace('The','') # if we have the words \"The\" we are going to replace it with ''(i.e removing 'The')\n",
    "        j = j.replace(' ','') # we are placeing all the ' '(space) with ''(empty) ex:\"Math & Science\"=>\"Math&Science\"\n",
    "        temp+=j.strip()+\" \" #\" abc \".strip() will return \"abc\", remove the trailing spaces\n",
    "        temp = temp.replace('&','_') # we are replacing the & value into \n",
    "    cat_list.append(temp.strip())\n",
    "    \n",
    "project_data['clean_categories'] = cat_list\n",
    "project_data.drop(['project_subject_categories'], axis=1, inplace=True)\n",
    "\n",
    "from collections import Counter\n",
    "my_counter = Counter()\n",
    "for word in project_data['clean_categories'].values:\n",
    "    my_counter.update(word.split())\n",
    "\n",
    "cat_dict = dict(my_counter)\n",
    "sorted_cat_dict = dict(sorted(cat_dict.items(), key=lambda kv: kv[1]))\n"
   ]
  },
  {
   "cell_type": "markdown",
   "metadata": {
    "colab_type": "text",
    "id": "hIRe9h-PN1MB"
   },
   "source": [
    "## 1.3 preprocessing of `project_subject_subcategories`"
   ]
  },
  {
   "cell_type": "code",
   "execution_count": 11,
   "metadata": {
    "colab": {},
    "colab_type": "code",
    "collapsed": true,
    "id": "KH655NiTN1MD"
   },
   "outputs": [],
   "source": [
    "sub_catogories = list(project_data['project_subject_subcategories'].values)\n",
    "# remove special characters from list of strings python: https://stackoverflow.com/a/47301924/4084039\n",
    "\n",
    "# https://www.geeksforgeeks.org/removing-stop-words-nltk-python/\n",
    "# https://stackoverflow.com/questions/23669024/how-to-strip-a-specific-word-from-a-string\n",
    "# https://stackoverflow.com/questions/8270092/remove-all-whitespace-in-a-string-in-python\n",
    "\n",
    "sub_cat_list = []\n",
    "for i in sub_catogories:\n",
    "    temp = \"\"\n",
    "    # consider we have text like this \"Math & Science, Warmth, Care & Hunger\"\n",
    "    for j in i.split(','): # it will split it in three parts [\"Math & Science\", \"Warmth\", \"Care & Hunger\"]\n",
    "        if 'The' in j.split(): # this will split each of the catogory based on space \"Math & Science\"=> \"Math\",\"&\", \"Science\"\n",
    "            j=j.replace('The','') # if we have the words \"The\" we are going to replace it with ''(i.e removing 'The')\n",
    "        j = j.replace(' ','') # we are placeing all the ' '(space) with ''(empty) ex:\"Math & Science\"=>\"Math&Science\"\n",
    "        temp +=j.strip()+\" \"#\" abc \".strip() will return \"abc\", remove the trailing spaces\n",
    "        temp = temp.replace('&','_')\n",
    "    sub_cat_list.append(temp.strip())\n",
    "\n",
    "project_data['clean_subcategories'] = sub_cat_list\n",
    "project_data.drop(['project_subject_subcategories'], axis=1, inplace=True)\n",
    "\n",
    "# count of all the words in corpus python: https://stackoverflow.com/a/22898595/4084039\n",
    "my_counter = Counter()\n",
    "for word in project_data['clean_subcategories'].values:\n",
    "    my_counter.update(word.split())\n",
    "    \n",
    "sub_cat_dict = dict(my_counter)\n",
    "sorted_sub_cat_dict = dict(sorted(sub_cat_dict.items(), key=lambda kv: kv[1]))"
   ]
  },
  {
   "cell_type": "markdown",
   "metadata": {
    "colab_type": "text",
    "id": "EftBxw8MN1MG"
   },
   "source": [
    "## 1.3 Text preprocessing"
   ]
  },
  {
   "cell_type": "code",
   "execution_count": 12,
   "metadata": {
    "colab": {},
    "colab_type": "code",
    "collapsed": true,
    "id": "Ak4yp4twN1MH"
   },
   "outputs": [],
   "source": [
    "# merge two column text dataframe: \n",
    "project_data[\"essay\"] = project_data[\"project_essay_1\"].map(str) +\\\n",
    "                        project_data[\"project_essay_2\"].map(str) + \\\n",
    "                        project_data[\"project_essay_3\"].map(str) + \\\n",
    "                        project_data[\"project_essay_4\"].map(str)"
   ]
  },
  {
   "cell_type": "code",
   "execution_count": 13,
   "metadata": {
    "colab": {},
    "colab_type": "code",
    "id": "q6ST72vNN1MK",
    "outputId": "4ecd7ed3-86c5-48b9-9f4d-2ba8be3237c3"
   },
   "outputs": [
    {
     "data": {
      "text/html": [
       "<div>\n",
       "<style>\n",
       "    .dataframe thead tr:only-child th {\n",
       "        text-align: right;\n",
       "    }\n",
       "\n",
       "    .dataframe thead th {\n",
       "        text-align: left;\n",
       "    }\n",
       "\n",
       "    .dataframe tbody tr th {\n",
       "        vertical-align: top;\n",
       "    }\n",
       "</style>\n",
       "<table border=\"1\" class=\"dataframe\">\n",
       "  <thead>\n",
       "    <tr style=\"text-align: right;\">\n",
       "      <th></th>\n",
       "      <th>Unnamed: 0</th>\n",
       "      <th>id</th>\n",
       "      <th>teacher_id</th>\n",
       "      <th>teacher_prefix</th>\n",
       "      <th>school_state</th>\n",
       "      <th>project_submitted_datetime</th>\n",
       "      <th>project_grade_category</th>\n",
       "      <th>project_title</th>\n",
       "      <th>project_essay_1</th>\n",
       "      <th>project_essay_2</th>\n",
       "      <th>project_essay_3</th>\n",
       "      <th>project_essay_4</th>\n",
       "      <th>project_resource_summary</th>\n",
       "      <th>teacher_number_of_previously_posted_projects</th>\n",
       "      <th>project_is_approved</th>\n",
       "      <th>clean_categories</th>\n",
       "      <th>clean_subcategories</th>\n",
       "      <th>essay</th>\n",
       "    </tr>\n",
       "  </thead>\n",
       "  <tbody>\n",
       "    <tr>\n",
       "      <th>0</th>\n",
       "      <td>160221</td>\n",
       "      <td>p253737</td>\n",
       "      <td>c90749f5d961ff158d4b4d1e7dc665fc</td>\n",
       "      <td>Mrs.</td>\n",
       "      <td>IN</td>\n",
       "      <td>05-12-2016 13:43</td>\n",
       "      <td>Grades PreK-2</td>\n",
       "      <td>Educational Support for English Learners at Home</td>\n",
       "      <td>My students are English learners that are work...</td>\n",
       "      <td>\\\"The limits of your language are the limits o...</td>\n",
       "      <td>NaN</td>\n",
       "      <td>NaN</td>\n",
       "      <td>My students need opportunities to practice beg...</td>\n",
       "      <td>0</td>\n",
       "      <td>0</td>\n",
       "      <td>Literacy_Language</td>\n",
       "      <td>ESL Literacy</td>\n",
       "      <td>My students are English learners that are work...</td>\n",
       "    </tr>\n",
       "    <tr>\n",
       "      <th>1</th>\n",
       "      <td>140945</td>\n",
       "      <td>p258326</td>\n",
       "      <td>897464ce9ddc600bced1151f324dd63a</td>\n",
       "      <td>Mr.</td>\n",
       "      <td>FL</td>\n",
       "      <td>25-10-2016 09:22</td>\n",
       "      <td>Grades 6-8</td>\n",
       "      <td>Wanted: Projector for Hungry Learners</td>\n",
       "      <td>Our students arrive to our school eager to lea...</td>\n",
       "      <td>The projector we need for our school is very c...</td>\n",
       "      <td>NaN</td>\n",
       "      <td>NaN</td>\n",
       "      <td>My students need a projector to help with view...</td>\n",
       "      <td>7</td>\n",
       "      <td>1</td>\n",
       "      <td>History_Civics Health_Sports</td>\n",
       "      <td>Civics_Government TeamSports</td>\n",
       "      <td>Our students arrive to our school eager to lea...</td>\n",
       "    </tr>\n",
       "  </tbody>\n",
       "</table>\n",
       "</div>"
      ],
      "text/plain": [
       "   Unnamed: 0       id                        teacher_id teacher_prefix  \\\n",
       "0      160221  p253737  c90749f5d961ff158d4b4d1e7dc665fc           Mrs.   \n",
       "1      140945  p258326  897464ce9ddc600bced1151f324dd63a            Mr.   \n",
       "\n",
       "  school_state project_submitted_datetime project_grade_category  \\\n",
       "0           IN           05-12-2016 13:43          Grades PreK-2   \n",
       "1           FL           25-10-2016 09:22             Grades 6-8   \n",
       "\n",
       "                                      project_title  \\\n",
       "0  Educational Support for English Learners at Home   \n",
       "1             Wanted: Projector for Hungry Learners   \n",
       "\n",
       "                                     project_essay_1  \\\n",
       "0  My students are English learners that are work...   \n",
       "1  Our students arrive to our school eager to lea...   \n",
       "\n",
       "                                     project_essay_2 project_essay_3  \\\n",
       "0  \\\"The limits of your language are the limits o...             NaN   \n",
       "1  The projector we need for our school is very c...             NaN   \n",
       "\n",
       "  project_essay_4                           project_resource_summary  \\\n",
       "0             NaN  My students need opportunities to practice beg...   \n",
       "1             NaN  My students need a projector to help with view...   \n",
       "\n",
       "   teacher_number_of_previously_posted_projects  project_is_approved  \\\n",
       "0                                             0                    0   \n",
       "1                                             7                    1   \n",
       "\n",
       "               clean_categories           clean_subcategories  \\\n",
       "0             Literacy_Language                  ESL Literacy   \n",
       "1  History_Civics Health_Sports  Civics_Government TeamSports   \n",
       "\n",
       "                                               essay  \n",
       "0  My students are English learners that are work...  \n",
       "1  Our students arrive to our school eager to lea...  "
      ]
     },
     "execution_count": 13,
     "metadata": {},
     "output_type": "execute_result"
    }
   ],
   "source": [
    "project_data.head(2)"
   ]
  },
  {
   "cell_type": "code",
   "execution_count": 14,
   "metadata": {
    "colab": {},
    "colab_type": "code",
    "collapsed": true,
    "id": "N3wBpH8dN1MP"
   },
   "outputs": [],
   "source": [
    "#### 1.4.2.3 Using Pretrained Models: TFIDF weighted W2V"
   ]
  },
  {
   "cell_type": "code",
   "execution_count": 15,
   "metadata": {
    "colab": {},
    "colab_type": "code",
    "id": "3e3HbKghN1MS",
    "outputId": "705fc20a-f98d-48f1-bc54-8a333b01c034"
   },
   "outputs": [
    {
     "name": "stdout",
     "output_type": "stream",
     "text": [
      "My students are English learners that are working on English as their second or third languages. We are a melting pot of refugees, immigrants, and native-born Americans bringing the gift of language to our school. \\r\\n\\r\\n We have over 24 languages represented in our English Learner program with students at every level of mastery.  We also have over 40 countries represented with the families within our school.  Each student brings a wealth of knowledge and experiences to us that open our eyes to new cultures, beliefs, and respect.\\\"The limits of your language are the limits of your world.\\\"-Ludwig Wittgenstein  Our English learner's have a strong support system at home that begs for more resources.  Many times our parents are learning to read and speak English along side of their children.  Sometimes this creates barriers for parents to be able to help their child learn phonetics, letter recognition, and other reading skills.\\r\\n\\r\\nBy providing these dvd's and players, students are able to continue their mastery of the English language even if no one at home is able to assist.  All families with students within the Level 1 proficiency status, will be a offered to be a part of this program.  These educational videos will be specially chosen by the English Learner Teacher and will be sent home regularly to watch.  The videos are to help the child develop early reading skills.\\r\\n\\r\\nParents that do not have access to a dvd player will have the opportunity to check out a dvd player to use for the year.  The plan is to use these videos and educational dvd's for the years to come for other EL students.\\r\\nnannan\n",
      "==================================================\n",
      "The 51 fifth grade students that will cycle through my classroom this year all love learning, at least most of the time. At our school, 97.3% of the students receive free or reduced price lunch. Of the 560 students, 97.3% are minority students. \\r\\nThe school has a vibrant community that loves to get together and celebrate. Around Halloween there is a whole school parade to show off the beautiful costumes that students wear. On Cinco de Mayo we put on a big festival with crafts made by the students, dances, and games. At the end of the year the school hosts a carnival to celebrate the hard work put in during the school year, with a dunk tank being the most popular activity.My students will use these five brightly colored Hokki stools in place of regular, stationary, 4-legged chairs. As I will only have a total of ten in the classroom and not enough for each student to have an individual one, they will be used in a variety of ways. During independent reading time they will be used as special chairs students will each use on occasion. I will utilize them in place of chairs at my small group tables during math and reading times. The rest of the day they will be used by the students who need the highest amount of movement in their life in order to stay focused on school.\\r\\n\\r\\nWhenever asked what the classroom is missing, my students always say more Hokki Stools. They can't get their fill of the 5 stools we already have. When the students are sitting in group with me on the Hokki Stools, they are always moving, but at the same time doing their work. Anytime the students get to pick where they can sit, the Hokki Stools are the first to be taken. There are always students who head over to the kidney table to get one of the stools who are disappointed as there are not enough of them. \\r\\n\\r\\nWe ask a lot of students to sit for 7 hours a day. The Hokki stools will be a compromise that allow my students to do desk work and move at the same time. These stools will help students to meet their 60 minutes a day of movement by allowing them to activate their core muscles for balance while they sit. For many of my students, these chairs will take away the barrier that exists in schools for a child who can't sit still.nannan\n",
      "==================================================\n",
      "How do you remember your days of school? Was it in a sterile environment with plain walls, rows of desks, and a teacher in front of the room? A typical day in our room is nothing like that. I work hard to create a warm inviting themed room for my students look forward to coming to each day.\\r\\n\\r\\nMy class is made up of 28 wonderfully unique boys and girls of mixed races in Arkansas.\\r\\nThey attend a Title I school, which means there is a high enough percentage of free and reduced-price lunch to qualify. Our school is an \\\"open classroom\\\" concept, which is very unique as there are no walls separating the classrooms. These 9 and 10 year-old students are very eager learners; they are like sponges, absorbing all the information and experiences and keep on wanting more.With these resources such as the comfy red throw pillows and the whimsical nautical hanging decor and the blue fish nets, I will be able to help create the mood in our classroom setting to be one of a themed nautical environment. Creating a classroom environment is very important in the success in each and every child's education. The nautical photo props will be used with each child as they step foot into our classroom for the first time on Meet the Teacher evening. I'll take pictures of each child with them, have them developed, and then hung in our classroom ready for their first day of 4th grade.  This kind gesture will set the tone before even the first day of school! The nautical thank you cards will be used throughout the year by the students as they create thank you cards to their team groups.\\r\\n\\r\\nYour generous donations will help me to help make our classroom a fun, inviting, learning environment from day one.\\r\\n\\r\\nIt costs lost of money out of my own pocket on resources to get our classroom ready. Please consider helping with this project to make our new school year a very successful one. Thank you!nannan\n"
     ]
    }
   ],
   "source": [
    "# printing some random reviews\n",
    "print(project_data['essay'].values[0])\n",
    "print(\"=\"*50)\n",
    "print(project_data['essay'].values[150])\n",
    "print(\"=\"*50)\n",
    "print(project_data['essay'].values[1000])\n"
   ]
  },
  {
   "cell_type": "code",
   "execution_count": 16,
   "metadata": {
    "colab": {},
    "colab_type": "code",
    "collapsed": true,
    "id": "1nYsCeFCN1MW"
   },
   "outputs": [],
   "source": [
    "# https://stackoverflow.com/a/47091490/4084039\n",
    "import re\n",
    "\n",
    "def decontracted(phrase):\n",
    "    # specific\n",
    "    phrase = re.sub(r\"won't\", \"will not\", phrase)\n",
    "    phrase = re.sub(r\"can\\'t\", \"can not\", phrase)\n",
    "\n",
    "    # general\n",
    "    phrase = re.sub(r\"n\\'t\", \" not\", phrase)\n",
    "    phrase = re.sub(r\"\\'re\", \" are\", phrase)\n",
    "    phrase = re.sub(r\"\\'s\", \" is\", phrase)\n",
    "    phrase = re.sub(r\"\\'d\", \" would\", phrase)\n",
    "    phrase = re.sub(r\"\\'ll\", \" will\", phrase)\n",
    "    phrase = re.sub(r\"\\'t\", \" not\", phrase)\n",
    "    phrase = re.sub(r\"\\'ve\", \" have\", phrase)\n",
    "    phrase = re.sub(r\"\\'m\", \" am\", phrase)\n",
    "    return phrase"
   ]
  },
  {
   "cell_type": "code",
   "execution_count": 17,
   "metadata": {
    "colab": {},
    "colab_type": "code",
    "id": "qIr2zr3mN1MZ",
    "outputId": "504b60cc-a606-483d-dfd2-443cc3a1cc76"
   },
   "outputs": [
    {
     "name": "stdout",
     "output_type": "stream",
     "text": [
      "My kindergarten students have varied disabilities ranging from speech and language delays, cognitive delays, gross/fine motor delays, to autism. They are eager beavers and always strive to work their hardest working past their limitations. \\r\\n\\r\\nThe materials we have are the ones I seek out for my students. I teach in a Title I school where most of the students receive free or reduced price lunch.  Despite their disabilities and limitations, my students love coming to school and come eager to learn and explore.Have you ever felt like you had ants in your pants and you needed to groove and move as you were in a meeting? This is how my kids feel all the time. The want to be able to move as they learn or so they say.Wobble chairs are the answer and I love then because they develop their core, which enhances gross motor and in Turn fine motor skills. \\r\\nThey also want to learn through games, my kids do not want to sit and do worksheets. They want to learn to count by jumping and playing. Physical engagement is the key to our success. The number toss and color and shape mats can make that happen. My students will forget they are doing work and just have the fun a 6 year old deserves.nannan\n",
      "==================================================\n"
     ]
    }
   ],
   "source": [
    "sent = decontracted(project_data['essay'].values[20000])\n",
    "print(sent)\n",
    "print(\"=\"*50)"
   ]
  },
  {
   "cell_type": "code",
   "execution_count": 18,
   "metadata": {
    "colab": {},
    "colab_type": "code",
    "id": "QybPh11vN1Md",
    "outputId": "2c4c7225-d387-4d5c-b9dc-130a88536392"
   },
   "outputs": [
    {
     "name": "stdout",
     "output_type": "stream",
     "text": [
      "My kindergarten students have varied disabilities ranging from speech and language delays, cognitive delays, gross/fine motor delays, to autism. They are eager beavers and always strive to work their hardest working past their limitations.     The materials we have are the ones I seek out for my students. I teach in a Title I school where most of the students receive free or reduced price lunch.  Despite their disabilities and limitations, my students love coming to school and come eager to learn and explore.Have you ever felt like you had ants in your pants and you needed to groove and move as you were in a meeting? This is how my kids feel all the time. The want to be able to move as they learn or so they say.Wobble chairs are the answer and I love then because they develop their core, which enhances gross motor and in Turn fine motor skills.   They also want to learn through games, my kids do not want to sit and do worksheets. They want to learn to count by jumping and playing. Physical engagement is the key to our success. The number toss and color and shape mats can make that happen. My students will forget they are doing work and just have the fun a 6 year old deserves.nannan\n"
     ]
    }
   ],
   "source": [
    "# \\r \\n \\t remove from string python: http://texthandler.com/info/remove-line-breaks-python/\n",
    "sent = sent.replace('\\\\r', ' ')\n",
    "sent = sent.replace('\\\\\"', ' ')\n",
    "sent = sent.replace('\\\\n', ' ')\n",
    "print(sent)"
   ]
  },
  {
   "cell_type": "code",
   "execution_count": 19,
   "metadata": {
    "colab": {},
    "colab_type": "code",
    "id": "irL9f3wBN1Mj",
    "outputId": "355ba527-c3b1-40dd-de66-1df4094f264f"
   },
   "outputs": [
    {
     "name": "stdout",
     "output_type": "stream",
     "text": [
      "My kindergarten students have varied disabilities ranging from speech and language delays cognitive delays gross fine motor delays to autism They are eager beavers and always strive to work their hardest working past their limitations The materials we have are the ones I seek out for my students I teach in a Title I school where most of the students receive free or reduced price lunch Despite their disabilities and limitations my students love coming to school and come eager to learn and explore Have you ever felt like you had ants in your pants and you needed to groove and move as you were in a meeting This is how my kids feel all the time The want to be able to move as they learn or so they say Wobble chairs are the answer and I love then because they develop their core which enhances gross motor and in Turn fine motor skills They also want to learn through games my kids do not want to sit and do worksheets They want to learn to count by jumping and playing Physical engagement is the key to our success The number toss and color and shape mats can make that happen My students will forget they are doing work and just have the fun a 6 year old deserves nannan\n"
     ]
    }
   ],
   "source": [
    "#remove spacial character: https://stackoverflow.com/a/5843547/4084039\n",
    "sent = re.sub('[^A-Za-z0-9]+', ' ', sent)\n",
    "print(sent)"
   ]
  },
  {
   "cell_type": "code",
   "execution_count": 20,
   "metadata": {
    "colab": {},
    "colab_type": "code",
    "collapsed": true,
    "id": "mOBm8phKN1Mp"
   },
   "outputs": [],
   "source": [
    "# https://gist.github.com/sebleier/554280\n",
    "# we are removing the words from the stop words list: 'no', 'nor', 'not'\n",
    "stopwords= ['i', 'me', 'my', 'myself', 'we', 'our', 'ours', 'ourselves', 'you', \"you're\", \"you've\",\\\n",
    "            \"you'll\", \"you'd\", 'your', 'yours', 'yourself', 'yourselves', 'he', 'him', 'his', 'himself', \\\n",
    "            'she', \"she's\", 'her', 'hers', 'herself', 'it', \"it's\", 'its', 'itself', 'they', 'them', 'their',\\\n",
    "            'theirs', 'themselves', 'what', 'which', 'who', 'whom', 'this', 'that', \"that'll\", 'these', 'those', \\\n",
    "            'am', 'is', 'are', 'was', 'were', 'be', 'been', 'being', 'have', 'has', 'had', 'having', 'do', 'does', \\\n",
    "            'did', 'doing', 'a', 'an', 'the', 'and', 'but', 'if', 'or', 'because', 'as', 'until', 'while', 'of', \\\n",
    "            'at', 'by', 'for', 'with', 'about', 'against', 'between', 'into', 'through', 'during', 'before', 'after',\\\n",
    "            'above', 'below', 'to', 'from', 'up', 'down', 'in', 'out', 'on', 'off', 'over', 'under', 'again', 'further',\\\n",
    "            'then', 'once', 'here', 'there', 'when', 'where', 'why', 'how', 'all', 'any', 'both', 'each', 'few', 'more',\\\n",
    "            'most', 'other', 'some', 'such', 'only', 'own', 'same', 'so', 'than', 'too', 'very', \\\n",
    "            's', 't', 'can', 'will', 'just', 'don', \"don't\", 'should', \"should've\", 'now', 'd', 'll', 'm', 'o', 're', \\\n",
    "            've', 'y', 'ain', 'aren', \"aren't\", 'couldn', \"couldn't\", 'didn', \"didn't\", 'doesn', \"doesn't\", 'hadn',\\\n",
    "            \"hadn't\", 'hasn', \"hasn't\", 'haven', \"haven't\", 'isn', \"isn't\", 'ma', 'mightn', \"mightn't\", 'mustn',\\\n",
    "            \"mustn't\", 'needn', \"needn't\", 'shan', \"shan't\", 'shouldn', \"shouldn't\", 'wasn', \"wasn't\", 'weren', \"weren't\", \\\n",
    "            'won', \"won't\", 'wouldn', \"wouldn't\"]"
   ]
  },
  {
   "cell_type": "code",
   "execution_count": 21,
   "metadata": {
    "colab": {},
    "colab_type": "code",
    "id": "ttJf1f7ON1Mt",
    "outputId": "6437b980-d16d-4f92-c591-9f751a575ecc"
   },
   "outputs": [
    {
     "name": "stderr",
     "output_type": "stream",
     "text": [
      "100%|███████████████████████████████████████████████████████████████████████████| 32414/32414 [00:34<00:00, 940.15it/s]\n"
     ]
    }
   ],
   "source": [
    "# Combining all the above stundents \n",
    "from tqdm import tqdm\n",
    "preprocessed_essays = []\n",
    "# tqdm is for printing the status bar\n",
    "for sentance in tqdm(project_data['essay'].values):\n",
    "    sent = decontracted(sentance)\n",
    "    sent = sent.replace('\\\\r', ' ')\n",
    "    sent = sent.replace('\\\\\"', ' ')\n",
    "    sent = sent.replace('\\\\n', ' ')\n",
    "    sent = re.sub('[^A-Za-z0-9]+', ' ', sent)\n",
    "    # https://gist.github.com/sebleier/554280\n",
    "    sent = ' '.join(e for e in sent.split() if e not in stopwords)\n",
    "    preprocessed_essays.append(sent.lower().strip())"
   ]
  },
  {
   "cell_type": "code",
   "execution_count": 22,
   "metadata": {
    "colab": {},
    "colab_type": "code",
    "id": "sEdZTzI5N1Mx",
    "outputId": "38cf15fb-c78b-4be1-c442-e785be4809d0"
   },
   "outputs": [
    {
     "data": {
      "text/plain": [
       "'my kindergarten students varied disabilities ranging speech language delays cognitive delays gross fine motor delays autism they eager beavers always strive work hardest working past limitations the materials ones i seek students i teach title i school students receive free reduced price lunch despite disabilities limitations students love coming school come eager learn explore have ever felt like ants pants needed groove move meeting this kids feel time the want able move learn say wobble chairs answer i love develop core enhances gross motor turn fine motor skills they also want learn games kids not want sit worksheets they want learn count jumping playing physical engagement key success the number toss color shape mats make happen my students forget work fun 6 year old deserves nannan'"
      ]
     },
     "execution_count": 22,
     "metadata": {},
     "output_type": "execute_result"
    }
   ],
   "source": [
    "# after preprocesing\n",
    "preprocessed_essays[20000]"
   ]
  },
  {
   "cell_type": "markdown",
   "metadata": {
    "colab_type": "text",
    "id": "4AFlP-F-N1M0"
   },
   "source": [
    "<h2><font color='red'> 1.4 Preprocessing of `project_title`</font></h2>"
   ]
  },
  {
   "cell_type": "code",
   "execution_count": 23,
   "metadata": {
    "colab": {},
    "colab_type": "code",
    "id": "FCdq9z5FN1M1"
   },
   "outputs": [
    {
     "name": "stdout",
     "output_type": "stream",
     "text": [
      "Educational Support for English Learners at Home\n",
      "==================================================\n",
      "Wanted: Projector for Hungry Learners\n",
      "==================================================\n",
      "Soccer Equipment for AWESOME Middle School Students\n",
      "==================================================\n",
      "Techie Kindergarteners\n",
      "==================================================\n",
      "Interactive Math Tools\n",
      "==================================================\n",
      "Flexible Seating for Mrs. Jarvis' Terrific Third Graders!!\n",
      "==================================================\n",
      "Chromebooks for Special Education Reading Program\n",
      "==================================================\n",
      "It's the 21st Century\n",
      "==================================================\n",
      "Targeting More Success in Class\n",
      "==================================================\n",
      "Just For the Love of Reading--\\r\\nPure Pleasure\n",
      "==================================================\n",
      "Reading Changes Lives\n",
      "==================================================\n",
      "Elevating Academics and Parent Rapports Through Technology\n",
      "==================================================\n",
      "Building Life Science Experiences\n",
      "==================================================\n",
      "Everyone deserves to be heard!\n",
      "==================================================\n",
      "TABLETS CAN SHOW US THE WORLD\n",
      "==================================================\n",
      "Making Recess Active\n",
      "==================================================\n",
      "Making Great LEAP's With Leapfrog!\n",
      "==================================================\n",
      "Technology Teaches Tomorrow's Talents Today\n",
      "==================================================\n",
      "Test Time\n",
      "==================================================\n",
      "Wiggling Our Way to Success\n",
      "==================================================\n",
      "Magic Carpet Ride in Our Library\n",
      "==================================================\n"
     ]
    }
   ],
   "source": [
    "# printing some project titles.\n",
    "for i in range (0,21):\n",
    "    \n",
    "    print(project_data['project_title'].values[i])\n",
    "    print(\"=\"*50)"
   ]
  },
  {
   "cell_type": "code",
   "execution_count": 24,
   "metadata": {},
   "outputs": [
    {
     "name": "stderr",
     "output_type": "stream",
     "text": [
      "100%|█████████████████████████████████████████████████████████████████████████| 32414/32414 [00:02<00:00, 14616.25it/s]\n"
     ]
    }
   ],
   "source": [
    "preprocessed_titles = []\n",
    "\n",
    "for dataset in tqdm(project_data['project_title'].values):\n",
    "    data = decontracted(dataset)  # Replacing some specific and general short form into proper word/stopword.\n",
    "    data = re.sub(r\"it's\", \"it is\", data) # Replacing it's with it is as it is not part of function decontracted\n",
    "    data = data.replace('\\\\r', ' ') # Replacing \\r with space\n",
    "    data = data.replace('\\\\\"', ' ') # Replacing \\ with space\n",
    "    data = data.replace('\\\\n', ' ') # Replacing \\n with space\n",
    "    data = re.sub('[^A-Za-z0-9]+', ' ', data) # Replacing special characters with space\n",
    "    data = re.sub(\"\\S*\\d\\S*\", \"\", data).strip() # Trimming numbers containing digits\n",
    "    \n",
    "    data = ' '.join(e for e in data.split() if e not in stopwords) # Removing stopwords \n",
    "    preprocessed_titles.append(data.lower().strip()) # Creating array in all the lower cases. "
   ]
  },
  {
   "cell_type": "code",
   "execution_count": 25,
   "metadata": {},
   "outputs": [
    {
     "name": "stdout",
     "output_type": "stream",
     "text": [
      "educational support english learners home\n",
      "==================================================\n",
      "wanted projector hungry learners\n",
      "==================================================\n",
      "soccer equipment awesome middle school students\n",
      "==================================================\n",
      "techie kindergarteners\n",
      "==================================================\n",
      "interactive math tools\n",
      "==================================================\n",
      "flexible seating mrs jarvis terrific third graders\n",
      "==================================================\n",
      "chromebooks special education reading program\n",
      "==================================================\n",
      "it century\n",
      "==================================================\n",
      "targeting more success class\n",
      "==================================================\n",
      "just for love reading pure pleasure\n",
      "==================================================\n",
      "reading changes lives\n",
      "==================================================\n",
      "elevating academics parent rapports through technology\n",
      "==================================================\n",
      "building life science experiences\n",
      "==================================================\n",
      "everyone deserves heard\n",
      "==================================================\n",
      "tablets can show us the world\n",
      "==================================================\n",
      "making recess active\n",
      "==================================================\n",
      "making great leap with leapfrog\n",
      "==================================================\n",
      "technology teaches tomorrow talents today\n",
      "==================================================\n",
      "test time\n",
      "==================================================\n",
      "wiggling our way success\n",
      "==================================================\n",
      "magic carpet ride our library\n",
      "==================================================\n"
     ]
    }
   ],
   "source": [
    "for i in range (0,21):\n",
    "    print(preprocessed_titles[i])\n",
    "    print(\"=\"*50)"
   ]
  },
  {
   "cell_type": "markdown",
   "metadata": {
    "colab_type": "text",
    "id": "js2WD9bON1M5"
   },
   "source": [
    "## 1.5 Preparing data for models"
   ]
  },
  {
   "cell_type": "code",
   "execution_count": 26,
   "metadata": {
    "colab": {},
    "colab_type": "code",
    "id": "Kh3xw4fpN1M6",
    "outputId": "0cac8eb3-350f-457b-e139-6340672f06f3"
   },
   "outputs": [
    {
     "data": {
      "text/plain": [
       "Index(['Unnamed: 0', 'id', 'teacher_id', 'teacher_prefix', 'school_state',\n",
       "       'project_submitted_datetime', 'project_grade_category', 'project_title',\n",
       "       'project_essay_1', 'project_essay_2', 'project_essay_3',\n",
       "       'project_essay_4', 'project_resource_summary',\n",
       "       'teacher_number_of_previously_posted_projects', 'project_is_approved',\n",
       "       'clean_categories', 'clean_subcategories', 'essay'],\n",
       "      dtype='object')"
      ]
     },
     "execution_count": 26,
     "metadata": {},
     "output_type": "execute_result"
    }
   ],
   "source": [
    "project_data.columns"
   ]
  },
  {
   "cell_type": "markdown",
   "metadata": {
    "colab_type": "text",
    "id": "tLfdQa8hN1M9"
   },
   "source": [
    "we are going to consider\n",
    "\n",
    "       - school_state : categorical data\n",
    "       - clean_categories : categorical data\n",
    "       - clean_subcategories : categorical data\n",
    "       - project_grade_category : categorical data\n",
    "       - teacher_prefix : categorical data\n",
    "       \n",
    "       - project_title : text data\n",
    "       - text : text data\n",
    "       - project_resource_summary: text data (optinal)\n",
    "       \n",
    "       - quantity : numerical (optinal)\n",
    "       - teacher_number_of_previously_posted_projects : numerical\n",
    "       - price : numerical"
   ]
  },
  {
   "cell_type": "markdown",
   "metadata": {
    "colab_type": "text",
    "id": "hrCuADG4N1M-"
   },
   "source": [
    "### 1.5.1 Vectorizing Categorical data"
   ]
  },
  {
   "cell_type": "markdown",
   "metadata": {
    "colab_type": "text",
    "id": "wUA_GEXlN1M_"
   },
   "source": [
    "- https://www.appliedaicourse.com/course/applied-ai-course-online/lessons/handling-categorical-and-numerical-features/"
   ]
  },
  {
   "cell_type": "code",
   "execution_count": 27,
   "metadata": {
    "colab": {},
    "colab_type": "code",
    "id": "eY50GwZUN1NA",
    "outputId": "65a5a2ec-b1aa-4f04-d7e9-2284e95ba915"
   },
   "outputs": [
    {
     "name": "stdout",
     "output_type": "stream",
     "text": [
      "['Warmth', 'Care_Hunger', 'History_Civics', 'Music_Arts', 'AppliedLearning', 'SpecialNeeds', 'Health_Sports', 'Math_Science', 'Literacy_Language']\n",
      "Shape of matrix after one hot encodig  (32414, 9)\n"
     ]
    }
   ],
   "source": [
    "# we use count vectorizer to convert the values into one \n",
    "from sklearn.feature_extraction.text import CountVectorizer\n",
    "vectorizer = CountVectorizer(vocabulary=list(sorted_cat_dict.keys()), lowercase=False, binary=True)\n",
    "categories_one_hot = vectorizer.fit_transform(project_data['clean_categories'].values)\n",
    "print(vectorizer.get_feature_names())\n",
    "print(\"Shape of matrix after one hot encodig \",categories_one_hot.shape)"
   ]
  },
  {
   "cell_type": "code",
   "execution_count": 28,
   "metadata": {
    "colab": {},
    "colab_type": "code",
    "id": "Fdupn5O9N1NE",
    "outputId": "3b176822-d4c3-4051-d45b-689b1681d57d"
   },
   "outputs": [
    {
     "name": "stdout",
     "output_type": "stream",
     "text": [
      "['Economics', 'CommunityService', 'FinancialLiteracy', 'ParentInvolvement', 'Extracurricular', 'Civics_Government', 'ForeignLanguages', 'NutritionEducation', 'Warmth', 'Care_Hunger', 'SocialSciences', 'PerformingArts', 'CharacterEducation', 'TeamSports', 'Other', 'College_CareerPrep', 'Music', 'History_Geography', 'Health_LifeScience', 'EarlyDevelopment', 'ESL', 'Gym_Fitness', 'EnvironmentalScience', 'VisualArts', 'Health_Wellness', 'AppliedSciences', 'SpecialNeeds', 'Literature_Writing', 'Mathematics', 'Literacy']\n",
      "Shape of matrix after one hot encodig  (32414, 30)\n"
     ]
    }
   ],
   "source": [
    "# we use count vectorizer to convert the values into one \n",
    "vectorizer = CountVectorizer(vocabulary=list(sorted_sub_cat_dict.keys()), lowercase=False, binary=True)\n",
    "sub_categories_one_hot = vectorizer.fit_transform(project_data['clean_subcategories'].values)\n",
    "print(vectorizer.get_feature_names())\n",
    "print(\"Shape of matrix after one hot encodig \",sub_categories_one_hot.shape)"
   ]
  },
  {
   "cell_type": "code",
   "execution_count": 29,
   "metadata": {
    "colab": {},
    "colab_type": "code",
    "id": "4oBdEQ8zN1NI"
   },
   "outputs": [
    {
     "name": "stdout",
     "output_type": "stream",
     "text": [
      "['AK', 'AL', 'AR', 'AZ', 'CA', 'CO', 'CT', 'DC', 'DE', 'FL', 'GA', 'HI', 'IA', 'ID', 'IL', 'IN', 'KS', 'KY', 'LA', 'MA', 'MD', 'ME', 'MI', 'MN', 'MO', 'MS', 'MT', 'NC', 'ND', 'NE', 'NH', 'NJ', 'NM', 'NV', 'NY', 'OH', 'OK', 'OR', 'PA', 'RI', 'SC', 'SD', 'TN', 'TX', 'UT', 'VA', 'VT', 'WA', 'WI', 'WV', 'WY']\n",
      "Shape of matrix after one hot encodig  (32414, 51)\n",
      "the type of count vectorizer  <class 'scipy.sparse.csr.csr_matrix'>\n"
     ]
    }
   ],
   "source": [
    "school_state_vectorizer = CountVectorizer(lowercase=False, binary=True)\n",
    "school_state_vectorizer.fit(project_data['school_state'].values)\n",
    "print(school_state_vectorizer.get_feature_names())\n",
    "\n",
    "school_state_one_hot = school_state_vectorizer.transform(project_data['school_state'].values)\n",
    "print(\"Shape of matrix after one hot encodig \",school_state_one_hot.shape)\n",
    "print(\"the type of count vectorizer \",type(school_state_one_hot))"
   ]
  },
  {
   "cell_type": "code",
   "execution_count": 30,
   "metadata": {},
   "outputs": [
    {
     "name": "stdout",
     "output_type": "stream",
     "text": [
      "['Mr', 'Mrs', 'Ms', 'No_Prefix', 'Teacher']\n",
      "Shape of matrix after one hot encodig  (32414, 5)\n"
     ]
    }
   ],
   "source": [
    "# https://www.geeksforgeeks.org/python-pandas-dataframe-fillna-to-replace-null-values-in-dataframe/\n",
    "project_data[\"teacher_prefix\"].fillna(\"No_Prefix\", inplace = True)\n",
    "    \n",
    "teacher_prefix_vectorizer = CountVectorizer(lowercase=False, binary=True)\n",
    "teacher_prefix_vectorizer.fit(project_data['teacher_prefix'].values)\n",
    "print(teacher_prefix_vectorizer.get_feature_names())\n",
    "\n",
    "teacher_prefix_one_hot = teacher_prefix_vectorizer.transform(project_data['teacher_prefix'].values)\n",
    "print(\"Shape of matrix after one hot encodig \",teacher_prefix_one_hot.shape)"
   ]
  },
  {
   "cell_type": "code",
   "execution_count": 31,
   "metadata": {},
   "outputs": [
    {
     "name": "stdout",
     "output_type": "stream",
     "text": [
      "['Grades~9-12', 'Grades~6-8', 'Grades~3-5', 'Grades~PreK-2']\n",
      "Shape of matrix after one hot encodig  (32414, 4)\n"
     ]
    }
   ],
   "source": [
    "my_grade_counter = Counter()\n",
    "\n",
    "for project_grade in project_data['project_grade_category'].values:\n",
    "    \n",
    "    if (' ' in project_grade):\n",
    "        \n",
    "        project_grade = project_grade.replace(\" \", \"~\")\n",
    "        \n",
    "        \n",
    "    my_grade_counter.update(project_grade.split())\n",
    "    \n",
    "    \n",
    "project_grade_cat_dict = dict(my_grade_counter)\n",
    "sorted_project_grade_cat_dict = dict(sorted(project_grade_cat_dict.items(), key=lambda kv: kv[1]))\n",
    "    \n",
    "grade_cat_vectorizer = CountVectorizer(vocabulary=list(sorted_project_grade_cat_dict.keys()), lowercase=False, binary=True)\n",
    "grade_cat_vectorizer.fit(project_data['project_grade_category'].values)\n",
    "print(grade_cat_vectorizer.get_feature_names())\n",
    "\n",
    "grade_cat_one_hot = grade_cat_vectorizer.transform(project_data['project_grade_category'].values)\n",
    "print(\"Shape of matrix after one hot encodig \",grade_cat_one_hot.shape)"
   ]
  },
  {
   "cell_type": "markdown",
   "metadata": {
    "colab_type": "text",
    "id": "WHKUWpSlN1NL"
   },
   "source": [
    "### 1.5.2 Vectorizing Text data"
   ]
  },
  {
   "cell_type": "markdown",
   "metadata": {
    "colab_type": "text",
    "id": "-U5bh83MN1NM"
   },
   "source": [
    "#### 1.5.2.1 Bag of words"
   ]
  },
  {
   "cell_type": "code",
   "execution_count": 32,
   "metadata": {
    "colab": {},
    "colab_type": "code",
    "id": "_xatgAMoN1NN",
    "outputId": "9e194aff-4b92-424b-bf51-df8c9ce9e284"
   },
   "outputs": [
    {
     "name": "stdout",
     "output_type": "stream",
     "text": [
      "Shape of matrix after one hot encodig  (32414, 10299)\n"
     ]
    }
   ],
   "source": [
    "# We are considering only the words which appeared in at least 10 documents(rows or projects).\n",
    "vectorizer = CountVectorizer(min_df=10)\n",
    "text_bow = vectorizer.fit_transform(preprocessed_essays)\n",
    "print(\"Shape of matrix after one hot encodig \",text_bow.shape)"
   ]
  },
  {
   "cell_type": "code",
   "execution_count": 33,
   "metadata": {
    "colab": {},
    "colab_type": "code",
    "id": "HrheNuEzN1NQ"
   },
   "outputs": [
    {
     "name": "stdout",
     "output_type": "stream",
     "text": [
      "some sample features(unique words in the corpus) ['abc', 'about', 'academic', 'access', 'accessible', 'accessing', 'accessories', 'achieve', 'achievement', 'achieving']\n",
      "Shape of matrix after one hot encodig  (32414, 1601)\n",
      "the type of count vectorizer  <class 'scipy.sparse.csr.csr_matrix'>\n",
      "the number of unique words  1601\n"
     ]
    }
   ],
   "source": [
    "titles_vectorizer = CountVectorizer(min_df=10)\n",
    "titles_bow = titles_vectorizer.fit_transform(preprocessed_titles)\n",
    "print(\"some sample features(unique words in the corpus)\",titles_vectorizer.get_feature_names()[0:10])\n",
    "print(\"Shape of matrix after one hot encodig \",titles_bow.shape)\n",
    "print(\"the type of count vectorizer \",type(titles_bow))\n",
    "print(\"the number of unique words \", titles_bow.get_shape()[1])"
   ]
  },
  {
   "cell_type": "markdown",
   "metadata": {
    "colab_type": "text",
    "id": "_ht9enK1N1NT"
   },
   "source": [
    "#### 1.5.2.2 TFIDF vectorizer"
   ]
  },
  {
   "cell_type": "code",
   "execution_count": 34,
   "metadata": {
    "colab": {},
    "colab_type": "code",
    "id": "4I72CR54N1NU",
    "outputId": "c5321392-123e-4a57-bdef-01fd8069f4a2"
   },
   "outputs": [
    {
     "name": "stdout",
     "output_type": "stream",
     "text": [
      "Shape of matrix after one hot encodig  (32414, 10299)\n"
     ]
    }
   ],
   "source": [
    "from sklearn.feature_extraction.text import TfidfVectorizer\n",
    "vectorizer = TfidfVectorizer(min_df=10)\n",
    "text_tfidf = vectorizer.fit_transform(preprocessed_essays)\n",
    "print(\"Shape of matrix after one hot encodig \",text_tfidf.shape)"
   ]
  },
  {
   "cell_type": "markdown",
   "metadata": {
    "colab_type": "text",
    "id": "sYQKSZ_tN1NX"
   },
   "source": [
    "#### 1.5.2.3 Using Pretrained Models: Avg W2V"
   ]
  },
  {
   "cell_type": "code",
   "execution_count": 35,
   "metadata": {
    "colab": {},
    "colab_type": "code",
    "id": "2QbTHzg9N1NX",
    "outputId": "7aeb9d45-a954-4762-d81d-fcfd37a08405"
   },
   "outputs": [
    {
     "data": {
      "text/plain": [
       "'\\n# Reading glove vectors in python: https://stackoverflow.com/a/38230349/4084039\\ndef loadGloveModel(gloveFile):\\n    print (\"Loading Glove Model\")\\n    f = open(gloveFile,\\'r\\', encoding=\"utf8\")\\n    model = {}\\n    for line in tqdm(f):\\n        splitLine = line.split()\\n        word = splitLine[0]\\n        embedding = np.array([float(val) for val in splitLine[1:]])\\n        model[word] = embedding\\n    print (\"Done.\",len(model),\" words loaded!\")\\n    return model\\nmodel = loadGloveModel(\\'glove.42B.300d.txt\\')\\n\\n# ============================\\nOutput:\\n    \\nLoading Glove Model\\n1917495it [06:32, 4879.69it/s]\\nDone. 1917495  words loaded!\\n\\n# ============================\\n\\nwords = []\\nfor i in preproced_texts:\\n    words.extend(i.split(\\' \\'))\\n\\nfor i in preproced_titles:\\n    words.extend(i.split(\\' \\'))\\nprint(\"all the words in the coupus\", len(words))\\nwords = set(words)\\nprint(\"the unique words in the coupus\", len(words))\\n\\ninter_words = set(model.keys()).intersection(words)\\nprint(\"The number of words that are present in both glove vectors and our coupus\",       len(inter_words),\"(\",np.round(len(inter_words)/len(words)*100,3),\"%)\")\\n\\nwords_courpus = {}\\nwords_glove = set(model.keys())\\nfor i in words:\\n    if i in words_glove:\\n        words_courpus[i] = model[i]\\nprint(\"word 2 vec length\", len(words_courpus))\\n\\n\\n# stronging variables into pickle files python: http://www.jessicayung.com/how-to-use-pickle-to-save-and-load-variables-in-python/\\n\\nimport pickle\\nwith open(\\'glove_vectors\\', \\'wb\\') as f:\\n    pickle.dump(words_courpus, f)\\n\\n\\n'"
      ]
     },
     "execution_count": 35,
     "metadata": {},
     "output_type": "execute_result"
    }
   ],
   "source": [
    "'''\n",
    "# Reading glove vectors in python: https://stackoverflow.com/a/38230349/4084039\n",
    "def loadGloveModel(gloveFile):\n",
    "    print (\"Loading Glove Model\")\n",
    "    f = open(gloveFile,'r', encoding=\"utf8\")\n",
    "    model = {}\n",
    "    for line in tqdm(f):\n",
    "        splitLine = line.split()\n",
    "        word = splitLine[0]\n",
    "        embedding = np.array([float(val) for val in splitLine[1:]])\n",
    "        model[word] = embedding\n",
    "    print (\"Done.\",len(model),\" words loaded!\")\n",
    "    return model\n",
    "model = loadGloveModel('glove.42B.300d.txt')\n",
    "\n",
    "# ============================\n",
    "Output:\n",
    "    \n",
    "Loading Glove Model\n",
    "1917495it [06:32, 4879.69it/s]\n",
    "Done. 1917495  words loaded!\n",
    "\n",
    "# ============================\n",
    "\n",
    "words = []\n",
    "for i in preproced_texts:\n",
    "    words.extend(i.split(' '))\n",
    "\n",
    "for i in preproced_titles:\n",
    "    words.extend(i.split(' '))\n",
    "print(\"all the words in the coupus\", len(words))\n",
    "words = set(words)\n",
    "print(\"the unique words in the coupus\", len(words))\n",
    "\n",
    "inter_words = set(model.keys()).intersection(words)\n",
    "print(\"The number of words that are present in both glove vectors and our coupus\", \\\n",
    "      len(inter_words),\"(\",np.round(len(inter_words)/len(words)*100,3),\"%)\")\n",
    "\n",
    "words_courpus = {}\n",
    "words_glove = set(model.keys())\n",
    "for i in words:\n",
    "    if i in words_glove:\n",
    "        words_courpus[i] = model[i]\n",
    "print(\"word 2 vec length\", len(words_courpus))\n",
    "\n",
    "\n",
    "# stronging variables into pickle files python: http://www.jessicayung.com/how-to-use-pickle-to-save-and-load-variables-in-python/\n",
    "\n",
    "import pickle\n",
    "with open('glove_vectors', 'wb') as f:\n",
    "    pickle.dump(words_courpus, f)\n",
    "\n",
    "\n",
    "'''"
   ]
  },
  {
   "cell_type": "code",
   "execution_count": 36,
   "metadata": {
    "colab": {},
    "colab_type": "code",
    "collapsed": true,
    "id": "7uIqwMarN1Na"
   },
   "outputs": [],
   "source": [
    "# stronging variables into pickle files python: http://www.jessicayung.com/how-to-use-pickle-to-save-and-load-variables-in-python/\n",
    "# make sure you have the glove_vectors file\n",
    "with open('glove_vectors', 'rb') as f:\n",
    "    model = pickle.load(f)\n",
    "    glove_words =  set(model.keys())"
   ]
  },
  {
   "cell_type": "code",
   "execution_count": 37,
   "metadata": {
    "colab": {},
    "colab_type": "code",
    "id": "qPDxxsYHN1Nc",
    "outputId": "08cb3f6d-4b2c-4640-81e4-63a37d78221b",
    "scrolled": true
   },
   "outputs": [
    {
     "name": "stderr",
     "output_type": "stream",
     "text": [
      "100%|██████████████████████████████████████████████████████████████████████████| 32414/32414 [00:18<00:00, 1735.27it/s]\n"
     ]
    },
    {
     "name": "stdout",
     "output_type": "stream",
     "text": [
      "32414\n",
      "300\n"
     ]
    }
   ],
   "source": [
    "# average Word2Vec\n",
    "# compute average word2vec for each review.\n",
    "avg_w2v_vectors = []; # the avg-w2v for each sentence/review is stored in this list\n",
    "for sentence in tqdm(preprocessed_essays): # for each review/sentence\n",
    "    vector = np.zeros(300) # as word vectors are of zero length\n",
    "    cnt_words =0; # num of words with a valid vector in the sentence/review\n",
    "    for word in sentence.split(): # for each word in a review/sentence\n",
    "        if word in glove_words:\n",
    "            vector += model[word]\n",
    "            cnt_words += 1\n",
    "    if cnt_words != 0:\n",
    "        vector /= cnt_words\n",
    "    avg_w2v_vectors.append(vector)\n",
    "\n",
    "print(len(avg_w2v_vectors))\n",
    "print(len(avg_w2v_vectors[0]))"
   ]
  },
  {
   "cell_type": "markdown",
   "metadata": {
    "colab_type": "text",
    "id": "n4vhAHnMN1Nf"
   },
   "source": [
    "#### 1.5.2.3 Using Pretrained Models: TFIDF weighted W2V"
   ]
  },
  {
   "cell_type": "code",
   "execution_count": 38,
   "metadata": {
    "colab": {},
    "colab_type": "code",
    "collapsed": true,
    "id": "n4l_-KCUN1Ng"
   },
   "outputs": [],
   "source": [
    "# S = [\"abc def pqr\", \"def def def abc\", \"pqr pqr def\"]\n",
    "tfidf_model = TfidfVectorizer()\n",
    "tfidf_model.fit(preprocessed_essays)\n",
    "# we are converting a dictionary with word as a key, and the idf as a value\n",
    "dictionary = dict(zip(tfidf_model.get_feature_names(), list(tfidf_model.idf_)))\n",
    "tfidf_words = set(tfidf_model.get_feature_names())"
   ]
  },
  {
   "cell_type": "code",
   "execution_count": 39,
   "metadata": {
    "colab": {},
    "colab_type": "code",
    "id": "bA586zmpN1Nj",
    "outputId": "79203b52-1dd3-43fb-bb5c-2f99b400d4d4",
    "scrolled": true
   },
   "outputs": [
    {
     "name": "stderr",
     "output_type": "stream",
     "text": [
      "100%|███████████████████████████████████████████████████████████████████████████| 32414/32414 [02:27<00:00, 219.76it/s]\n"
     ]
    },
    {
     "name": "stdout",
     "output_type": "stream",
     "text": [
      "32414\n",
      "300\n"
     ]
    }
   ],
   "source": [
    "# average Word2Vec\n",
    "# compute average word2vec for each review.\n",
    "tfidf_w2v_vectors = []; # the avg-w2v for each sentence/review is stored in this list\n",
    "for sentence in tqdm(preprocessed_essays): # for each review/sentence\n",
    "    vector = np.zeros(300) # as word vectors are of zero length\n",
    "    tf_idf_weight =0; # num of words with a valid vector in the sentence/review\n",
    "    for word in sentence.split(): # for each word in a review/sentence\n",
    "        if (word in glove_words) and (word in tfidf_words):\n",
    "            vec = model[word] # getting the vector for each word\n",
    "            # here we are multiplying idf value(dictionary[word]) and the tf value((sentence.count(word)/len(sentence.split())))\n",
    "            tf_idf = dictionary[word]*(sentence.count(word)/len(sentence.split())) # getting the tfidf value for each word\n",
    "            vector += (vec * tf_idf) # calculating tfidf weighted w2v\n",
    "            tf_idf_weight += tf_idf\n",
    "    if tf_idf_weight != 0:\n",
    "        vector /= tf_idf_weight\n",
    "    tfidf_w2v_vectors.append(vector)\n",
    "\n",
    "print(len(tfidf_w2v_vectors))\n",
    "print(len(tfidf_w2v_vectors[0]))"
   ]
  },
  {
   "cell_type": "code",
   "execution_count": 40,
   "metadata": {
    "colab": {},
    "colab_type": "code",
    "id": "TKKYEcr5N1No"
   },
   "outputs": [
    {
     "name": "stdout",
     "output_type": "stream",
     "text": [
      "some sample features(unique words in the corpus) ['across', 'act', 'action', 'active', 'activities', 'activity', 'add', 'adding', 'adventure', 'adventures', 'after']\n",
      "Shape of matrix after one hot encodig  (32414, 1601)\n"
     ]
    }
   ],
   "source": [
    "# TFIDF on project titles\n",
    "titles_tfidf_vectorizer = TfidfVectorizer(min_df=10)\n",
    "titles_tfidf = titles_tfidf_vectorizer.fit_transform(preprocessed_titles)\n",
    "print(\"some sample features(unique words in the corpus)\",titles_tfidf_vectorizer.get_feature_names()[10:21])\n",
    "print(\"Shape of matrix after one hot encodig \",titles_tfidf.shape)"
   ]
  },
  {
   "cell_type": "code",
   "execution_count": 41,
   "metadata": {},
   "outputs": [
    {
     "name": "stderr",
     "output_type": "stream",
     "text": [
      "100%|█████████████████████████████████████████████████████████████████████████| 32414/32414 [00:01<00:00, 31651.95it/s]\n"
     ]
    },
    {
     "name": "stdout",
     "output_type": "stream",
     "text": [
      "32414\n",
      "300\n"
     ]
    }
   ],
   "source": [
    "# AVG W2V on project title\n",
    "avg_w2v_titles_vectors = [];\n",
    "\n",
    "for sentence in tqdm(preprocessed_titles):\n",
    "    \n",
    "    vector_titles = np.zeros(300)\n",
    "    cnt_words_titles = 0;\n",
    "    \n",
    "    for word in sentence.split():\n",
    "        \n",
    "        if word in glove_words:\n",
    "            \n",
    "            vector += model[word]\n",
    "            cnt_words_titles += 1\n",
    "            \n",
    "    if cnt_words_titles != 0:\n",
    "        \n",
    "        vector_titles /= cnt_words_titles\n",
    "        \n",
    "    avg_w2v_titles_vectors.append(vector_titles)\n",
    "\n",
    "print(len(avg_w2v_titles_vectors))\n",
    "print(len(avg_w2v_titles_vectors[0]))"
   ]
  },
  {
   "cell_type": "code",
   "execution_count": 42,
   "metadata": {
    "collapsed": true
   },
   "outputs": [],
   "source": [
    "# TFIDF weighted W2V on project_title\n",
    "titles_tfidf_model = TfidfVectorizer()\n",
    "titles_tfidf_model.fit(preprocessed_titles)\n",
    "titles_dictionary = dict(zip(titles_tfidf_model.get_feature_names(), list(titles_tfidf_model.idf_)))\n",
    "titles_tfidf_words = set(titles_tfidf_model.get_feature_names())\n"
   ]
  },
  {
   "cell_type": "code",
   "execution_count": 43,
   "metadata": {},
   "outputs": [
    {
     "name": "stderr",
     "output_type": "stream",
     "text": [
      "100%|█████████████████████████████████████████████████████████████████████████| 32414/32414 [00:02<00:00, 15288.99it/s]\n"
     ]
    },
    {
     "name": "stdout",
     "output_type": "stream",
     "text": [
      "32414\n",
      "300\n"
     ]
    }
   ],
   "source": [
    "titles_tfidf_w2v_vectors = [];\n",
    "\n",
    "for titles_sentence in tqdm(preprocessed_titles):\n",
    "    \n",
    "    titles_vector = np.zeros(300)\n",
    "    titles_tfidf_weight = 0;\n",
    "    \n",
    "    for word in titles_sentence.split():\n",
    "        \n",
    "        if (word in glove_words) and (word in titles_tfidf_words):\n",
    "            \n",
    "            titles_vec = model[word]\n",
    "            \n",
    "            titles_tf_idf = titles_dictionary[word]*(titles_sentence.count(word)/len(titles_sentence.split())) \n",
    "            titles_vector += (titles_vec * titles_tf_idf)\n",
    "            titles_tfidf_weight += titles_tf_idf\n",
    "            \n",
    "    if titles_tfidf_weight != 0:\n",
    "        \n",
    "        titles_vector /= titles_tfidf_weight\n",
    "        \n",
    "    titles_tfidf_w2v_vectors.append(titles_vector)\n",
    "\n",
    "print(len(titles_tfidf_w2v_vectors))\n",
    "print(len(titles_tfidf_w2v_vectors[0]))"
   ]
  },
  {
   "cell_type": "markdown",
   "metadata": {
    "colab_type": "text",
    "id": "Q3wJWAplN1Ns"
   },
   "source": [
    "### 1.5.3 Vectorizing Numerical features"
   ]
  },
  {
   "cell_type": "code",
   "execution_count": 44,
   "metadata": {
    "colab": {},
    "colab_type": "code",
    "collapsed": true,
    "id": "GavfhROYN1Nt"
   },
   "outputs": [],
   "source": [
    "price_data = resource_data.groupby('id').agg({'price':'sum', 'quantity':'sum'}).reset_index()\n",
    "project_data = pd.merge(project_data, price_data, on='id', how='left')"
   ]
  },
  {
   "cell_type": "code",
   "execution_count": 45,
   "metadata": {
    "colab": {},
    "colab_type": "code",
    "id": "qdNOyR5fN1Ny"
   },
   "outputs": [
    {
     "name": "stdout",
     "output_type": "stream",
     "text": [
      "Mean : 51.22791725797495, Standard deviation : 149.72149781041014\n"
     ]
    }
   ],
   "source": [
    "# check this one: https://www.youtube.com/watch?v=0HOqOcln3Z4&t=530s\n",
    "# standardization sklearn: https://scikit-learn.org/stable/modules/generated/sklearn.preprocessing.StandardScaler.html\n",
    "from sklearn.preprocessing import StandardScaler\n",
    "\n",
    "# price_standardized = standardScalar.fit(project_data['price'].values)\n",
    "# this will rise the error\n",
    "# ValueError: Expected 2D array, got 1D array instead: array=[725.05 213.03 329.   ... 399.   287.73   5.5 ].\n",
    "# Reshape your data either using array.reshape(-1, 1)\n",
    "\n",
    "price_scalar = StandardScaler()\n",
    "price_scalar.fit(project_data['price'].values.reshape(-1,1)) # finding the mean and standard deviation of this data\n",
    "print(f\"Mean : {price_scalar.mean_[0]}, Standard deviation : {np.sqrt(price_scalar.var_[0])}\")\n",
    "\n",
    "# Now standardize the data with above maen and variance.\n",
    "price_standardized = price_scalar.transform(project_data['price'].values.reshape(-1, 1))"
   ]
  },
  {
   "cell_type": "code",
   "execution_count": 46,
   "metadata": {
    "colab": {},
    "colab_type": "code",
    "id": "yGDhSrheN1N0",
    "outputId": "e37a56a0-ce9d-4b33-ff44-d04acd82fa8e"
   },
   "outputs": [
    {
     "data": {
      "text/plain": [
       "array([[ 0.65302635],\n",
       "       [-0.24230266],\n",
       "       [-0.2857166 ],\n",
       "       ..., \n",
       "       [-0.10978996],\n",
       "       [-0.23014676],\n",
       "       [-0.10250978]])"
      ]
     },
     "execution_count": 46,
     "metadata": {},
     "output_type": "execute_result"
    }
   ],
   "source": [
    "price_standardized"
   ]
  },
  {
   "cell_type": "markdown",
   "metadata": {
    "colab_type": "text",
    "id": "Jn3lWK6kN1N2"
   },
   "source": [
    "### 1.5.4 Merging all the above features"
   ]
  },
  {
   "cell_type": "markdown",
   "metadata": {
    "colab_type": "text",
    "id": "-GfHAakkN1N3"
   },
   "source": [
    "- we need to merge all the numerical vectors i.e catogorical, text, numerical vectors"
   ]
  },
  {
   "cell_type": "code",
   "execution_count": 47,
   "metadata": {
    "colab": {},
    "colab_type": "code",
    "id": "zq21Prb9N1N4",
    "outputId": "c2412242-526b-4907-8443-d88108dd0216"
   },
   "outputs": [
    {
     "name": "stdout",
     "output_type": "stream",
     "text": [
      "(32414, 9)\n",
      "(32414, 30)\n",
      "(32414, 10299)\n",
      "(32414, 1)\n"
     ]
    }
   ],
   "source": [
    "print(categories_one_hot.shape)\n",
    "print(sub_categories_one_hot.shape)\n",
    "print(text_bow.shape)\n",
    "print(price_standardized.shape)"
   ]
  },
  {
   "cell_type": "code",
   "execution_count": 49,
   "metadata": {
    "colab": {},
    "colab_type": "code",
    "id": "tDrWglZXN1N8",
    "outputId": "33ce62af-771a-4224-b0c6-4eeb19fc558f"
   },
   "outputs": [
    {
     "data": {
      "text/plain": [
       "(32414, 10339)"
      ]
     },
     "execution_count": 49,
     "metadata": {},
     "output_type": "execute_result"
    }
   ],
   "source": [
    "# merge two sparse matrices: https://stackoverflow.com/a/19710648/4084039\n",
    "from scipy.sparse import hstack\n",
    "# with the same hstack function we are concatinating a sparse matrix and a dense matirx :)\n",
    "X = hstack((categories_one_hot, sub_categories_one_hot, text_bow, price_standardized))\n",
    "X.shape"
   ]
  },
  {
   "cell_type": "markdown",
   "metadata": {
    "colab_type": "text",
    "id": "58YP-aXEN1OB"
   },
   "source": [
    "# Assignment 4: Naive Bayes"
   ]
  },
  {
   "cell_type": "markdown",
   "metadata": {
    "colab_type": "text",
    "id": "cdOrIZk5N1OB"
   },
   "source": [
    "<ol>\n",
    "    <li><strong>Apply Multinomial NaiveBayes on these feature sets</strong>\n",
    "        <ul>\n",
    "            <li><font color='red'>Set 1</font>: categorical, numerical features + project_title(BOW) + preprocessed_eassay (BOW)</li>\n",
    "            <li><font color='red'>Set 2</font>: categorical, numerical features + project_title(TFIDF)+  preprocessed_eassay (TFIDF)</li>\n",
    "        </ul>\n",
    "    </li>\n",
    "    <br>\n",
    "    <li><strong>The hyper paramter tuning(find best Alpha)</strong>\n",
    "        <ul>\n",
    "    <li>Find the best hyper parameter which will give the maximum <a href='https://www.appliedaicourse.com/course/applied-ai-course-online/lessons/receiver-operating-characteristic-curve-roc-curve-and-auc-1/'>AUC</a> value</li>\n",
    "    <li>Consider a wide range of alpha values for hyperparameter tuning, start as low as 0.00001</li>\n",
    "    <li>Find the best hyper paramter using k-fold cross validation or simple cross validation data</li>\n",
    "    <li>Use gridsearch cv or randomsearch cv or you can also write your own for loops to do this task of hyperparameter tuning</li>\n",
    "        </ul>\n",
    "    </li>\n",
    "    <br>\n",
    "    <li><strong>Feature importance</strong>\n",
    "        <ul>\n",
    "    <li>Find the top 10 features of positive class and top 10 features of negative class for both feature sets <font color='red'>Set 1</font> and <font color='red'>Set 2</font> using values of `feature_log_prob_` parameter of  <a href='https://scikit-learn.org/stable/modules/generated/sklearn.naive_bayes.MultinomialNB.html'>MultinomialNB</a> and print their corresponding feature names</li>\n",
    "        </ul>\n",
    "    </li>\n",
    "    <br>\n",
    "    <li><strong>Representation of results</strong>\n",
    "        <ul>\n",
    "    <li>You need to plot the performance of model both on train data and cross validation data for each hyper parameter, like shown in the figure. Here on X-axis you will have alpha values, since they have a wide range, just to represent those alpha values on the graph, apply log function on those alpha values.\n",
    "    <img src='train_cv_auc.JPG' width=300px></li>\n",
    "    <li>Once after you found the best hyper parameter, you need to train your model with it, and find the AUC on test data and plot the ROC curve on both train and test.\n",
    "    <img src='train_test_auc.JPG' width=300px></li>\n",
    "    <li>Along with plotting ROC curve, you need to print the <a href='https://www.appliedaicourse.com/course/applied-ai-course-online/lessons/confusion-matrix-tpr-fpr-fnr-tnr-1/'>confusion matrix</a> with predicted and original labels of test data points. Please visualize your confusion matrices using <a href='https://seaborn.pydata.org/generated/seaborn.heatmap.html'>seaborn heatmaps.\n",
    "    <img src='confusion_matrix.png' width=300px></li>\n",
    "        </ul>\n",
    "    </li>\n",
    "    <br>\n",
    "    <li><strong>Conclusion</strong>\n",
    "        <ul>\n",
    "    <li>You need to summarize the results at the end of the notebook, summarize it in the table format. To print out a table please refer to this prettytable library<a href='http://zetcode.com/python/prettytable/'>  link</a> \n",
    "        <img src='summary.JPG' width=400px>\n",
    "    </li>\n",
    "        </ul>\n",
    "</ol>"
   ]
  },
  {
   "cell_type": "markdown",
   "metadata": {
    "colab_type": "text",
    "id": "dQY4H_DjN1OC"
   },
   "source": [
    "<h1>2. Naive Bayes </h1>"
   ]
  },
  {
   "cell_type": "markdown",
   "metadata": {
    "colab_type": "text",
    "id": "Urn-yYqJN1OE"
   },
   "source": [
    "<h2>2.1 Splitting data into Train and cross validation(or test): Stratified Sampling</h2>"
   ]
  },
  {
   "cell_type": "code",
   "execution_count": 50,
   "metadata": {
    "colab": {},
    "colab_type": "code",
    "id": "C-53q_BlN1OF"
   },
   "outputs": [
    {
     "data": {
      "text/html": [
       "<div>\n",
       "<style>\n",
       "    .dataframe thead tr:only-child th {\n",
       "        text-align: right;\n",
       "    }\n",
       "\n",
       "    .dataframe thead th {\n",
       "        text-align: left;\n",
       "    }\n",
       "\n",
       "    .dataframe tbody tr th {\n",
       "        vertical-align: top;\n",
       "    }\n",
       "</style>\n",
       "<table border=\"1\" class=\"dataframe\">\n",
       "  <thead>\n",
       "    <tr style=\"text-align: right;\">\n",
       "      <th></th>\n",
       "      <th>Unnamed: 0</th>\n",
       "      <th>id</th>\n",
       "      <th>teacher_id</th>\n",
       "      <th>teacher_prefix</th>\n",
       "      <th>school_state</th>\n",
       "      <th>project_submitted_datetime</th>\n",
       "      <th>project_grade_category</th>\n",
       "      <th>project_title</th>\n",
       "      <th>project_essay_1</th>\n",
       "      <th>project_essay_2</th>\n",
       "      <th>project_essay_3</th>\n",
       "      <th>project_essay_4</th>\n",
       "      <th>project_resource_summary</th>\n",
       "      <th>teacher_number_of_previously_posted_projects</th>\n",
       "      <th>clean_categories</th>\n",
       "      <th>clean_subcategories</th>\n",
       "      <th>essay</th>\n",
       "      <th>price</th>\n",
       "      <th>quantity</th>\n",
       "    </tr>\n",
       "  </thead>\n",
       "  <tbody>\n",
       "    <tr>\n",
       "      <th>0</th>\n",
       "      <td>160221</td>\n",
       "      <td>p253737</td>\n",
       "      <td>c90749f5d961ff158d4b4d1e7dc665fc</td>\n",
       "      <td>Mrs.</td>\n",
       "      <td>IN</td>\n",
       "      <td>05-12-2016 13:43</td>\n",
       "      <td>Grades PreK-2</td>\n",
       "      <td>Educational Support for English Learners at Home</td>\n",
       "      <td>My students are English learners that are work...</td>\n",
       "      <td>\\\"The limits of your language are the limits o...</td>\n",
       "      <td>NaN</td>\n",
       "      <td>NaN</td>\n",
       "      <td>My students need opportunities to practice beg...</td>\n",
       "      <td>0</td>\n",
       "      <td>Literacy_Language</td>\n",
       "      <td>ESL Literacy</td>\n",
       "      <td>My students are English learners that are work...</td>\n",
       "      <td>149.0</td>\n",
       "      <td>1</td>\n",
       "    </tr>\n",
       "  </tbody>\n",
       "</table>\n",
       "</div>"
      ],
      "text/plain": [
       "   Unnamed: 0       id                        teacher_id teacher_prefix  \\\n",
       "0      160221  p253737  c90749f5d961ff158d4b4d1e7dc665fc           Mrs.   \n",
       "\n",
       "  school_state project_submitted_datetime project_grade_category  \\\n",
       "0           IN           05-12-2016 13:43          Grades PreK-2   \n",
       "\n",
       "                                      project_title  \\\n",
       "0  Educational Support for English Learners at Home   \n",
       "\n",
       "                                     project_essay_1  \\\n",
       "0  My students are English learners that are work...   \n",
       "\n",
       "                                     project_essay_2 project_essay_3  \\\n",
       "0  \\\"The limits of your language are the limits o...             NaN   \n",
       "\n",
       "  project_essay_4                           project_resource_summary  \\\n",
       "0             NaN  My students need opportunities to practice beg...   \n",
       "\n",
       "   teacher_number_of_previously_posted_projects   clean_categories  \\\n",
       "0                                             0  Literacy_Language   \n",
       "\n",
       "  clean_subcategories                                              essay  \\\n",
       "0        ESL Literacy  My students are English learners that are work...   \n",
       "\n",
       "   price  quantity  \n",
       "0  149.0         1  "
      ]
     },
     "execution_count": 50,
     "metadata": {},
     "output_type": "execute_result"
    }
   ],
   "source": [
    "approved_project = project_data['project_is_approved'].values\n",
    "project_data.drop(['project_is_approved'], axis=1, inplace=True)\n",
    "project_data.head(1)"
   ]
  },
  {
   "cell_type": "code",
   "execution_count": 51,
   "metadata": {
    "collapsed": true
   },
   "outputs": [],
   "source": [
    "# Data splitting\n",
    "\n",
    "from sklearn.model_selection import train_test_split\n",
    "\n",
    "# Splitting in train and test\n",
    "X_train, X_test, y_train, y_test = train_test_split(project_data, approved_project, test_size=0.33, stratify=approved_project)\n",
    "\n",
    "# Splitting in Train Test and Cross Validation\n",
    "X_train, X_cv, y_train, y_cv = train_test_split(X_train, y_train, test_size=0.33, stratify=y_train)\n"
   ]
  },
  {
   "cell_type": "markdown",
   "metadata": {
    "colab_type": "text",
    "id": "vivFObi8N1OH"
   },
   "source": [
    "<h2>2.2 Make Data Model Ready: encoding numerical, categorical features</h2>"
   ]
  },
  {
   "cell_type": "code",
   "execution_count": 52,
   "metadata": {
    "colab": {},
    "colab_type": "code",
    "id": "EC_beXpAN1OI"
   },
   "outputs": [
    {
     "name": "stdout",
     "output_type": "stream",
     "text": [
      "Shape of train matrix after one hot encodig  (14550, 9)\n",
      "Shape of test matrix after one hot encodig  (10697, 9)\n",
      "Shape of cv matrix after one hot encodig  (7167, 9)\n"
     ]
    }
   ],
   "source": [
    "# Vectorizing Categories on Train, Test and CV data\n",
    "from sklearn.feature_extraction.text import CountVectorizer\n",
    "\n",
    "vectorizer = CountVectorizer(vocabulary=list(sorted_cat_dict.keys()), lowercase=False, binary=True)\n",
    "\n",
    "# Fit only to train data\n",
    "vectorizer.fit(X_train['clean_categories'].values)\n",
    "\n",
    "# Transform to train,test and CV data\n",
    "X_Train_categories_one_hot = vectorizer.transform(X_train['clean_categories'].values)\n",
    "X_Test_categories_one_hot = vectorizer.transform(X_test['clean_categories'].values)\n",
    "X_CV_categories_one_hot = vectorizer.transform(X_cv['clean_categories'].values)\n",
    "\n",
    "print(\"Shape of train matrix after one hot encodig \",X_Train_categories_one_hot.shape)\n",
    "print(\"Shape of test matrix after one hot encodig \",X_Test_categories_one_hot.shape)\n",
    "print(\"Shape of cv matrix after one hot encodig \",X_CV_categories_one_hot.shape)"
   ]
  },
  {
   "cell_type": "code",
   "execution_count": 53,
   "metadata": {},
   "outputs": [
    {
     "name": "stdout",
     "output_type": "stream",
     "text": [
      "Shape of train matrix after one hot encodig  (14550, 30)\n",
      "Shape of test matrix after one hot encodig  (10697, 30)\n",
      "Shape of cv matrix after one hot encodig  (7167, 30)\n"
     ]
    }
   ],
   "source": [
    "# Vectorizing subcategories on train, test and cv\n",
    "\n",
    "vectorizer = CountVectorizer(vocabulary=list(sorted_sub_cat_dict.keys()), lowercase=False, binary=True)\n",
    "vectorizer.fit(X_train['clean_subcategories'].values)\n",
    "\n",
    "X_Train_sub_categories_one_hot = vectorizer.transform(X_train['clean_subcategories'].values)\n",
    "X_Test_sub_categories_one_hot = vectorizer.transform(X_test['clean_subcategories'].values)\n",
    "X_CV_sub_categories_one_hot = vectorizer.transform(X_cv['clean_subcategories'].values)\n",
    "\n",
    "print(\"Shape of train matrix after one hot encodig \",X_Train_sub_categories_one_hot.shape)\n",
    "print(\"Shape of test matrix after one hot encodig \",X_Test_sub_categories_one_hot.shape)\n",
    "print(\"Shape of cv matrix after one hot encodig \",X_CV_sub_categories_one_hot.shape)"
   ]
  },
  {
   "cell_type": "code",
   "execution_count": 54,
   "metadata": {},
   "outputs": [
    {
     "name": "stdout",
     "output_type": "stream",
     "text": [
      "['AK', 'AL', 'AR', 'AZ', 'CA', 'CO', 'CT', 'DC', 'DE', 'FL', 'GA', 'HI', 'IA', 'ID', 'IL', 'IN', 'KS', 'KY', 'LA', 'MA', 'MD', 'ME', 'MI', 'MN', 'MO', 'MS', 'MT', 'NC', 'ND', 'NE', 'NH', 'NJ', 'NM', 'NV', 'NY', 'OH', 'OK', 'OR', 'PA', 'RI', 'SC', 'SD', 'TN', 'TX', 'UT', 'VA', 'VT', 'WA', 'WI', 'WV', 'WY']\n",
      "Shape of train matrix after one hot encodig  (14550, 51)\n",
      "Shape of test matrix after one hot encodig  (10697, 51)\n",
      "Shape of cv matrix after one hot encodig  (7167, 51)\n",
      "the type of count vectorizer  <class 'scipy.sparse.csr.csr_matrix'>\n",
      "the type of count vectorizer  <class 'scipy.sparse.csr.csr_matrix'>\n",
      "the type of count vectorizer  <class 'scipy.sparse.csr.csr_matrix'>\n"
     ]
    }
   ],
   "source": [
    "# Vectorizing school state on train , test and cv\n",
    "\n",
    "school_state_vectorizer = CountVectorizer(lowercase=False, binary=True)\n",
    "\n",
    "school_state_vectorizer.fit(X_train['school_state'].values)\n",
    "print(school_state_vectorizer.get_feature_names())\n",
    "\n",
    "X_Train_school_state_one_hot = school_state_vectorizer.transform(X_train['school_state'].values)\n",
    "X_Test_school_state_one_hot = school_state_vectorizer.transform(X_test['school_state'].values)\n",
    "X_CV_school_state_one_hot = school_state_vectorizer.transform(X_cv['school_state'].values)\n",
    "\n",
    "print(\"Shape of train matrix after one hot encodig \",X_Train_school_state_one_hot.shape)\n",
    "print(\"Shape of test matrix after one hot encodig \",X_Test_school_state_one_hot.shape)\n",
    "print(\"Shape of cv matrix after one hot encodig \",X_CV_school_state_one_hot.shape)\n",
    "\n",
    "print(\"the type of count vectorizer \",type(X_Train_school_state_one_hot))\n",
    "print(\"the type of count vectorizer \",type(X_Test_school_state_one_hot))\n",
    "print(\"the type of count vectorizer \",type(X_CV_school_state_one_hot))"
   ]
  },
  {
   "cell_type": "code",
   "execution_count": 55,
   "metadata": {},
   "outputs": [
    {
     "name": "stdout",
     "output_type": "stream",
     "text": [
      "['Mr', 'Mrs', 'Ms', 'No_Prefix', 'Teacher']\n",
      "Shape of train matrix after one hot encodig  (14550, 5)\n",
      "Shape of test matrix after one hot encodig  (10697, 5)\n",
      "Shape of cv matrix after one hot encodig  (7167, 5)\n"
     ]
    }
   ],
   "source": [
    "# Vectorizing teacher prefix on train , test and cv\n",
    "\n",
    "project_data[\"teacher_prefix\"].fillna(\"No_Prefix\", inplace = True)\n",
    "    \n",
    "teacher_prefix_vectorizer = CountVectorizer(lowercase=False, binary=True)\n",
    "teacher_prefix_vectorizer.fit(X_train['teacher_prefix'].values)\n",
    "\n",
    "print(teacher_prefix_vectorizer.get_feature_names())\n",
    "\n",
    "X_Train_teacher_prefix_one_hot = teacher_prefix_vectorizer.transform(X_train['teacher_prefix'].values)\n",
    "X_Test_teacher_prefix_one_hot = teacher_prefix_vectorizer.transform(X_test['teacher_prefix'].values)\n",
    "X_CV_teacher_prefix_one_hot = teacher_prefix_vectorizer.transform(X_cv['teacher_prefix'].values)\n",
    "\n",
    "print(\"Shape of train matrix after one hot encodig \",X_Train_teacher_prefix_one_hot.shape)\n",
    "print(\"Shape of test matrix after one hot encodig \",X_Test_teacher_prefix_one_hot.shape)\n",
    "print(\"Shape of cv matrix after one hot encodig \",X_CV_teacher_prefix_one_hot.shape)"
   ]
  },
  {
   "cell_type": "code",
   "execution_count": 56,
   "metadata": {},
   "outputs": [
    {
     "name": "stdout",
     "output_type": "stream",
     "text": [
      "['Grades~9-12', 'Grades~6-8', 'Grades~3-5', 'Grades~PreK-2']\n",
      "Shape of train matrix after one hot encodig  (14550, 4)\n",
      "Shape of test matrix after one hot encodig  (10697, 4)\n",
      "Shape of cv matrix after one hot encodig  (7167, 4)\n"
     ]
    }
   ],
   "source": [
    "# Vectorizing grade category on train , test and cv\n",
    "\n",
    "my_grade_counter = Counter()\n",
    "\n",
    "for project_grade in project_data['project_grade_category'].values:\n",
    "    \n",
    "    if (' ' in project_grade):\n",
    "        \n",
    "        project_grade = project_grade.replace(\" \", \"~\")\n",
    "        \n",
    "    my_grade_counter.update(project_grade.split())\n",
    "    \n",
    "project_grade_cat_dict = dict(my_grade_counter)\n",
    "sorted_project_grade_cat_dict = dict(sorted(project_grade_cat_dict.items(), key=lambda kv: kv[1]))\n",
    "    \n",
    "grade_cat_vectorizer = CountVectorizer(vocabulary=list(sorted_project_grade_cat_dict.keys()), lowercase=False, binary=True)\n",
    "grade_cat_vectorizer.fit(X_train['project_grade_category'].values)\n",
    "print(grade_cat_vectorizer.get_feature_names())\n",
    "\n",
    "X_Train_grade_cat_one_hot = grade_cat_vectorizer.transform(X_train['project_grade_category'].values)\n",
    "X_Test_grade_cat_one_hot = grade_cat_vectorizer.transform(X_test['project_grade_category'].values)\n",
    "X_CV_grade_cat_one_hot = grade_cat_vectorizer.transform(X_cv['project_grade_category'].values)\n",
    "\n",
    "print(\"Shape of train matrix after one hot encodig \",X_Train_grade_cat_one_hot.shape)\n",
    "print(\"Shape of test matrix after one hot encodig \",X_Test_grade_cat_one_hot.shape)\n",
    "print(\"Shape of cv matrix after one hot encodig \",X_CV_grade_cat_one_hot.shape)"
   ]
  },
  {
   "cell_type": "markdown",
   "metadata": {
    "colab_type": "text",
    "id": "fZmrR3aBN1OJ"
   },
   "source": [
    "<h2>2.3 Make Data Model Ready: encoding eassay, and project_title</h2>"
   ]
  },
  {
   "cell_type": "code",
   "execution_count": 57,
   "metadata": {
    "colab": {},
    "colab_type": "code",
    "collapsed": true,
    "id": "05rTs-7XN1OK"
   },
   "outputs": [],
   "source": [
    "# merge two column text dataframe: \n",
    "X_train[\"essay\"] = X_train[\"project_essay_1\"].map(str) +\\\n",
    "                        X_train[\"project_essay_2\"].map(str) + \\\n",
    "                        X_train[\"project_essay_3\"].map(str) + \\\n",
    "                        X_train[\"project_essay_4\"].map(str)"
   ]
  },
  {
   "cell_type": "code",
   "execution_count": 58,
   "metadata": {},
   "outputs": [
    {
     "name": "stderr",
     "output_type": "stream",
     "text": [
      "100%|███████████████████████████████████████████████████████████████████████████| 14550/14550 [00:25<00:00, 565.05it/s]\n"
     ]
    }
   ],
   "source": [
    "# preprocessing essay train data\n",
    "from tqdm import tqdm\n",
    "X_Train_preprocessed_essays = []\n",
    "# tqdm is for printing the status bar\n",
    "for sentence in tqdm(X_train['essay'].values):\n",
    "    X_Train_essay_sent = decontracted(sentance)\n",
    "    X_Train_essay_sent = X_Train_essay_sent.replace('\\\\r', ' ')\n",
    "    X_Train_essay_sent = X_Train_essay_sent.replace('\\\\\"', ' ')\n",
    "    X_Train_essay_sent = X_Train_essay_sent.replace('\\\\n', ' ')\n",
    "    X_Train_essay_sent = re.sub('[^A-Za-z0-9]+', ' ', X_Train_essay_sent)\n",
    "    \n",
    "    X_Train_essay_sent = ' '.join(e for e in X_Train_essay_sent.split() if e.lower() not in stopwords)\n",
    "    X_Train_preprocessed_essays.append(X_Train_essay_sent.lower().strip())"
   ]
  },
  {
   "cell_type": "code",
   "execution_count": 59,
   "metadata": {},
   "outputs": [
    {
     "name": "stderr",
     "output_type": "stream",
     "text": [
      "100%|███████████████████████████████████████████████████████████████████████████| 10697/10697 [00:12<00:00, 857.41it/s]\n"
     ]
    }
   ],
   "source": [
    "# preprocessing essay test data\n",
    "from tqdm import tqdm\n",
    "X_Test_preprocessed_essays = []\n",
    "# tqdm is for printing the status bar\n",
    "for sentence in tqdm(X_test['essay'].values):\n",
    "    X_Test_essay_sent = decontracted(sentence)\n",
    "    X_Test_essay_sent = X_Test_essay_sent.replace('\\\\r', ' ')\n",
    "    X_Test_essay_sent = X_Test_essay_sent.replace('\\\\\"', ' ')\n",
    "    X_Test_essay_sent = X_Test_essay_sent.replace('\\\\n', ' ')\n",
    "    X_Test_essay_sent = re.sub('[^A-Za-z0-9]+', ' ', X_Test_essay_sent)\n",
    "    \n",
    "    X_Test_essay_sent = ' '.join(e for e in X_Test_essay_sent.split() if e.lower() not in stopwords)\n",
    "    X_Test_preprocessed_essays.append(X_Test_essay_sent.lower().strip())"
   ]
  },
  {
   "cell_type": "code",
   "execution_count": 60,
   "metadata": {},
   "outputs": [
    {
     "name": "stderr",
     "output_type": "stream",
     "text": [
      "100%|█████████████████████████████████████████████████████████████████████████████| 7167/7167 [00:08<00:00, 779.95it/s]\n"
     ]
    }
   ],
   "source": [
    "# preprocessing essay cv data\n",
    "from tqdm import tqdm\n",
    "X_CV_preprocessed_essays = []\n",
    "# tqdm is for printing the status bar\n",
    "for sentence in tqdm(X_cv['essay'].values):\n",
    "    X_CV_essay_sent = decontracted(sentence)\n",
    "    X_CV_essay_sent = X_CV_essay_sent.replace('\\\\r', ' ')\n",
    "    X_CV_essay_sent = X_CV_essay_sent.replace('\\\\\"', ' ')\n",
    "    X_CV_essay_sent = X_CV_essay_sent.replace('\\\\n', ' ')\n",
    "    X_CV_essay_sent = re.sub('[^A-Za-z0-9]+', ' ', X_CV_essay_sent)\n",
    "    \n",
    "    X_CV_essay_sent = ' '.join(e for e in X_CV_essay_sent.split() if e.lower() not in stopwords)\n",
    "    X_CV_preprocessed_essays.append(X_CV_essay_sent.lower().strip())"
   ]
  },
  {
   "cell_type": "code",
   "execution_count": 61,
   "metadata": {},
   "outputs": [
    {
     "name": "stderr",
     "output_type": "stream",
     "text": [
      "100%|█████████████████████████████████████████████████████████████████████████| 14550/14550 [00:00<00:00, 15604.44it/s]\n"
     ]
    }
   ],
   "source": [
    "# preprocessing project title train data\n",
    "X_Train_preprocessed_titles = []\n",
    "\n",
    "for dataset in tqdm(X_train['project_title'].values):\n",
    "    data = decontracted(dataset)  # Replacing some specific and general short form into proper word/stopword.\n",
    "    data = re.sub(r\"it's\", \"it is\", data) # Replacing it's with it is as it is not part of function decontracted\n",
    "    data = data.replace('\\\\r', ' ') # Replacing \\r with space\n",
    "    data = data.replace('\\\\\"', ' ') # Replacing \\ with space\n",
    "    data = data.replace('\\\\n', ' ') # Replacing \\n with space\n",
    "    data = re.sub('[^A-Za-z0-9]+', ' ', data) # Replacing special characters with space\n",
    "    data = re.sub(\"\\S*\\d\\S*\", \"\", data).strip() # Trimming numbers containing digits\n",
    "    \n",
    "    data = ' '.join(e for e in data.split() if e not in stopwords) # Removing stopwords \n",
    "    X_Train_preprocessed_titles.append(data.lower().strip()) # Creating array in all the lower cases. "
   ]
  },
  {
   "cell_type": "code",
   "execution_count": 62,
   "metadata": {},
   "outputs": [
    {
     "name": "stderr",
     "output_type": "stream",
     "text": [
      "100%|█████████████████████████████████████████████████████████████████████████| 10697/10697 [00:00<00:00, 15848.55it/s]\n"
     ]
    }
   ],
   "source": [
    "# preprocessing project title test data\n",
    "X_Test_preprocessed_titles = []\n",
    "\n",
    "for dataset in tqdm(X_test['project_title'].values):\n",
    "    data = decontracted(dataset)  # Replacing some specific and general short form into proper word/stopword.\n",
    "    data = re.sub(r\"it's\", \"it is\", data) # Replacing it's with it is as it is not part of function decontracted\n",
    "    data = data.replace('\\\\r', ' ') # Replacing \\r with space\n",
    "    data = data.replace('\\\\\"', ' ') # Replacing \\ with space\n",
    "    data = data.replace('\\\\n', ' ') # Replacing \\n with space\n",
    "    data = re.sub('[^A-Za-z0-9]+', ' ', data) # Replacing special characters with space\n",
    "    data = re.sub(\"\\S*\\d\\S*\", \"\", data).strip() # Trimming numbers containing digits\n",
    "    \n",
    "    data = ' '.join(e for e in data.split() if e not in stopwords) # Removing stopwords \n",
    "    X_Test_preprocessed_titles.append(data.lower().strip()) # Creating array in all the lower cases. "
   ]
  },
  {
   "cell_type": "code",
   "execution_count": 63,
   "metadata": {},
   "outputs": [
    {
     "name": "stderr",
     "output_type": "stream",
     "text": [
      "100%|███████████████████████████████████████████████████████████████████████████| 7167/7167 [00:00<00:00, 15223.94it/s]\n"
     ]
    }
   ],
   "source": [
    "# preprocessing project title cv data\n",
    "X_CV_preprocessed_titles = []\n",
    "\n",
    "for dataset in tqdm(X_cv['project_title'].values):\n",
    "    data = decontracted(dataset)  # Replacing some specific and general short form into proper word/stopword.\n",
    "    data = re.sub(r\"it's\", \"it is\", data) # Replacing it's with it is as it is not part of function decontracted\n",
    "    data = data.replace('\\\\r', ' ') # Replacing \\r with space\n",
    "    data = data.replace('\\\\\"', ' ') # Replacing \\ with space\n",
    "    data = data.replace('\\\\n', ' ') # Replacing \\n with space\n",
    "    data = re.sub('[^A-Za-z0-9]+', ' ', data) # Replacing special characters with space\n",
    "    data = re.sub(\"\\S*\\d\\S*\", \"\", data).strip() # Trimming numbers containing digits\n",
    "    \n",
    "    data = ' '.join(e for e in data.split() if e not in stopwords) # Removing stopwords \n",
    "    X_CV_preprocessed_titles.append(data.lower().strip()) # Creating array in all the lower cases. "
   ]
  },
  {
   "cell_type": "code",
   "execution_count": 64,
   "metadata": {},
   "outputs": [
    {
     "name": "stdout",
     "output_type": "stream",
     "text": [
      "Shape of train matrix after one hot encodig  (14550, 133)\n",
      "Shape of test matrix after one hot encodig  (10697, 133)\n",
      "Shape of CV matrix after one hot encodig  (7167, 133)\n"
     ]
    }
   ],
   "source": [
    "# BOW Essay train, test and cv data\n",
    "# We are considering only the words which appeared in at least 10 documents(rows or projects).\n",
    "vectorizer = CountVectorizer(min_df=10)\n",
    "vectorizer.fit(X_Train_preprocessed_essays)\n",
    "\n",
    "X_Train_essay_bow = vectorizer.transform(X_Train_preprocessed_essays)\n",
    "X_Test_essay_bow = vectorizer.transform(X_Test_preprocessed_essays)\n",
    "X_CV_essay_bow = vectorizer.transform(X_CV_preprocessed_essays)\n",
    "\n",
    "print(\"Shape of train matrix after one hot encodig \",X_Train_essay_bow.shape)\n",
    "print(\"Shape of test matrix after one hot encodig \",X_Test_essay_bow.shape)\n",
    "print(\"Shape of CV matrix after one hot encodig \",X_CV_essay_bow.shape)"
   ]
  },
  {
   "cell_type": "code",
   "execution_count": 65,
   "metadata": {},
   "outputs": [
    {
     "name": "stdout",
     "output_type": "stream",
     "text": [
      "some sample features(unique words in the corpus) ['abc', 'about', 'academic', 'access', 'accessible', 'accessories', 'achieve', 'achievement', 'action', 'active']\n",
      "Shape of train matrix after one hot encodig  (14550, 873)\n",
      "Shape of test matrix after one hot encodig  (10697, 873)\n",
      "Shape of CV matrix after one hot encodig  (7167, 873)\n"
     ]
    }
   ],
   "source": [
    "# BOW title train,test and cv data\n",
    "\n",
    "titles_vectorizer = CountVectorizer(min_df=10)\n",
    "titles_vectorizer.fit(X_Train_preprocessed_titles)\n",
    "\n",
    "X_Train_titles_bow = titles_vectorizer.transform(X_Train_preprocessed_titles)\n",
    "X_Test_titles_bow = titles_vectorizer.transform(X_Test_preprocessed_titles)\n",
    "X_CV_titles_bow = titles_vectorizer.transform(X_CV_preprocessed_titles)\n",
    "\n",
    "print(\"some sample features(unique words in the corpus)\",titles_vectorizer.get_feature_names()[0:10])\n",
    "print(\"Shape of train matrix after one hot encodig \",X_Train_titles_bow.shape)\n",
    "print(\"Shape of test matrix after one hot encodig \",X_Test_titles_bow.shape)\n",
    "print(\"Shape of CV matrix after one hot encodig \",X_CV_titles_bow.shape)\n"
   ]
  },
  {
   "cell_type": "code",
   "execution_count": 66,
   "metadata": {},
   "outputs": [
    {
     "name": "stdout",
     "output_type": "stream",
     "text": [
      "Shape of train matrix after one hot encodig  (14550, 133)\n",
      "Shape of test matrix after one hot encodig  (10697, 133)\n",
      "Shape of CV matrix after one hot encodig  (7167, 133)\n"
     ]
    }
   ],
   "source": [
    "#TFIDF essay train,test and cv data\n",
    "\n",
    "vectorizer = TfidfVectorizer(min_df=10)\n",
    "vectorizer.fit(X_Train_preprocessed_essays)\n",
    "\n",
    "X_Train_essay_tfidf = vectorizer.transform(X_Train_preprocessed_essays)\n",
    "X_Test_essay_tfidf = vectorizer.transform(X_Test_preprocessed_essays)\n",
    "X_CV_essay_tfidf = vectorizer.transform(X_CV_preprocessed_essays)\n",
    "\n",
    "print(\"Shape of train matrix after one hot encodig \",X_Train_essay_tfidf.shape)\n",
    "print(\"Shape of test matrix after one hot encodig \",X_Test_essay_tfidf.shape)\n",
    "print(\"Shape of CV matrix after one hot encodig \",X_CV_essay_tfidf.shape)"
   ]
  },
  {
   "cell_type": "code",
   "execution_count": 67,
   "metadata": {},
   "outputs": [
    {
     "name": "stdout",
     "output_type": "stream",
     "text": [
      "Shape of train matrix after one hot encodig  (14550, 873)\n",
      "Shape of test matrix after one hot encodig  (10697, 873)\n",
      "Shape of CV matrix after one hot encodig  (7167, 873)\n"
     ]
    }
   ],
   "source": [
    "# TFIDF on project titles train,test and cv data\n",
    "\n",
    "titles_tfidf_vectorizer = TfidfVectorizer(min_df=10)\n",
    "titles_tfidf_vectorizer.fit(X_Train_preprocessed_titles)\n",
    "\n",
    "X_Train_titles_tfidf = titles_vectorizer.transform(X_Train_preprocessed_titles)\n",
    "X_Test_titles_tfidf = titles_vectorizer.transform(X_Test_preprocessed_titles)\n",
    "X_CV_titles_tfidf = titles_vectorizer.transform(X_CV_preprocessed_titles)\n",
    "\n",
    "print(\"Shape of train matrix after one hot encodig \",X_Train_titles_tfidf.shape)\n",
    "print(\"Shape of test matrix after one hot encodig \",X_Test_titles_tfidf.shape)\n",
    "print(\"Shape of CV matrix after one hot encodig \",X_CV_titles_tfidf.shape)"
   ]
  },
  {
   "cell_type": "code",
   "execution_count": 68,
   "metadata": {},
   "outputs": [
    {
     "name": "stderr",
     "output_type": "stream",
     "text": [
      "100%|██████████████████████████████████████████████████████████████████████████| 14550/14550 [00:10<00:00, 1342.02it/s]\n"
     ]
    },
    {
     "name": "stdout",
     "output_type": "stream",
     "text": [
      "14550\n",
      "300\n"
     ]
    }
   ],
   "source": [
    "# average Word2Vec essay on train\n",
    "# compute average word2vec for each review.\n",
    "X_Train_avg_w2v_vectors = []; # the avg-w2v for each sentence/review is stored in this list\n",
    "for sentence in tqdm(X_Train_preprocessed_essays): # for each review/sentence\n",
    "    vector = np.zeros(300) # as word vectors are of zero length\n",
    "    cnt_words =0; # num of words with a valid vector in the sentence/review\n",
    "    for word in sentence.split(): # for each word in a review/sentence\n",
    "        if word in glove_words:\n",
    "            vector += model[word]\n",
    "            cnt_words += 1\n",
    "    if cnt_words != 0:\n",
    "        vector /= cnt_words\n",
    "    X_Train_avg_w2v_vectors.append(vector)\n",
    "\n",
    "print(len(X_Train_avg_w2v_vectors))\n",
    "print(len(X_Train_avg_w2v_vectors[0]))"
   ]
  },
  {
   "cell_type": "code",
   "execution_count": 69,
   "metadata": {},
   "outputs": [
    {
     "name": "stderr",
     "output_type": "stream",
     "text": [
      "100%|██████████████████████████████████████████████████████████████████████████| 10697/10697 [00:05<00:00, 1859.66it/s]\n"
     ]
    },
    {
     "name": "stdout",
     "output_type": "stream",
     "text": [
      "10697\n",
      "300\n"
     ]
    }
   ],
   "source": [
    "# average Word2Vec essay on test\n",
    "# compute average word2vec for each review.\n",
    "X_Test_avg_w2v_vectors = []; # the avg-w2v for each sentence/review is stored in this list\n",
    "for sentence in tqdm(X_Test_preprocessed_essays): # for each review/sentence\n",
    "    vector = np.zeros(300) # as word vectors are of zero length\n",
    "    cnt_words =0; # num of words with a valid vector in the sentence/review\n",
    "    for word in sentence.split(): # for each word in a review/sentence\n",
    "        if word in glove_words:\n",
    "            vector += model[word]\n",
    "            cnt_words += 1\n",
    "    if cnt_words != 0:\n",
    "        vector /= cnt_words\n",
    "    X_Test_avg_w2v_vectors.append(vector)\n",
    "\n",
    "print(len(X_Test_avg_w2v_vectors))\n",
    "print(len(X_Test_avg_w2v_vectors[0]))"
   ]
  },
  {
   "cell_type": "code",
   "execution_count": 70,
   "metadata": {},
   "outputs": [
    {
     "name": "stderr",
     "output_type": "stream",
     "text": [
      "100%|████████████████████████████████████████████████████████████████████████████| 7167/7167 [00:03<00:00, 1871.72it/s]\n"
     ]
    },
    {
     "name": "stdout",
     "output_type": "stream",
     "text": [
      "7167\n",
      "300\n"
     ]
    }
   ],
   "source": [
    "# average Word2Vec essay on cv\n",
    "# compute average word2vec for each review.\n",
    "X_CV_avg_w2v_vectors = []; # the avg-w2v for each sentence/review is stored in this list\n",
    "for sentence in tqdm(X_CV_preprocessed_essays): # for each review/sentence\n",
    "    vector = np.zeros(300) # as word vectors are of zero length\n",
    "    cnt_words =0; # num of words with a valid vector in the sentence/review\n",
    "    for word in sentence.split(): # for each word in a review/sentence\n",
    "        if word in glove_words:\n",
    "            vector += model[word]\n",
    "            cnt_words += 1\n",
    "    if cnt_words != 0:\n",
    "        vector /= cnt_words\n",
    "    X_CV_avg_w2v_vectors.append(vector)\n",
    "\n",
    "print(len(X_CV_avg_w2v_vectors))\n",
    "print(len(X_CV_avg_w2v_vectors[0]))"
   ]
  },
  {
   "cell_type": "code",
   "execution_count": 71,
   "metadata": {},
   "outputs": [
    {
     "name": "stderr",
     "output_type": "stream",
     "text": [
      "100%|█████████████████████████████████████████████████████████████████████████| 14550/14550 [00:00<00:00, 38543.41it/s]\n"
     ]
    },
    {
     "name": "stdout",
     "output_type": "stream",
     "text": [
      "14550\n",
      "300\n"
     ]
    }
   ],
   "source": [
    "# AVG W2V on project title train\n",
    "X_Train_avg_w2v_titles_vectors = [];\n",
    "\n",
    "for sentence in tqdm(X_Train_preprocessed_titles):\n",
    "    \n",
    "    vector_titles = np.zeros(300)\n",
    "    cnt_words_titles = 0;\n",
    "    \n",
    "    for word in sentence.split():\n",
    "        \n",
    "        if word in glove_words:\n",
    "            \n",
    "            vector += model[word]\n",
    "            cnt_words_titles += 1\n",
    "            \n",
    "    if cnt_words_titles != 0:\n",
    "        \n",
    "        vector_titles /= cnt_words_titles\n",
    "        \n",
    "    X_Train_avg_w2v_titles_vectors.append(vector_titles)\n",
    "\n",
    "print(len(X_Train_avg_w2v_titles_vectors))\n",
    "print(len(X_Train_avg_w2v_titles_vectors[0]))"
   ]
  },
  {
   "cell_type": "code",
   "execution_count": 72,
   "metadata": {},
   "outputs": [
    {
     "name": "stderr",
     "output_type": "stream",
     "text": [
      "100%|█████████████████████████████████████████████████████████████████████████| 10697/10697 [00:00<00:00, 40100.70it/s]\n"
     ]
    },
    {
     "name": "stdout",
     "output_type": "stream",
     "text": [
      "10697\n",
      "300\n"
     ]
    }
   ],
   "source": [
    "# AVG W2V on project title test\n",
    "X_Test_avg_w2v_titles_vectors = [];\n",
    "\n",
    "for sentence in tqdm(X_Test_preprocessed_titles):\n",
    "    \n",
    "    vector_titles = np.zeros(300)\n",
    "    cnt_words_titles = 0;\n",
    "    \n",
    "    for word in sentence.split():\n",
    "        \n",
    "        if word in glove_words:\n",
    "            \n",
    "            vector += model[word]\n",
    "            cnt_words_titles += 1\n",
    "            \n",
    "    if cnt_words_titles != 0:\n",
    "        \n",
    "        vector_titles /= cnt_words_titles\n",
    "        \n",
    "    X_Test_avg_w2v_titles_vectors.append(vector_titles)\n",
    "\n",
    "print(len(X_Test_avg_w2v_titles_vectors))\n",
    "print(len(X_Test_avg_w2v_titles_vectors[0]))"
   ]
  },
  {
   "cell_type": "code",
   "execution_count": 73,
   "metadata": {},
   "outputs": [
    {
     "name": "stderr",
     "output_type": "stream",
     "text": [
      "100%|███████████████████████████████████████████████████████████████████████████| 7167/7167 [00:00<00:00, 40520.50it/s]\n"
     ]
    },
    {
     "name": "stdout",
     "output_type": "stream",
     "text": [
      "7167\n",
      "300\n"
     ]
    }
   ],
   "source": [
    "# AVG W2V on project title cv\n",
    "X_CV_avg_w2v_titles_vectors = [];\n",
    "\n",
    "for sentence in tqdm(X_CV_preprocessed_titles):\n",
    "    \n",
    "    vector_titles = np.zeros(300)\n",
    "    cnt_words_titles = 0;\n",
    "    \n",
    "    for word in sentence.split():\n",
    "        \n",
    "        if word in glove_words:\n",
    "            \n",
    "            vector += model[word]\n",
    "            cnt_words_titles += 1\n",
    "            \n",
    "    if cnt_words_titles != 0:\n",
    "        \n",
    "        vector_titles /= cnt_words_titles\n",
    "        \n",
    "    X_CV_avg_w2v_titles_vectors.append(vector_titles)\n",
    "\n",
    "print(len(X_CV_avg_w2v_titles_vectors))\n",
    "print(len(X_CV_avg_w2v_titles_vectors[0]))"
   ]
  },
  {
   "cell_type": "code",
   "execution_count": 74,
   "metadata": {
    "collapsed": true
   },
   "outputs": [],
   "source": [
    "# TFIDF W2V \n",
    "# S = [\"abc def pqr\", \"def def def abc\", \"pqr pqr def\"]\n",
    "tfidf_model = TfidfVectorizer()\n",
    "tfidf_model.fit(X_Train_preprocessed_essays)\n",
    "# we are converting a dictionary with word as a key, and the idf as a value\n",
    "dictionary = dict(zip(tfidf_model.get_feature_names(), list(tfidf_model.idf_)))\n",
    "tfidf_words = set(tfidf_model.get_feature_names())"
   ]
  },
  {
   "cell_type": "code",
   "execution_count": 75,
   "metadata": {},
   "outputs": [
    {
     "name": "stderr",
     "output_type": "stream",
     "text": [
      "100%|███████████████████████████████████████████████████████████████████████████| 14550/14550 [02:01<00:00, 120.21it/s]\n"
     ]
    },
    {
     "name": "stdout",
     "output_type": "stream",
     "text": [
      "14550\n",
      "300\n"
     ]
    }
   ],
   "source": [
    "# TFIDF w2v essay train\n",
    "# compute average word2vec for each review.\n",
    "X_Train_tfidf_w2v_vectors = []; # the avg-w2v for each sentence/review is stored in this list\n",
    "for sentence in tqdm(X_Train_preprocessed_essays): # for each review/sentence\n",
    "    vector = np.zeros(300) # as word vectors are of zero length\n",
    "    tf_idf_weight =0; # num of words with a valid vector in the sentence/review\n",
    "    for word in sentence.split(): # for each word in a review/sentence\n",
    "        if (word in glove_words) and (word in tfidf_words):\n",
    "            vec = model[word] # getting the vector for each word\n",
    "            # here we are multiplying idf value(dictionary[word]) and the tf value((sentence.count(word)/len(sentence.split())))\n",
    "            tf_idf = dictionary[word]*(sentence.count(word)/len(sentence.split())) # getting the tfidf value for each word\n",
    "            vector += (vec * tf_idf) # calculating tfidf weighted w2v\n",
    "            tf_idf_weight += tf_idf\n",
    "    if tf_idf_weight != 0:\n",
    "        vector /= tf_idf_weight\n",
    "    X_Train_tfidf_w2v_vectors.append(vector)\n",
    "\n",
    "print(len(X_Train_tfidf_w2v_vectors))\n",
    "print(len(X_Train_tfidf_w2v_vectors[0]))"
   ]
  },
  {
   "cell_type": "code",
   "execution_count": 76,
   "metadata": {},
   "outputs": [
    {
     "name": "stderr",
     "output_type": "stream",
     "text": [
      "100%|███████████████████████████████████████████████████████████████████████████| 10697/10697 [00:11<00:00, 924.68it/s]\n"
     ]
    },
    {
     "name": "stdout",
     "output_type": "stream",
     "text": [
      "10697\n",
      "300\n"
     ]
    }
   ],
   "source": [
    "# TFIDF w2v essay test\n",
    "# compute average word2vec for each review.\n",
    "X_Test_tfidf_w2v_vectors = []; # the avg-w2v for each sentence/review is stored in this list\n",
    "for sentence in tqdm(X_Test_preprocessed_essays): # for each review/sentence\n",
    "    vector = np.zeros(300) # as word vectors are of zero length\n",
    "    tf_idf_weight =0; # num of words with a valid vector in the sentence/review\n",
    "    for word in sentence.split(): # for each word in a review/sentence\n",
    "        if (word in glove_words) and (word in tfidf_words):\n",
    "            vec = model[word] # getting the vector for each word\n",
    "            # here we are multiplying idf value(dictionary[word]) and the tf value((sentence.count(word)/len(sentence.split())))\n",
    "            tf_idf = dictionary[word]*(sentence.count(word)/len(sentence.split())) # getting the tfidf value for each word\n",
    "            vector += (vec * tf_idf) # calculating tfidf weighted w2v\n",
    "            tf_idf_weight += tf_idf\n",
    "    if tf_idf_weight != 0:\n",
    "        vector /= tf_idf_weight\n",
    "    X_Test_tfidf_w2v_vectors.append(vector)\n",
    "\n",
    "print(len(X_Test_tfidf_w2v_vectors))\n",
    "print(len(X_Test_tfidf_w2v_vectors[0]))"
   ]
  },
  {
   "cell_type": "code",
   "execution_count": 77,
   "metadata": {},
   "outputs": [
    {
     "name": "stderr",
     "output_type": "stream",
     "text": [
      "100%|█████████████████████████████████████████████████████████████████████████████| 7167/7167 [00:08<00:00, 885.99it/s]\n"
     ]
    },
    {
     "name": "stdout",
     "output_type": "stream",
     "text": [
      "7167\n",
      "300\n"
     ]
    }
   ],
   "source": [
    "# TFIDF w2v essay cv\n",
    "# compute average word2vec for each review.\n",
    "X_CV_tfidf_w2v_vectors = []; # the avg-w2v for each sentence/review is stored in this list\n",
    "for sentence in tqdm(X_CV_preprocessed_essays): # for each review/sentence\n",
    "    vector = np.zeros(300) # as word vectors are of zero length\n",
    "    tf_idf_weight =0; # num of words with a valid vector in the sentence/review\n",
    "    for word in sentence.split(): # for each word in a review/sentence\n",
    "        if (word in glove_words) and (word in tfidf_words):\n",
    "            vec = model[word] # getting the vector for each word\n",
    "            # here we are multiplying idf value(dictionary[word]) and the tf value((sentence.count(word)/len(sentence.split())))\n",
    "            tf_idf = dictionary[word]*(sentence.count(word)/len(sentence.split())) # getting the tfidf value for each word\n",
    "            vector += (vec * tf_idf) # calculating tfidf weighted w2v\n",
    "            tf_idf_weight += tf_idf\n",
    "    if tf_idf_weight != 0:\n",
    "        vector /= tf_idf_weight\n",
    "    X_CV_tfidf_w2v_vectors.append(vector)\n",
    "\n",
    "print(len(X_CV_tfidf_w2v_vectors))\n",
    "print(len(X_CV_tfidf_w2v_vectors[0]))"
   ]
  },
  {
   "cell_type": "code",
   "execution_count": 78,
   "metadata": {
    "collapsed": true
   },
   "outputs": [],
   "source": [
    "# TFIDF weighted W2V on project_title\n",
    "titles_tfidf_model = TfidfVectorizer()\n",
    "titles_tfidf_model.fit(X_Train_preprocessed_titles)\n",
    "titles_dictionary = dict(zip(titles_tfidf_model.get_feature_names(), list(titles_tfidf_model.idf_)))\n",
    "titles_tfidf_words = set(titles_tfidf_model.get_feature_names())"
   ]
  },
  {
   "cell_type": "code",
   "execution_count": 79,
   "metadata": {},
   "outputs": [
    {
     "name": "stderr",
     "output_type": "stream",
     "text": [
      "100%|█████████████████████████████████████████████████████████████████████████| 14550/14550 [00:00<00:00, 17129.18it/s]\n"
     ]
    },
    {
     "name": "stdout",
     "output_type": "stream",
     "text": [
      "14550\n",
      "300\n"
     ]
    }
   ],
   "source": [
    "# TFIDF w2v title train\n",
    "X_Train_titles_tfidf_w2v_vectors = [];\n",
    "\n",
    "for titles_sentence in tqdm(X_Train_preprocessed_titles):\n",
    "    \n",
    "    titles_vector = np.zeros(300)\n",
    "    titles_tfidf_weight = 0;\n",
    "    \n",
    "    for word in titles_sentence.split():\n",
    "        \n",
    "        if (word in glove_words) and (word in titles_tfidf_words):\n",
    "            \n",
    "            titles_vec = model[word]\n",
    "            \n",
    "            titles_tf_idf = titles_dictionary[word]*(titles_sentence.count(word)/len(titles_sentence.split())) \n",
    "            titles_vector += (titles_vec * titles_tf_idf)\n",
    "            titles_tfidf_weight += titles_tf_idf\n",
    "            \n",
    "    if titles_tfidf_weight != 0:\n",
    "        \n",
    "        titles_vector /= titles_tfidf_weight\n",
    "        \n",
    "    X_Train_titles_tfidf_w2v_vectors.append(titles_vector)\n",
    "\n",
    "print(len(X_Train_titles_tfidf_w2v_vectors))\n",
    "print(len(X_Train_titles_tfidf_w2v_vectors[0]))"
   ]
  },
  {
   "cell_type": "code",
   "execution_count": 80,
   "metadata": {},
   "outputs": [
    {
     "name": "stderr",
     "output_type": "stream",
     "text": [
      "100%|█████████████████████████████████████████████████████████████████████████| 10697/10697 [00:00<00:00, 18879.07it/s]\n"
     ]
    },
    {
     "name": "stdout",
     "output_type": "stream",
     "text": [
      "10697\n",
      "300\n"
     ]
    }
   ],
   "source": [
    "# TFIDF w2v title train\n",
    "X_Test_titles_tfidf_w2v_vectors = [];\n",
    "\n",
    "for titles_sentence in tqdm(X_Test_preprocessed_titles):\n",
    "    \n",
    "    titles_vector = np.zeros(300)\n",
    "    titles_tfidf_weight = 0;\n",
    "    \n",
    "    for word in titles_sentence.split():\n",
    "        \n",
    "        if (word in glove_words) and (word in titles_tfidf_words):\n",
    "            \n",
    "            titles_vec = model[word]\n",
    "            \n",
    "            titles_tf_idf = titles_dictionary[word]*(titles_sentence.count(word)/len(titles_sentence.split())) \n",
    "            titles_vector += (titles_vec * titles_tf_idf)\n",
    "            titles_tfidf_weight += titles_tf_idf\n",
    "            \n",
    "    if titles_tfidf_weight != 0:\n",
    "        \n",
    "        titles_vector /= titles_tfidf_weight\n",
    "        \n",
    "    X_Test_titles_tfidf_w2v_vectors.append(titles_vector)\n",
    "\n",
    "print(len(X_Test_titles_tfidf_w2v_vectors))\n",
    "print(len(X_Test_titles_tfidf_w2v_vectors[0]))"
   ]
  },
  {
   "cell_type": "code",
   "execution_count": 81,
   "metadata": {},
   "outputs": [
    {
     "name": "stderr",
     "output_type": "stream",
     "text": [
      "100%|███████████████████████████████████████████████████████████████████████████| 7167/7167 [00:00<00:00, 16954.29it/s]\n"
     ]
    },
    {
     "name": "stdout",
     "output_type": "stream",
     "text": [
      "7167\n",
      "300\n"
     ]
    }
   ],
   "source": [
    "# TFIDF w2v title cv\n",
    "X_CV_titles_tfidf_w2v_vectors = [];\n",
    "\n",
    "for titles_sentence in tqdm(X_CV_preprocessed_titles):\n",
    "    \n",
    "    titles_vector = np.zeros(300)\n",
    "    titles_tfidf_weight = 0;\n",
    "    \n",
    "    for word in titles_sentence.split():\n",
    "        \n",
    "        if (word in glove_words) and (word in titles_tfidf_words):\n",
    "            \n",
    "            titles_vec = model[word]\n",
    "            \n",
    "            titles_tf_idf = titles_dictionary[word]*(titles_sentence.count(word)/len(titles_sentence.split())) \n",
    "            titles_vector += (titles_vec * titles_tf_idf)\n",
    "            titles_tfidf_weight += titles_tf_idf\n",
    "            \n",
    "    if titles_tfidf_weight != 0:\n",
    "        \n",
    "        titles_vector /= titles_tfidf_weight\n",
    "        \n",
    "    X_CV_titles_tfidf_w2v_vectors.append(titles_vector)\n",
    "\n",
    "print(len(X_CV_titles_tfidf_w2v_vectors))\n",
    "print(len(X_CV_titles_tfidf_w2v_vectors[0]))"
   ]
  },
  {
   "cell_type": "code",
   "execution_count": 84,
   "metadata": {
    "collapsed": true
   },
   "outputs": [],
   "source": [
    "# Vectorizing numerical feature\n",
    "\n",
    "# Merging price data with train, test and cv\n",
    "X_train = pd.merge(X_train, price_data, on='id', how='left')\n",
    "X_test = pd.merge(X_test, price_data, on='id', how='left')\n",
    "X_cv = pd.merge(X_cv, price_data, on='id', how='left')"
   ]
  },
  {
   "cell_type": "code",
   "execution_count": 85,
   "metadata": {},
   "outputs": [
    {
     "name": "stdout",
     "output_type": "stream",
     "text": [
      "After vectorizations\n",
      "(14550, 1) (14550,)\n",
      "(10697, 1) (10697,)\n",
      "(7167, 1) (7167,)\n",
      "====================================================================================================\n"
     ]
    }
   ],
   "source": [
    "# Standardizing price train test and cv data\n",
    "\n",
    "from sklearn.preprocessing import Normalizer\n",
    "normalizer = Normalizer()\n",
    "# normalizer.fit(X_train['price'].values)\n",
    "# this will rise an error Expected 2D array, got 1D array instead: \n",
    "# array=[105.22 215.96  96.01 ... 368.98  80.53 709.67].\n",
    "# Reshape your data either using \n",
    "# array.reshape(-1, 1) if your data has a single feature \n",
    "# array.reshape(1, -1)  if it contains a single sample.\n",
    "normalizer.fit(X_train['price'].values.reshape(-1,1))\n",
    "\n",
    "X_train_price_norm = normalizer.transform(X_train['price'].values.reshape(-1,1))\n",
    "X_test_price_norm = normalizer.transform(X_test['price'].values.reshape(-1,1))\n",
    "X_cv_price_norm = normalizer.transform(X_cv['price'].values.reshape(-1,1))\n",
    "\n",
    "print(\"After vectorizations\")\n",
    "print(X_train_price_norm.shape, y_train.shape)\n",
    "print(X_test_price_norm.shape, y_test.shape)\n",
    "print(X_cv_price_norm.shape, y_cv.shape)\n",
    "print(\"=\"*100)"
   ]
  },
  {
   "cell_type": "markdown",
   "metadata": {
    "colab_type": "text",
    "id": "tJemgtg6N1OM"
   },
   "source": [
    "<h2>2.4 Appling NB() on different kind of featurization as mentioned in the instructions</h2>\n",
    "\n",
    "<br>Apply Naive Bayes on different kind of featurization as mentioned in the instructions\n",
    "<br> For Every model that you work on make sure you do the step 2 and step 3 of instrucations"
   ]
  },
  {
   "cell_type": "markdown",
   "metadata": {
    "colab_type": "text",
    "id": "xzli_RRdN1OM"
   },
   "source": [
    "### 2.4.1 Applying Naive Bayes on BOW,<font color='red'> SET 1</font>"
   ]
  },
  {
   "cell_type": "code",
   "execution_count": 86,
   "metadata": {
    "colab": {},
    "colab_type": "code",
    "id": "G8sy7LJmN1OO"
   },
   "outputs": [
    {
     "name": "stdout",
     "output_type": "stream",
     "text": [
      "Final Data matrix\n",
      "(14550, 1106) (14550,)\n",
      "(7167, 1106) (7167,)\n",
      "(10697, 1106) (10697,)\n",
      "====================================================================================================\n"
     ]
    }
   ],
   "source": [
    "# merge two sparse matrices: https://stackoverflow.com/a/19710648/4084039\n",
    "from scipy.sparse import hstack\n",
    "\n",
    "# Train data stack\n",
    "X_tr = hstack((X_Train_categories_one_hot,X_Train_sub_categories_one_hot,X_Train_school_state_one_hot,\n",
    "               X_Train_teacher_prefix_one_hot,X_Train_grade_cat_one_hot,X_Train_essay_bow,X_Train_titles_bow,\n",
    "               X_train_price_norm)).tocsr()\n",
    "\n",
    "# CV data Stack\n",
    "X_cr = hstack((X_CV_categories_one_hot,X_CV_sub_categories_one_hot,X_CV_school_state_one_hot,\n",
    "               X_CV_teacher_prefix_one_hot,X_CV_grade_cat_one_hot,X_CV_essay_bow,X_CV_titles_bow,\n",
    "               X_cv_price_norm)).tocsr()\n",
    "\n",
    "# Test Data Stack\n",
    "X_te = hstack((X_Test_categories_one_hot,X_Test_sub_categories_one_hot,X_Test_school_state_one_hot,\n",
    "               X_Test_teacher_prefix_one_hot,X_Test_grade_cat_one_hot,X_Test_essay_bow,X_Test_titles_bow,\n",
    "               X_test_price_norm)).tocsr()\n",
    "\n",
    "print(\"Final Data matrix\")\n",
    "print(X_tr.shape, y_train.shape)\n",
    "print(X_cr.shape, y_cv.shape)\n",
    "print(X_te.shape, y_test.shape)\n",
    "print(\"=\"*100)"
   ]
  },
  {
   "cell_type": "code",
   "execution_count": 87,
   "metadata": {
    "collapsed": true
   },
   "outputs": [],
   "source": [
    "def batch_predict(clf, data):\n",
    "\n",
    "    y_data_pred = []\n",
    "    \n",
    "    # Changing the shape of predicted data in the multiple of 1000\n",
    "    tr_loop = data.shape[0] - data.shape[0]%1000\n",
    "    \n",
    "    # Running the loop for each 1000th data\n",
    "    for i in range(0, tr_loop, 1000):\n",
    "        \n",
    "        # Predicting probability\n",
    "        y_data_pred.extend(clf.predict_proba(data[i:i+1000])[:,1])\n",
    "    \n",
    "    y_data_pred.extend(clf.predict_proba(data[tr_loop:])[:,1])\n",
    "    \n",
    "    return y_data_pred"
   ]
  },
  {
   "cell_type": "code",
   "execution_count": 89,
   "metadata": {},
   "outputs": [
    {
     "name": "stderr",
     "output_type": "stream",
     "text": [
      "100%|██████████████████████████████████████████████████████████████████████████████████| 10/10 [00:01<00:00,  8.44it/s]\n"
     ]
    },
    {
     "data": {
      "image/png": "[encoded data removed]",
      "text/plain": [
       "<Figure size 432x288 with 1 Axes>"
      ]
     },
     "metadata": {},
     "output_type": "display_data"
    }
   ],
   "source": [
    "# Plotting error plot, AUC vs alpha plot to get best alpha\n",
    "\n",
    "from sklearn.naive_bayes import MultinomialNB\n",
    "from sklearn.metrics import roc_auc_score\n",
    "\n",
    "train_auc = []\n",
    "cv_auc = []\n",
    "\n",
    "# Execute for different alpha values\n",
    "alpha = [0.00001, 0.0001, 0.001, 0.01, 0.1, 1, 10, 100, 1000, 10000]\n",
    "\n",
    "for i in tqdm(alpha):\n",
    "    \n",
    "    neigh = MultinomialNB(alpha=i)\n",
    "    neigh.fit(X_tr, y_train)\n",
    "\n",
    "    y_train_pred = batch_predict(neigh, X_tr)    \n",
    "    y_cv_pred = batch_predict(neigh, X_cr)\n",
    "\n",
    "    # roc_auc_score(y_true, y_score) the 2nd parameter should be probability estimates of the positive class\n",
    "    # not the predicted outputs\n",
    "    train_auc.append(roc_auc_score(y_train, y_train_pred))\n",
    "    cv_auc.append(roc_auc_score(y_cv, y_cv_pred))\n",
    "\n",
    "plt.plot(alpha, train_auc, label='Train AUC')\n",
    "plt.plot(alpha, cv_auc, label='CV AUC')\n",
    "\n",
    "plt.scatter(alpha, train_auc, label='Train AUC points')\n",
    "plt.scatter(alpha, cv_auc, label='CV AUC points')\n",
    "\n",
    "plt.xscale('log')\n",
    "plt.legend()\n",
    "plt.xlabel(\"alpha: hyperparameter\")\n",
    "plt.ylabel(\"AUC\")\n",
    "plt.title(\"ERROR PLOTS\")\n",
    "plt.grid()\n",
    "plt.show()\n"
   ]
  },
  {
   "cell_type": "code",
   "execution_count": 90,
   "metadata": {},
   "outputs": [
    {
     "data": {
      "image/png": "[encoded data removed]",
      "text/plain": [
       "<Figure size 432x288 with 1 Axes>"
      ]
     },
     "metadata": {},
     "output_type": "display_data"
    }
   ],
   "source": [
    "# https://scikit-learn.org/stable/modules/generated/sklearn.model_selection.GridSearchCV.html\n",
    "from sklearn.model_selection import GridSearchCV\n",
    "\n",
    "neigh = MultinomialNB()\n",
    "parameters = {'alpha':[0.00001, 0.0001, 0.001, 0.01, 0.1, 1, 10, 100, 1000, 10000]}\n",
    "clf = GridSearchCV(neigh, parameters, cv=3, scoring='roc_auc')\n",
    "clf.fit(X_tr, y_train)\n",
    "\n",
    "train_auc= clf.cv_results_['mean_train_score']\n",
    "train_auc_std= clf.cv_results_['std_train_score']\n",
    "cv_auc = clf.cv_results_['mean_test_score'] \n",
    "cv_auc_std= clf.cv_results_['std_test_score']\n",
    "\n",
    "plt.plot(parameters['alpha'], train_auc, label='Train AUC')\n",
    "# this code is copied from here: https://stackoverflow.com/a/48803361/4084039\n",
    "plt.gca().fill_between(parameters['alpha'],train_auc - train_auc_std,train_auc + train_auc_std,alpha=0.2,color='darkblue')\n",
    "\n",
    "plt.plot(parameters['alpha'], cv_auc, label='CV AUC')\n",
    "# this code is copied from here: https://stackoverflow.com/a/48803361/4084039\n",
    "plt.gca().fill_between(parameters['alpha'],cv_auc - cv_auc_std,cv_auc + cv_auc_std,alpha=0.2,color='darkorange')\n",
    "\n",
    "plt.scatter(parameters['alpha'], train_auc, label='Train AUC points')\n",
    "plt.scatter(parameters['alpha'], cv_auc, label='CV AUC points')\n",
    "\n",
    "plt.xscale(\"log\")\n",
    "plt.legend()\n",
    "plt.xlabel(\"alpha: hyperparameter\")\n",
    "plt.ylabel(\"AUC\")\n",
    "plt.title(\"ERROR PLOTS\")\n",
    "plt.grid()\n",
    "plt.show()"
   ]
  },
  {
   "cell_type": "code",
   "execution_count": 100,
   "metadata": {},
   "outputs": [
    {
     "data": {
      "image/png": "[encoded data removed]",
      "text/plain": [
       "<Figure size 432x288 with 1 Axes>"
      ]
     },
     "metadata": {},
     "output_type": "display_data"
    }
   ],
   "source": [
    "# https://scikit-learn.org/stable/modules/generated/sklearn.metrics.roc_curve.html#sklearn.metrics.roc_curve\n",
    "from sklearn.metrics import roc_curve, auc\n",
    "\n",
    "\n",
    "neigh = MultinomialNB(alpha=0.1)\n",
    "neigh.fit(X_tr, y_train)\n",
    "# roc_auc_score(y_true, y_score) the 2nd parameter should be probability estimates of the positive class\n",
    "# not the predicted outputs\n",
    "\n",
    "y_train_pred = batch_predict(neigh, X_tr)    \n",
    "y_test_pred = batch_predict(neigh, X_te)\n",
    "\n",
    "train_fpr, train_tpr, tr_thresholds = roc_curve(y_train, y_train_pred)\n",
    "test_fpr, test_tpr, te_thresholds = roc_curve(y_test, y_test_pred)\n",
    "\n",
    "plt.plot(train_fpr, train_tpr, label=\"train AUC =\"+str(auc(train_fpr, train_tpr)))\n",
    "plt.plot(test_fpr, test_tpr, label=\"test AUC =\"+str(auc(test_fpr, test_tpr)))\n",
    "plt.legend()\n",
    "plt.xlabel(\"alpha: hyperparameter\")\n",
    "plt.ylabel(\"AUC\")\n",
    "plt.title(\"ERROR PLOTS\")\n",
    "plt.grid()\n",
    "plt.show()"
   ]
  },
  {
   "cell_type": "code",
   "execution_count": 101,
   "metadata": {
    "collapsed": true
   },
   "outputs": [],
   "source": [
    "# we are writing our own function for predict, with defined thresould\n",
    "# we will pick a threshold that will give the least fpr\n",
    "def predict(proba, threshould, fpr, tpr):\n",
    "    \n",
    "    t = threshould[np.argmax(tpr*(1-fpr))]\n",
    "    \n",
    "    # (tpr*(1-fpr)) will be maximum if your fpr is very low and tpr is very high\n",
    "    \n",
    "    print(\"the maximum value of tpr*(1-fpr)\", max(tpr*(1-fpr)), \"for threshold\", np.round(t,3))\n",
    "    predictions = []\n",
    "    for i in proba:\n",
    "        if i>=t:\n",
    "            predictions.append(1)\n",
    "        else:\n",
    "            predictions.append(0)\n",
    "    return predictions"
   ]
  },
  {
   "cell_type": "code",
   "execution_count": 102,
   "metadata": {},
   "outputs": [
    {
     "name": "stdout",
     "output_type": "stream",
     "text": [
      "====================================================================================================\n",
      "Train confusion matrix\n",
      "the maximum value of tpr*(1-fpr) 0.25 for threshold 0.777\n",
      "[[1123 1123]\n",
      " [2721 9583]]\n",
      "Test confusion matrix\n",
      "the maximum value of tpr*(1-fpr) 0.25 for threshold 0.836\n",
      "[[ 805  847]\n",
      " [3227 5818]]\n"
     ]
    }
   ],
   "source": [
    "print(\"=\"*100)\n",
    "from sklearn.metrics import confusion_matrix\n",
    "print(\"Train confusion matrix\")\n",
    "print(confusion_matrix(y_train, predict(y_train_pred, tr_thresholds, train_fpr, train_fpr)))\n",
    "print(\"Test confusion matrix\")\n",
    "print(confusion_matrix(y_test, predict(y_test_pred, tr_thresholds, test_fpr, test_fpr)))"
   ]
  },
  {
   "cell_type": "code",
   "execution_count": 107,
   "metadata": {},
   "outputs": [
    {
     "name": "stdout",
     "output_type": "stream",
     "text": [
      "the maximum value of tpr*(1-fpr) 0.25 for threshold 0.777\n",
      "Train Confusion Matrix\n"
     ]
    },
    {
     "data": {
      "text/plain": [
       "<matplotlib.axes._subplots.AxesSubplot at 0x23833bee208>"
      ]
     },
     "execution_count": 107,
     "metadata": {},
     "output_type": "execute_result"
    },
    {
     "data": {
      "image/png": "[encoded data removed]",
      "text/plain": [
       "<Figure size 432x288 with 2 Axes>"
      ]
     },
     "metadata": {},
     "output_type": "display_data"
    }
   ],
   "source": [
    "# https://seaborn.pydata.org/generated/seaborn.heatmap.html\n",
    "# https://stackoverflow.com/questions/29647749/seaborn-showing-scientific-notation-in-heatmap-for-3-digit-numbers\n",
    "\n",
    "# Train Confusion Matrix Heatmap\n",
    "train_confusion_matrix = confusion_matrix(y_train, predict(y_train_pred, tr_thresholds, train_fpr, train_fpr))\n",
    "\n",
    "print(\"Train Confusion Matrix\")\n",
    "sns.heatmap(train_confusion_matrix,annot=True,linewidth = 0.1, cmap='coolwarm', fmt='g')\n",
    "\n"
   ]
  },
  {
   "cell_type": "code",
   "execution_count": 108,
   "metadata": {},
   "outputs": [
    {
     "name": "stdout",
     "output_type": "stream",
     "text": [
      "the maximum value of tpr*(1-fpr) 0.25 for threshold 0.836\n",
      "Test Confusion Matrix\n"
     ]
    },
    {
     "data": {
      "text/plain": [
       "<matplotlib.axes._subplots.AxesSubplot at 0x23833f23198>"
      ]
     },
     "execution_count": 108,
     "metadata": {},
     "output_type": "execute_result"
    },
    {
     "data": {
      "image/png": "[encoded data removed]",
      "text/plain": [
       "<Figure size 432x288 with 2 Axes>"
      ]
     },
     "metadata": {},
     "output_type": "display_data"
    }
   ],
   "source": [
    "# https://seaborn.pydata.org/generated/seaborn.heatmap.html\n",
    "\n",
    "# Test Confusion Matrix Heatmap\n",
    "\n",
    "test_confusion_matrix = confusion_matrix(y_test, predict(y_test_pred, tr_thresholds, test_fpr, test_fpr))\n",
    "\n",
    "print(\"Test Confusion Matrix\")\n",
    "sns.heatmap(test_confusion_matrix,annot=True,linewidth = 0.5, cmap='coolwarm', fmt='g')"
   ]
  },
  {
   "cell_type": "markdown",
   "metadata": {
    "colab_type": "text",
    "id": "WcsQ4_6VN1OQ"
   },
   "source": [
    "#### 2.4.1.1 Top 10 important features of positive class from<font color='red'> SET 1</font>"
   ]
  },
  {
   "cell_type": "code",
   "execution_count": 128,
   "metadata": {
    "colab": {},
    "colab_type": "code",
    "collapsed": true,
    "id": "Lj0N7EdHN1OR"
   },
   "outputs": [],
   "source": [
    "# https://stackoverflow.com/questions/26976362/how-to-get-most-informative-features-for-scikit-learn-classifier-for-different-c/26980472\n",
    "# https://stackoverflow.com/questions/29867367/sklearn-multinomial-nb-most-informative-features\n",
    "\n",
    "\n",
    "def most_informative_feature(feature_names,classifier, val, n=10):\n",
    "    class_labels = classifier.classes_\n",
    "    feature_names =vectorizer.get_feature_names()\n",
    "    topn_class = sorted(zip(classifier.feature_log_prob_[val], feature_names), reverse = True)[:n]\n",
    "    print(topn_class)\n"
   ]
  },
  {
   "cell_type": "code",
   "execution_count": 129,
   "metadata": {},
   "outputs": [
    {
     "name": "stdout",
     "output_type": "stream",
     "text": [
      "[(-3.3645886423351214, 'talk'), (-4.0577348069668364, 'support'), (-4.7508799556734154, 'urban'), (-4.7508799556734154, 'states'), (-4.7508799556734154, 'st'), (-4.7508799556734154, 'science'), (-5.4440230725390162, 'written'), (-5.4440230725390162, 'writing'), (-5.4440230725390162, 'world'), (-5.4440230725390162, 'working')]\n"
     ]
    }
   ],
   "source": [
    "most_informative_feature(X_tr, neigh, 1)    "
   ]
  },
  {
   "cell_type": "markdown",
   "metadata": {
    "colab_type": "text",
    "id": "mq21rLlsN1OS"
   },
   "source": [
    "#### 2.4.1.2 Top 10 important features of negative class from<font color='red'> SET 1</font>"
   ]
  },
  {
   "cell_type": "code",
   "execution_count": 130,
   "metadata": {
    "colab": {},
    "colab_type": "code",
    "id": "4fG1Lm9CN1OT"
   },
   "outputs": [
    {
     "name": "stdout",
     "output_type": "stream",
     "text": [
      "[(-3.3643258233491462, 'talk'), (-4.0574674385058636, 'support'), (-4.7506034883522759, 'urban'), (-4.7506034883522759, 'states'), (-4.7506034883522759, 'st'), (-4.7506034883522759, 'science'), (-5.4437284078568231, 'written'), (-5.4437284078568231, 'writing'), (-5.4437284078568231, 'world'), (-5.4437284078568231, 'working')]\n"
     ]
    }
   ],
   "source": [
    "most_informative_feature(X_tr, neigh, 0)   "
   ]
  },
  {
   "cell_type": "markdown",
   "metadata": {
    "colab_type": "text",
    "id": "4c1EK-EgN1OZ"
   },
   "source": [
    "### 2.4.2 Applying Naive Bayes on TFIDF,<font color='red'> SET 2</font>"
   ]
  },
  {
   "cell_type": "code",
   "execution_count": 131,
   "metadata": {
    "colab": {},
    "colab_type": "code",
    "id": "QfJBWFlxN1Oa"
   },
   "outputs": [
    {
     "name": "stdout",
     "output_type": "stream",
     "text": [
      "Final Data matrix\n",
      "(14550, 1106) (14550,)\n",
      "(7167, 1106) (7167,)\n",
      "(10697, 1106) (10697,)\n",
      "====================================================================================================\n"
     ]
    }
   ],
   "source": [
    "# merge two sparse matrices: https://stackoverflow.com/a/19710648/4084039\n",
    "from scipy.sparse import hstack\n",
    "\n",
    "# Train data stack\n",
    "X_tr = hstack((X_Train_categories_one_hot,X_Train_sub_categories_one_hot,X_Train_school_state_one_hot,\n",
    "               X_Train_teacher_prefix_one_hot,X_Train_grade_cat_one_hot,X_Train_essay_tfidf,X_Train_titles_tfidf,\n",
    "               X_train_price_norm)).tocsr()\n",
    "\n",
    "# CV data Stack\n",
    "X_cr = hstack((X_CV_categories_one_hot,X_CV_sub_categories_one_hot,X_CV_school_state_one_hot,\n",
    "               X_CV_teacher_prefix_one_hot,X_CV_grade_cat_one_hot,X_CV_essay_tfidf,X_CV_titles_tfidf,\n",
    "               X_cv_price_norm)).tocsr()\n",
    "\n",
    "# Test Data Stack\n",
    "X_te = hstack((X_Test_categories_one_hot,X_Test_sub_categories_one_hot,X_Test_school_state_one_hot,\n",
    "               X_Test_teacher_prefix_one_hot,X_Test_grade_cat_one_hot,X_Test_essay_tfidf,X_Test_titles_tfidf,\n",
    "               X_test_price_norm)).tocsr()\n",
    "\n",
    "print(\"Final Data matrix\")\n",
    "print(X_tr.shape, y_train.shape)\n",
    "print(X_cr.shape, y_cv.shape)\n",
    "print(X_te.shape, y_test.shape)\n",
    "print(\"=\"*100)"
   ]
  },
  {
   "cell_type": "code",
   "execution_count": 132,
   "metadata": {},
   "outputs": [
    {
     "name": "stderr",
     "output_type": "stream",
     "text": [
      "100%|██████████████████████████████████████████████████████████████████████████████████| 10/10 [00:01<00:00,  8.06it/s]\n"
     ]
    },
    {
     "data": {
      "image/png": "[encoded data removed]",
      "text/plain": [
       "<Figure size 432x288 with 1 Axes>"
      ]
     },
     "metadata": {},
     "output_type": "display_data"
    }
   ],
   "source": [
    "# Plotting error plot, AUC vs alpha plot to get best alpha\n",
    "\n",
    "from sklearn.naive_bayes import MultinomialNB\n",
    "from sklearn.metrics import roc_auc_score\n",
    "\n",
    "train_auc = []\n",
    "cv_auc = []\n",
    "\n",
    "# Execute for different alpha values\n",
    "alpha = [0.00001, 0.0001, 0.001, 0.01, 0.1, 1, 10, 100, 1000, 10000]\n",
    "\n",
    "for i in tqdm(alpha):\n",
    "    \n",
    "    neigh = MultinomialNB(alpha=i)\n",
    "    neigh.fit(X_tr, y_train)\n",
    "\n",
    "    y_train_pred = batch_predict(neigh, X_tr)    \n",
    "    y_cv_pred = batch_predict(neigh, X_cr)\n",
    "\n",
    "    # roc_auc_score(y_true, y_score) the 2nd parameter should be probability estimates of the positive class\n",
    "    # not the predicted outputs\n",
    "    train_auc.append(roc_auc_score(y_train, y_train_pred))\n",
    "    cv_auc.append(roc_auc_score(y_cv, y_cv_pred))\n",
    "\n",
    "plt.plot(alpha, train_auc, label='Train AUC')\n",
    "plt.plot(alpha, cv_auc, label='CV AUC')\n",
    "\n",
    "plt.scatter(alpha, train_auc, label='Train AUC points')\n",
    "plt.scatter(alpha, cv_auc, label='CV AUC points')\n",
    "\n",
    "plt.xscale('log')\n",
    "plt.legend()\n",
    "plt.xlabel(\"alpha: hyperparameter\")\n",
    "plt.ylabel(\"AUC\")\n",
    "plt.title(\"ERROR PLOTS\")\n",
    "plt.grid()\n",
    "plt.show()"
   ]
  },
  {
   "cell_type": "code",
   "execution_count": 133,
   "metadata": {},
   "outputs": [
    {
     "data": {
      "image/png": "[encoded data removed]",
      "text/plain": [
       "<Figure size 432x288 with 1 Axes>"
      ]
     },
     "metadata": {},
     "output_type": "display_data"
    }
   ],
   "source": [
    "# https://scikit-learn.org/stable/modules/generated/sklearn.model_selection.GridSearchCV.html\n",
    "from sklearn.model_selection import GridSearchCV\n",
    "\n",
    "neigh = MultinomialNB()\n",
    "parameters = {'alpha':[0.00001, 0.0001, 0.001, 0.01, 0.1, 1, 10, 100, 1000, 10000]}\n",
    "clf = GridSearchCV(neigh, parameters, cv=3, scoring='roc_auc')\n",
    "clf.fit(X_tr, y_train)\n",
    "\n",
    "train_auc= clf.cv_results_['mean_train_score']\n",
    "train_auc_std= clf.cv_results_['std_train_score']\n",
    "cv_auc = clf.cv_results_['mean_test_score'] \n",
    "cv_auc_std= clf.cv_results_['std_test_score']\n",
    "\n",
    "plt.plot(parameters['alpha'], train_auc, label='Train AUC')\n",
    "# this code is copied from here: https://stackoverflow.com/a/48803361/4084039\n",
    "plt.gca().fill_between(parameters['alpha'],train_auc - train_auc_std,train_auc + train_auc_std,alpha=0.2,color='darkblue')\n",
    "\n",
    "plt.plot(parameters['alpha'], cv_auc, label='CV AUC')\n",
    "# this code is copied from here: https://stackoverflow.com/a/48803361/4084039\n",
    "plt.gca().fill_between(parameters['alpha'],cv_auc - cv_auc_std,cv_auc + cv_auc_std,alpha=0.2,color='darkorange')\n",
    "\n",
    "plt.scatter(parameters['alpha'], train_auc, label='Train AUC points')\n",
    "plt.scatter(parameters['alpha'], cv_auc, label='CV AUC points')\n",
    "\n",
    "plt.xscale(\"log\")\n",
    "plt.legend()\n",
    "plt.xlabel(\"alpha: hyperparameter\")\n",
    "plt.ylabel(\"AUC\")\n",
    "plt.title(\"ERROR PLOTS\")\n",
    "plt.grid()\n",
    "plt.show()"
   ]
  },
  {
   "cell_type": "code",
   "execution_count": 137,
   "metadata": {},
   "outputs": [
    {
     "data": {
      "image/png": "[encoded data removed]",
      "text/plain": [
       "<Figure size 432x288 with 1 Axes>"
      ]
     },
     "metadata": {},
     "output_type": "display_data"
    }
   ],
   "source": [
    "# https://scikit-learn.org/stable/modules/generated/sklearn.metrics.roc_curve.html#sklearn.metrics.roc_curve\n",
    "from sklearn.metrics import roc_curve, auc\n",
    "\n",
    "\n",
    "neigh = MultinomialNB(alpha=0.1)\n",
    "neigh.fit(X_tr, y_train)\n",
    "# roc_auc_score(y_true, y_score) the 2nd parameter should be probability estimates of the positive class\n",
    "# not the predicted outputs\n",
    "\n",
    "y_train_pred = batch_predict(neigh, X_tr)    \n",
    "y_test_pred = batch_predict(neigh, X_te)\n",
    "\n",
    "train_fpr, train_tpr, tr_thresholds = roc_curve(y_train, y_train_pred)\n",
    "test_fpr, test_tpr, te_thresholds = roc_curve(y_test, y_test_pred)\n",
    "\n",
    "plt.plot(train_fpr, train_tpr, label=\"train AUC =\"+str(auc(train_fpr, train_tpr)))\n",
    "plt.plot(test_fpr, test_tpr, label=\"test AUC =\"+str(auc(test_fpr, test_tpr)))\n",
    "plt.legend()\n",
    "plt.xlabel(\"alpha: hyperparameter\")\n",
    "plt.ylabel(\"AUC\")\n",
    "plt.title(\"ERROR PLOTS\")\n",
    "plt.grid()\n",
    "plt.show()"
   ]
  },
  {
   "cell_type": "code",
   "execution_count": 138,
   "metadata": {},
   "outputs": [
    {
     "name": "stdout",
     "output_type": "stream",
     "text": [
      "====================================================================================================\n",
      "Train confusion matrix\n",
      "the maximum value of tpr*(1-fpr) 0.25 for threshold 0.777\n",
      "[[1123 1123]\n",
      " [2712 9592]]\n",
      "Test confusion matrix\n",
      "the maximum value of tpr*(1-fpr) 0.25 for threshold 0.84\n",
      "[[ 842  810]\n",
      " [3421 5624]]\n"
     ]
    }
   ],
   "source": [
    "print(\"=\"*100)\n",
    "from sklearn.metrics import confusion_matrix\n",
    "print(\"Train confusion matrix\")\n",
    "print(confusion_matrix(y_train, predict(y_train_pred, tr_thresholds, train_fpr, train_fpr)))\n",
    "print(\"Test confusion matrix\")\n",
    "print(confusion_matrix(y_test, predict(y_test_pred, tr_thresholds, test_fpr, test_fpr)))"
   ]
  },
  {
   "cell_type": "code",
   "execution_count": 139,
   "metadata": {},
   "outputs": [
    {
     "name": "stdout",
     "output_type": "stream",
     "text": [
      "the maximum value of tpr*(1-fpr) 0.25 for threshold 0.777\n",
      "Train Confusion Matrix\n"
     ]
    },
    {
     "data": {
      "text/plain": [
       "<matplotlib.axes._subplots.AxesSubplot at 0x23835c50ef0>"
      ]
     },
     "execution_count": 139,
     "metadata": {},
     "output_type": "execute_result"
    },
    {
     "data": {
      "image/png": "[encoded data removed]",
      "text/plain": [
       "<Figure size 432x288 with 2 Axes>"
      ]
     },
     "metadata": {},
     "output_type": "display_data"
    }
   ],
   "source": [
    "# https://seaborn.pydata.org/generated/seaborn.heatmap.html\n",
    "\n",
    "# Train Confusion Matrix Heatmap\n",
    "train_confusion_matrix = confusion_matrix(y_train, predict(y_train_pred, tr_thresholds, train_fpr, train_fpr))\n",
    "\n",
    "print(\"Train Confusion Matrix\")\n",
    "sns.heatmap(train_confusion_matrix,annot=True,linewidth = 0.5, cmap='coolwarm', fmt='g')\n",
    "\n"
   ]
  },
  {
   "cell_type": "code",
   "execution_count": 141,
   "metadata": {},
   "outputs": [
    {
     "name": "stdout",
     "output_type": "stream",
     "text": [
      "the maximum value of tpr*(1-fpr) 0.25 for threshold 0.84\n",
      "Test Confusion Matrix\n"
     ]
    },
    {
     "data": {
      "text/plain": [
       "<matplotlib.axes._subplots.AxesSubplot at 0x23833f92dd8>"
      ]
     },
     "execution_count": 141,
     "metadata": {},
     "output_type": "execute_result"
    },
    {
     "data": {
      "image/png": "[encoded data removed]",
      "text/plain": [
       "<Figure size 432x288 with 2 Axes>"
      ]
     },
     "metadata": {},
     "output_type": "display_data"
    }
   ],
   "source": [
    "# https://seaborn.pydata.org/generated/seaborn.heatmap.html\n",
    "\n",
    "# Test Confusion Matrix Heatmap\n",
    "\n",
    "test_confusion_matrix = confusion_matrix(y_test, predict(y_test_pred, tr_thresholds, test_fpr, test_fpr))\n",
    "\n",
    "print(\"Test Confusion Matrix\")\n",
    "sns.heatmap(test_confusion_matrix,annot=True,linewidth = 0.5, cmap='coolwarm', fmt='g')"
   ]
  },
  {
   "cell_type": "markdown",
   "metadata": {
    "colab_type": "text",
    "id": "RlDghTPlN1Oc"
   },
   "source": [
    "#### 2.4.2.1 Top 10 important features of positive class from<font color='red'> SET 2</font>"
   ]
  },
  {
   "cell_type": "code",
   "execution_count": 142,
   "metadata": {
    "colab": {},
    "colab_type": "code",
    "id": "MuYcE0THN1Oc"
   },
   "outputs": [
    {
     "name": "stdout",
     "output_type": "stream",
     "text": [
      "[(-3.5538490010640977, 'questions'), (-3.6256801792598168, 'attend'), (-3.891711544862968, 'asking'), (-3.9298189891016051, 'race'), (-4.0400219001795481, 'talk'), (-4.0468373164315405, 'especially'), (-4.2684524990924402, 'english'), (-4.5054667169393907, 'engineering'), (-4.7331438669791206, 'support'), (-4.8546941460524886, 'fiction')]\n"
     ]
    }
   ],
   "source": [
    "most_informative_feature(X_tr, neigh, 1)    "
   ]
  },
  {
   "cell_type": "markdown",
   "metadata": {
    "colab_type": "text",
    "id": "E2F4tscgN1Oe"
   },
   "source": [
    "#### 2.4.2.2 Top 10 important features of negative class from<font color='red'> SET 2</font>"
   ]
  },
  {
   "cell_type": "code",
   "execution_count": 143,
   "metadata": {
    "colab": {},
    "colab_type": "code",
    "id": "8-u4Xh2UN1Og"
   },
   "outputs": [
    {
     "name": "stdout",
     "output_type": "stream",
     "text": [
      "[(-3.5773840055009209, 'questions'), (-3.7492724360904841, 'attend'), (-3.8279259250838367, 'asking'), (-3.9181933539031624, 'race'), (-4.0366418425026787, 'talk'), (-4.2344565036418791, 'especially'), (-4.2497213862093846, 'english'), (-4.5413421571343058, 'engineering'), (-4.7296509208480133, 'support'), (-4.8435422861731219, 'engaging')]\n"
     ]
    }
   ],
   "source": [
    "most_informative_feature(X_tr, neigh, 0)    "
   ]
  },
  {
   "cell_type": "markdown",
   "metadata": {
    "colab_type": "text",
    "id": "vz0LvF7mN1Oi"
   },
   "source": [
    "<h1>3. Conclusions</h1>"
   ]
  },
  {
   "cell_type": "code",
   "execution_count": 144,
   "metadata": {
    "colab": {},
    "colab_type": "code",
    "id": "nxMjhk9xN1Oi"
   },
   "outputs": [
    {
     "name": "stdout",
     "output_type": "stream",
     "text": [
      "+----------------------+------------------+-----------+----------+\n",
      "|    Featurization     | Best alpha Value | Train AUC | Test AUC |\n",
      "+----------------------+------------------+-----------+----------+\n",
      "|  Naive Bayes on BOW  |       0.1        |    0.71   |   0.58   |\n",
      "| Naive Bayes on TFIDF |       0.1        |    0.71   |   0.58   |\n",
      "+----------------------+------------------+-----------+----------+\n"
     ]
    }
   ],
   "source": [
    "# http://zetcode.com/python/prettytable/\n",
    "\n",
    "from prettytable import PrettyTable\n",
    "\n",
    "x = PrettyTable()\n",
    "\n",
    "x.field_names = [\"Featurization\", \"Best alpha Value\", \"Train AUC\", \"Test AUC\"]\n",
    "\n",
    "x.add_row([\"Naive Bayes on BOW\", 0.1, 0.71, 0.58])\n",
    "x.add_row([\"Naive Bayes on TFIDF\", 0.1, 0.71, 0.58])\n",
    "\n",
    "print(x)"
   ]
  },
  {
   "cell_type": "markdown",
   "metadata": {},
   "source": [
    "**Observations**\n",
    "\n",
    "1. Very high or very low alpha value does not seems to be working fine on model.\n",
    "\n",
    "2. Time taken by Naive Bayes model is extremely less as compared to other models.\n",
    "\n",
    "3. Both set has alpha value works well in the range of 0 to 100.\n",
    "\n"
   ]
  },
  {
   "cell_type": "code",
   "execution_count": null,
   "metadata": {
    "collapsed": true
   },
   "outputs": [],
   "source": []
  }
 ],
 "metadata": {
  "colab": {
   "collapsed_sections": [
    "hrCuADG4N1M-",
    "-U5bh83MN1NM",
    "_ht9enK1N1NT",
    "sYQKSZ_tN1NX",
    "n4vhAHnMN1Nf",
    "xzli_RRdN1OM",
    "WcsQ4_6VN1OQ",
    "mq21rLlsN1OS",
    "4c1EK-EgN1OZ",
    "RlDghTPlN1Oc",
    "E2F4tscgN1Oe"
   ],
   "name": "4_DonorsChoose_NB.ipynb",
   "provenance": [],
   "version": "0.3.2"
  },
  "kernelspec": {
   "display_name": "Python 3",
   "language": "python",
   "name": "python3"
  },
  "language_info": {
   "codemirror_mode": {
    "name": "ipython",
    "version": 3
   },
   "file_extension": ".py",
   "mimetype": "text/x-python",
   "name": "python",
   "nbconvert_exporter": "python",
   "pygments_lexer": "ipython3",
   "version": "3.6.2"
  }
 },
 "nbformat": 4,
 "nbformat_minor": 1
}
