{
 "cells": [
  {
   "cell_type": "markdown",
   "metadata": {
    "colab_type": "text",
    "id": "33R7Ev5IoUFw"
   },
   "source": [
    "# DonorsChoose"
   ]
  },
  {
   "cell_type": "markdown",
   "metadata": {
    "colab_type": "text",
    "id": "33uDdN2EoUFz"
   },
   "source": [
    "<p>\n",
    "DonorsChoose.org receives hundreds of thousands of project proposals each year for classroom projects in need of funding. Right now, a large number of volunteers is needed to manually screen each submission before it's approved to be posted on the DonorsChoose.org website.\n",
    "</p>\n",
    "<p>\n",
    "    Next year, DonorsChoose.org expects to receive close to 500,000 project proposals. As a result, there are three main problems they need to solve:\n",
    "<ul>\n",
    "<li>\n",
    "    How to scale current manual processes and resources to screen 500,000 projects so that they can be posted as quickly and as efficiently as possible</li>\n",
    "    <li>How to increase the consistency of project vetting across different volunteers to improve the experience for teachers</li>\n",
    "    <li>How to focus volunteer time on the applications that need the most assistance</li>\n",
    "    </ul>\n",
    "</p>    \n",
    "<p>\n",
    "The goal of the competition is to predict whether or not a DonorsChoose.org project proposal submitted by a teacher will be approved, using the text of project descriptions as well as additional metadata about the project, teacher, and school. DonorsChoose.org can then use this information to identify projects most likely to need further review before approval.\n",
    "</p>"
   ]
  },
  {
   "cell_type": "markdown",
   "metadata": {
    "colab_type": "text",
    "id": "W447mRzLoUF2"
   },
   "source": [
    "## About the DonorsChoose Data Set\n",
    "\n",
    "The `train.csv` data set provided by DonorsChoose contains the following features:\n",
    "\n",
    "Feature | Description \n",
    "----------|---------------\n",
    "**`project_id`** | A unique identifier for the proposed project. **Example:** `p036502`   \n",
    "**`project_title`**    | Title of the project. **Examples:**<br><ul><li><code>Art Will Make You Happy!</code></li><li><code>First Grade Fun</code></li></ul> \n",
    "**`project_grade_category`** | Grade level of students for which the project is targeted. One of the following enumerated values: <br/><ul><li><code>Grades PreK-2</code></li><li><code>Grades 3-5</code></li><li><code>Grades 6-8</code></li><li><code>Grades 9-12</code></li></ul>  \n",
    " **`project_subject_categories`** | One or more (comma-separated) subject categories for the project from the following enumerated list of values:  <br/><ul><li><code>Applied Learning</code></li><li><code>Care &amp; Hunger</code></li><li><code>Health &amp; Sports</code></li><li><code>History &amp; Civics</code></li><li><code>Literacy &amp; Language</code></li><li><code>Math &amp; Science</code></li><li><code>Music &amp; The Arts</code></li><li><code>Special Needs</code></li><li><code>Warmth</code></li></ul><br/> **Examples:** <br/><ul><li><code>Music &amp; The Arts</code></li><li><code>Literacy &amp; Language, Math &amp; Science</code></li>  \n",
    "  **`school_state`** | State where school is located ([Two-letter U.S. postal code](https://en.wikipedia.org/wiki/List_of_U.S._state_abbreviations#Postal_codes)). **Example:** `WY`\n",
    "**`project_subject_subcategories`** | One or more (comma-separated) subject subcategories for the project. **Examples:** <br/><ul><li><code>Literacy</code></li><li><code>Literature &amp; Writing, Social Sciences</code></li></ul> \n",
    "**`project_resource_summary`** | An explanation of the resources needed for the project. **Example:** <br/><ul><li><code>My students need hands on literacy materials to manage sensory needs!</code</li></ul> \n",
    "**`project_essay_1`**    | First application essay<sup>*</sup>  \n",
    "**`project_essay_2`**    | Second application essay<sup>*</sup> \n",
    "**`project_essay_3`**    | Third application essay<sup>*</sup> \n",
    "**`project_essay_4`**    | Fourth application essay<sup>*</sup> \n",
    "**`project_submitted_datetime`** | Datetime when project application was submitted. **Example:** `2016-04-28 12:43:56.245`   \n",
    "**`teacher_id`** | A unique identifier for the teacher of the proposed project. **Example:** `bdf8baa8fedef6bfeec7ae4ff1c15c56`  \n",
    "**`teacher_prefix`** | Teacher's title. One of the following enumerated values: <br/><ul><li><code>nan</code></li><li><code>Dr.</code></li><li><code>Mr.</code></li><li><code>Mrs.</code></li><li><code>Ms.</code></li><li><code>Teacher.</code></li></ul>  \n",
    "**`teacher_number_of_previously_posted_projects`** | Number of project applications previously submitted by the same teacher. **Example:** `2` \n",
    "\n",
    "<sup>*</sup> See the section <b>Notes on the Essay Data</b> for more details about these features.\n",
    "\n",
    "Additionally, the `resources.csv` data set provides more data about the resources required for each project. Each line in this file represents a resource required by a project:\n",
    "\n",
    "Feature | Description \n",
    "----------|---------------\n",
    "**`id`** | A `project_id` value from the `train.csv` file.  **Example:** `p036502`   \n",
    "**`description`** | Desciption of the resource. **Example:** `Tenor Saxophone Reeds, Box of 25`   \n",
    "**`quantity`** | Quantity of the resource required. **Example:** `3`   \n",
    "**`price`** | Price of the resource required. **Example:** `9.95`   \n",
    "\n",
    "**Note:** Many projects require multiple resources. The `id` value corresponds to a `project_id` in train.csv, so you use it as a key to retrieve all resources needed for a project:\n",
    "\n",
    "The data set contains the following label (the value you will attempt to predict):\n",
    "\n",
    "Label | Description\n",
    "----------|---------------\n",
    "`project_is_approved` | A binary flag indicating whether DonorsChoose approved the project. A value of `0` indicates the project was not approved, and a value of `1` indicates the project was approved."
   ]
  },
  {
   "cell_type": "markdown",
   "metadata": {
    "colab_type": "text",
    "id": "iydYV-rsoUF4"
   },
   "source": [
    "### Notes on the Essay Data\n",
    "\n",
    "<ul>\n",
    "Prior to May 17, 2016, the prompts for the essays were as follows:\n",
    "<li>__project_essay_1:__ \"Introduce us to your classroom\"</li>\n",
    "<li>__project_essay_2:__ \"Tell us more about your students\"</li>\n",
    "<li>__project_essay_3:__ \"Describe how your students will use the materials you're requesting\"</li>\n",
    "<li>__project_essay_3:__ \"Close by sharing why your project will make a difference\"</li>\n",
    "</ul>\n",
    "\n",
    "\n",
    "<ul>\n",
    "Starting on May 17, 2016, the number of essays was reduced from 4 to 2, and the prompts for the first 2 essays were changed to the following:<br>\n",
    "<li>__project_essay_1:__ \"Describe your students: What makes your students special? Specific details about their background, your neighborhood, and your school are all helpful.\"</li>\n",
    "<li>__project_essay_2:__ \"About your project: How will these materials make a difference in your students' learning and improve their school lives?\"</li>\n",
    "<br>For all projects with project_submitted_datetime of 2016-05-17 and later, the values of project_essay_3 and project_essay_4 will be NaN.\n",
    "</ul>\n"
   ]
  },
  {
   "cell_type": "code",
   "execution_count": 1,
   "metadata": {
    "colab": {},
    "colab_type": "code",
    "id": "CB_mY9_roUF6",
    "outputId": "e9ecaa59-1666-4996-d932-79fab4aec227"
   },
   "outputs": [
    {
     "name": "stderr",
     "output_type": "stream",
     "text": [
      "IOPub data rate exceeded.\n",
      "The notebook server will temporarily stop sending output\n",
      "to the client in order to avoid crashing it.\n",
      "To change this limit, set the config variable\n",
      "`--NotebookApp.iopub_data_rate_limit`.\n"
     ]
    }
   ],
   "source": [
    "%matplotlib inline\n",
    "import warnings\n",
    "warnings.filterwarnings(\"ignore\")\n",
    "\n",
    "import sqlite3\n",
    "import pandas as pd\n",
    "import numpy as np\n",
    "import nltk\n",
    "import string\n",
    "import matplotlib.pyplot as plt\n",
    "import seaborn as sns\n",
    "from sklearn.feature_extraction.text import TfidfTransformer\n",
    "from sklearn.feature_extraction.text import TfidfVectorizer\n",
    "\n",
    "from sklearn.feature_extraction.text import CountVectorizer\n",
    "from sklearn.metrics import confusion_matrix\n",
    "from sklearn import metrics\n",
    "from sklearn.metrics import roc_curve, auc\n",
    "from nltk.stem.porter import PorterStemmer\n",
    "\n",
    "import re\n",
    "# Tutorial about Python regular expressions: https://pymotw.com/2/re/\n",
    "import string\n",
    "from nltk.corpus import stopwords\n",
    "from nltk.stem import PorterStemmer\n",
    "from nltk.stem.wordnet import WordNetLemmatizer\n",
    "\n",
    "from gensim.models import Word2Vec\n",
    "from gensim.models import KeyedVectors\n",
    "import pickle\n",
    "\n",
    "from tqdm import tqdm\n",
    "import os\n",
    "\n",
    "from plotly import plotly\n",
    "import plotly.offline as offline\n",
    "import plotly.graph_objs as go\n",
    "offline.init_notebook_mode()\n",
    "from collections import Counter"
   ]
  },
  {
   "cell_type": "markdown",
   "metadata": {
    "colab_type": "text",
    "id": "XbVmhJgKoUGE"
   },
   "source": [
    "## 1.1 Reading Data"
   ]
  },
  {
   "cell_type": "code",
   "execution_count": 2,
   "metadata": {
    "colab": {},
    "colab_type": "code",
    "collapsed": true,
    "id": "fv9wFU8ZoUGF"
   },
   "outputs": [],
   "source": [
    "project_data = pd.read_csv('train_data.csv')\n",
    "resource_data = pd.read_csv('resources.csv')"
   ]
  },
  {
   "cell_type": "code",
   "execution_count": 3,
   "metadata": {
    "colab": {},
    "colab_type": "code",
    "id": "GAYzkeNtoUGJ",
    "outputId": "88b611ff-da90-41fe-ae21-91a4eef86906"
   },
   "outputs": [
    {
     "name": "stdout",
     "output_type": "stream",
     "text": [
      "Number of data points in train data (109248, 17)\n",
      "--------------------------------------------------\n",
      "The attributes of data : ['Unnamed: 0' 'id' 'teacher_id' 'teacher_prefix' 'school_state'\n",
      " 'project_submitted_datetime' 'project_grade_category'\n",
      " 'project_subject_categories' 'project_subject_subcategories'\n",
      " 'project_title' 'project_essay_1' 'project_essay_2' 'project_essay_3'\n",
      " 'project_essay_4' 'project_resource_summary'\n",
      " 'teacher_number_of_previously_posted_projects' 'project_is_approved']\n"
     ]
    }
   ],
   "source": [
    "print(\"Number of data points in train data\", project_data.shape)\n",
    "print('-'*50)\n",
    "print(\"The attributes of data :\", project_data.columns.values)"
   ]
  },
  {
   "cell_type": "code",
   "execution_count": 4,
   "metadata": {
    "colab": {},
    "colab_type": "code",
    "id": "RcShjQotoUGQ",
    "outputId": "5d400178-f25a-46f6-ffd8-6657f022fd33"
   },
   "outputs": [
    {
     "name": "stdout",
     "output_type": "stream",
     "text": [
      "Number of data points in train data (1541272, 4)\n",
      "['id' 'description' 'quantity' 'price']\n"
     ]
    },
    {
     "data": {
      "text/html": [
       "<div>\n",
       "<style>\n",
       "    .dataframe thead tr:only-child th {\n",
       "        text-align: right;\n",
       "    }\n",
       "\n",
       "    .dataframe thead th {\n",
       "        text-align: left;\n",
       "    }\n",
       "\n",
       "    .dataframe tbody tr th {\n",
       "        vertical-align: top;\n",
       "    }\n",
       "</style>\n",
       "<table border=\"1\" class=\"dataframe\">\n",
       "  <thead>\n",
       "    <tr style=\"text-align: right;\">\n",
       "      <th></th>\n",
       "      <th>id</th>\n",
       "      <th>description</th>\n",
       "      <th>quantity</th>\n",
       "      <th>price</th>\n",
       "    </tr>\n",
       "  </thead>\n",
       "  <tbody>\n",
       "    <tr>\n",
       "      <th>0</th>\n",
       "      <td>p233245</td>\n",
       "      <td>LC652 - Lakeshore Double-Space Mobile Drying Rack</td>\n",
       "      <td>1</td>\n",
       "      <td>149.00</td>\n",
       "    </tr>\n",
       "    <tr>\n",
       "      <th>1</th>\n",
       "      <td>p069063</td>\n",
       "      <td>Bouncy Bands for Desks (Blue support pipes)</td>\n",
       "      <td>3</td>\n",
       "      <td>14.95</td>\n",
       "    </tr>\n",
       "  </tbody>\n",
       "</table>\n",
       "</div>"
      ],
      "text/plain": [
       "        id                                        description  quantity  \\\n",
       "0  p233245  LC652 - Lakeshore Double-Space Mobile Drying Rack         1   \n",
       "1  p069063        Bouncy Bands for Desks (Blue support pipes)         3   \n",
       "\n",
       "    price  \n",
       "0  149.00  \n",
       "1   14.95  "
      ]
     },
     "execution_count": 4,
     "metadata": {},
     "output_type": "execute_result"
    }
   ],
   "source": [
    "print(\"Number of data points in train data\", resource_data.shape)\n",
    "print(resource_data.columns.values)\n",
    "resource_data.head(2)"
   ]
  },
  {
   "cell_type": "markdown",
   "metadata": {
    "colab_type": "text",
    "id": "WpalDcGUoUGW"
   },
   "source": [
    "## 1.2 preprocessing of `project_subject_categories`"
   ]
  },
  {
   "cell_type": "code",
   "execution_count": 5,
   "metadata": {
    "colab": {},
    "colab_type": "code",
    "collapsed": true,
    "id": "eM4RYg1qoUGX"
   },
   "outputs": [],
   "source": [
    "catogories = list(project_data['project_subject_categories'].values)\n",
    "# remove special characters from list of strings python: https://stackoverflow.com/a/47301924/4084039\n",
    "\n",
    "# https://www.geeksforgeeks.org/removing-stop-words-nltk-python/\n",
    "# https://stackoverflow.com/questions/23669024/how-to-strip-a-specific-word-from-a-string\n",
    "# https://stackoverflow.com/questions/8270092/remove-all-whitespace-in-a-string-in-python\n",
    "cat_list = []\n",
    "for i in catogories:\n",
    "    temp = \"\"\n",
    "    # consider we have text like this \"Math & Science, Warmth, Care & Hunger\"\n",
    "    for j in i.split(','): # it will split it in three parts [\"Math & Science\", \"Warmth\", \"Care & Hunger\"]\n",
    "        if 'The' in j.split(): # this will split each of the catogory based on space \"Math & Science\"=> \"Math\",\"&\", \"Science\"\n",
    "            j=j.replace('The','') # if we have the words \"The\" we are going to replace it with ''(i.e removing 'The')\n",
    "        j = j.replace(' ','') # we are placeing all the ' '(space) with ''(empty) ex:\"Math & Science\"=>\"Math&Science\"\n",
    "        temp+=j.strip()+\" \" #\" abc \".strip() will return \"abc\", remove the trailing spaces\n",
    "        temp = temp.replace('&','_') # we are replacing the & value into \n",
    "    cat_list.append(temp.strip())\n",
    "    \n",
    "project_data['clean_categories'] = cat_list\n",
    "project_data.drop(['project_subject_categories'], axis=1, inplace=True)\n",
    "\n",
    "from collections import Counter\n",
    "my_counter = Counter()\n",
    "for word in project_data['clean_categories'].values:\n",
    "    my_counter.update(word.split())\n",
    "\n",
    "cat_dict = dict(my_counter)\n",
    "sorted_cat_dict = dict(sorted(cat_dict.items(), key=lambda kv: kv[1]))\n"
   ]
  },
  {
   "cell_type": "markdown",
   "metadata": {
    "colab_type": "text",
    "id": "EMP3hhkvoUGb"
   },
   "source": [
    "## 1.3 preprocessing of `project_subject_subcategories`"
   ]
  },
  {
   "cell_type": "code",
   "execution_count": 6,
   "metadata": {
    "colab": {},
    "colab_type": "code",
    "collapsed": true,
    "id": "DGM4QvrQoUGc"
   },
   "outputs": [],
   "source": [
    "sub_catogories = list(project_data['project_subject_subcategories'].values)\n",
    "# remove special characters from list of strings python: https://stackoverflow.com/a/47301924/4084039\n",
    "\n",
    "# https://www.geeksforgeeks.org/removing-stop-words-nltk-python/\n",
    "# https://stackoverflow.com/questions/23669024/how-to-strip-a-specific-word-from-a-string\n",
    "# https://stackoverflow.com/questions/8270092/remove-all-whitespace-in-a-string-in-python\n",
    "\n",
    "sub_cat_list = []\n",
    "for i in sub_catogories:\n",
    "    temp = \"\"\n",
    "    # consider we have text like this \"Math & Science, Warmth, Care & Hunger\"\n",
    "    for j in i.split(','): # it will split it in three parts [\"Math & Science\", \"Warmth\", \"Care & Hunger\"]\n",
    "        if 'The' in j.split(): # this will split each of the catogory based on space \"Math & Science\"=> \"Math\",\"&\", \"Science\"\n",
    "            j=j.replace('The','') # if we have the words \"The\" we are going to replace it with ''(i.e removing 'The')\n",
    "        j = j.replace(' ','') # we are placeing all the ' '(space) with ''(empty) ex:\"Math & Science\"=>\"Math&Science\"\n",
    "        temp +=j.strip()+\" \"#\" abc \".strip() will return \"abc\", remove the trailing spaces\n",
    "        temp = temp.replace('&','_')\n",
    "    sub_cat_list.append(temp.strip())\n",
    "\n",
    "project_data['clean_subcategories'] = sub_cat_list\n",
    "project_data.drop(['project_subject_subcategories'], axis=1, inplace=True)\n",
    "\n",
    "# count of all the words in corpus python: https://stackoverflow.com/a/22898595/4084039\n",
    "my_counter = Counter()\n",
    "for word in project_data['clean_subcategories'].values:\n",
    "    my_counter.update(word.split())\n",
    "    \n",
    "sub_cat_dict = dict(my_counter)\n",
    "sorted_sub_cat_dict = dict(sorted(sub_cat_dict.items(), key=lambda kv: kv[1]))"
   ]
  },
  {
   "cell_type": "markdown",
   "metadata": {
    "colab_type": "text",
    "id": "9LdJ4JOloUGf"
   },
   "source": [
    "## 1.3 Text preprocessing"
   ]
  },
  {
   "cell_type": "code",
   "execution_count": 7,
   "metadata": {
    "colab": {},
    "colab_type": "code",
    "collapsed": true,
    "id": "JRmyuIgeoUGh"
   },
   "outputs": [],
   "source": [
    "# merge two column text dataframe: \n",
    "project_data[\"essay\"] = project_data[\"project_essay_1\"].map(str) +\\\n",
    "                        project_data[\"project_essay_2\"].map(str) + \\\n",
    "                        project_data[\"project_essay_3\"].map(str) + \\\n",
    "                        project_data[\"project_essay_4\"].map(str)"
   ]
  },
  {
   "cell_type": "code",
   "execution_count": 8,
   "metadata": {
    "colab": {},
    "colab_type": "code",
    "id": "8vCZZ8sKoUGk",
    "outputId": "a3e673c8-d33b-4803-8095-6185727695fa"
   },
   "outputs": [
    {
     "data": {
      "text/html": [
       "<div>\n",
       "<style>\n",
       "    .dataframe thead tr:only-child th {\n",
       "        text-align: right;\n",
       "    }\n",
       "\n",
       "    .dataframe thead th {\n",
       "        text-align: left;\n",
       "    }\n",
       "\n",
       "    .dataframe tbody tr th {\n",
       "        vertical-align: top;\n",
       "    }\n",
       "</style>\n",
       "<table border=\"1\" class=\"dataframe\">\n",
       "  <thead>\n",
       "    <tr style=\"text-align: right;\">\n",
       "      <th></th>\n",
       "      <th>Unnamed: 0</th>\n",
       "      <th>id</th>\n",
       "      <th>teacher_id</th>\n",
       "      <th>teacher_prefix</th>\n",
       "      <th>school_state</th>\n",
       "      <th>project_submitted_datetime</th>\n",
       "      <th>project_grade_category</th>\n",
       "      <th>project_title</th>\n",
       "      <th>project_essay_1</th>\n",
       "      <th>project_essay_2</th>\n",
       "      <th>project_essay_3</th>\n",
       "      <th>project_essay_4</th>\n",
       "      <th>project_resource_summary</th>\n",
       "      <th>teacher_number_of_previously_posted_projects</th>\n",
       "      <th>project_is_approved</th>\n",
       "      <th>clean_categories</th>\n",
       "      <th>clean_subcategories</th>\n",
       "      <th>essay</th>\n",
       "    </tr>\n",
       "  </thead>\n",
       "  <tbody>\n",
       "    <tr>\n",
       "      <th>0</th>\n",
       "      <td>160221</td>\n",
       "      <td>p253737</td>\n",
       "      <td>c90749f5d961ff158d4b4d1e7dc665fc</td>\n",
       "      <td>Mrs.</td>\n",
       "      <td>IN</td>\n",
       "      <td>2016-12-05 13:43:57</td>\n",
       "      <td>Grades PreK-2</td>\n",
       "      <td>Educational Support for English Learners at Home</td>\n",
       "      <td>My students are English learners that are work...</td>\n",
       "      <td>\\\"The limits of your language are the limits o...</td>\n",
       "      <td>NaN</td>\n",
       "      <td>NaN</td>\n",
       "      <td>My students need opportunities to practice beg...</td>\n",
       "      <td>0</td>\n",
       "      <td>0</td>\n",
       "      <td>Literacy_Language</td>\n",
       "      <td>ESL Literacy</td>\n",
       "      <td>My students are English learners that are work...</td>\n",
       "    </tr>\n",
       "    <tr>\n",
       "      <th>1</th>\n",
       "      <td>140945</td>\n",
       "      <td>p258326</td>\n",
       "      <td>897464ce9ddc600bced1151f324dd63a</td>\n",
       "      <td>Mr.</td>\n",
       "      <td>FL</td>\n",
       "      <td>2016-10-25 09:22:10</td>\n",
       "      <td>Grades 6-8</td>\n",
       "      <td>Wanted: Projector for Hungry Learners</td>\n",
       "      <td>Our students arrive to our school eager to lea...</td>\n",
       "      <td>The projector we need for our school is very c...</td>\n",
       "      <td>NaN</td>\n",
       "      <td>NaN</td>\n",
       "      <td>My students need a projector to help with view...</td>\n",
       "      <td>7</td>\n",
       "      <td>1</td>\n",
       "      <td>History_Civics Health_Sports</td>\n",
       "      <td>Civics_Government TeamSports</td>\n",
       "      <td>Our students arrive to our school eager to lea...</td>\n",
       "    </tr>\n",
       "  </tbody>\n",
       "</table>\n",
       "</div>"
      ],
      "text/plain": [
       "   Unnamed: 0       id                        teacher_id teacher_prefix  \\\n",
       "0      160221  p253737  c90749f5d961ff158d4b4d1e7dc665fc           Mrs.   \n",
       "1      140945  p258326  897464ce9ddc600bced1151f324dd63a            Mr.   \n",
       "\n",
       "  school_state project_submitted_datetime project_grade_category  \\\n",
       "0           IN        2016-12-05 13:43:57          Grades PreK-2   \n",
       "1           FL        2016-10-25 09:22:10             Grades 6-8   \n",
       "\n",
       "                                      project_title  \\\n",
       "0  Educational Support for English Learners at Home   \n",
       "1             Wanted: Projector for Hungry Learners   \n",
       "\n",
       "                                     project_essay_1  \\\n",
       "0  My students are English learners that are work...   \n",
       "1  Our students arrive to our school eager to lea...   \n",
       "\n",
       "                                     project_essay_2 project_essay_3  \\\n",
       "0  \\\"The limits of your language are the limits o...             NaN   \n",
       "1  The projector we need for our school is very c...             NaN   \n",
       "\n",
       "  project_essay_4                           project_resource_summary  \\\n",
       "0             NaN  My students need opportunities to practice beg...   \n",
       "1             NaN  My students need a projector to help with view...   \n",
       "\n",
       "   teacher_number_of_previously_posted_projects  project_is_approved  \\\n",
       "0                                             0                    0   \n",
       "1                                             7                    1   \n",
       "\n",
       "               clean_categories           clean_subcategories  \\\n",
       "0             Literacy_Language                  ESL Literacy   \n",
       "1  History_Civics Health_Sports  Civics_Government TeamSports   \n",
       "\n",
       "                                               essay  \n",
       "0  My students are English learners that are work...  \n",
       "1  Our students arrive to our school eager to lea...  "
      ]
     },
     "execution_count": 8,
     "metadata": {},
     "output_type": "execute_result"
    }
   ],
   "source": [
    "project_data.head(2)"
   ]
  },
  {
   "cell_type": "code",
   "execution_count": 9,
   "metadata": {
    "colab": {},
    "colab_type": "code",
    "collapsed": true,
    "id": "y1IMIH5ioUGo"
   },
   "outputs": [],
   "source": [
    "#### 1.4.2.3 Using Pretrained Models: TFIDF weighted W2V"
   ]
  },
  {
   "cell_type": "code",
   "execution_count": 10,
   "metadata": {
    "colab": {},
    "colab_type": "code",
    "id": "ghjkQ5NJoUGq",
    "outputId": "1e5cb6dd-5776-4fe5-be4a-f541a82341d4"
   },
   "outputs": [
    {
     "name": "stdout",
     "output_type": "stream",
     "text": [
      "My students are English learners that are working on English as their second or third languages. We are a melting pot of refugees, immigrants, and native-born Americans bringing the gift of language to our school. \\r\\n\\r\\n We have over 24 languages represented in our English Learner program with students at every level of mastery.  We also have over 40 countries represented with the families within our school.  Each student brings a wealth of knowledge and experiences to us that open our eyes to new cultures, beliefs, and respect.\\\"The limits of your language are the limits of your world.\\\"-Ludwig Wittgenstein  Our English learner's have a strong support system at home that begs for more resources.  Many times our parents are learning to read and speak English along side of their children.  Sometimes this creates barriers for parents to be able to help their child learn phonetics, letter recognition, and other reading skills.\\r\\n\\r\\nBy providing these dvd's and players, students are able to continue their mastery of the English language even if no one at home is able to assist.  All families with students within the Level 1 proficiency status, will be a offered to be a part of this program.  These educational videos will be specially chosen by the English Learner Teacher and will be sent home regularly to watch.  The videos are to help the child develop early reading skills.\\r\\n\\r\\nParents that do not have access to a dvd player will have the opportunity to check out a dvd player to use for the year.  The plan is to use these videos and educational dvd's for the years to come for other EL students.\\r\\nnannan\n",
      "==================================================\n",
      "The 51 fifth grade students that will cycle through my classroom this year all love learning, at least most of the time. At our school, 97.3% of the students receive free or reduced price lunch. Of the 560 students, 97.3% are minority students. \\r\\nThe school has a vibrant community that loves to get together and celebrate. Around Halloween there is a whole school parade to show off the beautiful costumes that students wear. On Cinco de Mayo we put on a big festival with crafts made by the students, dances, and games. At the end of the year the school hosts a carnival to celebrate the hard work put in during the school year, with a dunk tank being the most popular activity.My students will use these five brightly colored Hokki stools in place of regular, stationary, 4-legged chairs. As I will only have a total of ten in the classroom and not enough for each student to have an individual one, they will be used in a variety of ways. During independent reading time they will be used as special chairs students will each use on occasion. I will utilize them in place of chairs at my small group tables during math and reading times. The rest of the day they will be used by the students who need the highest amount of movement in their life in order to stay focused on school.\\r\\n\\r\\nWhenever asked what the classroom is missing, my students always say more Hokki Stools. They can't get their fill of the 5 stools we already have. When the students are sitting in group with me on the Hokki Stools, they are always moving, but at the same time doing their work. Anytime the students get to pick where they can sit, the Hokki Stools are the first to be taken. There are always students who head over to the kidney table to get one of the stools who are disappointed as there are not enough of them. \\r\\n\\r\\nWe ask a lot of students to sit for 7 hours a day. The Hokki stools will be a compromise that allow my students to do desk work and move at the same time. These stools will help students to meet their 60 minutes a day of movement by allowing them to activate their core muscles for balance while they sit. For many of my students, these chairs will take away the barrier that exists in schools for a child who can't sit still.nannan\n",
      "==================================================\n",
      "How do you remember your days of school? Was it in a sterile environment with plain walls, rows of desks, and a teacher in front of the room? A typical day in our room is nothing like that. I work hard to create a warm inviting themed room for my students look forward to coming to each day.\\r\\n\\r\\nMy class is made up of 28 wonderfully unique boys and girls of mixed races in Arkansas.\\r\\nThey attend a Title I school, which means there is a high enough percentage of free and reduced-price lunch to qualify. Our school is an \\\"open classroom\\\" concept, which is very unique as there are no walls separating the classrooms. These 9 and 10 year-old students are very eager learners; they are like sponges, absorbing all the information and experiences and keep on wanting more.With these resources such as the comfy red throw pillows and the whimsical nautical hanging decor and the blue fish nets, I will be able to help create the mood in our classroom setting to be one of a themed nautical environment. Creating a classroom environment is very important in the success in each and every child's education. The nautical photo props will be used with each child as they step foot into our classroom for the first time on Meet the Teacher evening. I'll take pictures of each child with them, have them developed, and then hung in our classroom ready for their first day of 4th grade.  This kind gesture will set the tone before even the first day of school! The nautical thank you cards will be used throughout the year by the students as they create thank you cards to their team groups.\\r\\n\\r\\nYour generous donations will help me to help make our classroom a fun, inviting, learning environment from day one.\\r\\n\\r\\nIt costs lost of money out of my own pocket on resources to get our classroom ready. Please consider helping with this project to make our new school year a very successful one. Thank you!nannan\n",
      "==================================================\n",
      "My kindergarten students have varied disabilities ranging from speech and language delays, cognitive delays, gross/fine motor delays, to autism. They are eager beavers and always strive to work their hardest working past their limitations. \\r\\n\\r\\nThe materials we have are the ones I seek out for my students. I teach in a Title I school where most of the students receive free or reduced price lunch.  Despite their disabilities and limitations, my students love coming to school and come eager to learn and explore.Have you ever felt like you had ants in your pants and you needed to groove and move as you were in a meeting? This is how my kids feel all the time. The want to be able to move as they learn or so they say.Wobble chairs are the answer and I love then because they develop their core, which enhances gross motor and in Turn fine motor skills. \\r\\nThey also want to learn through games, my kids don't want to sit and do worksheets. They want to learn to count by jumping and playing. Physical engagement is the key to our success. The number toss and color and shape mats can make that happen. My students will forget they are doing work and just have the fun a 6 year old deserves.nannan\n",
      "==================================================\n"
     ]
    },
    {
     "name": "stdout",
     "output_type": "stream",
     "text": [
      "The mediocre teacher tells. The good teacher explains. The superior teacher demonstrates. The great teacher inspires. -William A. Ward\\r\\n\\r\\nMy school has 803 students which is makeup is 97.6% African-American, making up the largest segment of the student body. A typical school in Dallas is made up of 23.2% African-American students. Most of the students are on free or reduced lunch. We aren't receiving doctors, lawyers, or engineers children from rich backgrounds or neighborhoods. As an educator I am inspiring minds of young children and we focus not only on academics but one smart, effective, efficient, and disciplined students with good character.In our classroom we can utilize the Bluetooth for swift transitions during class. I use a speaker which doesn't amplify the sound enough to receive the message. Due to the volume of my speaker my students can't hear videos or books clearly and it isn't making the lessons as meaningful. But with the bluetooth speaker my students will be able to hear and I can stop, pause and replay it at any time.\\r\\nThe cart will allow me to have more room for storage of things that are needed for the day and has an extra part to it I can use.  The table top chart has all of the letter, words and pictures for students to learn about different letters and it is more accessible.nannan\n",
      "==================================================\n"
     ]
    }
   ],
   "source": [
    "# printing some random reviews\n",
    "print(project_data['essay'].values[0])\n",
    "print(\"=\"*50)\n",
    "print(project_data['essay'].values[150])\n",
    "print(\"=\"*50)\n",
    "print(project_data['essay'].values[1000])\n",
    "print(\"=\"*50)\n",
    "print(project_data['essay'].values[20000])\n",
    "print(\"=\"*50)\n",
    "print(project_data['essay'].values[99999])\n",
    "print(\"=\"*50)"
   ]
  },
  {
   "cell_type": "code",
   "execution_count": 11,
   "metadata": {
    "colab": {},
    "colab_type": "code",
    "collapsed": true,
    "id": "TGzKAL65oUGt"
   },
   "outputs": [],
   "source": [
    "# https://stackoverflow.com/a/47091490/4084039\n",
    "import re\n",
    "\n",
    "def decontracted(phrase):\n",
    "    # specific\n",
    "    phrase = re.sub(r\"won't\", \"will not\", phrase)\n",
    "    phrase = re.sub(r\"can\\'t\", \"can not\", phrase)\n",
    "\n",
    "    # general\n",
    "    phrase = re.sub(r\"n\\'t\", \" not\", phrase)\n",
    "    phrase = re.sub(r\"\\'re\", \" are\", phrase)\n",
    "    phrase = re.sub(r\"\\'s\", \" is\", phrase)\n",
    "    phrase = re.sub(r\"\\'d\", \" would\", phrase)\n",
    "    phrase = re.sub(r\"\\'ll\", \" will\", phrase)\n",
    "    phrase = re.sub(r\"\\'t\", \" not\", phrase)\n",
    "    phrase = re.sub(r\"\\'ve\", \" have\", phrase)\n",
    "    phrase = re.sub(r\"\\'m\", \" am\", phrase)\n",
    "    return phrase"
   ]
  },
  {
   "cell_type": "code",
   "execution_count": 12,
   "metadata": {
    "colab": {},
    "colab_type": "code",
    "id": "xkeCI1WmoUGw",
    "outputId": "f85659af-c549-43d5-89aa-62bd78b4f708"
   },
   "outputs": [
    {
     "name": "stdout",
     "output_type": "stream",
     "text": [
      "My kindergarten students have varied disabilities ranging from speech and language delays, cognitive delays, gross/fine motor delays, to autism. They are eager beavers and always strive to work their hardest working past their limitations. \\r\\n\\r\\nThe materials we have are the ones I seek out for my students. I teach in a Title I school where most of the students receive free or reduced price lunch.  Despite their disabilities and limitations, my students love coming to school and come eager to learn and explore.Have you ever felt like you had ants in your pants and you needed to groove and move as you were in a meeting? This is how my kids feel all the time. The want to be able to move as they learn or so they say.Wobble chairs are the answer and I love then because they develop their core, which enhances gross motor and in Turn fine motor skills. \\r\\nThey also want to learn through games, my kids do not want to sit and do worksheets. They want to learn to count by jumping and playing. Physical engagement is the key to our success. The number toss and color and shape mats can make that happen. My students will forget they are doing work and just have the fun a 6 year old deserves.nannan\n",
      "==================================================\n"
     ]
    }
   ],
   "source": [
    "sent = decontracted(project_data['essay'].values[20000])\n",
    "print(sent)\n",
    "print(\"=\"*50)"
   ]
  },
  {
   "cell_type": "code",
   "execution_count": 13,
   "metadata": {
    "colab": {},
    "colab_type": "code",
    "id": "KAhl8dbYoUGz",
    "outputId": "cec5949b-f5f2-4899-d8fa-c645d528b231"
   },
   "outputs": [
    {
     "name": "stdout",
     "output_type": "stream",
     "text": [
      "My kindergarten students have varied disabilities ranging from speech and language delays, cognitive delays, gross/fine motor delays, to autism. They are eager beavers and always strive to work their hardest working past their limitations.     The materials we have are the ones I seek out for my students. I teach in a Title I school where most of the students receive free or reduced price lunch.  Despite their disabilities and limitations, my students love coming to school and come eager to learn and explore.Have you ever felt like you had ants in your pants and you needed to groove and move as you were in a meeting? This is how my kids feel all the time. The want to be able to move as they learn or so they say.Wobble chairs are the answer and I love then because they develop their core, which enhances gross motor and in Turn fine motor skills.   They also want to learn through games, my kids do not want to sit and do worksheets. They want to learn to count by jumping and playing. Physical engagement is the key to our success. The number toss and color and shape mats can make that happen. My students will forget they are doing work and just have the fun a 6 year old deserves.nannan\n"
     ]
    }
   ],
   "source": [
    "# \\r \\n \\t remove from string python: http://texthandler.com/info/remove-line-breaks-python/\n",
    "sent = sent.replace('\\\\r', ' ')\n",
    "sent = sent.replace('\\\\\"', ' ')\n",
    "sent = sent.replace('\\\\n', ' ')\n",
    "print(sent)"
   ]
  },
  {
   "cell_type": "code",
   "execution_count": 14,
   "metadata": {
    "colab": {},
    "colab_type": "code",
    "id": "io_sbKCWoUG2",
    "outputId": "8b1e198e-c9fd-4a1f-b72d-fbfaff746b54"
   },
   "outputs": [
    {
     "name": "stdout",
     "output_type": "stream",
     "text": [
      "My kindergarten students have varied disabilities ranging from speech and language delays cognitive delays gross fine motor delays to autism They are eager beavers and always strive to work their hardest working past their limitations The materials we have are the ones I seek out for my students I teach in a Title I school where most of the students receive free or reduced price lunch Despite their disabilities and limitations my students love coming to school and come eager to learn and explore Have you ever felt like you had ants in your pants and you needed to groove and move as you were in a meeting This is how my kids feel all the time The want to be able to move as they learn or so they say Wobble chairs are the answer and I love then because they develop their core which enhances gross motor and in Turn fine motor skills They also want to learn through games my kids do not want to sit and do worksheets They want to learn to count by jumping and playing Physical engagement is the key to our success The number toss and color and shape mats can make that happen My students will forget they are doing work and just have the fun a 6 year old deserves nannan\n"
     ]
    }
   ],
   "source": [
    "#remove spacial character: https://stackoverflow.com/a/5843547/4084039\n",
    "sent = re.sub('[^A-Za-z0-9]+', ' ', sent)\n",
    "print(sent)"
   ]
  },
  {
   "cell_type": "code",
   "execution_count": 15,
   "metadata": {
    "colab": {},
    "colab_type": "code",
    "collapsed": true,
    "id": "wtuFzHzfoUG6"
   },
   "outputs": [],
   "source": [
    "# https://gist.github.com/sebleier/554280\n",
    "# we are removing the words from the stop words list: 'no', 'nor', 'not'\n",
    "stopwords= ['i', 'me', 'my', 'myself', 'we', 'our', 'ours', 'ourselves', 'you', \"you're\", \"you've\",\\\n",
    "            \"you'll\", \"you'd\", 'your', 'yours', 'yourself', 'yourselves', 'he', 'him', 'his', 'himself', \\\n",
    "            'she', \"she's\", 'her', 'hers', 'herself', 'it', \"it's\", 'its', 'itself', 'they', 'them', 'their',\\\n",
    "            'theirs', 'themselves', 'what', 'which', 'who', 'whom', 'this', 'that', \"that'll\", 'these', 'those', \\\n",
    "            'am', 'is', 'are', 'was', 'were', 'be', 'been', 'being', 'have', 'has', 'had', 'having', 'do', 'does', \\\n",
    "            'did', 'doing', 'a', 'an', 'the', 'and', 'but', 'if', 'or', 'because', 'as', 'until', 'while', 'of', \\\n",
    "            'at', 'by', 'for', 'with', 'about', 'against', 'between', 'into', 'through', 'during', 'before', 'after',\\\n",
    "            'above', 'below', 'to', 'from', 'up', 'down', 'in', 'out', 'on', 'off', 'over', 'under', 'again', 'further',\\\n",
    "            'then', 'once', 'here', 'there', 'when', 'where', 'why', 'how', 'all', 'any', 'both', 'each', 'few', 'more',\\\n",
    "            'most', 'other', 'some', 'such', 'only', 'own', 'same', 'so', 'than', 'too', 'very', \\\n",
    "            's', 't', 'can', 'will', 'just', 'don', \"don't\", 'should', \"should've\", 'now', 'd', 'll', 'm', 'o', 're', \\\n",
    "            've', 'y', 'ain', 'aren', \"aren't\", 'couldn', \"couldn't\", 'didn', \"didn't\", 'doesn', \"doesn't\", 'hadn',\\\n",
    "            \"hadn't\", 'hasn', \"hasn't\", 'haven', \"haven't\", 'isn', \"isn't\", 'ma', 'mightn', \"mightn't\", 'mustn',\\\n",
    "            \"mustn't\", 'needn', \"needn't\", 'shan', \"shan't\", 'shouldn', \"shouldn't\", 'wasn', \"wasn't\", 'weren', \"weren't\", \\\n",
    "            'won', \"won't\", 'wouldn', \"wouldn't\"]"
   ]
  },
  {
   "cell_type": "code",
   "execution_count": 16,
   "metadata": {
    "colab": {},
    "colab_type": "code",
    "id": "ny4jT0IzoUG8",
    "outputId": "a973df34-b25b-404d-e37d-5b4377ec68b2"
   },
   "outputs": [
    {
     "name": "stderr",
     "output_type": "stream",
     "text": [
      "100%|█████████████████████████████████████████████████████████████████████████| 109248/109248 [01:59<00:00, 913.11it/s]\n"
     ]
    }
   ],
   "source": [
    "# Combining all the above stundents \n",
    "from tqdm import tqdm\n",
    "preprocessed_essays = []\n",
    "# tqdm is for printing the status bar\n",
    "for sentance in tqdm(project_data['essay'].values):\n",
    "    sent = decontracted(sentance)\n",
    "    sent = sent.replace('\\\\r', ' ')\n",
    "    sent = sent.replace('\\\\\"', ' ')\n",
    "    sent = sent.replace('\\\\n', ' ')\n",
    "    sent = re.sub('[^A-Za-z0-9]+', ' ', sent)\n",
    "    # https://gist.github.com/sebleier/554280\n",
    "    sent = ' '.join(e for e in sent.split() if e not in stopwords)\n",
    "    preprocessed_essays.append(sent.lower().strip())"
   ]
  },
  {
   "cell_type": "code",
   "execution_count": 17,
   "metadata": {
    "colab": {},
    "colab_type": "code",
    "id": "ccPTDoKGoUG_",
    "outputId": "79740a48-c822-4071-9274-6d9625edd9ec"
   },
   "outputs": [
    {
     "data": {
      "text/plain": [
       "'my kindergarten students varied disabilities ranging speech language delays cognitive delays gross fine motor delays autism they eager beavers always strive work hardest working past limitations the materials ones i seek students i teach title i school students receive free reduced price lunch despite disabilities limitations students love coming school come eager learn explore have ever felt like ants pants needed groove move meeting this kids feel time the want able move learn say wobble chairs answer i love develop core enhances gross motor turn fine motor skills they also want learn games kids not want sit worksheets they want learn count jumping playing physical engagement key success the number toss color shape mats make happen my students forget work fun 6 year old deserves nannan'"
      ]
     },
     "execution_count": 17,
     "metadata": {},
     "output_type": "execute_result"
    }
   ],
   "source": [
    "# after preprocesing\n",
    "preprocessed_essays[20000]"
   ]
  },
  {
   "cell_type": "code",
   "execution_count": 18,
   "metadata": {},
   "outputs": [
    {
     "data": {
      "text/html": [
       "<div>\n",
       "<style>\n",
       "    .dataframe thead tr:only-child th {\n",
       "        text-align: right;\n",
       "    }\n",
       "\n",
       "    .dataframe thead th {\n",
       "        text-align: left;\n",
       "    }\n",
       "\n",
       "    .dataframe tbody tr th {\n",
       "        vertical-align: top;\n",
       "    }\n",
       "</style>\n",
       "<table border=\"1\" class=\"dataframe\">\n",
       "  <thead>\n",
       "    <tr style=\"text-align: right;\">\n",
       "      <th></th>\n",
       "      <th>Unnamed: 0</th>\n",
       "      <th>id</th>\n",
       "      <th>teacher_id</th>\n",
       "      <th>teacher_prefix</th>\n",
       "      <th>school_state</th>\n",
       "      <th>project_submitted_datetime</th>\n",
       "      <th>project_grade_category</th>\n",
       "      <th>project_title</th>\n",
       "      <th>project_essay_1</th>\n",
       "      <th>project_essay_2</th>\n",
       "      <th>project_essay_3</th>\n",
       "      <th>project_essay_4</th>\n",
       "      <th>project_resource_summary</th>\n",
       "      <th>teacher_number_of_previously_posted_projects</th>\n",
       "      <th>project_is_approved</th>\n",
       "      <th>clean_categories</th>\n",
       "      <th>clean_subcategories</th>\n",
       "      <th>essay</th>\n",
       "      <th>preprocessed_essays</th>\n",
       "      <th>essay_word_count</th>\n",
       "    </tr>\n",
       "  </thead>\n",
       "  <tbody>\n",
       "    <tr>\n",
       "      <th>0</th>\n",
       "      <td>160221</td>\n",
       "      <td>p253737</td>\n",
       "      <td>c90749f5d961ff158d4b4d1e7dc665fc</td>\n",
       "      <td>Mrs.</td>\n",
       "      <td>IN</td>\n",
       "      <td>2016-12-05 13:43:57</td>\n",
       "      <td>Grades PreK-2</td>\n",
       "      <td>Educational Support for English Learners at Home</td>\n",
       "      <td>My students are English learners that are work...</td>\n",
       "      <td>\\\"The limits of your language are the limits o...</td>\n",
       "      <td>NaN</td>\n",
       "      <td>NaN</td>\n",
       "      <td>My students need opportunities to practice beg...</td>\n",
       "      <td>0</td>\n",
       "      <td>0</td>\n",
       "      <td>Literacy_Language</td>\n",
       "      <td>ESL Literacy</td>\n",
       "      <td>My students are English learners that are work...</td>\n",
       "      <td>my students english learners working english s...</td>\n",
       "      <td>161</td>\n",
       "    </tr>\n",
       "    <tr>\n",
       "      <th>1</th>\n",
       "      <td>140945</td>\n",
       "      <td>p258326</td>\n",
       "      <td>897464ce9ddc600bced1151f324dd63a</td>\n",
       "      <td>Mr.</td>\n",
       "      <td>FL</td>\n",
       "      <td>2016-10-25 09:22:10</td>\n",
       "      <td>Grades 6-8</td>\n",
       "      <td>Wanted: Projector for Hungry Learners</td>\n",
       "      <td>Our students arrive to our school eager to lea...</td>\n",
       "      <td>The projector we need for our school is very c...</td>\n",
       "      <td>NaN</td>\n",
       "      <td>NaN</td>\n",
       "      <td>My students need a projector to help with view...</td>\n",
       "      <td>7</td>\n",
       "      <td>1</td>\n",
       "      <td>History_Civics Health_Sports</td>\n",
       "      <td>Civics_Government TeamSports</td>\n",
       "      <td>Our students arrive to our school eager to lea...</td>\n",
       "      <td>our students arrive school eager learn they po...</td>\n",
       "      <td>109</td>\n",
       "    </tr>\n",
       "    <tr>\n",
       "      <th>2</th>\n",
       "      <td>21895</td>\n",
       "      <td>p182444</td>\n",
       "      <td>3465aaf82da834c0582ebd0ef8040ca0</td>\n",
       "      <td>Ms.</td>\n",
       "      <td>AZ</td>\n",
       "      <td>2016-08-31 12:03:56</td>\n",
       "      <td>Grades 6-8</td>\n",
       "      <td>Soccer Equipment for AWESOME Middle School Stu...</td>\n",
       "      <td>\\r\\n\\\"True champions aren't always the ones th...</td>\n",
       "      <td>The students on the campus come to school know...</td>\n",
       "      <td>NaN</td>\n",
       "      <td>NaN</td>\n",
       "      <td>My students need shine guards, athletic socks,...</td>\n",
       "      <td>1</td>\n",
       "      <td>0</td>\n",
       "      <td>Health_Sports</td>\n",
       "      <td>Health_Wellness TeamSports</td>\n",
       "      <td>\\r\\n\\\"True champions aren't always the ones th...</td>\n",
       "      <td>true champions not always ones win guts by mia...</td>\n",
       "      <td>202</td>\n",
       "    </tr>\n",
       "    <tr>\n",
       "      <th>3</th>\n",
       "      <td>45</td>\n",
       "      <td>p246581</td>\n",
       "      <td>f3cb9bffbba169bef1a77b243e620b60</td>\n",
       "      <td>Mrs.</td>\n",
       "      <td>KY</td>\n",
       "      <td>2016-10-06 21:16:17</td>\n",
       "      <td>Grades PreK-2</td>\n",
       "      <td>Techie Kindergarteners</td>\n",
       "      <td>I work at a unique school filled with both ESL...</td>\n",
       "      <td>My students live in high poverty conditions wi...</td>\n",
       "      <td>NaN</td>\n",
       "      <td>NaN</td>\n",
       "      <td>My students need to engage in Reading and Math...</td>\n",
       "      <td>4</td>\n",
       "      <td>1</td>\n",
       "      <td>Literacy_Language Math_Science</td>\n",
       "      <td>Literacy Mathematics</td>\n",
       "      <td>I work at a unique school filled with both ESL...</td>\n",
       "      <td>i work unique school filled esl english second...</td>\n",
       "      <td>121</td>\n",
       "    </tr>\n",
       "    <tr>\n",
       "      <th>4</th>\n",
       "      <td>172407</td>\n",
       "      <td>p104768</td>\n",
       "      <td>be1f7507a41f8479dc06f047086a39ec</td>\n",
       "      <td>Mrs.</td>\n",
       "      <td>TX</td>\n",
       "      <td>2016-07-11 01:10:09</td>\n",
       "      <td>Grades PreK-2</td>\n",
       "      <td>Interactive Math Tools</td>\n",
       "      <td>Our second grade classroom next year will be m...</td>\n",
       "      <td>For many students, math is a subject that does...</td>\n",
       "      <td>NaN</td>\n",
       "      <td>NaN</td>\n",
       "      <td>My students need hands on practice in mathemat...</td>\n",
       "      <td>1</td>\n",
       "      <td>1</td>\n",
       "      <td>Math_Science</td>\n",
       "      <td>Mathematics</td>\n",
       "      <td>Our second grade classroom next year will be m...</td>\n",
       "      <td>our second grade classroom next year made arou...</td>\n",
       "      <td>122</td>\n",
       "    </tr>\n",
       "  </tbody>\n",
       "</table>\n",
       "</div>"
      ],
      "text/plain": [
       "   Unnamed: 0       id                        teacher_id teacher_prefix  \\\n",
       "0      160221  p253737  c90749f5d961ff158d4b4d1e7dc665fc           Mrs.   \n",
       "1      140945  p258326  897464ce9ddc600bced1151f324dd63a            Mr.   \n",
       "2       21895  p182444  3465aaf82da834c0582ebd0ef8040ca0            Ms.   \n",
       "3          45  p246581  f3cb9bffbba169bef1a77b243e620b60           Mrs.   \n",
       "4      172407  p104768  be1f7507a41f8479dc06f047086a39ec           Mrs.   \n",
       "\n",
       "  school_state project_submitted_datetime project_grade_category  \\\n",
       "0           IN        2016-12-05 13:43:57          Grades PreK-2   \n",
       "1           FL        2016-10-25 09:22:10             Grades 6-8   \n",
       "2           AZ        2016-08-31 12:03:56             Grades 6-8   \n",
       "3           KY        2016-10-06 21:16:17          Grades PreK-2   \n",
       "4           TX        2016-07-11 01:10:09          Grades PreK-2   \n",
       "\n",
       "                                       project_title  \\\n",
       "0   Educational Support for English Learners at Home   \n",
       "1              Wanted: Projector for Hungry Learners   \n",
       "2  Soccer Equipment for AWESOME Middle School Stu...   \n",
       "3                             Techie Kindergarteners   \n",
       "4                             Interactive Math Tools   \n",
       "\n",
       "                                     project_essay_1  \\\n",
       "0  My students are English learners that are work...   \n",
       "1  Our students arrive to our school eager to lea...   \n",
       "2  \\r\\n\\\"True champions aren't always the ones th...   \n",
       "3  I work at a unique school filled with both ESL...   \n",
       "4  Our second grade classroom next year will be m...   \n",
       "\n",
       "                                     project_essay_2 project_essay_3  \\\n",
       "0  \\\"The limits of your language are the limits o...             NaN   \n",
       "1  The projector we need for our school is very c...             NaN   \n",
       "2  The students on the campus come to school know...             NaN   \n",
       "3  My students live in high poverty conditions wi...             NaN   \n",
       "4  For many students, math is a subject that does...             NaN   \n",
       "\n",
       "  project_essay_4                           project_resource_summary  \\\n",
       "0             NaN  My students need opportunities to practice beg...   \n",
       "1             NaN  My students need a projector to help with view...   \n",
       "2             NaN  My students need shine guards, athletic socks,...   \n",
       "3             NaN  My students need to engage in Reading and Math...   \n",
       "4             NaN  My students need hands on practice in mathemat...   \n",
       "\n",
       "   teacher_number_of_previously_posted_projects  project_is_approved  \\\n",
       "0                                             0                    0   \n",
       "1                                             7                    1   \n",
       "2                                             1                    0   \n",
       "3                                             4                    1   \n",
       "4                                             1                    1   \n",
       "\n",
       "                 clean_categories           clean_subcategories  \\\n",
       "0               Literacy_Language                  ESL Literacy   \n",
       "1    History_Civics Health_Sports  Civics_Government TeamSports   \n",
       "2                   Health_Sports    Health_Wellness TeamSports   \n",
       "3  Literacy_Language Math_Science          Literacy Mathematics   \n",
       "4                    Math_Science                   Mathematics   \n",
       "\n",
       "                                               essay  \\\n",
       "0  My students are English learners that are work...   \n",
       "1  Our students arrive to our school eager to lea...   \n",
       "2  \\r\\n\\\"True champions aren't always the ones th...   \n",
       "3  I work at a unique school filled with both ESL...   \n",
       "4  Our second grade classroom next year will be m...   \n",
       "\n",
       "                                 preprocessed_essays  essay_word_count  \n",
       "0  my students english learners working english s...               161  \n",
       "1  our students arrive school eager learn they po...               109  \n",
       "2  true champions not always ones win guts by mia...               202  \n",
       "3  i work unique school filled esl english second...               121  \n",
       "4  our second grade classroom next year made arou...               122  "
      ]
     },
     "execution_count": 18,
     "metadata": {},
     "output_type": "execute_result"
    }
   ],
   "source": [
    "project_data[\"preprocessed_essays\"] = preprocessed_essays\n",
    "\n",
    "essay_word_count = []\n",
    "\n",
    "for sentence in project_data[\"preprocessed_essays\"] :\n",
    "    word = len(sentence.split())\n",
    "    essay_word_count.append(word)\n",
    "    \n",
    "project_data[\"essay_word_count\"] = essay_word_count\n",
    "\n",
    "project_data.head(5)"
   ]
  },
  {
   "cell_type": "code",
   "execution_count": 20,
   "metadata": {},
   "outputs": [
    {
     "name": "stderr",
     "output_type": "stream",
     "text": [
      "100%|██████████████████████████████████████████████████████████████████████████| 109248/109248 [30:10<00:00, 63.30it/s]\n"
     ]
    },
    {
     "data": {
      "text/html": [
       "<div>\n",
       "<style>\n",
       "    .dataframe thead tr:only-child th {\n",
       "        text-align: right;\n",
       "    }\n",
       "\n",
       "    .dataframe thead th {\n",
       "        text-align: left;\n",
       "    }\n",
       "\n",
       "    .dataframe tbody tr th {\n",
       "        vertical-align: top;\n",
       "    }\n",
       "</style>\n",
       "<table border=\"1\" class=\"dataframe\">\n",
       "  <thead>\n",
       "    <tr style=\"text-align: right;\">\n",
       "      <th></th>\n",
       "      <th>Unnamed: 0</th>\n",
       "      <th>id</th>\n",
       "      <th>teacher_id</th>\n",
       "      <th>teacher_prefix</th>\n",
       "      <th>school_state</th>\n",
       "      <th>project_submitted_datetime</th>\n",
       "      <th>project_grade_category</th>\n",
       "      <th>project_title</th>\n",
       "      <th>project_essay_1</th>\n",
       "      <th>project_essay_2</th>\n",
       "      <th>...</th>\n",
       "      <th>project_is_approved</th>\n",
       "      <th>clean_categories</th>\n",
       "      <th>clean_subcategories</th>\n",
       "      <th>essay</th>\n",
       "      <th>preprocessed_essays</th>\n",
       "      <th>essay_word_count</th>\n",
       "      <th>pos</th>\n",
       "      <th>neg</th>\n",
       "      <th>neu</th>\n",
       "      <th>compound</th>\n",
       "    </tr>\n",
       "  </thead>\n",
       "  <tbody>\n",
       "    <tr>\n",
       "      <th>0</th>\n",
       "      <td>160221</td>\n",
       "      <td>p253737</td>\n",
       "      <td>c90749f5d961ff158d4b4d1e7dc665fc</td>\n",
       "      <td>Mrs.</td>\n",
       "      <td>IN</td>\n",
       "      <td>2016-12-05 13:43:57</td>\n",
       "      <td>Grades PreK-2</td>\n",
       "      <td>Educational Support for English Learners at Home</td>\n",
       "      <td>My students are English learners that are work...</td>\n",
       "      <td>\\\"The limits of your language are the limits o...</td>\n",
       "      <td>...</td>\n",
       "      <td>0</td>\n",
       "      <td>Literacy_Language</td>\n",
       "      <td>ESL Literacy</td>\n",
       "      <td>My students are English learners that are work...</td>\n",
       "      <td>my students english learners working english s...</td>\n",
       "      <td>161</td>\n",
       "      <td>0.144</td>\n",
       "      <td>0.012</td>\n",
       "      <td>0.844</td>\n",
       "      <td>0.9694</td>\n",
       "    </tr>\n",
       "    <tr>\n",
       "      <th>1</th>\n",
       "      <td>140945</td>\n",
       "      <td>p258326</td>\n",
       "      <td>897464ce9ddc600bced1151f324dd63a</td>\n",
       "      <td>Mr.</td>\n",
       "      <td>FL</td>\n",
       "      <td>2016-10-25 09:22:10</td>\n",
       "      <td>Grades 6-8</td>\n",
       "      <td>Wanted: Projector for Hungry Learners</td>\n",
       "      <td>Our students arrive to our school eager to lea...</td>\n",
       "      <td>The projector we need for our school is very c...</td>\n",
       "      <td>...</td>\n",
       "      <td>1</td>\n",
       "      <td>History_Civics Health_Sports</td>\n",
       "      <td>Civics_Government TeamSports</td>\n",
       "      <td>Our students arrive to our school eager to lea...</td>\n",
       "      <td>our students arrive school eager learn they po...</td>\n",
       "      <td>109</td>\n",
       "      <td>0.283</td>\n",
       "      <td>0.048</td>\n",
       "      <td>0.669</td>\n",
       "      <td>0.9856</td>\n",
       "    </tr>\n",
       "    <tr>\n",
       "      <th>2</th>\n",
       "      <td>21895</td>\n",
       "      <td>p182444</td>\n",
       "      <td>3465aaf82da834c0582ebd0ef8040ca0</td>\n",
       "      <td>Ms.</td>\n",
       "      <td>AZ</td>\n",
       "      <td>2016-08-31 12:03:56</td>\n",
       "      <td>Grades 6-8</td>\n",
       "      <td>Soccer Equipment for AWESOME Middle School Stu...</td>\n",
       "      <td>\\r\\n\\\"True champions aren't always the ones th...</td>\n",
       "      <td>The students on the campus come to school know...</td>\n",
       "      <td>...</td>\n",
       "      <td>0</td>\n",
       "      <td>Health_Sports</td>\n",
       "      <td>Health_Wellness TeamSports</td>\n",
       "      <td>\\r\\n\\\"True champions aren't always the ones th...</td>\n",
       "      <td>true champions not always ones win guts by mia...</td>\n",
       "      <td>202</td>\n",
       "      <td>0.219</td>\n",
       "      <td>0.122</td>\n",
       "      <td>0.659</td>\n",
       "      <td>0.9816</td>\n",
       "    </tr>\n",
       "    <tr>\n",
       "      <th>3</th>\n",
       "      <td>45</td>\n",
       "      <td>p246581</td>\n",
       "      <td>f3cb9bffbba169bef1a77b243e620b60</td>\n",
       "      <td>Mrs.</td>\n",
       "      <td>KY</td>\n",
       "      <td>2016-10-06 21:16:17</td>\n",
       "      <td>Grades PreK-2</td>\n",
       "      <td>Techie Kindergarteners</td>\n",
       "      <td>I work at a unique school filled with both ESL...</td>\n",
       "      <td>My students live in high poverty conditions wi...</td>\n",
       "      <td>...</td>\n",
       "      <td>1</td>\n",
       "      <td>Literacy_Language Math_Science</td>\n",
       "      <td>Literacy Mathematics</td>\n",
       "      <td>I work at a unique school filled with both ESL...</td>\n",
       "      <td>i work unique school filled esl english second...</td>\n",
       "      <td>121</td>\n",
       "      <td>0.246</td>\n",
       "      <td>0.106</td>\n",
       "      <td>0.649</td>\n",
       "      <td>0.9656</td>\n",
       "    </tr>\n",
       "    <tr>\n",
       "      <th>4</th>\n",
       "      <td>172407</td>\n",
       "      <td>p104768</td>\n",
       "      <td>be1f7507a41f8479dc06f047086a39ec</td>\n",
       "      <td>Mrs.</td>\n",
       "      <td>TX</td>\n",
       "      <td>2016-07-11 01:10:09</td>\n",
       "      <td>Grades PreK-2</td>\n",
       "      <td>Interactive Math Tools</td>\n",
       "      <td>Our second grade classroom next year will be m...</td>\n",
       "      <td>For many students, math is a subject that does...</td>\n",
       "      <td>...</td>\n",
       "      <td>1</td>\n",
       "      <td>Math_Science</td>\n",
       "      <td>Mathematics</td>\n",
       "      <td>Our second grade classroom next year will be m...</td>\n",
       "      <td>our second grade classroom next year made arou...</td>\n",
       "      <td>122</td>\n",
       "      <td>0.143</td>\n",
       "      <td>0.066</td>\n",
       "      <td>0.791</td>\n",
       "      <td>0.8524</td>\n",
       "    </tr>\n",
       "  </tbody>\n",
       "</table>\n",
       "<p>5 rows × 24 columns</p>\n",
       "</div>"
      ],
      "text/plain": [
       "   Unnamed: 0       id                        teacher_id teacher_prefix  \\\n",
       "0      160221  p253737  c90749f5d961ff158d4b4d1e7dc665fc           Mrs.   \n",
       "1      140945  p258326  897464ce9ddc600bced1151f324dd63a            Mr.   \n",
       "2       21895  p182444  3465aaf82da834c0582ebd0ef8040ca0            Ms.   \n",
       "3          45  p246581  f3cb9bffbba169bef1a77b243e620b60           Mrs.   \n",
       "4      172407  p104768  be1f7507a41f8479dc06f047086a39ec           Mrs.   \n",
       "\n",
       "  school_state project_submitted_datetime project_grade_category  \\\n",
       "0           IN        2016-12-05 13:43:57          Grades PreK-2   \n",
       "1           FL        2016-10-25 09:22:10             Grades 6-8   \n",
       "2           AZ        2016-08-31 12:03:56             Grades 6-8   \n",
       "3           KY        2016-10-06 21:16:17          Grades PreK-2   \n",
       "4           TX        2016-07-11 01:10:09          Grades PreK-2   \n",
       "\n",
       "                                       project_title  \\\n",
       "0   Educational Support for English Learners at Home   \n",
       "1              Wanted: Projector for Hungry Learners   \n",
       "2  Soccer Equipment for AWESOME Middle School Stu...   \n",
       "3                             Techie Kindergarteners   \n",
       "4                             Interactive Math Tools   \n",
       "\n",
       "                                     project_essay_1  \\\n",
       "0  My students are English learners that are work...   \n",
       "1  Our students arrive to our school eager to lea...   \n",
       "2  \\r\\n\\\"True champions aren't always the ones th...   \n",
       "3  I work at a unique school filled with both ESL...   \n",
       "4  Our second grade classroom next year will be m...   \n",
       "\n",
       "                                     project_essay_2    ...     \\\n",
       "0  \\\"The limits of your language are the limits o...    ...      \n",
       "1  The projector we need for our school is very c...    ...      \n",
       "2  The students on the campus come to school know...    ...      \n",
       "3  My students live in high poverty conditions wi...    ...      \n",
       "4  For many students, math is a subject that does...    ...      \n",
       "\n",
       "  project_is_approved                clean_categories  \\\n",
       "0                   0               Literacy_Language   \n",
       "1                   1    History_Civics Health_Sports   \n",
       "2                   0                   Health_Sports   \n",
       "3                   1  Literacy_Language Math_Science   \n",
       "4                   1                    Math_Science   \n",
       "\n",
       "            clean_subcategories  \\\n",
       "0                  ESL Literacy   \n",
       "1  Civics_Government TeamSports   \n",
       "2    Health_Wellness TeamSports   \n",
       "3          Literacy Mathematics   \n",
       "4                   Mathematics   \n",
       "\n",
       "                                               essay  \\\n",
       "0  My students are English learners that are work...   \n",
       "1  Our students arrive to our school eager to lea...   \n",
       "2  \\r\\n\\\"True champions aren't always the ones th...   \n",
       "3  I work at a unique school filled with both ESL...   \n",
       "4  Our second grade classroom next year will be m...   \n",
       "\n",
       "                                 preprocessed_essays essay_word_count    pos  \\\n",
       "0  my students english learners working english s...              161  0.144   \n",
       "1  our students arrive school eager learn they po...              109  0.283   \n",
       "2  true champions not always ones win guts by mia...              202  0.219   \n",
       "3  i work unique school filled esl english second...              121  0.246   \n",
       "4  our second grade classroom next year made arou...              122  0.143   \n",
       "\n",
       "     neg    neu  compound  \n",
       "0  0.012  0.844    0.9694  \n",
       "1  0.048  0.669    0.9856  \n",
       "2  0.122  0.659    0.9816  \n",
       "3  0.106  0.649    0.9656  \n",
       "4  0.066  0.791    0.8524  \n",
       "\n",
       "[5 rows x 24 columns]"
      ]
     },
     "execution_count": 20,
     "metadata": {},
     "output_type": "execute_result"
    }
   ],
   "source": [
    "import nltk\n",
    "from nltk.sentiment.vader import SentimentIntensityAnalyzer\n",
    "\n",
    "\n",
    "sid = SentimentIntensityAnalyzer()\n",
    "neg = []\n",
    "pos = []\n",
    "neu = []\n",
    "compound = []\n",
    "\n",
    "for a in tqdm(project_data[\"preprocessed_essays\"]) :\n",
    "    b = sid.polarity_scores(a)['neg']\n",
    "    c = sid.polarity_scores(a)['pos']\n",
    "    d = sid.polarity_scores(a)['neu']\n",
    "    e = sid.polarity_scores(a)['compound']\n",
    "    neg.append(b)\n",
    "    pos.append(c)\n",
    "    neu.append(d)\n",
    "    compound.append(e)\n",
    "\n",
    "\n",
    "project_data[\"pos\"] = pos\n",
    "project_data[\"neg\"] = neg\n",
    "project_data[\"neu\"] = neu\n",
    "project_data[\"compound\"] = compound\n",
    "\n",
    "project_data.head(5)\n",
    "\n"
   ]
  },
  {
   "cell_type": "markdown",
   "metadata": {
    "colab_type": "text",
    "id": "oxBhoq--oUHC"
   },
   "source": [
    "<h2><font color='red'> 1.4 Preprocessing of `project_title`</font></h2>"
   ]
  },
  {
   "cell_type": "code",
   "execution_count": 21,
   "metadata": {
    "colab": {},
    "colab_type": "code",
    "id": "zBxyacM6oUHD"
   },
   "outputs": [
    {
     "name": "stdout",
     "output_type": "stream",
     "text": [
      "Educational Support for English Learners at Home\n",
      "==================================================\n",
      "Wanted: Projector for Hungry Learners\n",
      "==================================================\n",
      "Soccer Equipment for AWESOME Middle School Students\n",
      "==================================================\n",
      "Techie Kindergarteners\n",
      "==================================================\n",
      "Interactive Math Tools\n",
      "==================================================\n",
      "Flexible Seating for Mrs. Jarvis' Terrific Third Graders!!\n",
      "==================================================\n",
      "Chromebooks for Special Education Reading Program\n",
      "==================================================\n",
      "It's the 21st Century\n",
      "==================================================\n",
      "Targeting More Success in Class\n",
      "==================================================\n",
      "Just For the Love of Reading--\\r\\nPure Pleasure\n",
      "==================================================\n",
      "Reading Changes Lives\n",
      "==================================================\n",
      "Elevating Academics and Parent Rapports Through Technology\n",
      "==================================================\n",
      "Building Life Science Experiences\n",
      "==================================================\n",
      "Everyone deserves to be heard!\n",
      "==================================================\n",
      "TABLETS CAN SHOW US THE WORLD\n",
      "==================================================\n",
      "Making Recess Active\n",
      "==================================================\n",
      "Making Great LEAP's With Leapfrog!\n",
      "==================================================\n",
      "Technology Teaches Tomorrow's Talents Today\n",
      "==================================================\n",
      "Test Time\n",
      "==================================================\n",
      "Wiggling Our Way to Success\n",
      "==================================================\n",
      "Magic Carpet Ride in Our Library\n",
      "==================================================\n"
     ]
    }
   ],
   "source": [
    "# printing some project titles.\n",
    "for i in range (0,21):\n",
    "    \n",
    "    print(project_data['project_title'].values[i])\n",
    "    print(\"=\"*50)"
   ]
  },
  {
   "cell_type": "code",
   "execution_count": 22,
   "metadata": {},
   "outputs": [
    {
     "name": "stderr",
     "output_type": "stream",
     "text": [
      "100%|███████████████████████████████████████████████████████████████████████| 109248/109248 [00:07<00:00, 15524.18it/s]\n"
     ]
    }
   ],
   "source": [
    "preprocessed_titles = []\n",
    "\n",
    "for dataset in tqdm(project_data['project_title'].values):\n",
    "    data = decontracted(dataset)  # Replacing some specific and general short form into proper word/stopword.\n",
    "    data = re.sub(r\"it's\", \"it is\", data) # Replacing it's with it is as it is not part of function decontracted\n",
    "    data = data.replace('\\\\r', ' ') # Replacing \\r with space\n",
    "    data = data.replace('\\\\\"', ' ') # Replacing \\ with space\n",
    "    data = data.replace('\\\\n', ' ') # Replacing \\n with space\n",
    "    data = re.sub('[^A-Za-z0-9]+', ' ', data) # Replacing special characters with space\n",
    "    data = re.sub(\"\\S*\\d\\S*\", \"\", data).strip() # Trimming numbers containing digits\n",
    "    \n",
    "    data = ' '.join(e for e in data.split() if e not in stopwords) # Removing stopwords \n",
    "    preprocessed_titles.append(data.lower().strip()) # Creating array in all the lower cases. "
   ]
  },
  {
   "cell_type": "code",
   "execution_count": 23,
   "metadata": {},
   "outputs": [
    {
     "name": "stdout",
     "output_type": "stream",
     "text": [
      "educational support english learners home\n",
      "==================================================\n",
      "wanted projector hungry learners\n",
      "==================================================\n",
      "soccer equipment awesome middle school students\n",
      "==================================================\n",
      "techie kindergarteners\n",
      "==================================================\n",
      "interactive math tools\n",
      "==================================================\n",
      "flexible seating mrs jarvis terrific third graders\n",
      "==================================================\n",
      "chromebooks special education reading program\n",
      "==================================================\n",
      "it century\n",
      "==================================================\n",
      "targeting more success class\n",
      "==================================================\n",
      "just for love reading pure pleasure\n",
      "==================================================\n",
      "reading changes lives\n",
      "==================================================\n",
      "elevating academics parent rapports through technology\n",
      "==================================================\n",
      "building life science experiences\n",
      "==================================================\n",
      "everyone deserves heard\n",
      "==================================================\n",
      "tablets can show us the world\n",
      "==================================================\n",
      "making recess active\n",
      "==================================================\n",
      "making great leap with leapfrog\n",
      "==================================================\n",
      "technology teaches tomorrow talents today\n",
      "==================================================\n",
      "test time\n",
      "==================================================\n",
      "wiggling our way success\n",
      "==================================================\n",
      "magic carpet ride our library\n",
      "==================================================\n"
     ]
    }
   ],
   "source": [
    "for i in range (0,21):\n",
    "    print(preprocessed_titles[i])\n",
    "    print(\"=\"*50)"
   ]
  },
  {
   "cell_type": "code",
   "execution_count": 24,
   "metadata": {},
   "outputs": [
    {
     "data": {
      "text/html": [
       "<div>\n",
       "<style>\n",
       "    .dataframe thead tr:only-child th {\n",
       "        text-align: right;\n",
       "    }\n",
       "\n",
       "    .dataframe thead th {\n",
       "        text-align: left;\n",
       "    }\n",
       "\n",
       "    .dataframe tbody tr th {\n",
       "        vertical-align: top;\n",
       "    }\n",
       "</style>\n",
       "<table border=\"1\" class=\"dataframe\">\n",
       "  <thead>\n",
       "    <tr style=\"text-align: right;\">\n",
       "      <th></th>\n",
       "      <th>Unnamed: 0</th>\n",
       "      <th>id</th>\n",
       "      <th>teacher_id</th>\n",
       "      <th>teacher_prefix</th>\n",
       "      <th>school_state</th>\n",
       "      <th>project_submitted_datetime</th>\n",
       "      <th>project_grade_category</th>\n",
       "      <th>project_title</th>\n",
       "      <th>project_essay_1</th>\n",
       "      <th>project_essay_2</th>\n",
       "      <th>...</th>\n",
       "      <th>clean_subcategories</th>\n",
       "      <th>essay</th>\n",
       "      <th>preprocessed_essays</th>\n",
       "      <th>essay_word_count</th>\n",
       "      <th>pos</th>\n",
       "      <th>neg</th>\n",
       "      <th>neu</th>\n",
       "      <th>compound</th>\n",
       "      <th>preprocessed_titles</th>\n",
       "      <th>title_word_count</th>\n",
       "    </tr>\n",
       "  </thead>\n",
       "  <tbody>\n",
       "    <tr>\n",
       "      <th>0</th>\n",
       "      <td>160221</td>\n",
       "      <td>p253737</td>\n",
       "      <td>c90749f5d961ff158d4b4d1e7dc665fc</td>\n",
       "      <td>Mrs.</td>\n",
       "      <td>IN</td>\n",
       "      <td>2016-12-05 13:43:57</td>\n",
       "      <td>Grades PreK-2</td>\n",
       "      <td>Educational Support for English Learners at Home</td>\n",
       "      <td>My students are English learners that are work...</td>\n",
       "      <td>\\\"The limits of your language are the limits o...</td>\n",
       "      <td>...</td>\n",
       "      <td>ESL Literacy</td>\n",
       "      <td>My students are English learners that are work...</td>\n",
       "      <td>my students english learners working english s...</td>\n",
       "      <td>161</td>\n",
       "      <td>0.144</td>\n",
       "      <td>0.012</td>\n",
       "      <td>0.844</td>\n",
       "      <td>0.9694</td>\n",
       "      <td>educational support english learners home</td>\n",
       "      <td>5</td>\n",
       "    </tr>\n",
       "    <tr>\n",
       "      <th>1</th>\n",
       "      <td>140945</td>\n",
       "      <td>p258326</td>\n",
       "      <td>897464ce9ddc600bced1151f324dd63a</td>\n",
       "      <td>Mr.</td>\n",
       "      <td>FL</td>\n",
       "      <td>2016-10-25 09:22:10</td>\n",
       "      <td>Grades 6-8</td>\n",
       "      <td>Wanted: Projector for Hungry Learners</td>\n",
       "      <td>Our students arrive to our school eager to lea...</td>\n",
       "      <td>The projector we need for our school is very c...</td>\n",
       "      <td>...</td>\n",
       "      <td>Civics_Government TeamSports</td>\n",
       "      <td>Our students arrive to our school eager to lea...</td>\n",
       "      <td>our students arrive school eager learn they po...</td>\n",
       "      <td>109</td>\n",
       "      <td>0.283</td>\n",
       "      <td>0.048</td>\n",
       "      <td>0.669</td>\n",
       "      <td>0.9856</td>\n",
       "      <td>wanted projector hungry learners</td>\n",
       "      <td>4</td>\n",
       "    </tr>\n",
       "    <tr>\n",
       "      <th>2</th>\n",
       "      <td>21895</td>\n",
       "      <td>p182444</td>\n",
       "      <td>3465aaf82da834c0582ebd0ef8040ca0</td>\n",
       "      <td>Ms.</td>\n",
       "      <td>AZ</td>\n",
       "      <td>2016-08-31 12:03:56</td>\n",
       "      <td>Grades 6-8</td>\n",
       "      <td>Soccer Equipment for AWESOME Middle School Stu...</td>\n",
       "      <td>\\r\\n\\\"True champions aren't always the ones th...</td>\n",
       "      <td>The students on the campus come to school know...</td>\n",
       "      <td>...</td>\n",
       "      <td>Health_Wellness TeamSports</td>\n",
       "      <td>\\r\\n\\\"True champions aren't always the ones th...</td>\n",
       "      <td>true champions not always ones win guts by mia...</td>\n",
       "      <td>202</td>\n",
       "      <td>0.219</td>\n",
       "      <td>0.122</td>\n",
       "      <td>0.659</td>\n",
       "      <td>0.9816</td>\n",
       "      <td>soccer equipment awesome middle school students</td>\n",
       "      <td>6</td>\n",
       "    </tr>\n",
       "    <tr>\n",
       "      <th>3</th>\n",
       "      <td>45</td>\n",
       "      <td>p246581</td>\n",
       "      <td>f3cb9bffbba169bef1a77b243e620b60</td>\n",
       "      <td>Mrs.</td>\n",
       "      <td>KY</td>\n",
       "      <td>2016-10-06 21:16:17</td>\n",
       "      <td>Grades PreK-2</td>\n",
       "      <td>Techie Kindergarteners</td>\n",
       "      <td>I work at a unique school filled with both ESL...</td>\n",
       "      <td>My students live in high poverty conditions wi...</td>\n",
       "      <td>...</td>\n",
       "      <td>Literacy Mathematics</td>\n",
       "      <td>I work at a unique school filled with both ESL...</td>\n",
       "      <td>i work unique school filled esl english second...</td>\n",
       "      <td>121</td>\n",
       "      <td>0.246</td>\n",
       "      <td>0.106</td>\n",
       "      <td>0.649</td>\n",
       "      <td>0.9656</td>\n",
       "      <td>techie kindergarteners</td>\n",
       "      <td>2</td>\n",
       "    </tr>\n",
       "    <tr>\n",
       "      <th>4</th>\n",
       "      <td>172407</td>\n",
       "      <td>p104768</td>\n",
       "      <td>be1f7507a41f8479dc06f047086a39ec</td>\n",
       "      <td>Mrs.</td>\n",
       "      <td>TX</td>\n",
       "      <td>2016-07-11 01:10:09</td>\n",
       "      <td>Grades PreK-2</td>\n",
       "      <td>Interactive Math Tools</td>\n",
       "      <td>Our second grade classroom next year will be m...</td>\n",
       "      <td>For many students, math is a subject that does...</td>\n",
       "      <td>...</td>\n",
       "      <td>Mathematics</td>\n",
       "      <td>Our second grade classroom next year will be m...</td>\n",
       "      <td>our second grade classroom next year made arou...</td>\n",
       "      <td>122</td>\n",
       "      <td>0.143</td>\n",
       "      <td>0.066</td>\n",
       "      <td>0.791</td>\n",
       "      <td>0.8524</td>\n",
       "      <td>interactive math tools</td>\n",
       "      <td>3</td>\n",
       "    </tr>\n",
       "  </tbody>\n",
       "</table>\n",
       "<p>5 rows × 26 columns</p>\n",
       "</div>"
      ],
      "text/plain": [
       "   Unnamed: 0       id                        teacher_id teacher_prefix  \\\n",
       "0      160221  p253737  c90749f5d961ff158d4b4d1e7dc665fc           Mrs.   \n",
       "1      140945  p258326  897464ce9ddc600bced1151f324dd63a            Mr.   \n",
       "2       21895  p182444  3465aaf82da834c0582ebd0ef8040ca0            Ms.   \n",
       "3          45  p246581  f3cb9bffbba169bef1a77b243e620b60           Mrs.   \n",
       "4      172407  p104768  be1f7507a41f8479dc06f047086a39ec           Mrs.   \n",
       "\n",
       "  school_state project_submitted_datetime project_grade_category  \\\n",
       "0           IN        2016-12-05 13:43:57          Grades PreK-2   \n",
       "1           FL        2016-10-25 09:22:10             Grades 6-8   \n",
       "2           AZ        2016-08-31 12:03:56             Grades 6-8   \n",
       "3           KY        2016-10-06 21:16:17          Grades PreK-2   \n",
       "4           TX        2016-07-11 01:10:09          Grades PreK-2   \n",
       "\n",
       "                                       project_title  \\\n",
       "0   Educational Support for English Learners at Home   \n",
       "1              Wanted: Projector for Hungry Learners   \n",
       "2  Soccer Equipment for AWESOME Middle School Stu...   \n",
       "3                             Techie Kindergarteners   \n",
       "4                             Interactive Math Tools   \n",
       "\n",
       "                                     project_essay_1  \\\n",
       "0  My students are English learners that are work...   \n",
       "1  Our students arrive to our school eager to lea...   \n",
       "2  \\r\\n\\\"True champions aren't always the ones th...   \n",
       "3  I work at a unique school filled with both ESL...   \n",
       "4  Our second grade classroom next year will be m...   \n",
       "\n",
       "                                     project_essay_2        ...         \\\n",
       "0  \\\"The limits of your language are the limits o...        ...          \n",
       "1  The projector we need for our school is very c...        ...          \n",
       "2  The students on the campus come to school know...        ...          \n",
       "3  My students live in high poverty conditions wi...        ...          \n",
       "4  For many students, math is a subject that does...        ...          \n",
       "\n",
       "            clean_subcategories  \\\n",
       "0                  ESL Literacy   \n",
       "1  Civics_Government TeamSports   \n",
       "2    Health_Wellness TeamSports   \n",
       "3          Literacy Mathematics   \n",
       "4                   Mathematics   \n",
       "\n",
       "                                               essay  \\\n",
       "0  My students are English learners that are work...   \n",
       "1  Our students arrive to our school eager to lea...   \n",
       "2  \\r\\n\\\"True champions aren't always the ones th...   \n",
       "3  I work at a unique school filled with both ESL...   \n",
       "4  Our second grade classroom next year will be m...   \n",
       "\n",
       "                                 preprocessed_essays  essay_word_count    pos  \\\n",
       "0  my students english learners working english s...               161  0.144   \n",
       "1  our students arrive school eager learn they po...               109  0.283   \n",
       "2  true champions not always ones win guts by mia...               202  0.219   \n",
       "3  i work unique school filled esl english second...               121  0.246   \n",
       "4  our second grade classroom next year made arou...               122  0.143   \n",
       "\n",
       "     neg    neu compound                              preprocessed_titles  \\\n",
       "0  0.012  0.844   0.9694        educational support english learners home   \n",
       "1  0.048  0.669   0.9856                 wanted projector hungry learners   \n",
       "2  0.122  0.659   0.9816  soccer equipment awesome middle school students   \n",
       "3  0.106  0.649   0.9656                           techie kindergarteners   \n",
       "4  0.066  0.791   0.8524                           interactive math tools   \n",
       "\n",
       "   title_word_count  \n",
       "0                 5  \n",
       "1                 4  \n",
       "2                 6  \n",
       "3                 2  \n",
       "4                 3  \n",
       "\n",
       "[5 rows x 26 columns]"
      ]
     },
     "execution_count": 24,
     "metadata": {},
     "output_type": "execute_result"
    }
   ],
   "source": [
    "project_data[\"preprocessed_titles\"] = preprocessed_titles\n",
    "\n",
    "title_word_count = []\n",
    "\n",
    "for sentence in project_data[\"preprocessed_titles\"] :\n",
    "    word = len(sentence.split())\n",
    "    title_word_count.append(word)\n",
    "    \n",
    "project_data[\"title_word_count\"] = title_word_count\n",
    "\n",
    "project_data.head(5)"
   ]
  },
  {
   "cell_type": "markdown",
   "metadata": {
    "colab_type": "text",
    "id": "P4I60VW7oUHF"
   },
   "source": [
    "## 1.5 Preparing data for models"
   ]
  },
  {
   "cell_type": "code",
   "execution_count": 25,
   "metadata": {
    "colab": {},
    "colab_type": "code",
    "id": "F_jrfczjoUHG",
    "outputId": "6e45eb13-642b-488f-b44d-e370e7430b18"
   },
   "outputs": [
    {
     "data": {
      "text/plain": [
       "Index(['Unnamed: 0', 'id', 'teacher_id', 'teacher_prefix', 'school_state',\n",
       "       'project_submitted_datetime', 'project_grade_category', 'project_title',\n",
       "       'project_essay_1', 'project_essay_2', 'project_essay_3',\n",
       "       'project_essay_4', 'project_resource_summary',\n",
       "       'teacher_number_of_previously_posted_projects', 'project_is_approved',\n",
       "       'clean_categories', 'clean_subcategories', 'essay',\n",
       "       'preprocessed_essays', 'essay_word_count', 'pos', 'neg', 'neu',\n",
       "       'compound', 'preprocessed_titles', 'title_word_count'],\n",
       "      dtype='object')"
      ]
     },
     "execution_count": 25,
     "metadata": {},
     "output_type": "execute_result"
    }
   ],
   "source": [
    "project_data.columns"
   ]
  },
  {
   "cell_type": "markdown",
   "metadata": {
    "colab_type": "text",
    "id": "y1YePFvOoUHI"
   },
   "source": [
    "we are going to consider\n",
    "\n",
    "       - school_state : categorical data\n",
    "       - clean_categories : categorical data\n",
    "       - clean_subcategories : categorical data\n",
    "       - project_grade_category : categorical data\n",
    "       - teacher_prefix : categorical data\n",
    "       \n",
    "       - project_title : text data\n",
    "       - text : text data\n",
    "       - project_resource_summary: text data (optinal)\n",
    "       \n",
    "       - quantity : numerical (optinal)\n",
    "       - teacher_number_of_previously_posted_projects : numerical\n",
    "       - price : numerical"
   ]
  },
  {
   "cell_type": "markdown",
   "metadata": {
    "colab_type": "text",
    "id": "1xr5XNfxoUHJ"
   },
   "source": [
    "### 1.5.1 Vectorizing Categorical data"
   ]
  },
  {
   "cell_type": "markdown",
   "metadata": {
    "colab_type": "text",
    "id": "lxgwqyC5oUHK"
   },
   "source": [
    "- https://www.appliedaicourse.com/course/applied-ai-course-online/lessons/handling-categorical-and-numerical-features/"
   ]
  },
  {
   "cell_type": "code",
   "execution_count": 26,
   "metadata": {
    "colab": {},
    "colab_type": "code",
    "id": "_NnyJ0R1oUHK",
    "outputId": "c14e7801-3973-4b1b-b20c-31f89309114f"
   },
   "outputs": [
    {
     "name": "stdout",
     "output_type": "stream",
     "text": [
      "['Warmth', 'Care_Hunger', 'History_Civics', 'Music_Arts', 'AppliedLearning', 'SpecialNeeds', 'Health_Sports', 'Math_Science', 'Literacy_Language']\n",
      "Shape of matrix after one hot encodig  (109248, 9)\n"
     ]
    }
   ],
   "source": [
    "# we use count vectorizer to convert the values into one \n",
    "from sklearn.feature_extraction.text import CountVectorizer\n",
    "vectorizer = CountVectorizer(vocabulary=list(sorted_cat_dict.keys()), lowercase=False, binary=True)\n",
    "categories_one_hot = vectorizer.fit_transform(project_data['clean_categories'].values)\n",
    "print(vectorizer.get_feature_names())\n",
    "print(\"Shape of matrix after one hot encodig \",categories_one_hot.shape)"
   ]
  },
  {
   "cell_type": "code",
   "execution_count": 27,
   "metadata": {
    "colab": {},
    "colab_type": "code",
    "id": "miHmQ8JmoUHN",
    "outputId": "aa252bde-f653-4d4d-f0f2-15cd129b5edb"
   },
   "outputs": [
    {
     "name": "stdout",
     "output_type": "stream",
     "text": [
      "['Economics', 'CommunityService', 'FinancialLiteracy', 'ParentInvolvement', 'Extracurricular', 'Civics_Government', 'ForeignLanguages', 'NutritionEducation', 'Warmth', 'Care_Hunger', 'SocialSciences', 'PerformingArts', 'CharacterEducation', 'TeamSports', 'Other', 'College_CareerPrep', 'Music', 'History_Geography', 'Health_LifeScience', 'EarlyDevelopment', 'ESL', 'Gym_Fitness', 'EnvironmentalScience', 'VisualArts', 'Health_Wellness', 'AppliedSciences', 'SpecialNeeds', 'Literature_Writing', 'Mathematics', 'Literacy']\n",
      "Shape of matrix after one hot encodig  (109248, 30)\n"
     ]
    }
   ],
   "source": [
    "# we use count vectorizer to convert the values into one \n",
    "vectorizer = CountVectorizer(vocabulary=list(sorted_sub_cat_dict.keys()), lowercase=False, binary=True)\n",
    "sub_categories_one_hot = vectorizer.fit_transform(project_data['clean_subcategories'].values)\n",
    "print(vectorizer.get_feature_names())\n",
    "print(\"Shape of matrix after one hot encodig \",sub_categories_one_hot.shape)"
   ]
  },
  {
   "cell_type": "code",
   "execution_count": 28,
   "metadata": {
    "colab": {},
    "colab_type": "code",
    "id": "taK2Q5YNoUHP"
   },
   "outputs": [
    {
     "name": "stdout",
     "output_type": "stream",
     "text": [
      "['AK', 'AL', 'AR', 'AZ', 'CA', 'CO', 'CT', 'DC', 'DE', 'FL', 'GA', 'HI', 'IA', 'ID', 'IL', 'IN', 'KS', 'KY', 'LA', 'MA', 'MD', 'ME', 'MI', 'MN', 'MO', 'MS', 'MT', 'NC', 'ND', 'NE', 'NH', 'NJ', 'NM', 'NV', 'NY', 'OH', 'OK', 'OR', 'PA', 'RI', 'SC', 'SD', 'TN', 'TX', 'UT', 'VA', 'VT', 'WA', 'WI', 'WV', 'WY']\n",
      "Shape of matrix after one hot encodig  (109248, 51)\n",
      "the type of count vectorizer  <class 'scipy.sparse.csr.csr_matrix'>\n"
     ]
    }
   ],
   "source": [
    "school_state_vectorizer = CountVectorizer(lowercase=False, binary=True)\n",
    "school_state_vectorizer.fit(project_data['school_state'].values)\n",
    "print(school_state_vectorizer.get_feature_names())\n",
    "\n",
    "school_state_one_hot = school_state_vectorizer.transform(project_data['school_state'].values)\n",
    "print(\"Shape of matrix after one hot encodig \",school_state_one_hot.shape)\n",
    "print(\"the type of count vectorizer \",type(school_state_one_hot))"
   ]
  },
  {
   "cell_type": "code",
   "execution_count": 29,
   "metadata": {},
   "outputs": [
    {
     "name": "stdout",
     "output_type": "stream",
     "text": [
      "['Dr', 'Mr', 'Mrs', 'Ms', 'No_Prefix', 'Teacher']\n",
      "Shape of matrix after one hot encodig  (109248, 6)\n"
     ]
    }
   ],
   "source": [
    "# https://www.geeksforgeeks.org/python-pandas-dataframe-fillna-to-replace-null-values-in-dataframe/\n",
    "project_data[\"teacher_prefix\"].fillna(\"No_Prefix\", inplace = True)\n",
    "    \n",
    "teacher_prefix_vectorizer = CountVectorizer(lowercase=False, binary=True)\n",
    "teacher_prefix_vectorizer.fit(project_data['teacher_prefix'].values)\n",
    "print(teacher_prefix_vectorizer.get_feature_names())\n",
    "\n",
    "teacher_prefix_one_hot = teacher_prefix_vectorizer.transform(project_data['teacher_prefix'].values)\n",
    "print(\"Shape of matrix after one hot encodig \",teacher_prefix_one_hot.shape)"
   ]
  },
  {
   "cell_type": "code",
   "execution_count": 30,
   "metadata": {},
   "outputs": [
    {
     "name": "stdout",
     "output_type": "stream",
     "text": [
      "['Grades~9-12', 'Grades~6-8', 'Grades~3-5', 'Grades~PreK-2']\n",
      "Shape of matrix after one hot encodig  (109248, 4)\n"
     ]
    }
   ],
   "source": [
    "my_grade_counter = Counter()\n",
    "\n",
    "for project_grade in project_data['project_grade_category'].values:\n",
    "    \n",
    "    if (' ' in project_grade):\n",
    "        \n",
    "        project_grade = project_grade.replace(\" \", \"~\")\n",
    "        \n",
    "        \n",
    "    my_grade_counter.update(project_grade.split())\n",
    "    \n",
    "    \n",
    "project_grade_cat_dict = dict(my_grade_counter)\n",
    "sorted_project_grade_cat_dict = dict(sorted(project_grade_cat_dict.items(), key=lambda kv: kv[1]))\n",
    "    \n",
    "grade_cat_vectorizer = CountVectorizer(vocabulary=list(sorted_project_grade_cat_dict.keys()), lowercase=False, binary=True)\n",
    "grade_cat_vectorizer.fit(project_data['project_grade_category'].values)\n",
    "print(grade_cat_vectorizer.get_feature_names())\n",
    "\n",
    "grade_cat_one_hot = grade_cat_vectorizer.transform(project_data['project_grade_category'].values)\n",
    "print(\"Shape of matrix after one hot encodig \",grade_cat_one_hot.shape)"
   ]
  },
  {
   "cell_type": "markdown",
   "metadata": {
    "colab_type": "text",
    "id": "k_rW-gxmoUHR"
   },
   "source": [
    "### 1.5.2 Vectorizing Text data"
   ]
  },
  {
   "cell_type": "markdown",
   "metadata": {
    "colab_type": "text",
    "id": "VMvzxx_koUHR"
   },
   "source": [
    "#### 1.5.2.1 Bag of words"
   ]
  },
  {
   "cell_type": "code",
   "execution_count": 31,
   "metadata": {
    "colab": {},
    "colab_type": "code",
    "id": "IB98tnXfoUHS",
    "outputId": "9f81e28b-8709-4280-ef37-db6542b3b268"
   },
   "outputs": [
    {
     "name": "stdout",
     "output_type": "stream",
     "text": [
      "Shape of matrix after one hot encodig  (109248, 16623)\n"
     ]
    }
   ],
   "source": [
    "# We are considering only the words which appeared in at least 10 documents(rows or projects).\n",
    "vectorizer = CountVectorizer(min_df=10)\n",
    "text_bow = vectorizer.fit_transform(preprocessed_essays)\n",
    "print(\"Shape of matrix after one hot encodig \",text_bow.shape)"
   ]
  },
  {
   "cell_type": "code",
   "execution_count": 32,
   "metadata": {
    "colab": {},
    "colab_type": "code",
    "id": "N0wcK6F-oUHV"
   },
   "outputs": [
    {
     "name": "stdout",
     "output_type": "stream",
     "text": [
      "some sample features(unique words in the corpus) ['abc', 'abcs', 'abilities', 'ability', 'able', 'aboard', 'about', 'above', 'abstract', 'academic']\n",
      "Shape of matrix after one hot encodig  (109248, 3290)\n",
      "the type of count vectorizer  <class 'scipy.sparse.csr.csr_matrix'>\n",
      "the number of unique words  3290\n"
     ]
    }
   ],
   "source": [
    "titles_vectorizer = CountVectorizer(min_df=10)\n",
    "titles_bow = titles_vectorizer.fit_transform(preprocessed_titles)\n",
    "print(\"some sample features(unique words in the corpus)\",titles_vectorizer.get_feature_names()[0:10])\n",
    "print(\"Shape of matrix after one hot encodig \",titles_bow.shape)\n",
    "print(\"the type of count vectorizer \",type(titles_bow))\n",
    "print(\"the number of unique words \", titles_bow.get_shape()[1])"
   ]
  },
  {
   "cell_type": "markdown",
   "metadata": {
    "colab_type": "text",
    "id": "HjDdqenYoUHX"
   },
   "source": [
    "#### 1.5.2.2 TFIDF vectorizer"
   ]
  },
  {
   "cell_type": "code",
   "execution_count": 33,
   "metadata": {
    "colab": {},
    "colab_type": "code",
    "id": "rzLt7eK9oUHX",
    "outputId": "3504f45e-7c82-4c50-bd02-e1c41642ed01"
   },
   "outputs": [
    {
     "name": "stdout",
     "output_type": "stream",
     "text": [
      "Shape of matrix after one hot encodig  (109248, 16623)\n"
     ]
    }
   ],
   "source": [
    "from sklearn.feature_extraction.text import TfidfVectorizer\n",
    "vectorizer = TfidfVectorizer(min_df=10)\n",
    "text_tfidf = vectorizer.fit_transform(preprocessed_essays)\n",
    "print(\"Shape of matrix after one hot encodig \",text_tfidf.shape)"
   ]
  },
  {
   "cell_type": "markdown",
   "metadata": {
    "colab_type": "text",
    "id": "ElMda-g1oUHZ"
   },
   "source": [
    "#### 1.5.2.3 Using Pretrained Models: Avg W2V"
   ]
  },
  {
   "cell_type": "code",
   "execution_count": 34,
   "metadata": {
    "colab": {},
    "colab_type": "code",
    "id": "-sKQl0jRoUHa",
    "outputId": "b466a236-5a0b-4040-dada-0e32a65d0919"
   },
   "outputs": [
    {
     "data": {
      "text/plain": [
       "'\\n# Reading glove vectors in python: https://stackoverflow.com/a/38230349/4084039\\ndef loadGloveModel(gloveFile):\\n    print (\"Loading Glove Model\")\\n    f = open(gloveFile,\\'r\\', encoding=\"utf8\")\\n    model = {}\\n    for line in tqdm(f):\\n        splitLine = line.split()\\n        word = splitLine[0]\\n        embedding = np.array([float(val) for val in splitLine[1:]])\\n        model[word] = embedding\\n    print (\"Done.\",len(model),\" words loaded!\")\\n    return model\\nmodel = loadGloveModel(\\'glove.42B.300d.txt\\')\\n\\n# ============================\\nOutput:\\n    \\nLoading Glove Model\\n1917495it [06:32, 4879.69it/s]\\nDone. 1917495  words loaded!\\n\\n# ============================\\n\\nwords = []\\nfor i in preproced_texts:\\n    words.extend(i.split(\\' \\'))\\n\\nfor i in preproced_titles:\\n    words.extend(i.split(\\' \\'))\\nprint(\"all the words in the coupus\", len(words))\\nwords = set(words)\\nprint(\"the unique words in the coupus\", len(words))\\n\\ninter_words = set(model.keys()).intersection(words)\\nprint(\"The number of words that are present in both glove vectors and our coupus\",       len(inter_words),\"(\",np.round(len(inter_words)/len(words)*100,3),\"%)\")\\n\\nwords_courpus = {}\\nwords_glove = set(model.keys())\\nfor i in words:\\n    if i in words_glove:\\n        words_courpus[i] = model[i]\\nprint(\"word 2 vec length\", len(words_courpus))\\n\\n\\n# stronging variables into pickle files python: http://www.jessicayung.com/how-to-use-pickle-to-save-and-load-variables-in-python/\\n\\nimport pickle\\nwith open(\\'glove_vectors\\', \\'wb\\') as f:\\n    pickle.dump(words_courpus, f)\\n\\n\\n'"
      ]
     },
     "execution_count": 34,
     "metadata": {},
     "output_type": "execute_result"
    }
   ],
   "source": [
    "'''\n",
    "# Reading glove vectors in python: https://stackoverflow.com/a/38230349/4084039\n",
    "def loadGloveModel(gloveFile):\n",
    "    print (\"Loading Glove Model\")\n",
    "    f = open(gloveFile,'r', encoding=\"utf8\")\n",
    "    model = {}\n",
    "    for line in tqdm(f):\n",
    "        splitLine = line.split()\n",
    "        word = splitLine[0]\n",
    "        embedding = np.array([float(val) for val in splitLine[1:]])\n",
    "        model[word] = embedding\n",
    "    print (\"Done.\",len(model),\" words loaded!\")\n",
    "    return model\n",
    "model = loadGloveModel('glove.42B.300d.txt')\n",
    "\n",
    "# ============================\n",
    "Output:\n",
    "    \n",
    "Loading Glove Model\n",
    "1917495it [06:32, 4879.69it/s]\n",
    "Done. 1917495  words loaded!\n",
    "\n",
    "# ============================\n",
    "\n",
    "words = []\n",
    "for i in preproced_texts:\n",
    "    words.extend(i.split(' '))\n",
    "\n",
    "for i in preproced_titles:\n",
    "    words.extend(i.split(' '))\n",
    "print(\"all the words in the coupus\", len(words))\n",
    "words = set(words)\n",
    "print(\"the unique words in the coupus\", len(words))\n",
    "\n",
    "inter_words = set(model.keys()).intersection(words)\n",
    "print(\"The number of words that are present in both glove vectors and our coupus\", \\\n",
    "      len(inter_words),\"(\",np.round(len(inter_words)/len(words)*100,3),\"%)\")\n",
    "\n",
    "words_courpus = {}\n",
    "words_glove = set(model.keys())\n",
    "for i in words:\n",
    "    if i in words_glove:\n",
    "        words_courpus[i] = model[i]\n",
    "print(\"word 2 vec length\", len(words_courpus))\n",
    "\n",
    "\n",
    "# stronging variables into pickle files python: http://www.jessicayung.com/how-to-use-pickle-to-save-and-load-variables-in-python/\n",
    "\n",
    "import pickle\n",
    "with open('glove_vectors', 'wb') as f:\n",
    "    pickle.dump(words_courpus, f)\n",
    "\n",
    "\n",
    "'''"
   ]
  },
  {
   "cell_type": "code",
   "execution_count": 35,
   "metadata": {
    "colab": {},
    "colab_type": "code",
    "collapsed": true,
    "id": "Vb1-FcQwoUHc"
   },
   "outputs": [],
   "source": [
    "# stronging variables into pickle files python: http://www.jessicayung.com/how-to-use-pickle-to-save-and-load-variables-in-python/\n",
    "# make sure you have the glove_vectors file\n",
    "with open('glove_vectors', 'rb') as f:\n",
    "    model = pickle.load(f)\n",
    "    glove_words =  set(model.keys())"
   ]
  },
  {
   "cell_type": "code",
   "execution_count": 36,
   "metadata": {
    "colab": {},
    "colab_type": "code",
    "id": "Ut5bQna3oUHd",
    "outputId": "b59444ff-f493-4d35-f3c5-31a27aa958ab",
    "scrolled": true
   },
   "outputs": [
    {
     "name": "stderr",
     "output_type": "stream",
     "text": [
      "100%|████████████████████████████████████████████████████████████████████████| 109248/109248 [01:04<00:00, 1689.32it/s]\n"
     ]
    },
    {
     "name": "stdout",
     "output_type": "stream",
     "text": [
      "109248\n",
      "300\n"
     ]
    }
   ],
   "source": [
    "# average Word2Vec\n",
    "# compute average word2vec for each review.\n",
    "avg_w2v_vectors = []; # the avg-w2v for each sentence/review is stored in this list\n",
    "for sentence in tqdm(preprocessed_essays): # for each review/sentence\n",
    "    vector = np.zeros(300) # as word vectors are of zero length\n",
    "    cnt_words =0; # num of words with a valid vector in the sentence/review\n",
    "    for word in sentence.split(): # for each word in a review/sentence\n",
    "        if word in glove_words:\n",
    "            vector += model[word]\n",
    "            cnt_words += 1\n",
    "    if cnt_words != 0:\n",
    "        vector /= cnt_words\n",
    "    avg_w2v_vectors.append(vector)\n",
    "\n",
    "print(len(avg_w2v_vectors))\n",
    "print(len(avg_w2v_vectors[0]))"
   ]
  },
  {
   "cell_type": "markdown",
   "metadata": {
    "colab_type": "text",
    "id": "919fc_i1oUHf"
   },
   "source": [
    "#### 1.5.2.3 Using Pretrained Models: TFIDF weighted W2V"
   ]
  },
  {
   "cell_type": "code",
   "execution_count": 37,
   "metadata": {
    "colab": {},
    "colab_type": "code",
    "collapsed": true,
    "id": "UnW1_qLtoUHg"
   },
   "outputs": [],
   "source": [
    "# S = [\"abc def pqr\", \"def def def abc\", \"pqr pqr def\"]\n",
    "tfidf_model = TfidfVectorizer()\n",
    "tfidf_model.fit(preprocessed_essays)\n",
    "# we are converting a dictionary with word as a key, and the idf as a value\n",
    "dictionary = dict(zip(tfidf_model.get_feature_names(), list(tfidf_model.idf_)))\n",
    "tfidf_words = set(tfidf_model.get_feature_names())"
   ]
  },
  {
   "cell_type": "code",
   "execution_count": 38,
   "metadata": {
    "colab": {},
    "colab_type": "code",
    "id": "vWr-8LbhoUHh",
    "outputId": "543fb84e-6d7b-4098-a2a2-f677b1ecd4c0",
    "scrolled": true
   },
   "outputs": [
    {
     "name": "stderr",
     "output_type": "stream",
     "text": [
      "100%|█████████████████████████████████████████████████████████████████████████| 109248/109248 [08:08<00:00, 223.71it/s]\n"
     ]
    },
    {
     "name": "stdout",
     "output_type": "stream",
     "text": [
      "109248\n",
      "300\n"
     ]
    }
   ],
   "source": [
    "# average Word2Vec\n",
    "# compute average word2vec for each review.\n",
    "tfidf_w2v_vectors = []; # the avg-w2v for each sentence/review is stored in this list\n",
    "for sentence in tqdm(preprocessed_essays): # for each review/sentence\n",
    "    vector = np.zeros(300) # as word vectors are of zero length\n",
    "    tf_idf_weight =0; # num of words with a valid vector in the sentence/review\n",
    "    for word in sentence.split(): # for each word in a review/sentence\n",
    "        if (word in glove_words) and (word in tfidf_words):\n",
    "            vec = model[word] # getting the vector for each word\n",
    "            # here we are multiplying idf value(dictionary[word]) and the tf value((sentence.count(word)/len(sentence.split())))\n",
    "            tf_idf = dictionary[word]*(sentence.count(word)/len(sentence.split())) # getting the tfidf value for each word\n",
    "            vector += (vec * tf_idf) # calculating tfidf weighted w2v\n",
    "            tf_idf_weight += tf_idf\n",
    "    if tf_idf_weight != 0:\n",
    "        vector /= tf_idf_weight\n",
    "    tfidf_w2v_vectors.append(vector)\n",
    "\n",
    "print(len(tfidf_w2v_vectors))\n",
    "print(len(tfidf_w2v_vectors[0]))"
   ]
  },
  {
   "cell_type": "code",
   "execution_count": 39,
   "metadata": {
    "colab": {},
    "colab_type": "code",
    "id": "jNqYIlxZoUHj"
   },
   "outputs": [
    {
     "name": "stdout",
     "output_type": "stream",
     "text": [
      "some sample features(unique words in the corpus) ['academics', 'academy', 'acceptance', 'access', 'accessibility', 'accessible', 'accessing', 'accessories', 'ace', 'achieve', 'achievement']\n",
      "Shape of matrix after one hot encodig  (109248, 3290)\n"
     ]
    }
   ],
   "source": [
    "# TFIDF on project titles\n",
    "titles_tfidf_vectorizer = TfidfVectorizer(min_df=10)\n",
    "titles_tfidf = titles_tfidf_vectorizer.fit_transform(preprocessed_titles)\n",
    "print(\"some sample features(unique words in the corpus)\",titles_tfidf_vectorizer.get_feature_names()[10:21])\n",
    "print(\"Shape of matrix after one hot encodig \",titles_tfidf.shape)"
   ]
  },
  {
   "cell_type": "code",
   "execution_count": 40,
   "metadata": {},
   "outputs": [
    {
     "name": "stderr",
     "output_type": "stream",
     "text": [
      "100%|███████████████████████████████████████████████████████████████████████| 109248/109248 [00:03<00:00, 33119.22it/s]\n"
     ]
    },
    {
     "name": "stdout",
     "output_type": "stream",
     "text": [
      "109248\n",
      "300\n"
     ]
    }
   ],
   "source": [
    "# AVG W2V on project title\n",
    "avg_w2v_titles_vectors = [];\n",
    "\n",
    "for sentence in tqdm(preprocessed_titles):\n",
    "    \n",
    "    vector_titles = np.zeros(300)\n",
    "    cnt_words_titles = 0;\n",
    "    \n",
    "    for word in sentence.split():\n",
    "        \n",
    "        if word in glove_words:\n",
    "            \n",
    "            vector += model[word]\n",
    "            cnt_words_titles += 1\n",
    "            \n",
    "    if cnt_words_titles != 0:\n",
    "        \n",
    "        vector_titles /= cnt_words_titles\n",
    "        \n",
    "    avg_w2v_titles_vectors.append(vector_titles)\n",
    "\n",
    "print(len(avg_w2v_titles_vectors))\n",
    "print(len(avg_w2v_titles_vectors[0]))"
   ]
  },
  {
   "cell_type": "code",
   "execution_count": 41,
   "metadata": {
    "collapsed": true
   },
   "outputs": [],
   "source": [
    "# TFIDF weighted W2V on project_title\n",
    "titles_tfidf_model = TfidfVectorizer()\n",
    "titles_tfidf_model.fit(preprocessed_titles)\n",
    "titles_dictionary = dict(zip(titles_tfidf_model.get_feature_names(), list(titles_tfidf_model.idf_)))\n",
    "titles_tfidf_words = set(titles_tfidf_model.get_feature_names())\n"
   ]
  },
  {
   "cell_type": "code",
   "execution_count": 42,
   "metadata": {},
   "outputs": [
    {
     "name": "stderr",
     "output_type": "stream",
     "text": [
      "100%|███████████████████████████████████████████████████████████████████████| 109248/109248 [00:06<00:00, 16490.88it/s]\n"
     ]
    },
    {
     "name": "stdout",
     "output_type": "stream",
     "text": [
      "109248\n",
      "300\n"
     ]
    }
   ],
   "source": [
    "titles_tfidf_w2v_vectors = [];\n",
    "\n",
    "for titles_sentence in tqdm(preprocessed_titles):\n",
    "    \n",
    "    titles_vector = np.zeros(300)\n",
    "    titles_tfidf_weight = 0;\n",
    "    \n",
    "    for word in titles_sentence.split():\n",
    "        \n",
    "        if (word in glove_words) and (word in titles_tfidf_words):\n",
    "            \n",
    "            titles_vec = model[word]\n",
    "            \n",
    "            titles_tf_idf = titles_dictionary[word]*(titles_sentence.count(word)/len(titles_sentence.split())) \n",
    "            titles_vector += (titles_vec * titles_tf_idf)\n",
    "            titles_tfidf_weight += titles_tf_idf\n",
    "            \n",
    "    if titles_tfidf_weight != 0:\n",
    "        \n",
    "        titles_vector /= titles_tfidf_weight\n",
    "        \n",
    "    titles_tfidf_w2v_vectors.append(titles_vector)\n",
    "\n",
    "print(len(titles_tfidf_w2v_vectors))\n",
    "print(len(titles_tfidf_w2v_vectors[0]))"
   ]
  },
  {
   "cell_type": "markdown",
   "metadata": {
    "colab_type": "text",
    "id": "yHJ45fW4oUHl"
   },
   "source": [
    "### 1.5.3 Vectorizing Numerical features"
   ]
  },
  {
   "cell_type": "code",
   "execution_count": 43,
   "metadata": {
    "colab": {},
    "colab_type": "code",
    "collapsed": true,
    "id": "yHffthPioUHl"
   },
   "outputs": [],
   "source": [
    "price_data = resource_data.groupby('id').agg({'price':'sum', 'quantity':'sum'}).reset_index()\n",
    "project_data = pd.merge(project_data, price_data, on='id', how='left')"
   ]
  },
  {
   "cell_type": "code",
   "execution_count": 44,
   "metadata": {
    "colab": {},
    "colab_type": "code",
    "id": "Og7gm3d4oUHn"
   },
   "outputs": [
    {
     "name": "stdout",
     "output_type": "stream",
     "text": [
      "Mean : 298.1193425966608, Standard deviation : 367.49634838483496\n"
     ]
    }
   ],
   "source": [
    "# check this one: https://www.youtube.com/watch?v=0HOqOcln3Z4&t=530s\n",
    "# standardization sklearn: https://scikit-learn.org/stable/modules/generated/sklearn.preprocessing.StandardScaler.html\n",
    "from sklearn.preprocessing import StandardScaler\n",
    "\n",
    "# price_standardized = standardScalar.fit(project_data['price'].values)\n",
    "# this will rise the error\n",
    "# ValueError: Expected 2D array, got 1D array instead: array=[725.05 213.03 329.   ... 399.   287.73   5.5 ].\n",
    "# Reshape your data either using array.reshape(-1, 1)\n",
    "\n",
    "price_scalar = StandardScaler()\n",
    "price_scalar.fit(project_data['price'].values.reshape(-1,1)) # finding the mean and standard deviation of this data\n",
    "print(f\"Mean : {price_scalar.mean_[0]}, Standard deviation : {np.sqrt(price_scalar.var_[0])}\")\n",
    "\n",
    "# Now standardize the data with above maen and variance.\n",
    "price_standardized = price_scalar.transform(project_data['price'].values.reshape(-1, 1))"
   ]
  },
  {
   "cell_type": "code",
   "execution_count": 45,
   "metadata": {
    "colab": {},
    "colab_type": "code",
    "id": "Az8Af4SeoUHp",
    "outputId": "6e16cd48-c9ab-43b9-f30f-57d6af2c9860"
   },
   "outputs": [
    {
     "data": {
      "text/plain": [
       "array([[-0.3905327 ],\n",
       "       [ 0.00239637],\n",
       "       [ 0.59519138],\n",
       "       ..., \n",
       "       [-0.15825829],\n",
       "       [-0.61243967],\n",
       "       [-0.51216657]])"
      ]
     },
     "execution_count": 45,
     "metadata": {},
     "output_type": "execute_result"
    }
   ],
   "source": [
    "price_standardized"
   ]
  },
  {
   "cell_type": "markdown",
   "metadata": {
    "colab_type": "text",
    "id": "m8vQHRmfoUHr"
   },
   "source": [
    "### 1.5.4 Merging all the above features"
   ]
  },
  {
   "cell_type": "markdown",
   "metadata": {
    "colab_type": "text",
    "id": "MeqZCqa4oUHs"
   },
   "source": [
    "- we need to merge all the numerical vectors i.e catogorical, text, numerical vectors"
   ]
  },
  {
   "cell_type": "code",
   "execution_count": 46,
   "metadata": {
    "colab": {},
    "colab_type": "code",
    "id": "kXYx15pXoUHs",
    "outputId": "cc99465f-dbf5-483e-f86c-086b3cbd17aa"
   },
   "outputs": [
    {
     "name": "stdout",
     "output_type": "stream",
     "text": [
      "(109248, 9)\n",
      "(109248, 30)\n",
      "(109248, 16623)\n",
      "(109248, 1)\n"
     ]
    }
   ],
   "source": [
    "print(categories_one_hot.shape)\n",
    "print(sub_categories_one_hot.shape)\n",
    "print(text_bow.shape)\n",
    "print(price_standardized.shape)"
   ]
  },
  {
   "cell_type": "code",
   "execution_count": 47,
   "metadata": {
    "colab": {},
    "colab_type": "code",
    "id": "_n3qDy_roUHu",
    "outputId": "0aad4b00-80f5-4603-c49f-b042eaacba96"
   },
   "outputs": [
    {
     "data": {
      "text/plain": [
       "(109248, 16663)"
      ]
     },
     "execution_count": 47,
     "metadata": {},
     "output_type": "execute_result"
    }
   ],
   "source": [
    "# merge two sparse matrices: https://stackoverflow.com/a/19710648/4084039\n",
    "from scipy.sparse import hstack\n",
    "# with the same hstack function we are concatinating a sparse matrix and a dense matirx :)\n",
    "X = hstack((categories_one_hot, sub_categories_one_hot, text_bow, price_standardized))\n",
    "X.shape"
   ]
  },
  {
   "cell_type": "markdown",
   "metadata": {
    "colab_type": "text",
    "id": "sroxCZEPoUHy"
   },
   "source": [
    "__ Computing Sentiment Scores__"
   ]
  },
  {
   "cell_type": "code",
   "execution_count": 48,
   "metadata": {
    "colab": {},
    "colab_type": "code",
    "id": "F8rRKUskoUHz",
    "outputId": "ea7f1629-df31-4a5f-a6df-f57d8dface17"
   },
   "outputs": [
    {
     "name": "stdout",
     "output_type": "stream",
     "text": [
      "neg: 0.01, neu: 0.745, pos: 0.245, compound: 0.9975, "
     ]
    }
   ],
   "source": [
    "import nltk\n",
    "from nltk.sentiment.vader import SentimentIntensityAnalyzer\n",
    "\n",
    "# import nltk\n",
    "# nltk.download('vader_lexicon')\n",
    "\n",
    "sid = SentimentIntensityAnalyzer()\n",
    "\n",
    "for_sentiment = 'a person is a person no matter how small dr seuss i teach the smallest students with the biggest enthusiasm \\\n",
    "for learning my students learn in many different ways using all of our senses and multiple intelligences i use a wide range\\\n",
    "of techniques to help all my students succeed students in my class come from a variety of different backgrounds which makes\\\n",
    "for wonderful sharing of experiences and cultures including native americans our school is a caring community of successful \\\n",
    "learners which can be seen through collaborative student project based learning in and out of the classroom kindergarteners \\\n",
    "in my class love to work with hands on materials and have many different opportunities to practice a skill before it is\\\n",
    "mastered having the social skills to work cooperatively with friends is a crucial aspect of the kindergarten curriculum\\\n",
    "montana is the perfect place to learn about agriculture and nutrition my students love to role play in our pretend kitchen\\\n",
    "in the early childhood classroom i have had several kids ask me can we try cooking with real food i will take their idea \\\n",
    "and create common core cooking lessons where we learn important math and writing concepts while cooking delicious healthy \\\n",
    "food for snack time my students will have a grounded appreciation for the work that went into making the food and knowledge \\\n",
    "of where the ingredients came from as well as how it is healthy for their bodies this project would expand our learning of \\\n",
    "nutrition and agricultural cooking recipes by having us peel our own apples to make homemade applesauce make our own bread \\\n",
    "and mix up healthy plants from our classroom garden in the spring we will also create our own cookbooks to be printed and \\\n",
    "shared with families students will gain math and literature skills as well as a life long enjoyment for healthy cooking \\\n",
    "nannan'\n",
    "ss = sid.polarity_scores(for_sentiment)\n",
    "\n",
    "for k in ss:\n",
    "    print('{0}: {1}, '.format(k, ss[k]), end='')\n",
    "\n",
    "# we can use these 4 things as features/attributes (neg, neu, pos, compound)\n",
    "# neg: 0.0, neu: 0.753, pos: 0.247, compound: 0.93"
   ]
  },
  {
   "cell_type": "markdown",
   "metadata": {
    "colab_type": "text",
    "id": "EDbdwrJ7oUH1"
   },
   "source": [
    "# Assignment 7: SVM"
   ]
  },
  {
   "cell_type": "markdown",
   "metadata": {
    "colab_type": "text",
    "id": "sKc9KmNQoUH2"
   },
   "source": [
    "<ol>\n",
    "    <li><strong>[Task-1] Apply Support Vector Machines(SGDClassifier with hinge loss: Linear SVM) on these feature sets</strong>\n",
    "        <ul>\n",
    "            <li><font color='red'>Set 1</font>: categorical, numerical features + project_title(BOW) + preprocessed_eassay (BOW)</li>\n",
    "            <li><font color='red'>Set 2</font>: categorical, numerical features + project_title(TFIDF)+  preprocessed_eassay (TFIDF)</li>\n",
    "            <li><font color='red'>Set 3</font>: categorical, numerical features + project_title(AVG W2V)+  preprocessed_eassay (AVG W2V)</li>\n",
    "            <li><font color='red'>Set 4</font>: categorical, numerical features + project_title(TFIDF W2V)+  preprocessed_eassay (TFIDF W2V)</li>        </ul>\n",
    "    </li>\n",
    "    <br>\n",
    "    <li><strong>The hyper paramter tuning (best alpha in range [10^-4 to 10^4], and the best penalty among 'l1', 'l2')</strong>\n",
    "        <ul>\n",
    "    <li>Find the best hyper parameter which will give the maximum <a href='https://www.appliedaicourse.com/course/applied-ai-course-online/lessons/receiver-operating-characteristic-curve-roc-curve-and-auc-1/'>AUC</a> value</li>\n",
    "    <li>Find the best hyper paramter using k-fold cross validation or simple cross validation data</li>\n",
    "    <li>Use gridsearch cv or randomsearch cv or you can also write your own for loops to do this task of hyperparameter tuning\n",
    "        </ul>\n",
    "            </li>\n",
    "    <br>\n",
    "    <li><strong>Representation of results</strong>\n",
    "        <ul>\n",
    "    <li>You need to plot the performance of model both on train data and cross validation data for each hyper parameter, like shown in the figure.\n",
    "    <img src='train_cv_auc.JPG' width=300px></li>\n",
    "    <li>Once after you found the best hyper parameter, you need to train your model with it, and find the AUC on test data and plot the ROC curve on both train and test.\n",
    "    <img src='train_test_auc.JPG' width=300px></li>\n",
    "    <li>Along with plotting ROC curve, you need to print the <a href='https://www.appliedaicourse.com/course/applied-ai-course-online/lessons/confusion-matrix-tpr-fpr-fnr-tnr-1/'>confusion matrix</a> with predicted and original labels of test data points. Please visualize your confusion matrices using <a href='https://seaborn.pydata.org/generated/seaborn.heatmap.html'>seaborn heatmaps.\n",
    "    <img src='confusion_matrix.png' width=300px></li>\n",
    "        </ul>\n",
    "    </li>\n",
    "    <br>\n",
    "    <li><strong>[Task-2] Apply the Support Vector Machines on these features by finding the best hyper paramter as suggested in step 2 and step 3</strong>\n",
    "        <ul>\n",
    "    <li> Consider these set of features <font color='red'> Set 5 :</font>\n",
    "            <ul>\n",
    "                <li><strong>school_state</strong> : categorical data</li>\n",
    "                <li><strong>clean_categories</strong> : categorical data</li>\n",
    "                <li><strong>clean_subcategories</strong> : categorical data</li>\n",
    "                <li><strong>project_grade_category</strong> :categorical data</li>\n",
    "                <li><strong>teacher_prefix</strong> : categorical data</li>\n",
    "                <li><strong>quantity</strong> : numerical data</li>\n",
    "                <li><strong>teacher_number_of_previously_posted_projects</strong> : numerical data</li>\n",
    "                <li><strong>price</strong> : numerical data</li>\n",
    "                <li><strong>sentiment score's of each of the essay</strong> : numerical data</li>\n",
    "                <li><strong>number of words in the title</strong> : numerical data</li>\n",
    "                <li><strong>number of words in the combine essays</strong> : numerical data</li>\n",
    "                <li><strong>Apply <a href='http://scikit-learn.org/stable/modules/generated/sklearn.decomposition.TruncatedSVD.html'>TruncatedSVD</a> on <a href='https://scikit-learn.org/stable/modules/generated/sklearn.feature_extraction.text.TfidfVectorizer.html'>TfidfVectorizer</a> of essay text, choose the number of components (`n_components`) using <a href='https://www.appliedaicourse.com/course/applied-ai-course-online/lessons/pca-code-example-using-non-visualization/'>elbow method</a></strong> : numerical data</li>\n",
    "            </ul>\n",
    "         <br>\n",
    "    </li>\n",
    "    <br>\n",
    "    <li><strong>Conclusion</strong>\n",
    "        <ul>\n",
    "    <li>You need to summarize the results at the end of the notebook, summarize it in the table format. To print out a table please refer to this prettytable library<a href='http://zetcode.com/python/prettytable/'>  link</a> \n",
    "        <img src='summary.JPG' width=400px>\n",
    "    </li>\n",
    "        </ul>\n",
    "</ol>"
   ]
  },
  {
   "cell_type": "markdown",
   "metadata": {
    "colab_type": "text",
    "id": "zgdnjthToUH2"
   },
   "source": [
    "<h4><font color='red'>Note: Data Leakage</font></h4>\n",
    "\n",
    "1. There will be an issue of data-leakage if you vectorize the entire data and then split it into train/cv/test.\n",
    "2. To avoid the issue of data-leakage, make sure to split your data first and then vectorize it. \n",
    "3. While vectorizing your data, apply the method fit_transform() on you train data, and apply the method transform() on cv/test data.\n",
    "4. For more details please go through this <a href='https://soundcloud.com/applied-ai-course/leakage-bow-and-tfidf'>link.</a>"
   ]
  },
  {
   "cell_type": "markdown",
   "metadata": {
    "colab_type": "text",
    "id": "__AbIboVoUH3"
   },
   "source": [
    "<h1>2. Support Vector Machines </h1>"
   ]
  },
  {
   "cell_type": "markdown",
   "metadata": {
    "colab_type": "text",
    "id": "vMxruDG7oUH3"
   },
   "source": [
    "<h2>2.1 Splitting data into Train and cross validation(or test): Stratified Sampling</h2>"
   ]
  },
  {
   "cell_type": "code",
   "execution_count": 49,
   "metadata": {
    "colab": {},
    "colab_type": "code",
    "id": "Uadl5GfvOh-o"
   },
   "outputs": [
    {
     "data": {
      "text/html": [
       "<div>\n",
       "<style>\n",
       "    .dataframe thead tr:only-child th {\n",
       "        text-align: right;\n",
       "    }\n",
       "\n",
       "    .dataframe thead th {\n",
       "        text-align: left;\n",
       "    }\n",
       "\n",
       "    .dataframe tbody tr th {\n",
       "        vertical-align: top;\n",
       "    }\n",
       "</style>\n",
       "<table border=\"1\" class=\"dataframe\">\n",
       "  <thead>\n",
       "    <tr style=\"text-align: right;\">\n",
       "      <th></th>\n",
       "      <th>Unnamed: 0</th>\n",
       "      <th>id</th>\n",
       "      <th>teacher_id</th>\n",
       "      <th>teacher_prefix</th>\n",
       "      <th>school_state</th>\n",
       "      <th>project_submitted_datetime</th>\n",
       "      <th>project_grade_category</th>\n",
       "      <th>project_title</th>\n",
       "      <th>project_essay_1</th>\n",
       "      <th>project_essay_2</th>\n",
       "      <th>...</th>\n",
       "      <th>preprocessed_essays</th>\n",
       "      <th>essay_word_count</th>\n",
       "      <th>pos</th>\n",
       "      <th>neg</th>\n",
       "      <th>neu</th>\n",
       "      <th>compound</th>\n",
       "      <th>preprocessed_titles</th>\n",
       "      <th>title_word_count</th>\n",
       "      <th>price</th>\n",
       "      <th>quantity</th>\n",
       "    </tr>\n",
       "  </thead>\n",
       "  <tbody>\n",
       "    <tr>\n",
       "      <th>0</th>\n",
       "      <td>160221</td>\n",
       "      <td>p253737</td>\n",
       "      <td>c90749f5d961ff158d4b4d1e7dc665fc</td>\n",
       "      <td>Mrs.</td>\n",
       "      <td>IN</td>\n",
       "      <td>2016-12-05 13:43:57</td>\n",
       "      <td>Grades PreK-2</td>\n",
       "      <td>Educational Support for English Learners at Home</td>\n",
       "      <td>My students are English learners that are work...</td>\n",
       "      <td>\\\"The limits of your language are the limits o...</td>\n",
       "      <td>...</td>\n",
       "      <td>my students english learners working english s...</td>\n",
       "      <td>161</td>\n",
       "      <td>0.144</td>\n",
       "      <td>0.012</td>\n",
       "      <td>0.844</td>\n",
       "      <td>0.9694</td>\n",
       "      <td>educational support english learners home</td>\n",
       "      <td>5</td>\n",
       "      <td>154.6</td>\n",
       "      <td>23</td>\n",
       "    </tr>\n",
       "  </tbody>\n",
       "</table>\n",
       "<p>1 rows × 27 columns</p>\n",
       "</div>"
      ],
      "text/plain": [
       "   Unnamed: 0       id                        teacher_id teacher_prefix  \\\n",
       "0      160221  p253737  c90749f5d961ff158d4b4d1e7dc665fc           Mrs.   \n",
       "\n",
       "  school_state project_submitted_datetime project_grade_category  \\\n",
       "0           IN        2016-12-05 13:43:57          Grades PreK-2   \n",
       "\n",
       "                                      project_title  \\\n",
       "0  Educational Support for English Learners at Home   \n",
       "\n",
       "                                     project_essay_1  \\\n",
       "0  My students are English learners that are work...   \n",
       "\n",
       "                                     project_essay_2    ...     \\\n",
       "0  \\\"The limits of your language are the limits o...    ...      \n",
       "\n",
       "                                 preprocessed_essays essay_word_count    pos  \\\n",
       "0  my students english learners working english s...              161  0.144   \n",
       "\n",
       "     neg    neu compound                        preprocessed_titles  \\\n",
       "0  0.012  0.844   0.9694  educational support english learners home   \n",
       "\n",
       "  title_word_count  price  quantity  \n",
       "0                5  154.6        23  \n",
       "\n",
       "[1 rows x 27 columns]"
      ]
     },
     "execution_count": 49,
     "metadata": {},
     "output_type": "execute_result"
    }
   ],
   "source": [
    "approved_project = project_data['project_is_approved'].values\n",
    "project_data.drop(['project_is_approved'], axis=1, inplace=True)\n",
    "project_data.head(1)"
   ]
  },
  {
   "cell_type": "code",
   "execution_count": 50,
   "metadata": {
    "collapsed": true
   },
   "outputs": [],
   "source": [
    "# Data splitting\n",
    "\n",
    "from sklearn.model_selection import train_test_split\n",
    "\n",
    "# Splitting in train and test\n",
    "X_train, X_test, y_train, y_test = train_test_split(project_data, approved_project, test_size=0.33, stratify=approved_project)\n",
    "\n",
    "# Splitting in Train Test and Cross Validation\n",
    "X_train, X_cv, y_train, y_cv = train_test_split(X_train, y_train, test_size=0.33, stratify=y_train)\n"
   ]
  },
  {
   "cell_type": "markdown",
   "metadata": {
    "colab_type": "text",
    "id": "RXh9o-rOoUH5"
   },
   "source": [
    "<h2>2.2 Make Data Model Ready: encoding numerical, categorical features</h2>"
   ]
  },
  {
   "cell_type": "code",
   "execution_count": 51,
   "metadata": {
    "colab": {},
    "colab_type": "code",
    "id": "CHCHH_ZyOh-t"
   },
   "outputs": [
    {
     "name": "stdout",
     "output_type": "stream",
     "text": [
      "Shape of train matrix after one hot encodig  (49041, 9)\n",
      "Shape of test matrix after one hot encodig  (36052, 9)\n",
      "Shape of cv matrix after one hot encodig  (24155, 9)\n"
     ]
    }
   ],
   "source": [
    "# Vectorizing Categories on Train, Test and CV data\n",
    "from sklearn.feature_extraction.text import CountVectorizer\n",
    "\n",
    "vectorizer = CountVectorizer(vocabulary=list(sorted_cat_dict.keys()), lowercase=False, binary=True)\n",
    "\n",
    "# Fit only to train data\n",
    "vectorizer.fit(X_train['clean_categories'].values)\n",
    "\n",
    "# Transform to train,test and CV data\n",
    "X_Train_categories_one_hot = vectorizer.transform(X_train['clean_categories'].values)\n",
    "X_Test_categories_one_hot = vectorizer.transform(X_test['clean_categories'].values)\n",
    "X_CV_categories_one_hot = vectorizer.transform(X_cv['clean_categories'].values)\n",
    "\n",
    "print(\"Shape of train matrix after one hot encodig \",X_Train_categories_one_hot.shape)\n",
    "print(\"Shape of test matrix after one hot encodig \",X_Test_categories_one_hot.shape)\n",
    "print(\"Shape of cv matrix after one hot encodig \",X_CV_categories_one_hot.shape)"
   ]
  },
  {
   "cell_type": "code",
   "execution_count": 52,
   "metadata": {},
   "outputs": [
    {
     "name": "stdout",
     "output_type": "stream",
     "text": [
      "Shape of train matrix after one hot encodig  (49041, 30)\n",
      "Shape of test matrix after one hot encodig  (36052, 30)\n",
      "Shape of cv matrix after one hot encodig  (24155, 30)\n"
     ]
    }
   ],
   "source": [
    "# Vectorizing subcategories on train, test and cv\n",
    "\n",
    "vectorizer = CountVectorizer(vocabulary=list(sorted_sub_cat_dict.keys()), lowercase=False, binary=True)\n",
    "vectorizer.fit(X_train['clean_subcategories'].values)\n",
    "\n",
    "X_Train_sub_categories_one_hot = vectorizer.transform(X_train['clean_subcategories'].values)\n",
    "X_Test_sub_categories_one_hot = vectorizer.transform(X_test['clean_subcategories'].values)\n",
    "X_CV_sub_categories_one_hot = vectorizer.transform(X_cv['clean_subcategories'].values)\n",
    "\n",
    "print(\"Shape of train matrix after one hot encodig \",X_Train_sub_categories_one_hot.shape)\n",
    "print(\"Shape of test matrix after one hot encodig \",X_Test_sub_categories_one_hot.shape)\n",
    "print(\"Shape of cv matrix after one hot encodig \",X_CV_sub_categories_one_hot.shape)"
   ]
  },
  {
   "cell_type": "code",
   "execution_count": 53,
   "metadata": {},
   "outputs": [
    {
     "name": "stdout",
     "output_type": "stream",
     "text": [
      "['AK', 'AL', 'AR', 'AZ', 'CA', 'CO', 'CT', 'DC', 'DE', 'FL', 'GA', 'HI', 'IA', 'ID', 'IL', 'IN', 'KS', 'KY', 'LA', 'MA', 'MD', 'ME', 'MI', 'MN', 'MO', 'MS', 'MT', 'NC', 'ND', 'NE', 'NH', 'NJ', 'NM', 'NV', 'NY', 'OH', 'OK', 'OR', 'PA', 'RI', 'SC', 'SD', 'TN', 'TX', 'UT', 'VA', 'VT', 'WA', 'WI', 'WV', 'WY']\n",
      "Shape of train matrix after one hot encodig  (49041, 51)\n",
      "Shape of test matrix after one hot encodig  (36052, 51)\n",
      "Shape of cv matrix after one hot encodig  (24155, 51)\n",
      "the type of count vectorizer  <class 'scipy.sparse.csr.csr_matrix'>\n",
      "the type of count vectorizer  <class 'scipy.sparse.csr.csr_matrix'>\n",
      "the type of count vectorizer  <class 'scipy.sparse.csr.csr_matrix'>\n"
     ]
    }
   ],
   "source": [
    "# Vectorizing school state on train , test and cv\n",
    "\n",
    "school_state_vectorizer = CountVectorizer(lowercase=False, binary=True)\n",
    "\n",
    "school_state_vectorizer.fit(X_train['school_state'].values)\n",
    "print(school_state_vectorizer.get_feature_names())\n",
    "\n",
    "X_Train_school_state_one_hot = school_state_vectorizer.transform(X_train['school_state'].values)\n",
    "X_Test_school_state_one_hot = school_state_vectorizer.transform(X_test['school_state'].values)\n",
    "X_CV_school_state_one_hot = school_state_vectorizer.transform(X_cv['school_state'].values)\n",
    "\n",
    "print(\"Shape of train matrix after one hot encodig \",X_Train_school_state_one_hot.shape)\n",
    "print(\"Shape of test matrix after one hot encodig \",X_Test_school_state_one_hot.shape)\n",
    "print(\"Shape of cv matrix after one hot encodig \",X_CV_school_state_one_hot.shape)\n",
    "\n",
    "print(\"the type of count vectorizer \",type(X_Train_school_state_one_hot))\n",
    "print(\"the type of count vectorizer \",type(X_Test_school_state_one_hot))\n",
    "print(\"the type of count vectorizer \",type(X_CV_school_state_one_hot))"
   ]
  },
  {
   "cell_type": "code",
   "execution_count": 54,
   "metadata": {},
   "outputs": [
    {
     "name": "stdout",
     "output_type": "stream",
     "text": [
      "['Dr', 'Mr', 'Mrs', 'Ms', 'No_Prefix', 'Teacher']\n",
      "Shape of train matrix after one hot encodig  (49041, 6)\n",
      "Shape of test matrix after one hot encodig  (36052, 6)\n",
      "Shape of cv matrix after one hot encodig  (24155, 6)\n"
     ]
    }
   ],
   "source": [
    "# Vectorizing teacher prefix on train , test and cv\n",
    "\n",
    "project_data[\"teacher_prefix\"].fillna(\"No_Prefix\", inplace = True)\n",
    "    \n",
    "teacher_prefix_vectorizer = CountVectorizer(lowercase=False, binary=True)\n",
    "teacher_prefix_vectorizer.fit(X_train['teacher_prefix'].values)\n",
    "\n",
    "print(teacher_prefix_vectorizer.get_feature_names())\n",
    "\n",
    "X_Train_teacher_prefix_one_hot = teacher_prefix_vectorizer.transform(X_train['teacher_prefix'].values)\n",
    "X_Test_teacher_prefix_one_hot = teacher_prefix_vectorizer.transform(X_test['teacher_prefix'].values)\n",
    "X_CV_teacher_prefix_one_hot = teacher_prefix_vectorizer.transform(X_cv['teacher_prefix'].values)\n",
    "\n",
    "print(\"Shape of train matrix after one hot encodig \",X_Train_teacher_prefix_one_hot.shape)\n",
    "print(\"Shape of test matrix after one hot encodig \",X_Test_teacher_prefix_one_hot.shape)\n",
    "print(\"Shape of cv matrix after one hot encodig \",X_CV_teacher_prefix_one_hot.shape)"
   ]
  },
  {
   "cell_type": "code",
   "execution_count": 55,
   "metadata": {},
   "outputs": [
    {
     "name": "stdout",
     "output_type": "stream",
     "text": [
      "['Grades~9-12', 'Grades~6-8', 'Grades~3-5', 'Grades~PreK-2']\n",
      "Shape of train matrix after one hot encodig  (49041, 4)\n",
      "Shape of test matrix after one hot encodig  (36052, 4)\n",
      "Shape of cv matrix after one hot encodig  (24155, 4)\n"
     ]
    }
   ],
   "source": [
    "# Vectorizing grade category on train , test and cv\n",
    "\n",
    "my_grade_counter = Counter()\n",
    "\n",
    "for project_grade in project_data['project_grade_category'].values:\n",
    "    \n",
    "    if (' ' in project_grade):\n",
    "        \n",
    "        project_grade = project_grade.replace(\" \", \"~\")\n",
    "        \n",
    "    my_grade_counter.update(project_grade.split())\n",
    "    \n",
    "project_grade_cat_dict = dict(my_grade_counter)\n",
    "sorted_project_grade_cat_dict = dict(sorted(project_grade_cat_dict.items(), key=lambda kv: kv[1]))\n",
    "    \n",
    "grade_cat_vectorizer = CountVectorizer(vocabulary=list(sorted_project_grade_cat_dict.keys()), lowercase=False, binary=True)\n",
    "grade_cat_vectorizer.fit(X_train['project_grade_category'].values)\n",
    "print(grade_cat_vectorizer.get_feature_names())\n",
    "\n",
    "X_Train_grade_cat_one_hot = grade_cat_vectorizer.transform(X_train['project_grade_category'].values)\n",
    "X_Test_grade_cat_one_hot = grade_cat_vectorizer.transform(X_test['project_grade_category'].values)\n",
    "X_CV_grade_cat_one_hot = grade_cat_vectorizer.transform(X_cv['project_grade_category'].values)\n",
    "\n",
    "print(\"Shape of train matrix after one hot encodig \",X_Train_grade_cat_one_hot.shape)\n",
    "print(\"Shape of test matrix after one hot encodig \",X_Test_grade_cat_one_hot.shape)\n",
    "print(\"Shape of cv matrix after one hot encodig \",X_CV_grade_cat_one_hot.shape)"
   ]
  },
  {
   "cell_type": "markdown",
   "metadata": {
    "colab_type": "text",
    "id": "Ya1V6mLSoUH7"
   },
   "source": [
    "<h2>2.3 Make Data Model Ready: encoding eassay, and project_title</h2>"
   ]
  },
  {
   "cell_type": "code",
   "execution_count": 56,
   "metadata": {
    "colab": {},
    "colab_type": "code",
    "collapsed": true,
    "id": "uiEkXDYWOh-x"
   },
   "outputs": [],
   "source": [
    "# merge two column text dataframe: \n",
    "X_train[\"essay\"] = X_train[\"project_essay_1\"].map(str) +\\\n",
    "                        X_train[\"project_essay_2\"].map(str) + \\\n",
    "                        X_train[\"project_essay_3\"].map(str) + \\\n",
    "                        X_train[\"project_essay_4\"].map(str)"
   ]
  },
  {
   "cell_type": "code",
   "execution_count": 57,
   "metadata": {},
   "outputs": [
    {
     "name": "stderr",
     "output_type": "stream",
     "text": [
      "100%|███████████████████████████████████████████████████████████████████████████| 49041/49041 [01:01<00:00, 794.60it/s]\n"
     ]
    }
   ],
   "source": [
    "# preprocessing essay train data\n",
    "from tqdm import tqdm\n",
    "X_Train_preprocessed_essays = []\n",
    "# tqdm is for printing the status bar\n",
    "for sentence in tqdm(X_train['essay'].values):\n",
    "    X_Train_essay_sent = decontracted(sentance)\n",
    "    X_Train_essay_sent = X_Train_essay_sent.replace('\\\\r', ' ')\n",
    "    X_Train_essay_sent = X_Train_essay_sent.replace('\\\\\"', ' ')\n",
    "    X_Train_essay_sent = X_Train_essay_sent.replace('\\\\n', ' ')\n",
    "    X_Train_essay_sent = re.sub('[^A-Za-z0-9]+', ' ', X_Train_essay_sent)\n",
    "    \n",
    "    X_Train_essay_sent = ' '.join(e for e in X_Train_essay_sent.split() if e.lower() not in stopwords)\n",
    "    X_Train_preprocessed_essays.append(X_Train_essay_sent.lower().strip())"
   ]
  },
  {
   "cell_type": "code",
   "execution_count": 58,
   "metadata": {},
   "outputs": [
    {
     "name": "stderr",
     "output_type": "stream",
     "text": [
      "100%|███████████████████████████████████████████████████████████████████████████| 36052/36052 [00:43<00:00, 824.25it/s]\n"
     ]
    }
   ],
   "source": [
    "# preprocessing essay test data\n",
    "from tqdm import tqdm\n",
    "X_Test_preprocessed_essays = []\n",
    "# tqdm is for printing the status bar\n",
    "for sentence in tqdm(X_test['essay'].values):\n",
    "    X_Test_essay_sent = decontracted(sentence)\n",
    "    X_Test_essay_sent = X_Test_essay_sent.replace('\\\\r', ' ')\n",
    "    X_Test_essay_sent = X_Test_essay_sent.replace('\\\\\"', ' ')\n",
    "    X_Test_essay_sent = X_Test_essay_sent.replace('\\\\n', ' ')\n",
    "    X_Test_essay_sent = re.sub('[^A-Za-z0-9]+', ' ', X_Test_essay_sent)\n",
    "    \n",
    "    X_Test_essay_sent = ' '.join(e for e in X_Test_essay_sent.split() if e.lower() not in stopwords)\n",
    "    X_Test_preprocessed_essays.append(X_Test_essay_sent.lower().strip())"
   ]
  },
  {
   "cell_type": "code",
   "execution_count": 59,
   "metadata": {},
   "outputs": [
    {
     "name": "stderr",
     "output_type": "stream",
     "text": [
      "100%|███████████████████████████████████████████████████████████████████████████| 24155/24155 [00:28<00:00, 835.77it/s]\n"
     ]
    }
   ],
   "source": [
    "# preprocessing essay cv data\n",
    "from tqdm import tqdm\n",
    "X_CV_preprocessed_essays = []\n",
    "# tqdm is for printing the status bar\n",
    "for sentence in tqdm(X_cv['essay'].values):\n",
    "    X_CV_essay_sent = decontracted(sentence)\n",
    "    X_CV_essay_sent = X_CV_essay_sent.replace('\\\\r', ' ')\n",
    "    X_CV_essay_sent = X_CV_essay_sent.replace('\\\\\"', ' ')\n",
    "    X_CV_essay_sent = X_CV_essay_sent.replace('\\\\n', ' ')\n",
    "    X_CV_essay_sent = re.sub('[^A-Za-z0-9]+', ' ', X_CV_essay_sent)\n",
    "    \n",
    "    X_CV_essay_sent = ' '.join(e for e in X_CV_essay_sent.split() if e.lower() not in stopwords)\n",
    "    X_CV_preprocessed_essays.append(X_CV_essay_sent.lower().strip())"
   ]
  },
  {
   "cell_type": "code",
   "execution_count": 60,
   "metadata": {},
   "outputs": [
    {
     "name": "stdout",
     "output_type": "stream",
     "text": [
      "After vectorizations\n",
      "(49041, 1) (49041,)\n",
      "(24155, 1) (24155,)\n",
      "(36052, 1) (36052,)\n",
      "====================================================================================================\n"
     ]
    }
   ],
   "source": [
    "# Standardizing price train test and cv data\n",
    "\n",
    "from sklearn.preprocessing import Normalizer\n",
    "normalizer = Normalizer()\n",
    "\n",
    "normalizer.fit(X_train['essay_word_count'].values.reshape(-1,1))\n",
    "\n",
    "essay_word_count_train = normalizer.transform(X_train['essay_word_count'].values.reshape(-1,1))\n",
    "essay_word_count_cv = normalizer.transform(X_cv['essay_word_count'].values.reshape(-1,1))\n",
    "essay_word_count_test = normalizer.transform(X_test['essay_word_count'].values.reshape(-1,1))\n",
    "\n",
    "print(\"After vectorizations\")\n",
    "print(essay_word_count_train.shape, y_train.shape)\n",
    "print(essay_word_count_cv.shape, y_cv.shape)\n",
    "print(essay_word_count_test.shape, y_test.shape)\n",
    "print(\"=\"*100)"
   ]
  },
  {
   "cell_type": "code",
   "execution_count": 61,
   "metadata": {},
   "outputs": [
    {
     "name": "stdout",
     "output_type": "stream",
     "text": [
      "After vectorizations\n",
      "(49041, 1) (49041,)\n",
      "(24155, 1) (24155,)\n",
      "(36052, 1) (36052,)\n",
      "====================================================================================================\n",
      "After vectorizations\n",
      "(49041, 1) (49041,)\n",
      "(24155, 1) (24155,)\n",
      "(36052, 1) (36052,)\n",
      "====================================================================================================\n",
      "After vectorizations\n",
      "(49041, 1) (49041,)\n",
      "(24155, 1) (24155,)\n",
      "(36052, 1) (36052,)\n",
      "====================================================================================================\n",
      "After vectorizations\n",
      "(49041, 1) (49041,)\n",
      "(24155, 1) (24155,)\n",
      "(36052, 1) (36052,)\n",
      "====================================================================================================\n"
     ]
    }
   ],
   "source": [
    "normalizer = Normalizer()\n",
    "\n",
    "normalizer.fit(X_train['pos'].values.reshape(-1,1))\n",
    "\n",
    "essay_sent_pos_train = normalizer.transform(X_train['pos'].values.reshape(-1,1))\n",
    "essay_sent_pos_cv = normalizer.transform(X_cv['pos'].values.reshape(-1,1))\n",
    "essay_sent_pos_test = normalizer.transform(X_test['pos'].values.reshape(-1,1))\n",
    "\n",
    "print(\"After vectorizations\")\n",
    "print(essay_sent_pos_train.shape, y_train.shape)\n",
    "print(essay_sent_pos_cv.shape, y_cv.shape)\n",
    "print(essay_sent_pos_test.shape, y_test.shape)\n",
    "print(\"=\"*100)\n",
    "\n",
    "normalizer.fit(X_train['neg'].values.reshape(-1,1))\n",
    "\n",
    "essay_sent_neg_train = normalizer.transform(X_train['neg'].values.reshape(-1,1))\n",
    "essay_sent_neg_cv = normalizer.transform(X_cv['neg'].values.reshape(-1,1))\n",
    "essay_sent_neg_test = normalizer.transform(X_test['neg'].values.reshape(-1,1))\n",
    "\n",
    "print(\"After vectorizations\")\n",
    "print(essay_sent_neg_train.shape, y_train.shape)\n",
    "print(essay_sent_neg_cv.shape, y_cv.shape)\n",
    "print(essay_sent_neg_test.shape, y_test.shape)\n",
    "print(\"=\"*100)\n",
    "\n",
    "normalizer.fit(X_train['neu'].values.reshape(-1,1))\n",
    "\n",
    "essay_sent_neu_train = normalizer.transform(X_train['neu'].values.reshape(-1,1))\n",
    "essay_sent_neu_cv = normalizer.transform(X_cv['neu'].values.reshape(-1,1))\n",
    "essay_sent_neu_test = normalizer.transform(X_test['neu'].values.reshape(-1,1))\n",
    "\n",
    "print(\"After vectorizations\")\n",
    "print(essay_sent_neu_train.shape, y_train.shape)\n",
    "print(essay_sent_neu_cv.shape, y_cv.shape)\n",
    "print(essay_sent_neu_test.shape, y_test.shape)\n",
    "print(\"=\"*100)\n",
    "\n",
    "normalizer.fit(X_train['compound'].values.reshape(-1,1))\n",
    "\n",
    "essay_sent_comp_train = normalizer.transform(X_train['compound'].values.reshape(-1,1))\n",
    "essay_sent_comp_cv = normalizer.transform(X_cv['compound'].values.reshape(-1,1))\n",
    "essay_sent_comp_test = normalizer.transform(X_test['compound'].values.reshape(-1,1))\n",
    "\n",
    "print(\"After vectorizations\")\n",
    "print(essay_sent_comp_train.shape, y_train.shape)\n",
    "print(essay_sent_comp_cv.shape, y_cv.shape)\n",
    "print(essay_sent_comp_test.shape, y_test.shape)\n",
    "print(\"=\"*100)"
   ]
  },
  {
   "cell_type": "code",
   "execution_count": 62,
   "metadata": {},
   "outputs": [
    {
     "name": "stderr",
     "output_type": "stream",
     "text": [
      "100%|█████████████████████████████████████████████████████████████████████████| 49041/49041 [00:03<00:00, 15284.86it/s]\n"
     ]
    }
   ],
   "source": [
    "# preprocessing project title train data\n",
    "X_Train_preprocessed_titles = []\n",
    "\n",
    "for dataset in tqdm(X_train['project_title'].values):\n",
    "    data = decontracted(dataset)  # Replacing some specific and general short form into proper word/stopword.\n",
    "    data = re.sub(r\"it's\", \"it is\", data) # Replacing it's with it is as it is not part of function decontracted\n",
    "    data = data.replace('\\\\r', ' ') # Replacing \\r with space\n",
    "    data = data.replace('\\\\\"', ' ') # Replacing \\ with space\n",
    "    data = data.replace('\\\\n', ' ') # Replacing \\n with space\n",
    "    data = re.sub('[^A-Za-z0-9]+', ' ', data) # Replacing special characters with space\n",
    "    data = re.sub(\"\\S*\\d\\S*\", \"\", data).strip() # Trimming numbers containing digits\n",
    "    \n",
    "    data = ' '.join(e for e in data.split() if e not in stopwords) # Removing stopwords \n",
    "    X_Train_preprocessed_titles.append(data.lower().strip()) # Creating array in all the lower cases. "
   ]
  },
  {
   "cell_type": "code",
   "execution_count": 63,
   "metadata": {},
   "outputs": [
    {
     "name": "stderr",
     "output_type": "stream",
     "text": [
      "100%|█████████████████████████████████████████████████████████████████████████| 36052/36052 [00:02<00:00, 15377.47it/s]\n"
     ]
    }
   ],
   "source": [
    "# preprocessing project title test data\n",
    "X_Test_preprocessed_titles = []\n",
    "\n",
    "for dataset in tqdm(X_test['project_title'].values):\n",
    "    data = decontracted(dataset)  # Replacing some specific and general short form into proper word/stopword.\n",
    "    data = re.sub(r\"it's\", \"it is\", data) # Replacing it's with it is as it is not part of function decontracted\n",
    "    data = data.replace('\\\\r', ' ') # Replacing \\r with space\n",
    "    data = data.replace('\\\\\"', ' ') # Replacing \\ with space\n",
    "    data = data.replace('\\\\n', ' ') # Replacing \\n with space\n",
    "    data = re.sub('[^A-Za-z0-9]+', ' ', data) # Replacing special characters with space\n",
    "    data = re.sub(\"\\S*\\d\\S*\", \"\", data).strip() # Trimming numbers containing digits\n",
    "    \n",
    "    data = ' '.join(e for e in data.split() if e not in stopwords) # Removing stopwords \n",
    "    X_Test_preprocessed_titles.append(data.lower().strip()) # Creating array in all the lower cases. "
   ]
  },
  {
   "cell_type": "code",
   "execution_count": 64,
   "metadata": {},
   "outputs": [
    {
     "name": "stderr",
     "output_type": "stream",
     "text": [
      "100%|█████████████████████████████████████████████████████████████████████████| 24155/24155 [00:01<00:00, 15913.00it/s]\n"
     ]
    }
   ],
   "source": [
    "# preprocessing project title cv data\n",
    "X_CV_preprocessed_titles = []\n",
    "\n",
    "for dataset in tqdm(X_cv['project_title'].values):\n",
    "    data = decontracted(dataset)  # Replacing some specific and general short form into proper word/stopword.\n",
    "    data = re.sub(r\"it's\", \"it is\", data) # Replacing it's with it is as it is not part of function decontracted\n",
    "    data = data.replace('\\\\r', ' ') # Replacing \\r with space\n",
    "    data = data.replace('\\\\\"', ' ') # Replacing \\ with space\n",
    "    data = data.replace('\\\\n', ' ') # Replacing \\n with space\n",
    "    data = re.sub('[^A-Za-z0-9]+', ' ', data) # Replacing special characters with space\n",
    "    data = re.sub(\"\\S*\\d\\S*\", \"\", data).strip() # Trimming numbers containing digits\n",
    "    \n",
    "    data = ' '.join(e for e in data.split() if e not in stopwords) # Removing stopwords \n",
    "    X_CV_preprocessed_titles.append(data.lower().strip()) # Creating array in all the lower cases. "
   ]
  },
  {
   "cell_type": "code",
   "execution_count": 65,
   "metadata": {},
   "outputs": [
    {
     "name": "stdout",
     "output_type": "stream",
     "text": [
      "After vectorizations\n",
      "(49041, 1) (49041,)\n",
      "(24155, 1) (24155,)\n",
      "(36052, 1) (36052,)\n",
      "====================================================================================================\n"
     ]
    }
   ],
   "source": [
    "normalizer = Normalizer()\n",
    "\n",
    "normalizer.fit(X_train['title_word_count'].values.reshape(-1,1))\n",
    "\n",
    "title_word_count_train = normalizer.transform(X_train['title_word_count'].values.reshape(-1,1))\n",
    "title_word_count_cv = normalizer.transform(X_cv['title_word_count'].values.reshape(-1,1))\n",
    "title_word_count_test = normalizer.transform(X_test['title_word_count'].values.reshape(-1,1))\n",
    "\n",
    "print(\"After vectorizations\")\n",
    "print(title_word_count_train.shape, y_train.shape)\n",
    "print(title_word_count_cv.shape, y_cv.shape)\n",
    "print(title_word_count_test.shape, y_test.shape)\n",
    "print(\"=\"*100)"
   ]
  },
  {
   "cell_type": "code",
   "execution_count": 66,
   "metadata": {},
   "outputs": [
    {
     "name": "stdout",
     "output_type": "stream",
     "text": [
      "Shape of train matrix after one hot encodig  (49041, 147)\n",
      "Shape of test matrix after one hot encodig  (36052, 147)\n",
      "Shape of CV matrix after one hot encodig  (24155, 147)\n"
     ]
    }
   ],
   "source": [
    "# BOW Essay train, test and cv data\n",
    "# We are considering only the words which appeared in at least 10 documents(rows or projects).\n",
    "vectorizer = CountVectorizer(ngram_range=(2,2), min_df=10, max_features = 5000)\n",
    "vectorizer.fit(X_Train_preprocessed_essays)\n",
    "\n",
    "X_Train_essay_bow = vectorizer.transform(X_Train_preprocessed_essays)\n",
    "X_Test_essay_bow = vectorizer.transform(X_Test_preprocessed_essays)\n",
    "X_CV_essay_bow = vectorizer.transform(X_CV_preprocessed_essays)\n",
    "\n",
    "print(\"Shape of train matrix after one hot encodig \",X_Train_essay_bow.shape)\n",
    "print(\"Shape of test matrix after one hot encodig \",X_Test_essay_bow.shape)\n",
    "print(\"Shape of CV matrix after one hot encodig \",X_CV_essay_bow.shape)"
   ]
  },
  {
   "cell_type": "code",
   "execution_count": 67,
   "metadata": {},
   "outputs": [
    {
     "name": "stdout",
     "output_type": "stream",
     "text": [
      "some sample features(unique words in the corpus) ['about it', 'about our', 'about reading', 'about science', 'about that', 'about the', 'academic success', 'access technology', 'achievement gap', 'active bodies']\n",
      "Shape of train matrix after one hot encodig  (49041, 1667)\n",
      "Shape of test matrix after one hot encodig  (36052, 1667)\n",
      "Shape of CV matrix after one hot encodig  (24155, 1667)\n"
     ]
    }
   ],
   "source": [
    "# BOW title train,test and cv data\n",
    "\n",
    "titles_vectorizer = CountVectorizer(ngram_range=(2,2), min_df=10, max_features = 5000)\n",
    "titles_vectorizer.fit(X_Train_preprocessed_titles)\n",
    "\n",
    "X_Train_titles_bow = titles_vectorizer.transform(X_Train_preprocessed_titles)\n",
    "X_Test_titles_bow = titles_vectorizer.transform(X_Test_preprocessed_titles)\n",
    "X_CV_titles_bow = titles_vectorizer.transform(X_CV_preprocessed_titles)\n",
    "\n",
    "print(\"some sample features(unique words in the corpus)\",titles_vectorizer.get_feature_names()[0:10])\n",
    "print(\"Shape of train matrix after one hot encodig \",X_Train_titles_bow.shape)\n",
    "print(\"Shape of test matrix after one hot encodig \",X_Test_titles_bow.shape)\n",
    "print(\"Shape of CV matrix after one hot encodig \",X_CV_titles_bow.shape)"
   ]
  },
  {
   "cell_type": "code",
   "execution_count": 68,
   "metadata": {},
   "outputs": [
    {
     "name": "stdout",
     "output_type": "stream",
     "text": [
      "Shape of train matrix after one hot encodig  (49041, 147)\n",
      "Shape of test matrix after one hot encodig  (36052, 147)\n",
      "Shape of CV matrix after one hot encodig  (24155, 147)\n"
     ]
    }
   ],
   "source": [
    "#TFIDF essay train,test and cv data\n",
    "\n",
    "vectorizer = TfidfVectorizer(ngram_range=(2,2), min_df=10, max_features = 5000)\n",
    "vectorizer.fit(X_Train_preprocessed_essays)\n",
    "\n",
    "X_Train_essay_tfidf = vectorizer.transform(X_Train_preprocessed_essays)\n",
    "X_Test_essay_tfidf = vectorizer.transform(X_Test_preprocessed_essays)\n",
    "X_CV_essay_tfidf = vectorizer.transform(X_CV_preprocessed_essays)\n",
    "\n",
    "print(\"Shape of train matrix after one hot encodig \",X_Train_essay_tfidf.shape)\n",
    "print(\"Shape of test matrix after one hot encodig \",X_Test_essay_tfidf.shape)\n",
    "print(\"Shape of CV matrix after one hot encodig \",X_CV_essay_tfidf.shape)"
   ]
  },
  {
   "cell_type": "code",
   "execution_count": 69,
   "metadata": {},
   "outputs": [
    {
     "name": "stdout",
     "output_type": "stream",
     "text": [
      "Shape of train matrix after one hot encodig  (49041, 1667)\n",
      "Shape of test matrix after one hot encodig  (36052, 1667)\n",
      "Shape of CV matrix after one hot encodig  (24155, 1667)\n"
     ]
    }
   ],
   "source": [
    "# TFIDF on project titles train,test and cv data\n",
    "\n",
    "titles_tfidf_vectorizer = TfidfVectorizer(ngram_range=(2,2), min_df=10, max_features = 5000)\n",
    "titles_tfidf_vectorizer.fit(X_Train_preprocessed_titles)\n",
    "\n",
    "X_Train_titles_tfidf = titles_vectorizer.transform(X_Train_preprocessed_titles)\n",
    "X_Test_titles_tfidf = titles_vectorizer.transform(X_Test_preprocessed_titles)\n",
    "X_CV_titles_tfidf = titles_vectorizer.transform(X_CV_preprocessed_titles)\n",
    "\n",
    "print(\"Shape of train matrix after one hot encodig \",X_Train_titles_tfidf.shape)\n",
    "print(\"Shape of test matrix after one hot encodig \",X_Test_titles_tfidf.shape)\n",
    "print(\"Shape of CV matrix after one hot encodig \",X_CV_titles_tfidf.shape)"
   ]
  },
  {
   "cell_type": "code",
   "execution_count": 70,
   "metadata": {},
   "outputs": [
    {
     "name": "stderr",
     "output_type": "stream",
     "text": [
      "100%|██████████████████████████████████████████████████████████████████████████| 49041/49041 [00:25<00:00, 1914.26it/s]\n"
     ]
    },
    {
     "name": "stdout",
     "output_type": "stream",
     "text": [
      "49041\n",
      "300\n"
     ]
    }
   ],
   "source": [
    "# average Word2Vec essay on train\n",
    "# compute average word2vec for each review.\n",
    "X_Train_avg_w2v_vectors = []; # the avg-w2v for each sentence/review is stored in this list\n",
    "for sentence in tqdm(X_Train_preprocessed_essays): # for each review/sentence\n",
    "    vector = np.zeros(300) # as word vectors are of zero length\n",
    "    cnt_words =0; # num of words with a valid vector in the sentence/review\n",
    "    for word in sentence.split(): # for each word in a review/sentence\n",
    "        if word in glove_words:\n",
    "            vector += model[word]\n",
    "            cnt_words += 1\n",
    "    if cnt_words != 0:\n",
    "        vector /= cnt_words\n",
    "    X_Train_avg_w2v_vectors.append(vector)\n",
    "\n",
    "print(len(X_Train_avg_w2v_vectors))\n",
    "print(len(X_Train_avg_w2v_vectors[0]))"
   ]
  },
  {
   "cell_type": "code",
   "execution_count": 71,
   "metadata": {},
   "outputs": [
    {
     "name": "stderr",
     "output_type": "stream",
     "text": [
      "100%|██████████████████████████████████████████████████████████████████████████| 36052/36052 [00:19<00:00, 1838.63it/s]\n"
     ]
    },
    {
     "name": "stdout",
     "output_type": "stream",
     "text": [
      "36052\n",
      "300\n"
     ]
    }
   ],
   "source": [
    "# average Word2Vec essay on test\n",
    "# compute average word2vec for each review.\n",
    "X_Test_avg_w2v_vectors = []; # the avg-w2v for each sentence/review is stored in this list\n",
    "for sentence in tqdm(X_Test_preprocessed_essays): # for each review/sentence\n",
    "    vector = np.zeros(300) # as word vectors are of zero length\n",
    "    cnt_words =0; # num of words with a valid vector in the sentence/review\n",
    "    for word in sentence.split(): # for each word in a review/sentence\n",
    "        if word in glove_words:\n",
    "            vector += model[word]\n",
    "            cnt_words += 1\n",
    "    if cnt_words != 0:\n",
    "        vector /= cnt_words\n",
    "    X_Test_avg_w2v_vectors.append(vector)\n",
    "\n",
    "print(len(X_Test_avg_w2v_vectors))\n",
    "print(len(X_Test_avg_w2v_vectors[0]))"
   ]
  },
  {
   "cell_type": "code",
   "execution_count": 72,
   "metadata": {},
   "outputs": [
    {
     "name": "stderr",
     "output_type": "stream",
     "text": [
      "100%|██████████████████████████████████████████████████████████████████████████| 24155/24155 [00:13<00:00, 1832.79it/s]\n"
     ]
    },
    {
     "name": "stdout",
     "output_type": "stream",
     "text": [
      "24155\n",
      "300\n"
     ]
    }
   ],
   "source": [
    "# average Word2Vec essay on cv\n",
    "# compute average word2vec for each review.\n",
    "X_CV_avg_w2v_vectors = []; # the avg-w2v for each sentence/review is stored in this list\n",
    "for sentence in tqdm(X_CV_preprocessed_essays): # for each review/sentence\n",
    "    vector = np.zeros(300) # as word vectors are of zero length\n",
    "    cnt_words =0; # num of words with a valid vector in the sentence/review\n",
    "    for word in sentence.split(): # for each word in a review/sentence\n",
    "        if word in glove_words:\n",
    "            vector += model[word]\n",
    "            cnt_words += 1\n",
    "    if cnt_words != 0:\n",
    "        vector /= cnt_words\n",
    "    X_CV_avg_w2v_vectors.append(vector)\n",
    "\n",
    "print(len(X_CV_avg_w2v_vectors))\n",
    "print(len(X_CV_avg_w2v_vectors[0]))"
   ]
  },
  {
   "cell_type": "code",
   "execution_count": 73,
   "metadata": {},
   "outputs": [
    {
     "name": "stderr",
     "output_type": "stream",
     "text": [
      "100%|█████████████████████████████████████████████████████████████████████████| 49041/49041 [00:01<00:00, 34438.24it/s]\n"
     ]
    },
    {
     "name": "stdout",
     "output_type": "stream",
     "text": [
      "49041\n",
      "300\n"
     ]
    }
   ],
   "source": [
    "# AVG W2V on project title train\n",
    "X_Train_avg_w2v_titles_vectors = [];\n",
    "\n",
    "for sentence in tqdm(X_Train_preprocessed_titles):\n",
    "    \n",
    "    vector_titles = np.zeros(300)\n",
    "    cnt_words_titles = 0;\n",
    "    \n",
    "    for word in sentence.split():\n",
    "        \n",
    "        if word in glove_words:\n",
    "            \n",
    "            vector += model[word]\n",
    "            cnt_words_titles += 1\n",
    "            \n",
    "    if cnt_words_titles != 0:\n",
    "        \n",
    "        vector_titles /= cnt_words_titles\n",
    "        \n",
    "    X_Train_avg_w2v_titles_vectors.append(vector_titles)\n",
    "\n",
    "print(len(X_Train_avg_w2v_titles_vectors))\n",
    "print(len(X_Train_avg_w2v_titles_vectors[0]))"
   ]
  },
  {
   "cell_type": "code",
   "execution_count": 74,
   "metadata": {},
   "outputs": [
    {
     "name": "stderr",
     "output_type": "stream",
     "text": [
      "100%|█████████████████████████████████████████████████████████████████████████| 36052/36052 [00:00<00:00, 36087.15it/s]\n"
     ]
    },
    {
     "name": "stdout",
     "output_type": "stream",
     "text": [
      "36052\n",
      "300\n"
     ]
    }
   ],
   "source": [
    "# AVG W2V on project title test\n",
    "X_Test_avg_w2v_titles_vectors = [];\n",
    "\n",
    "for sentence in tqdm(X_Test_preprocessed_titles):\n",
    "    \n",
    "    vector_titles = np.zeros(300)\n",
    "    cnt_words_titles = 0;\n",
    "    \n",
    "    for word in sentence.split():\n",
    "        \n",
    "        if word in glove_words:\n",
    "            \n",
    "            vector += model[word]\n",
    "            cnt_words_titles += 1\n",
    "            \n",
    "    if cnt_words_titles != 0:\n",
    "        \n",
    "        vector_titles /= cnt_words_titles\n",
    "        \n",
    "    X_Test_avg_w2v_titles_vectors.append(vector_titles)\n",
    "\n",
    "print(len(X_Test_avg_w2v_titles_vectors))\n",
    "print(len(X_Test_avg_w2v_titles_vectors[0]))"
   ]
  },
  {
   "cell_type": "code",
   "execution_count": 75,
   "metadata": {},
   "outputs": [
    {
     "name": "stderr",
     "output_type": "stream",
     "text": [
      "100%|█████████████████████████████████████████████████████████████████████████| 24155/24155 [00:00<00:00, 37808.03it/s]\n"
     ]
    },
    {
     "name": "stdout",
     "output_type": "stream",
     "text": [
      "24155\n",
      "300\n"
     ]
    }
   ],
   "source": [
    "# AVG W2V on project title cv\n",
    "X_CV_avg_w2v_titles_vectors = [];\n",
    "\n",
    "for sentence in tqdm(X_CV_preprocessed_titles):\n",
    "    \n",
    "    vector_titles = np.zeros(300)\n",
    "    cnt_words_titles = 0;\n",
    "    \n",
    "    for word in sentence.split():\n",
    "        \n",
    "        if word in glove_words:\n",
    "            \n",
    "            vector += model[word]\n",
    "            cnt_words_titles += 1\n",
    "            \n",
    "    if cnt_words_titles != 0:\n",
    "        \n",
    "        vector_titles /= cnt_words_titles\n",
    "        \n",
    "    X_CV_avg_w2v_titles_vectors.append(vector_titles)\n",
    "\n",
    "print(len(X_CV_avg_w2v_titles_vectors))\n",
    "print(len(X_CV_avg_w2v_titles_vectors[0]))"
   ]
  },
  {
   "cell_type": "code",
   "execution_count": 76,
   "metadata": {
    "collapsed": true
   },
   "outputs": [],
   "source": [
    "# TFIDF W2V \n",
    "# S = [\"abc def pqr\", \"def def def abc\", \"pqr pqr def\"]\n",
    "tfidf_model = TfidfVectorizer()\n",
    "tfidf_model.fit(X_Train_preprocessed_essays)\n",
    "# we are converting a dictionary with word as a key, and the idf as a value\n",
    "dictionary = dict(zip(tfidf_model.get_feature_names(), list(tfidf_model.idf_)))\n",
    "tfidf_words = set(tfidf_model.get_feature_names())"
   ]
  },
  {
   "cell_type": "code",
   "execution_count": 77,
   "metadata": {},
   "outputs": [
    {
     "name": "stderr",
     "output_type": "stream",
     "text": [
      "100%|███████████████████████████████████████████████████████████████████████████| 49041/49041 [03:10<00:00, 257.66it/s]\n"
     ]
    },
    {
     "name": "stdout",
     "output_type": "stream",
     "text": [
      "49041\n",
      "300\n"
     ]
    }
   ],
   "source": [
    "# TFIDF w2v essay train\n",
    "# compute average word2vec for each review.\n",
    "X_Train_tfidf_w2v_vectors = []; # the avg-w2v for each sentence/review is stored in this list\n",
    "for sentence in tqdm(X_Train_preprocessed_essays): # for each review/sentence\n",
    "    vector = np.zeros(300) # as word vectors are of zero length\n",
    "    tf_idf_weight =0; # num of words with a valid vector in the sentence/review\n",
    "    for word in sentence.split(): # for each word in a review/sentence\n",
    "        if (word in glove_words) and (word in tfidf_words):\n",
    "            vec = model[word] # getting the vector for each word\n",
    "            # here we are multiplying idf value(dictionary[word]) and the tf value((sentence.count(word)/len(sentence.split())))\n",
    "            tf_idf = dictionary[word]*(sentence.count(word)/len(sentence.split())) # getting the tfidf value for each word\n",
    "            vector += (vec * tf_idf) # calculating tfidf weighted w2v\n",
    "            tf_idf_weight += tf_idf\n",
    "    if tf_idf_weight != 0:\n",
    "        vector /= tf_idf_weight\n",
    "    X_Train_tfidf_w2v_vectors.append(vector)\n",
    "\n",
    "print(len(X_Train_tfidf_w2v_vectors))\n",
    "print(len(X_Train_tfidf_w2v_vectors[0]))"
   ]
  },
  {
   "cell_type": "code",
   "execution_count": 78,
   "metadata": {},
   "outputs": [
    {
     "name": "stderr",
     "output_type": "stream",
     "text": [
      "100%|██████████████████████████████████████████████████████████████████████████| 36052/36052 [00:30<00:00, 1167.77it/s]\n"
     ]
    },
    {
     "name": "stdout",
     "output_type": "stream",
     "text": [
      "36052\n",
      "300\n"
     ]
    }
   ],
   "source": [
    "# TFIDF w2v essay test\n",
    "# compute average word2vec for each review.\n",
    "X_Test_tfidf_w2v_vectors = []; # the avg-w2v for each sentence/review is stored in this list\n",
    "for sentence in tqdm(X_Test_preprocessed_essays): # for each review/sentence\n",
    "    vector = np.zeros(300) # as word vectors are of zero length\n",
    "    tf_idf_weight =0; # num of words with a valid vector in the sentence/review\n",
    "    for word in sentence.split(): # for each word in a review/sentence\n",
    "        if (word in glove_words) and (word in tfidf_words):\n",
    "            vec = model[word] # getting the vector for each word\n",
    "            # here we are multiplying idf value(dictionary[word]) and the tf value((sentence.count(word)/len(sentence.split())))\n",
    "            tf_idf = dictionary[word]*(sentence.count(word)/len(sentence.split())) # getting the tfidf value for each word\n",
    "            vector += (vec * tf_idf) # calculating tfidf weighted w2v\n",
    "            tf_idf_weight += tf_idf\n",
    "    if tf_idf_weight != 0:\n",
    "        vector /= tf_idf_weight\n",
    "    X_Test_tfidf_w2v_vectors.append(vector)\n",
    "\n",
    "print(len(X_Test_tfidf_w2v_vectors))\n",
    "print(len(X_Test_tfidf_w2v_vectors[0]))"
   ]
  },
  {
   "cell_type": "code",
   "execution_count": 79,
   "metadata": {},
   "outputs": [
    {
     "name": "stderr",
     "output_type": "stream",
     "text": [
      "100%|██████████████████████████████████████████████████████████████████████████| 24155/24155 [00:20<00:00, 1175.67it/s]\n"
     ]
    },
    {
     "name": "stdout",
     "output_type": "stream",
     "text": [
      "24155\n",
      "300\n"
     ]
    }
   ],
   "source": [
    "# TFIDF w2v essay cv\n",
    "# compute average word2vec for each review.\n",
    "X_CV_tfidf_w2v_vectors = []; # the avg-w2v for each sentence/review is stored in this list\n",
    "for sentence in tqdm(X_CV_preprocessed_essays): # for each review/sentence\n",
    "    vector = np.zeros(300) # as word vectors are of zero length\n",
    "    tf_idf_weight =0; # num of words with a valid vector in the sentence/review\n",
    "    for word in sentence.split(): # for each word in a review/sentence\n",
    "        if (word in glove_words) and (word in tfidf_words):\n",
    "            vec = model[word] # getting the vector for each word\n",
    "            # here we are multiplying idf value(dictionary[word]) and the tf value((sentence.count(word)/len(sentence.split())))\n",
    "            tf_idf = dictionary[word]*(sentence.count(word)/len(sentence.split())) # getting the tfidf value for each word\n",
    "            vector += (vec * tf_idf) # calculating tfidf weighted w2v\n",
    "            tf_idf_weight += tf_idf\n",
    "    if tf_idf_weight != 0:\n",
    "        vector /= tf_idf_weight\n",
    "    X_CV_tfidf_w2v_vectors.append(vector)\n",
    "\n",
    "print(len(X_CV_tfidf_w2v_vectors))\n",
    "print(len(X_CV_tfidf_w2v_vectors[0]))"
   ]
  },
  {
   "cell_type": "code",
   "execution_count": 80,
   "metadata": {
    "collapsed": true
   },
   "outputs": [],
   "source": [
    "# TFIDF weighted W2V on project_title\n",
    "titles_tfidf_model = TfidfVectorizer()\n",
    "titles_tfidf_model.fit(X_Train_preprocessed_titles)\n",
    "titles_dictionary = dict(zip(titles_tfidf_model.get_feature_names(), list(titles_tfidf_model.idf_)))\n",
    "titles_tfidf_words = set(titles_tfidf_model.get_feature_names())"
   ]
  },
  {
   "cell_type": "code",
   "execution_count": 81,
   "metadata": {},
   "outputs": [
    {
     "name": "stderr",
     "output_type": "stream",
     "text": [
      "100%|█████████████████████████████████████████████████████████████████████████| 49041/49041 [00:02<00:00, 17139.62it/s]\n"
     ]
    },
    {
     "name": "stdout",
     "output_type": "stream",
     "text": [
      "49041\n",
      "300\n"
     ]
    }
   ],
   "source": [
    "# TFIDF w2v title train\n",
    "X_Train_titles_tfidf_w2v_vectors = [];\n",
    "\n",
    "for titles_sentence in tqdm(X_Train_preprocessed_titles):\n",
    "    \n",
    "    titles_vector = np.zeros(300)\n",
    "    titles_tfidf_weight = 0;\n",
    "    \n",
    "    for word in titles_sentence.split():\n",
    "        \n",
    "        if (word in glove_words) and (word in titles_tfidf_words):\n",
    "            \n",
    "            titles_vec = model[word]\n",
    "            \n",
    "            titles_tf_idf = titles_dictionary[word]*(titles_sentence.count(word)/len(titles_sentence.split())) \n",
    "            titles_vector += (titles_vec * titles_tf_idf)\n",
    "            titles_tfidf_weight += titles_tf_idf\n",
    "            \n",
    "    if titles_tfidf_weight != 0:\n",
    "        \n",
    "        titles_vector /= titles_tfidf_weight\n",
    "        \n",
    "    X_Train_titles_tfidf_w2v_vectors.append(titles_vector)\n",
    "\n",
    "print(len(X_Train_titles_tfidf_w2v_vectors))\n",
    "print(len(X_Train_titles_tfidf_w2v_vectors[0]))"
   ]
  },
  {
   "cell_type": "code",
   "execution_count": 82,
   "metadata": {},
   "outputs": [
    {
     "name": "stderr",
     "output_type": "stream",
     "text": [
      "100%|█████████████████████████████████████████████████████████████████████████| 36052/36052 [00:02<00:00, 16600.56it/s]\n"
     ]
    },
    {
     "name": "stdout",
     "output_type": "stream",
     "text": [
      "36052\n",
      "300\n"
     ]
    }
   ],
   "source": [
    "# TFIDF w2v title train\n",
    "X_Test_titles_tfidf_w2v_vectors = [];\n",
    "\n",
    "for titles_sentence in tqdm(X_Test_preprocessed_titles):\n",
    "    \n",
    "    titles_vector = np.zeros(300)\n",
    "    titles_tfidf_weight = 0;\n",
    "    \n",
    "    for word in titles_sentence.split():\n",
    "        \n",
    "        if (word in glove_words) and (word in titles_tfidf_words):\n",
    "            \n",
    "            titles_vec = model[word]\n",
    "            \n",
    "            titles_tf_idf = titles_dictionary[word]*(titles_sentence.count(word)/len(titles_sentence.split())) \n",
    "            titles_vector += (titles_vec * titles_tf_idf)\n",
    "            titles_tfidf_weight += titles_tf_idf\n",
    "            \n",
    "    if titles_tfidf_weight != 0:\n",
    "        \n",
    "        titles_vector /= titles_tfidf_weight\n",
    "        \n",
    "    X_Test_titles_tfidf_w2v_vectors.append(titles_vector)\n",
    "\n",
    "print(len(X_Test_titles_tfidf_w2v_vectors))\n",
    "print(len(X_Test_titles_tfidf_w2v_vectors[0]))"
   ]
  },
  {
   "cell_type": "code",
   "execution_count": 83,
   "metadata": {},
   "outputs": [
    {
     "name": "stderr",
     "output_type": "stream",
     "text": [
      "100%|█████████████████████████████████████████████████████████████████████████| 24155/24155 [00:01<00:00, 17339.35it/s]\n"
     ]
    },
    {
     "name": "stdout",
     "output_type": "stream",
     "text": [
      "24155\n",
      "300\n"
     ]
    }
   ],
   "source": [
    "# TFIDF w2v title cv\n",
    "X_CV_titles_tfidf_w2v_vectors = [];\n",
    "\n",
    "for titles_sentence in tqdm(X_CV_preprocessed_titles):\n",
    "    \n",
    "    titles_vector = np.zeros(300)\n",
    "    titles_tfidf_weight = 0;\n",
    "    \n",
    "    for word in titles_sentence.split():\n",
    "        \n",
    "        if (word in glove_words) and (word in titles_tfidf_words):\n",
    "            \n",
    "            titles_vec = model[word]\n",
    "            \n",
    "            titles_tf_idf = titles_dictionary[word]*(titles_sentence.count(word)/len(titles_sentence.split())) \n",
    "            titles_vector += (titles_vec * titles_tf_idf)\n",
    "            titles_tfidf_weight += titles_tf_idf\n",
    "            \n",
    "    if titles_tfidf_weight != 0:\n",
    "        \n",
    "        titles_vector /= titles_tfidf_weight\n",
    "        \n",
    "    X_CV_titles_tfidf_w2v_vectors.append(titles_vector)\n",
    "\n",
    "print(len(X_CV_titles_tfidf_w2v_vectors))\n",
    "print(len(X_CV_titles_tfidf_w2v_vectors[0]))"
   ]
  },
  {
   "cell_type": "code",
   "execution_count": 86,
   "metadata": {
    "collapsed": true
   },
   "outputs": [],
   "source": [
    "# Vectorizing numerical feature\n",
    "\n",
    "# Merging price data with train, test and cv\n",
    "X_train = pd.merge(X_train, price_data, on='id', how='left')\n",
    "X_test = pd.merge(X_test, price_data, on='id', how='left')\n",
    "X_cv = pd.merge(X_cv, price_data, on='id', how='left')"
   ]
  },
  {
   "cell_type": "code",
   "execution_count": 87,
   "metadata": {},
   "outputs": [
    {
     "name": "stdout",
     "output_type": "stream",
     "text": [
      "After vectorizations\n",
      "(49041, 1) (49041,)\n",
      "(36052, 1) (36052,)\n",
      "(24155, 1) (24155,)\n",
      "====================================================================================================\n"
     ]
    }
   ],
   "source": [
    "# Standardizing price train test and cv data\n",
    "\n",
    "from sklearn.preprocessing import Normalizer\n",
    "normalizer = Normalizer()\n",
    "# normalizer.fit(X_train['price'].values)\n",
    "# this will rise an error Expected 2D array, got 1D array instead: \n",
    "# array=[105.22 215.96  96.01 ... 368.98  80.53 709.67].\n",
    "# Reshape your data either using \n",
    "# array.reshape(-1, 1) if your data has a single feature \n",
    "# array.reshape(1, -1)  if it contains a single sample.\n",
    "normalizer.fit(X_train['price'].values.reshape(-1,1))\n",
    "\n",
    "X_train_price_norm = normalizer.transform(X_train['price'].values.reshape(-1,1))\n",
    "X_test_price_norm = normalizer.transform(X_test['price'].values.reshape(-1,1))\n",
    "X_cv_price_norm = normalizer.transform(X_cv['price'].values.reshape(-1,1))\n",
    "\n",
    "print(\"After vectorizations\")\n",
    "print(X_train_price_norm.shape, y_train.shape)\n",
    "print(X_test_price_norm.shape, y_test.shape)\n",
    "print(X_cv_price_norm.shape, y_cv.shape)\n",
    "print(\"=\"*100)"
   ]
  },
  {
   "cell_type": "markdown",
   "metadata": {
    "colab_type": "text",
    "id": "4IolabGIoUH9"
   },
   "source": [
    "<h2>2.4 Appling Support Vector Machines on different kind of featurization as mentioned in the instructions</h2>\n",
    "\n",
    "<br>Apply Support Vector Machines on different kind of featurization as mentioned in the instructions\n",
    "<br> For Every model that you work on make sure you do the step 2 and step 3 of instrucations"
   ]
  },
  {
   "cell_type": "markdown",
   "metadata": {},
   "source": [
    "**Set 1: categorical, numerical features + project_title(BOW) + preprocessed_eassay (BOW)**"
   ]
  },
  {
   "cell_type": "code",
   "execution_count": 129,
   "metadata": {
    "colab": {},
    "colab_type": "code",
    "id": "0IBXizg6oUH9"
   },
   "outputs": [
    {
     "name": "stdout",
     "output_type": "stream",
     "text": [
      "Final Data matrix\n",
      "(49041, 1915) (49041,)\n",
      "(24155, 1915) (24155,)\n",
      "(36052, 1915) (36052,)\n",
      "====================================================================================================\n"
     ]
    }
   ],
   "source": [
    "# merge two sparse matrices: https://stackoverflow.com/a/19710648/4084039\n",
    "from scipy.sparse import hstack\n",
    "\n",
    "# Train data stack\n",
    "X_tr = hstack((X_Train_categories_one_hot,X_Train_sub_categories_one_hot,X_Train_school_state_one_hot,\n",
    "               X_Train_teacher_prefix_one_hot,X_Train_grade_cat_one_hot,X_Train_essay_bow,X_Train_titles_bow,\n",
    "               X_train_price_norm)).tocsr()\n",
    "\n",
    "# CV data Stack\n",
    "X_cr = hstack((X_CV_categories_one_hot,X_CV_sub_categories_one_hot,X_CV_school_state_one_hot,\n",
    "               X_CV_teacher_prefix_one_hot,X_CV_grade_cat_one_hot,X_CV_essay_bow,X_CV_titles_bow,\n",
    "               X_cv_price_norm)).tocsr()\n",
    "\n",
    "# Test Data Stack\n",
    "X_te = hstack((X_Test_categories_one_hot,X_Test_sub_categories_one_hot,X_Test_school_state_one_hot,\n",
    "               X_Test_teacher_prefix_one_hot,X_Test_grade_cat_one_hot,X_Test_essay_bow,X_Test_titles_bow,\n",
    "               X_test_price_norm)).tocsr()\n",
    "\n",
    "print(\"Final Data matrix\")\n",
    "print(X_tr.shape, y_train.shape)\n",
    "print(X_cr.shape, y_cv.shape)\n",
    "print(X_te.shape, y_test.shape)\n",
    "print(\"=\"*100)"
   ]
  },
  {
   "cell_type": "code",
   "execution_count": 130,
   "metadata": {
    "collapsed": true
   },
   "outputs": [],
   "source": [
    "def batch_predict(clf, data):\n",
    "\n",
    "    y_data_pred = []\n",
    "    \n",
    "    # Changing the shape of predicted data in the multiple of 1000\n",
    "    tr_loop = data.shape[0] - data.shape[0]%1000\n",
    "    \n",
    "    # Running the loop for each 1000th data\n",
    "    for i in range(0, tr_loop, 1000):\n",
    "        \n",
    "        # Predicting probability\n",
    "        y_data_pred.extend(clf.predict_proba(data[i:i+1000])[:,1])\n",
    "    \n",
    "    y_data_pred.extend(clf.predict_proba(data[tr_loop:])[:,1])\n",
    "    \n",
    "    return y_data_pred"
   ]
  },
  {
   "cell_type": "code",
   "execution_count": 131,
   "metadata": {},
   "outputs": [
    {
     "name": "stdout",
     "output_type": "stream",
     "text": [
      "for C = 0.0001\n",
      "for regularization =  l1\n",
      "Log Loss : 0.423753079236\n",
      "for C = 0.001\n",
      "for regularization =  l1\n",
      "Log Loss : 0.422500487331\n",
      "for C = 0.01\n",
      "for regularization =  l1\n",
      "Log Loss : 0.424004925041\n",
      "for C = 0.1\n",
      "for regularization =  l1\n",
      "Log Loss : 0.425125084428\n",
      "for C = 1\n",
      "for regularization =  l1\n",
      "Log Loss : 0.425125084428\n",
      "for C = 10\n",
      "for regularization =  l1\n",
      "Log Loss : 0.425125084428\n",
      "for C = 100\n",
      "for regularization =  l1\n",
      "Log Loss : 0.425125084428\n",
      "for C = 1000\n",
      "for regularization =  l1\n",
      "Log Loss : 0.425125084428\n",
      "for C = 10000\n",
      "for regularization =  l1\n",
      "Log Loss : 0.425125084428\n",
      "for C = 0.0001\n",
      "for regularization =  l2\n",
      "Log Loss : 0.421989821454\n",
      "for C = 0.001\n",
      "for regularization =  l2\n",
      "Log Loss : 0.422342963142\n",
      "for C = 0.01\n",
      "for regularization =  l2\n",
      "Log Loss : 0.42269884247\n",
      "for C = 0.1\n",
      "for regularization =  l2\n",
      "Log Loss : 0.422988969574\n",
      "for C = 1\n",
      "for regularization =  l2\n",
      "Log Loss : 0.425772315897\n",
      "for C = 10\n",
      "for regularization =  l2\n",
      "Log Loss : 0.42311772471\n",
      "for C = 100\n",
      "for regularization =  l2\n",
      "Log Loss : 0.423111347777\n",
      "for C = 1000\n",
      "for regularization =  l2\n",
      "Log Loss : 0.423111347778\n",
      "for C = 10000\n",
      "for regularization =  l2\n",
      "Log Loss : 0.423111347787\n"
     ]
    }
   ],
   "source": [
    "from sklearn.linear_model import SGDClassifier\n",
    "from sklearn.calibration import CalibratedClassifierCV\n",
    "from sklearn.metrics.classification import accuracy_score, log_loss\n",
    "\n",
    "alpha = [10 ** x for x in range(-4, 5)]\n",
    "\n",
    "reg = ['l1', 'l2']\n",
    "\n",
    "for i in reg:\n",
    "    \n",
    "    cv_log_error_array = []\n",
    "    \n",
    "    for j in alpha:\n",
    "    \n",
    "        print(\"for C =\", j )\n",
    "        print (\"for regularization = \", i)\n",
    "\n",
    "        clf = SGDClassifier( class_weight='balanced', alpha=j, penalty=i, loss='hinge', random_state=0)\n",
    "        clf.fit(X_tr, y_train)\n",
    "\n",
    "        sig_clf = CalibratedClassifierCV(clf, method=\"sigmoid\")\n",
    "        sig_clf.fit(X_tr, y_train)\n",
    "\n",
    "        sig_clf_probs = sig_clf.predict_proba(X_cr)\n",
    "        \n",
    "        \n",
    "        cv_log_error_array.append(log_loss(y_cv, sig_clf_probs, labels=clf.classes_, eps=1e-15))\n",
    "\n",
    "        print(\"Log Loss :\",log_loss(y_cv, sig_clf_probs))\n",
    "    \n",
    "    \n",
    "    if (i == 'l1'):\n",
    "        \n",
    "        l1_cv_log_error = cv_log_error_array\n",
    "    \n",
    "    if (i == 'l2'):\n",
    "        \n",
    "        l2_cv_log_error = cv_log_error_array\n",
    "        \n",
    "    \n"
   ]
  },
  {
   "cell_type": "code",
   "execution_count": 132,
   "metadata": {},
   "outputs": [
    {
     "data": {
      "image/png": "[encoded data removed]",
      "text/plain": [
       "<Figure size 432x288 with 1 Axes>"
      ]
     },
     "metadata": {},
     "output_type": "display_data"
    },
    {
     "data": {
      "image/png": "[encoded data removed]",
      "text/plain": [
       "<Figure size 432x288 with 1 Axes>"
      ]
     },
     "metadata": {},
     "output_type": "display_data"
    }
   ],
   "source": [
    "import math\n",
    "\n",
    "\n",
    "# plotting obtained values\n",
    "\n",
    "r = [10 ** x for x in range(-4, 5)]\n",
    "\n",
    "x1 = [math.log10(i) for i in r]\n",
    "\n",
    "plt.plot(x1,l1_cv_log_error,label='log loss Error ')\n",
    "plt.scatter(x1,l1_cv_log_error)\n",
    "plt.legend()\n",
    "plt.xlabel('log of hyperparameter')\n",
    "plt.ylabel('Error measure')\n",
    "plt.title('Cross Validation Error for each alpha with L1 regularization')\n",
    "plt.grid()\n",
    "plt.show()\n",
    "\n",
    "\n",
    "x1 = [math.log10(i) for i in r]\n",
    "\n",
    "plt.plot(x1,l2_cv_log_error,label='log loss Error ')\n",
    "plt.scatter(x1,l2_cv_log_error)\n",
    "plt.legend()\n",
    "plt.xlabel('log of hyperparameter')\n",
    "plt.ylabel('Error measure')\n",
    "plt.title('Cross Validation Error for each alpha with L2 regularization')\n",
    "plt.grid()\n",
    "plt.show()\n",
    "\n"
   ]
  },
  {
   "cell_type": "code",
   "execution_count": 133,
   "metadata": {},
   "outputs": [
    {
     "name": "stdout",
     "output_type": "stream",
     "text": [
      "Best alpha with L1 regularization :  0.001\n",
      "Best L1 regularization Value:  0.422500487331\n",
      "Best alpha with L2 regularization :  0.0001\n",
      "Best L2 regularization Value:  0.421989821454\n"
     ]
    }
   ],
   "source": [
    "l1_best_alpha = np.argmin(l1_cv_log_error)\n",
    "print(\"Best alpha with L1 regularization : \", alpha[l1_best_alpha])\n",
    "print(\"Best L1 regularization Value: \", l1_cv_log_error[l1_best_alpha])\n",
    "\n",
    "l2_best_alpha = np.argmin(l2_cv_log_error)\n",
    "print(\"Best alpha with L2 regularization : \", alpha[l2_best_alpha])\n",
    "print(\"Best L2 regularization Value: \", l2_cv_log_error[l2_best_alpha])\n"
   ]
  },
  {
   "cell_type": "code",
   "execution_count": 134,
   "metadata": {},
   "outputs": [
    {
     "name": "stdout",
     "output_type": "stream",
     "text": [
      "For values of best alpha =  0.0001 The train log loss is: 0.418095140293\n",
      "For values of best alpha =  0.0001 The cross validation log loss is: 0.421989821454\n",
      "For values of best alpha =  0.0001 The test log loss is: 0.421455938124\n"
     ]
    }
   ],
   "source": [
    "# Since L2 has better regularization value so taken L2 penalty and its best alpha\n",
    "\n",
    "clf = SGDClassifier(class_weight='balanced', alpha=alpha[l2_best_alpha], penalty='l2', loss='hinge', random_state=0)\n",
    "clf.fit(X_tr, y_train)\n",
    "sig_clf = CalibratedClassifierCV(clf, method=\"sigmoid\")\n",
    "sig_clf.fit(X_tr, y_train)\n",
    "\n",
    "predict_y = sig_clf.predict_proba(X_tr)\n",
    "print('For values of best alpha = ', alpha[l2_best_alpha], \"The train log loss is:\",log_loss(y_train, predict_y, labels=clf.classes_, eps=1e-15))\n",
    "predict_y = sig_clf.predict_proba(X_cr)\n",
    "print('For values of best alpha = ', alpha[l2_best_alpha], \"The cross validation log loss is:\",log_loss(y_cv, predict_y, labels=clf.classes_, eps=1e-15))\n",
    "predict_y = sig_clf.predict_proba(X_te)\n",
    "print('For values of best alpha = ', alpha[l2_best_alpha], \"The test log loss is:\",log_loss(y_test, predict_y, labels=clf.classes_, eps=1e-15))\n"
   ]
  },
  {
   "cell_type": "code",
   "execution_count": 135,
   "metadata": {},
   "outputs": [
    {
     "data": {
      "image/png": "[encoded data removed]",
      "text/plain": [
       "<Figure size 432x288 with 1 Axes>"
      ]
     },
     "metadata": {},
     "output_type": "display_data"
    }
   ],
   "source": [
    "# https://scikit-learn.org/stable/modules/generated/sklearn.metrics.roc_curve.html#sklearn.metrics.roc_curve\n",
    "from sklearn.metrics import roc_curve, auc\n",
    "\n",
    "neigh = SGDClassifier(class_weight='balanced', alpha=alpha[l2_best_alpha], penalty='l2', loss='hinge', random_state=0)\n",
    "#neigh = LogisticRegression(C=0.5)\n",
    "neigh.fit(X_tr, y_train)\n",
    "sig_clf = CalibratedClassifierCV(clf, method=\"sigmoid\")\n",
    "sig_clf.fit(X_tr, y_train)\n",
    "# roc_auc_score(y_true, y_score) the 2nd parameter should be probability estimates of the positive class\n",
    "# not the predicted outputs\n",
    "\n",
    "y_train_pred = batch_predict(sig_clf, X_tr)    \n",
    "y_test_pred = batch_predict(sig_clf, X_te)\n",
    "\n",
    "train_fpr, train_tpr, tr_thresholds = roc_curve(y_train, y_train_pred)\n",
    "test_fpr, test_tpr, te_thresholds = roc_curve(y_test, y_test_pred)\n",
    "\n",
    "plt.plot(train_fpr, train_tpr, label=\"train AUC =\"+str(auc(train_fpr, train_tpr)))\n",
    "plt.plot(test_fpr, test_tpr, label=\"test AUC =\"+str(auc(test_fpr, test_tpr)))\n",
    "plt.legend()\n",
    "plt.xlabel(\"C: hyperparameter\")\n",
    "plt.ylabel(\"AUC\")\n",
    "plt.title(\"ERROR PLOTS\")\n",
    "plt.grid()\n",
    "plt.show()"
   ]
  },
  {
   "cell_type": "code",
   "execution_count": 136,
   "metadata": {
    "collapsed": true
   },
   "outputs": [],
   "source": [
    "# we are writing our own function for predict, with defined thresould\n",
    "# we will pick a threshold that will give the least fpr\n",
    "def predict(proba, threshould, fpr, tpr):\n",
    "    \n",
    "    t = threshould[np.argmax(tpr*(1-fpr))]\n",
    "    \n",
    "    # (tpr*(1-fpr)) will be maximum if your fpr is very low and tpr is very high\n",
    "    \n",
    "    print(\"the maximum value of tpr*(1-fpr)\", max(tpr*(1-fpr)), \"for threshold\", np.round(t,3))\n",
    "    predictions = []\n",
    "    for i in proba:\n",
    "        if i>=t:\n",
    "            predictions.append(1)\n",
    "        else:\n",
    "            predictions.append(0)\n",
    "    return predictions"
   ]
  },
  {
   "cell_type": "code",
   "execution_count": 137,
   "metadata": {},
   "outputs": [
    {
     "name": "stdout",
     "output_type": "stream",
     "text": [
      "====================================================================================================\n",
      "Train confusion matrix\n",
      "the maximum value of tpr*(1-fpr) 0.249999981866 for threshold 0.842\n",
      "[[ 3714  3712]\n",
      " [14826 26789]]\n",
      "Test confusion matrix\n",
      "the maximum value of tpr*(1-fpr) 0.249999991611 for threshold 0.849\n",
      "[[ 2550  2909]\n",
      " [10928 19665]]\n"
     ]
    }
   ],
   "source": [
    "print(\"=\"*100)\n",
    "from sklearn.metrics import confusion_matrix\n",
    "print(\"Train confusion matrix\")\n",
    "print(confusion_matrix(y_train, predict(y_train_pred, tr_thresholds, train_fpr, train_fpr)))\n",
    "print(\"Test confusion matrix\")\n",
    "print(confusion_matrix(y_test, predict(y_test_pred, tr_thresholds, test_fpr, test_fpr)))"
   ]
  },
  {
   "cell_type": "code",
   "execution_count": 138,
   "metadata": {},
   "outputs": [
    {
     "name": "stdout",
     "output_type": "stream",
     "text": [
      "the maximum value of tpr*(1-fpr) 0.249999981866 for threshold 0.842\n",
      "Train Confusion Matrix\n"
     ]
    },
    {
     "data": {
      "text/plain": [
       "<matplotlib.axes._subplots.AxesSubplot at 0x16396cf8780>"
      ]
     },
     "execution_count": 138,
     "metadata": {},
     "output_type": "execute_result"
    },
    {
     "data": {
      "image/png": "[encoded data removed]",
      "text/plain": [
       "<Figure size 432x288 with 2 Axes>"
      ]
     },
     "metadata": {},
     "output_type": "display_data"
    }
   ],
   "source": [
    "# https://seaborn.pydata.org/generated/seaborn.heatmap.html\n",
    "# https://stackoverflow.com/questions/29647749/seaborn-showing-scientific-notation-in-heatmap-for-3-digit-numbers\n",
    "\n",
    "# Train Confusion Matrix Heatmap\n",
    "train_confusion_matrix = confusion_matrix(y_train, predict(y_train_pred, tr_thresholds, train_fpr, train_fpr))\n",
    "\n",
    "print(\"Train Confusion Matrix\")\n",
    "sns.heatmap(train_confusion_matrix,annot=True,linewidth = 0.1, cmap='coolwarm', fmt='g')"
   ]
  },
  {
   "cell_type": "code",
   "execution_count": 139,
   "metadata": {},
   "outputs": [
    {
     "name": "stdout",
     "output_type": "stream",
     "text": [
      "the maximum value of tpr*(1-fpr) 0.249999991611 for threshold 0.849\n",
      "Test Confusion Matrix\n"
     ]
    },
    {
     "data": {
      "text/plain": [
       "<matplotlib.axes._subplots.AxesSubplot at 0x16396c85ba8>"
      ]
     },
     "execution_count": 139,
     "metadata": {},
     "output_type": "execute_result"
    },
    {
     "data": {
      "image/png": "[encoded data removed]",
      "text/plain": [
       "<Figure size 432x288 with 2 Axes>"
      ]
     },
     "metadata": {},
     "output_type": "display_data"
    }
   ],
   "source": [
    "# https://seaborn.pydata.org/generated/seaborn.heatmap.html\n",
    "\n",
    "# Test Confusion Matrix Heatmap\n",
    "\n",
    "test_confusion_matrix = confusion_matrix(y_test, predict(y_test_pred, tr_thresholds, test_fpr, test_fpr))\n",
    "\n",
    "print(\"Test Confusion Matrix\")\n",
    "sns.heatmap(test_confusion_matrix,annot=True,linewidth = 0.5, cmap='coolwarm', fmt='g')"
   ]
  },
  {
   "cell_type": "markdown",
   "metadata": {},
   "source": [
    "**Set 2: categorical, numerical features + project_title(TFIDF)+ preprocessed_eassay (TFIDF)**"
   ]
  },
  {
   "cell_type": "code",
   "execution_count": 140,
   "metadata": {},
   "outputs": [
    {
     "name": "stdout",
     "output_type": "stream",
     "text": [
      "Final Data matrix\n",
      "(49041, 1915) (49041,)\n",
      "(24155, 1915) (24155,)\n",
      "(36052, 1915) (36052,)\n",
      "====================================================================================================\n"
     ]
    }
   ],
   "source": [
    "# merge two sparse matrices: https://stackoverflow.com/a/19710648/4084039\n",
    "from scipy.sparse import hstack\n",
    "\n",
    "# Train data stack\n",
    "X_tr = hstack((X_Train_categories_one_hot,X_Train_sub_categories_one_hot,X_Train_school_state_one_hot,\n",
    "               X_Train_teacher_prefix_one_hot,X_Train_grade_cat_one_hot,X_Train_essay_tfidf,X_Train_titles_tfidf,\n",
    "               X_train_price_norm)).tocsr()\n",
    "\n",
    "# CV data Stack\n",
    "X_cr = hstack((X_CV_categories_one_hot,X_CV_sub_categories_one_hot,X_CV_school_state_one_hot,\n",
    "               X_CV_teacher_prefix_one_hot,X_CV_grade_cat_one_hot,X_CV_essay_tfidf,X_CV_titles_tfidf,\n",
    "               X_cv_price_norm)).tocsr()\n",
    "\n",
    "# Test Data Stack\n",
    "X_te = hstack((X_Test_categories_one_hot,X_Test_sub_categories_one_hot,X_Test_school_state_one_hot,\n",
    "               X_Test_teacher_prefix_one_hot,X_Test_grade_cat_one_hot,X_Test_essay_tfidf,X_Test_titles_tfidf,\n",
    "               X_test_price_norm)).tocsr()\n",
    "\n",
    "print(\"Final Data matrix\")\n",
    "print(X_tr.shape, y_train.shape)\n",
    "print(X_cr.shape, y_cv.shape)\n",
    "print(X_te.shape, y_test.shape)\n",
    "print(\"=\"*100)"
   ]
  },
  {
   "cell_type": "code",
   "execution_count": 141,
   "metadata": {},
   "outputs": [
    {
     "name": "stdout",
     "output_type": "stream",
     "text": [
      "for C = 0.0001\n",
      "for regularization =  l1\n",
      "Log Loss : 0.423618093402\n",
      "for C = 0.001\n",
      "for regularization =  l1\n",
      "Log Loss : 0.422543769689\n",
      "for C = 0.01\n",
      "for regularization =  l1\n",
      "Log Loss : 0.424015463556\n",
      "for C = 0.1\n",
      "for regularization =  l1\n",
      "Log Loss : 0.425125084428\n",
      "for C = 1\n",
      "for regularization =  l1\n",
      "Log Loss : 0.425125084428\n",
      "for C = 10\n",
      "for regularization =  l1\n",
      "Log Loss : 0.425125084428\n",
      "for C = 100\n",
      "for regularization =  l1\n",
      "Log Loss : 0.425125084428\n",
      "for C = 1000\n",
      "for regularization =  l1\n",
      "Log Loss : 0.425125084428\n",
      "for C = 10000\n",
      "for regularization =  l1\n",
      "Log Loss : 0.425125084428\n",
      "for C = 0.0001\n",
      "for regularization =  l2\n",
      "Log Loss : 0.422362104214\n",
      "for C = 0.001\n",
      "for regularization =  l2\n",
      "Log Loss : 0.421303156182\n",
      "for C = 0.01\n",
      "for regularization =  l2\n",
      "Log Loss : 0.422685912836\n",
      "for C = 0.1\n",
      "for regularization =  l2\n",
      "Log Loss : 0.423105341476\n",
      "for C = 1\n",
      "for regularization =  l2\n",
      "Log Loss : 0.423110689051\n",
      "for C = 10\n",
      "for regularization =  l2\n",
      "Log Loss : 0.423110730765\n",
      "for C = 100\n",
      "for regularization =  l2\n",
      "Log Loss : 0.423110730765\n",
      "for C = 1000\n",
      "for regularization =  l2\n",
      "Log Loss : 0.423110730766\n",
      "for C = 10000\n",
      "for regularization =  l2\n",
      "Log Loss : 0.423110730776\n"
     ]
    }
   ],
   "source": [
    "from sklearn.linear_model import SGDClassifier\n",
    "from sklearn.calibration import CalibratedClassifierCV\n",
    "from sklearn.metrics.classification import accuracy_score, log_loss\n",
    "\n",
    "alpha = [10 ** x for x in range(-4, 5)]\n",
    "\n",
    "reg = ['l1', 'l2']\n",
    "\n",
    "for i in reg:\n",
    "    \n",
    "    cv_log_error_array = []\n",
    "    \n",
    "    for j in alpha:\n",
    "    \n",
    "        print(\"for C =\", j )\n",
    "        print (\"for regularization = \", i)\n",
    "\n",
    "        clf = SGDClassifier( class_weight='balanced', alpha=j, penalty=i, loss='hinge', random_state=0)\n",
    "        clf.fit(X_tr, y_train)\n",
    "\n",
    "        sig_clf = CalibratedClassifierCV(clf, method=\"sigmoid\")\n",
    "        sig_clf.fit(X_tr, y_train)\n",
    "\n",
    "        sig_clf_probs = sig_clf.predict_proba(X_cr)\n",
    "        \n",
    "        \n",
    "        cv_log_error_array.append(log_loss(y_cv, sig_clf_probs, labels=clf.classes_, eps=1e-15))\n",
    "\n",
    "        print(\"Log Loss :\",log_loss(y_cv, sig_clf_probs))\n",
    "    \n",
    "    \n",
    "    if (i == 'l1'):\n",
    "        \n",
    "        l1_cv_log_error = cv_log_error_array\n",
    "    \n",
    "    if (i == 'l2'):\n",
    "        \n",
    "        l2_cv_log_error = cv_log_error_array\n",
    "        \n",
    "    \n"
   ]
  },
  {
   "cell_type": "code",
   "execution_count": 142,
   "metadata": {},
   "outputs": [
    {
     "data": {
      "image/png": "[encoded data removed]",
      "text/plain": [
       "<Figure size 432x288 with 1 Axes>"
      ]
     },
     "metadata": {},
     "output_type": "display_data"
    },
    {
     "data": {
      "image/png": "[encoded data removed]",
      "text/plain": [
       "<Figure size 432x288 with 1 Axes>"
      ]
     },
     "metadata": {},
     "output_type": "display_data"
    }
   ],
   "source": [
    "r = [10 ** x for x in range(-4, 5)]\n",
    "\n",
    "x1 = [math.log10(i) for i in r]\n",
    "\n",
    "plt.plot(x1,l1_cv_log_error,label='log loss Error ')\n",
    "plt.scatter(x1,l1_cv_log_error)\n",
    "plt.legend()\n",
    "plt.xlabel('log of hyperparameter')\n",
    "plt.ylabel('Error measure')\n",
    "plt.title('Cross Validation Error for each alpha with L1 regularization')\n",
    "plt.grid()\n",
    "plt.show()\n",
    "\n",
    "\n",
    "x1 = [math.log10(i) for i in r]\n",
    "\n",
    "plt.plot(x1,l2_cv_log_error,label='log loss Error ')\n",
    "plt.scatter(x1,l2_cv_log_error)\n",
    "plt.legend()\n",
    "plt.xlabel('log of hyperparameter')\n",
    "plt.ylabel('Error measure')\n",
    "plt.title('Cross Validation Error for each alpha with L2 regularization')\n",
    "plt.grid()\n",
    "plt.show()\n"
   ]
  },
  {
   "cell_type": "code",
   "execution_count": 143,
   "metadata": {},
   "outputs": [
    {
     "name": "stdout",
     "output_type": "stream",
     "text": [
      "Best alpha with L1 regularization :  0.001\n",
      "Best L1 regularization Value:  0.422543769689\n",
      "Best alpha with L2 regularization :  0.001\n",
      "Best L2 regularization Value:  0.421303156182\n"
     ]
    }
   ],
   "source": [
    "l1_best_alpha = np.argmin(l1_cv_log_error)\n",
    "print(\"Best alpha with L1 regularization : \", alpha[l1_best_alpha])\n",
    "print(\"Best L1 regularization Value: \", l1_cv_log_error[l1_best_alpha])\n",
    "\n",
    "l2_best_alpha = np.argmin(l2_cv_log_error)\n",
    "print(\"Best alpha with L2 regularization : \", alpha[l2_best_alpha])\n",
    "print(\"Best L2 regularization Value: \", l2_cv_log_error[l2_best_alpha])\n"
   ]
  },
  {
   "cell_type": "code",
   "execution_count": 144,
   "metadata": {},
   "outputs": [
    {
     "name": "stdout",
     "output_type": "stream",
     "text": [
      "For values of best alpha =  0.001 The train log loss is: 0.417997846108\n",
      "For values of best alpha =  0.001 The cross validation log loss is: 0.421303156182\n",
      "For values of best alpha =  0.001 The test log loss is: 0.420728163891\n"
     ]
    }
   ],
   "source": [
    "# Since L2 has better regularization value so taken L2 penalty and its best alpha\n",
    "\n",
    "clf = SGDClassifier(class_weight='balanced', alpha=alpha[l2_best_alpha], penalty='l2', loss='hinge', random_state=0)\n",
    "clf.fit(X_tr, y_train)\n",
    "sig_clf = CalibratedClassifierCV(clf, method=\"sigmoid\")\n",
    "sig_clf.fit(X_tr, y_train)\n",
    "\n",
    "predict_y = sig_clf.predict_proba(X_tr)\n",
    "print('For values of best alpha = ', alpha[l2_best_alpha], \"The train log loss is:\",log_loss(y_train, predict_y, labels=clf.classes_, eps=1e-15))\n",
    "predict_y = sig_clf.predict_proba(X_cr)\n",
    "print('For values of best alpha = ', alpha[l2_best_alpha], \"The cross validation log loss is:\",log_loss(y_cv, predict_y, labels=clf.classes_, eps=1e-15))\n",
    "predict_y = sig_clf.predict_proba(X_te)\n",
    "print('For values of best alpha = ', alpha[l2_best_alpha], \"The test log loss is:\",log_loss(y_test, predict_y, labels=clf.classes_, eps=1e-15))\n"
   ]
  },
  {
   "cell_type": "code",
   "execution_count": 145,
   "metadata": {},
   "outputs": [
    {
     "data": {
      "image/png": "[encoded data removed]",
      "text/plain": [
       "<Figure size 432x288 with 1 Axes>"
      ]
     },
     "metadata": {},
     "output_type": "display_data"
    }
   ],
   "source": [
    "# https://scikit-learn.org/stable/modules/generated/sklearn.metrics.roc_curve.html#sklearn.metrics.roc_curve\n",
    "from sklearn.metrics import roc_curve, auc\n",
    "\n",
    "neigh = SGDClassifier(class_weight='balanced', alpha=alpha[l2_best_alpha], penalty='l2', loss='hinge', random_state=0)\n",
    "#neigh = LogisticRegression(C=0.5)\n",
    "neigh.fit(X_tr, y_train)\n",
    "sig_clf = CalibratedClassifierCV(clf, method=\"sigmoid\")\n",
    "sig_clf.fit(X_tr, y_train)\n",
    "# roc_auc_score(y_true, y_score) the 2nd parameter should be probability estimates of the positive class\n",
    "# not the predicted outputs\n",
    "\n",
    "y_train_pred = batch_predict(sig_clf, X_tr)    \n",
    "y_test_pred = batch_predict(sig_clf, X_te)\n",
    "\n",
    "train_fpr, train_tpr, tr_thresholds = roc_curve(y_train, y_train_pred)\n",
    "test_fpr, test_tpr, te_thresholds = roc_curve(y_test, y_test_pred)\n",
    "\n",
    "plt.plot(train_fpr, train_tpr, label=\"train AUC =\"+str(auc(train_fpr, train_tpr)))\n",
    "plt.plot(test_fpr, test_tpr, label=\"test AUC =\"+str(auc(test_fpr, test_tpr)))\n",
    "plt.legend()\n",
    "plt.xlabel(\"C: hyperparameter\")\n",
    "plt.ylabel(\"AUC\")\n",
    "plt.title(\"ERROR PLOTS\")\n",
    "plt.grid()\n",
    "plt.show()"
   ]
  },
  {
   "cell_type": "code",
   "execution_count": 146,
   "metadata": {},
   "outputs": [
    {
     "name": "stdout",
     "output_type": "stream",
     "text": [
      "====================================================================================================\n",
      "Train confusion matrix\n",
      "the maximum value of tpr*(1-fpr) 0.25 for threshold 0.841\n",
      "[[ 3713  3713]\n",
      " [14993 26622]]\n",
      "Test confusion matrix\n",
      "the maximum value of tpr*(1-fpr) 0.249999991611 for threshold 0.851\n",
      "[[ 2972  2487]\n",
      " [13003 17590]]\n"
     ]
    }
   ],
   "source": [
    "print(\"=\"*100)\n",
    "from sklearn.metrics import confusion_matrix\n",
    "print(\"Train confusion matrix\")\n",
    "print(confusion_matrix(y_train, predict(y_train_pred, tr_thresholds, train_fpr, train_fpr)))\n",
    "print(\"Test confusion matrix\")\n",
    "print(confusion_matrix(y_test, predict(y_test_pred, tr_thresholds, test_fpr, test_fpr)))"
   ]
  },
  {
   "cell_type": "code",
   "execution_count": 147,
   "metadata": {},
   "outputs": [
    {
     "name": "stdout",
     "output_type": "stream",
     "text": [
      "the maximum value of tpr*(1-fpr) 0.25 for threshold 0.841\n",
      "Train Confusion Matrix\n"
     ]
    },
    {
     "data": {
      "text/plain": [
       "<matplotlib.axes._subplots.AxesSubplot at 0x163982c0c88>"
      ]
     },
     "execution_count": 147,
     "metadata": {},
     "output_type": "execute_result"
    },
    {
     "data": {
      "image/png": "[encoded data removed]",
      "text/plain": [
       "<Figure size 432x288 with 2 Axes>"
      ]
     },
     "metadata": {},
     "output_type": "display_data"
    }
   ],
   "source": [
    "# https://seaborn.pydata.org/generated/seaborn.heatmap.html\n",
    "# https://stackoverflow.com/questions/29647749/seaborn-showing-scientific-notation-in-heatmap-for-3-digit-numbers\n",
    "\n",
    "# Train Confusion Matrix Heatmap\n",
    "train_confusion_matrix = confusion_matrix(y_train, predict(y_train_pred, tr_thresholds, train_fpr, train_fpr))\n",
    "\n",
    "print(\"Train Confusion Matrix\")\n",
    "sns.heatmap(train_confusion_matrix,annot=True,linewidth = 0.1, cmap='coolwarm', fmt='g')"
   ]
  },
  {
   "cell_type": "code",
   "execution_count": 148,
   "metadata": {},
   "outputs": [
    {
     "name": "stdout",
     "output_type": "stream",
     "text": [
      "the maximum value of tpr*(1-fpr) 0.249999991611 for threshold 0.851\n",
      "Test Confusion Matrix\n"
     ]
    },
    {
     "data": {
      "text/plain": [
       "<matplotlib.axes._subplots.AxesSubplot at 0x1639643a160>"
      ]
     },
     "execution_count": 148,
     "metadata": {},
     "output_type": "execute_result"
    },
    {
     "data": {
      "image/png": "[encoded data removed]",
      "text/plain": [
       "<Figure size 432x288 with 2 Axes>"
      ]
     },
     "metadata": {},
     "output_type": "display_data"
    }
   ],
   "source": [
    "# https://seaborn.pydata.org/generated/seaborn.heatmap.html\n",
    "\n",
    "# Test Confusion Matrix Heatmap\n",
    "\n",
    "test_confusion_matrix = confusion_matrix(y_test, predict(y_test_pred, tr_thresholds, test_fpr, test_fpr))\n",
    "\n",
    "print(\"Test Confusion Matrix\")\n",
    "sns.heatmap(test_confusion_matrix,annot=True,linewidth = 0.5, cmap='coolwarm', fmt='g')"
   ]
  },
  {
   "cell_type": "markdown",
   "metadata": {},
   "source": [
    "**Set 3: categorical, numerical features + project_title(AVG W2V)+ preprocessed_eassay (AVG W2V)**"
   ]
  },
  {
   "cell_type": "code",
   "execution_count": 149,
   "metadata": {},
   "outputs": [
    {
     "name": "stdout",
     "output_type": "stream",
     "text": [
      "Final Data matrix\n",
      "(49041, 701) (49041,)\n",
      "(24155, 701) (24155,)\n",
      "(36052, 701) (36052,)\n",
      "====================================================================================================\n"
     ]
    }
   ],
   "source": [
    "# Train data stack\n",
    "X_tr = hstack((X_Train_categories_one_hot,X_Train_sub_categories_one_hot,X_Train_school_state_one_hot,\n",
    "               X_Train_teacher_prefix_one_hot,X_Train_grade_cat_one_hot,X_Train_avg_w2v_vectors,X_Train_avg_w2v_titles_vectors,\n",
    "               X_train_price_norm)).tocsr()\n",
    "\n",
    "# CV data Stack\n",
    "X_cr = hstack((X_CV_categories_one_hot,X_CV_sub_categories_one_hot,X_CV_school_state_one_hot,\n",
    "               X_CV_teacher_prefix_one_hot,X_CV_grade_cat_one_hot,X_CV_avg_w2v_vectors,X_CV_avg_w2v_titles_vectors,\n",
    "               X_cv_price_norm)).tocsr()\n",
    "\n",
    "# Test Data Stack\n",
    "X_te = hstack((X_Test_categories_one_hot,X_Test_sub_categories_one_hot,X_Test_school_state_one_hot,\n",
    "               X_Test_teacher_prefix_one_hot,X_Test_grade_cat_one_hot,X_Test_avg_w2v_vectors,X_Test_avg_w2v_titles_vectors,\n",
    "               X_test_price_norm)).tocsr()\n",
    "\n",
    "print(\"Final Data matrix\")\n",
    "print(X_tr.shape, y_train.shape)\n",
    "print(X_cr.shape, y_cv.shape)\n",
    "print(X_te.shape, y_test.shape)\n",
    "print(\"=\"*100)"
   ]
  },
  {
   "cell_type": "code",
   "execution_count": 150,
   "metadata": {},
   "outputs": [
    {
     "name": "stdout",
     "output_type": "stream",
     "text": [
      "for C = 0.0001\n",
      "for regularization =  l1\n",
      "Log Loss : 0.42280452684\n",
      "for C = 0.001\n",
      "for regularization =  l1\n",
      "Log Loss : 0.422362248267\n",
      "for C = 0.01\n",
      "for regularization =  l1\n",
      "Log Loss : 0.425428545476\n",
      "for C = 0.1\n",
      "for regularization =  l1\n",
      "Log Loss : 0.425125084428\n",
      "for C = 1\n",
      "for regularization =  l1\n",
      "Log Loss : 0.425125084428\n",
      "for C = 10\n",
      "for regularization =  l1\n",
      "Log Loss : 0.425125084428\n",
      "for C = 100\n",
      "for regularization =  l1\n",
      "Log Loss : 0.425125084428\n",
      "for C = 1000\n",
      "for regularization =  l1\n",
      "Log Loss : 0.425125084428\n",
      "for C = 10000\n",
      "for regularization =  l1\n",
      "Log Loss : 0.425125084428\n",
      "for C = 0.0001\n",
      "for regularization =  l2\n",
      "Log Loss : 0.423560604079\n",
      "for C = 0.001\n",
      "for regularization =  l2\n",
      "Log Loss : 0.422468333661\n",
      "for C = 0.01\n",
      "for regularization =  l2\n",
      "Log Loss : 0.423918712218\n",
      "for C = 0.1\n",
      "for regularization =  l2\n",
      "Log Loss : 0.423183219987\n",
      "for C = 1\n",
      "for regularization =  l2\n",
      "Log Loss : 0.423228959245\n",
      "for C = 10\n",
      "for regularization =  l2\n",
      "Log Loss : 0.423235962232\n",
      "for C = 100\n",
      "for regularization =  l2\n",
      "Log Loss : 0.423236095742\n",
      "for C = 1000\n",
      "for regularization =  l2\n",
      "Log Loss : 0.423236095744\n",
      "for C = 10000\n",
      "for regularization =  l2\n",
      "Log Loss : 0.423236095753\n"
     ]
    }
   ],
   "source": [
    "from sklearn.linear_model import SGDClassifier\n",
    "from sklearn.calibration import CalibratedClassifierCV\n",
    "from sklearn.metrics.classification import accuracy_score, log_loss\n",
    "\n",
    "alpha = [10 ** x for x in range(-4, 5)]\n",
    "\n",
    "reg = ['l1', 'l2']\n",
    "\n",
    "for i in reg:\n",
    "    \n",
    "    cv_log_error_array = []\n",
    "    \n",
    "    for j in alpha:\n",
    "    \n",
    "        print(\"for C =\", j )\n",
    "        print (\"for regularization = \", i)\n",
    "\n",
    "        clf = SGDClassifier( class_weight='balanced', alpha=j, penalty=i, loss='hinge', random_state=0)\n",
    "        clf.fit(X_tr, y_train)\n",
    "\n",
    "        sig_clf = CalibratedClassifierCV(clf, method=\"sigmoid\")\n",
    "        sig_clf.fit(X_tr, y_train)\n",
    "\n",
    "        sig_clf_probs = sig_clf.predict_proba(X_cr)\n",
    "        \n",
    "        \n",
    "        cv_log_error_array.append(log_loss(y_cv, sig_clf_probs, labels=clf.classes_, eps=1e-15))\n",
    "\n",
    "        print(\"Log Loss :\",log_loss(y_cv, sig_clf_probs))\n",
    "    \n",
    "    \n",
    "    if (i == 'l1'):\n",
    "        \n",
    "        l1_cv_log_error = cv_log_error_array\n",
    "    \n",
    "    if (i == 'l2'):\n",
    "        \n",
    "        l2_cv_log_error = cv_log_error_array\n",
    "        \n",
    "    \n"
   ]
  },
  {
   "cell_type": "code",
   "execution_count": 151,
   "metadata": {},
   "outputs": [
    {
     "data": {
      "image/png": "[encoded data removed]",
      "text/plain": [
       "<Figure size 432x288 with 1 Axes>"
      ]
     },
     "metadata": {},
     "output_type": "display_data"
    },
    {
     "data": {
      "image/png": "[encoded data removed]",
      "text/plain": [
       "<Figure size 432x288 with 1 Axes>"
      ]
     },
     "metadata": {},
     "output_type": "display_data"
    }
   ],
   "source": [
    "r = [10 ** x for x in range(-4, 5)]\n",
    "\n",
    "x1 = [math.log10(i) for i in r]\n",
    "\n",
    "plt.plot(x1,l1_cv_log_error,label='log loss Error ')\n",
    "plt.scatter(x1,l1_cv_log_error)\n",
    "plt.legend()\n",
    "plt.xlabel('log of hyperparameter')\n",
    "plt.ylabel('Error measure')\n",
    "plt.title('Cross Validation Error for each alpha with L1 regularization')\n",
    "plt.grid()\n",
    "plt.show()\n",
    "\n",
    "\n",
    "x1 = [math.log10(i) for i in r]\n",
    "\n",
    "plt.plot(x1,l2_cv_log_error,label='log loss Error ')\n",
    "plt.scatter(x1,l2_cv_log_error)\n",
    "plt.legend()\n",
    "plt.xlabel('log of hyperparameter')\n",
    "plt.ylabel('Error measure')\n",
    "plt.title('Cross Validation Error for each alpha with L2 regularization')\n",
    "plt.grid()\n",
    "plt.show()\n"
   ]
  },
  {
   "cell_type": "code",
   "execution_count": 152,
   "metadata": {},
   "outputs": [
    {
     "name": "stdout",
     "output_type": "stream",
     "text": [
      "Best alpha with L1 regularization :  0.001\n",
      "Best L1 regularization Value:  0.422362248267\n",
      "Best alpha with L2 regularization :  0.001\n",
      "Best L2 regularization Value:  0.422468333661\n"
     ]
    }
   ],
   "source": [
    "l1_best_alpha = np.argmin(l1_cv_log_error)\n",
    "print(\"Best alpha with L1 regularization : \", alpha[l1_best_alpha])\n",
    "print(\"Best L1 regularization Value: \", l1_cv_log_error[l1_best_alpha])\n",
    "\n",
    "l2_best_alpha = np.argmin(l2_cv_log_error)\n",
    "print(\"Best alpha with L2 regularization : \", alpha[l2_best_alpha])\n",
    "print(\"Best L2 regularization Value: \", l2_cv_log_error[l2_best_alpha])\n"
   ]
  },
  {
   "cell_type": "code",
   "execution_count": 153,
   "metadata": {},
   "outputs": [
    {
     "name": "stdout",
     "output_type": "stream",
     "text": [
      "For values of best alpha =  0.001 The train log loss is: 0.421695318206\n",
      "For values of best alpha =  0.001 The cross validation log loss is: 0.422468333661\n",
      "For values of best alpha =  0.001 The test log loss is: 0.422080060527\n"
     ]
    }
   ],
   "source": [
    "# Since L2 has better regularization value so taken L2 penalty and its best alpha\n",
    "\n",
    "clf = SGDClassifier(class_weight='balanced', alpha=alpha[l2_best_alpha], penalty='l2', loss='hinge', random_state=0)\n",
    "clf.fit(X_tr, y_train)\n",
    "sig_clf = CalibratedClassifierCV(clf, method=\"sigmoid\")\n",
    "sig_clf.fit(X_tr, y_train)\n",
    "\n",
    "predict_y = sig_clf.predict_proba(X_tr)\n",
    "print('For values of best alpha = ', alpha[l2_best_alpha], \"The train log loss is:\",log_loss(y_train, predict_y, labels=clf.classes_, eps=1e-15))\n",
    "predict_y = sig_clf.predict_proba(X_cr)\n",
    "print('For values of best alpha = ', alpha[l2_best_alpha], \"The cross validation log loss is:\",log_loss(y_cv, predict_y, labels=clf.classes_, eps=1e-15))\n",
    "predict_y = sig_clf.predict_proba(X_te)\n",
    "print('For values of best alpha = ', alpha[l2_best_alpha], \"The test log loss is:\",log_loss(y_test, predict_y, labels=clf.classes_, eps=1e-15))\n"
   ]
  },
  {
   "cell_type": "code",
   "execution_count": 154,
   "metadata": {},
   "outputs": [
    {
     "data": {
      "image/png": "[encoded data removed]",
      "text/plain": [
       "<Figure size 432x288 with 1 Axes>"
      ]
     },
     "metadata": {},
     "output_type": "display_data"
    }
   ],
   "source": [
    "# https://scikit-learn.org/stable/modules/generated/sklearn.metrics.roc_curve.html#sklearn.metrics.roc_curve\n",
    "from sklearn.metrics import roc_curve, auc\n",
    "\n",
    "neigh = SGDClassifier(class_weight='balanced', alpha=alpha[l2_best_alpha], penalty='l2', loss='hinge', random_state=0)\n",
    "#neigh = LogisticRegression(C=0.5)\n",
    "neigh.fit(X_tr, y_train)\n",
    "sig_clf = CalibratedClassifierCV(clf, method=\"sigmoid\")\n",
    "sig_clf.fit(X_tr, y_train)\n",
    "# roc_auc_score(y_true, y_score) the 2nd parameter should be probability estimates of the positive class\n",
    "# not the predicted outputs\n",
    "\n",
    "y_train_pred = batch_predict(sig_clf, X_tr)    \n",
    "y_test_pred = batch_predict(sig_clf, X_te)\n",
    "\n",
    "train_fpr, train_tpr, tr_thresholds = roc_curve(y_train, y_train_pred)\n",
    "test_fpr, test_tpr, te_thresholds = roc_curve(y_test, y_test_pred)\n",
    "\n",
    "plt.plot(train_fpr, train_tpr, label=\"train AUC =\"+str(auc(train_fpr, train_tpr)))\n",
    "plt.plot(test_fpr, test_tpr, label=\"test AUC =\"+str(auc(test_fpr, test_tpr)))\n",
    "plt.legend()\n",
    "plt.xlabel(\"C: hyperparameter\")\n",
    "plt.ylabel(\"AUC\")\n",
    "plt.title(\"ERROR PLOTS\")\n",
    "plt.grid()\n",
    "plt.show()"
   ]
  },
  {
   "cell_type": "code",
   "execution_count": 155,
   "metadata": {},
   "outputs": [
    {
     "name": "stdout",
     "output_type": "stream",
     "text": [
      "====================================================================================================\n",
      "Train confusion matrix\n",
      "the maximum value of tpr*(1-fpr) 0.249999981866 for threshold 0.845\n",
      "[[ 3714  3712]\n",
      " [16747 24868]]\n",
      "Test confusion matrix\n",
      "the maximum value of tpr*(1-fpr) 0.249999991611 for threshold 0.838\n",
      "[[ 2151  3308]\n",
      " [ 9403 21190]]\n"
     ]
    }
   ],
   "source": [
    "print(\"=\"*100)\n",
    "from sklearn.metrics import confusion_matrix\n",
    "print(\"Train confusion matrix\")\n",
    "print(confusion_matrix(y_train, predict(y_train_pred, tr_thresholds, train_fpr, train_fpr)))\n",
    "print(\"Test confusion matrix\")\n",
    "print(confusion_matrix(y_test, predict(y_test_pred, tr_thresholds, test_fpr, test_fpr)))"
   ]
  },
  {
   "cell_type": "code",
   "execution_count": 156,
   "metadata": {},
   "outputs": [
    {
     "name": "stdout",
     "output_type": "stream",
     "text": [
      "the maximum value of tpr*(1-fpr) 0.249999981866 for threshold 0.845\n",
      "Train Confusion Matrix\n"
     ]
    },
    {
     "data": {
      "text/plain": [
       "<matplotlib.axes._subplots.AxesSubplot at 0x163964b5cc0>"
      ]
     },
     "execution_count": 156,
     "metadata": {},
     "output_type": "execute_result"
    },
    {
     "data": {
      "image/png": "[encoded data removed]",
      "text/plain": [
       "<Figure size 432x288 with 2 Axes>"
      ]
     },
     "metadata": {},
     "output_type": "display_data"
    }
   ],
   "source": [
    "# https://seaborn.pydata.org/generated/seaborn.heatmap.html\n",
    "# https://stackoverflow.com/questions/29647749/seaborn-showing-scientific-notation-in-heatmap-for-3-digit-numbers\n",
    "\n",
    "# Train Confusion Matrix Heatmap\n",
    "train_confusion_matrix = confusion_matrix(y_train, predict(y_train_pred, tr_thresholds, train_fpr, train_fpr))\n",
    "\n",
    "print(\"Train Confusion Matrix\")\n",
    "sns.heatmap(train_confusion_matrix,annot=True,linewidth = 0.1, cmap='coolwarm', fmt='g')"
   ]
  },
  {
   "cell_type": "code",
   "execution_count": 157,
   "metadata": {},
   "outputs": [
    {
     "name": "stdout",
     "output_type": "stream",
     "text": [
      "the maximum value of tpr*(1-fpr) 0.249999991611 for threshold 0.838\n",
      "Test Confusion Matrix\n"
     ]
    },
    {
     "data": {
      "text/plain": [
       "<matplotlib.axes._subplots.AxesSubplot at 0x163964777b8>"
      ]
     },
     "execution_count": 157,
     "metadata": {},
     "output_type": "execute_result"
    },
    {
     "data": {
      "image/png": "[encoded data removed]",
      "text/plain": [
       "<Figure size 432x288 with 2 Axes>"
      ]
     },
     "metadata": {},
     "output_type": "display_data"
    }
   ],
   "source": [
    "# https://seaborn.pydata.org/generated/seaborn.heatmap.html\n",
    "\n",
    "# Test Confusion Matrix Heatmap\n",
    "\n",
    "test_confusion_matrix = confusion_matrix(y_test, predict(y_test_pred, tr_thresholds, test_fpr, test_fpr))\n",
    "\n",
    "print(\"Test Confusion Matrix\")\n",
    "sns.heatmap(test_confusion_matrix,annot=True,linewidth = 0.5, cmap='coolwarm', fmt='g')"
   ]
  },
  {
   "cell_type": "markdown",
   "metadata": {},
   "source": [
    "**Set 4: categorical, numerical features + project_title(TFIDF W2V)+ preprocessed_eassay (TFIDF W2V)**"
   ]
  },
  {
   "cell_type": "code",
   "execution_count": 158,
   "metadata": {},
   "outputs": [
    {
     "name": "stdout",
     "output_type": "stream",
     "text": [
      "Final Data matrix\n",
      "(49041, 701) (49041,)\n",
      "(24155, 701) (24155,)\n",
      "(36052, 701) (36052,)\n",
      "====================================================================================================\n"
     ]
    }
   ],
   "source": [
    "# Train data stack\n",
    "X_tr = hstack((X_Train_categories_one_hot,X_Train_sub_categories_one_hot,X_Train_school_state_one_hot,\n",
    "               X_Train_teacher_prefix_one_hot,X_Train_grade_cat_one_hot,X_Train_tfidf_w2v_vectors,X_Train_titles_tfidf_w2v_vectors,\n",
    "               X_train_price_norm)).tocsr()\n",
    "\n",
    "# CV data Stack\n",
    "X_cr = hstack((X_CV_categories_one_hot,X_CV_sub_categories_one_hot,X_CV_school_state_one_hot,\n",
    "               X_CV_teacher_prefix_one_hot,X_CV_grade_cat_one_hot,X_CV_tfidf_w2v_vectors,X_CV_titles_tfidf_w2v_vectors,\n",
    "               X_cv_price_norm)).tocsr()\n",
    "\n",
    "# Test Data Stack\n",
    "X_te = hstack((X_Test_categories_one_hot,X_Test_sub_categories_one_hot,X_Test_school_state_one_hot,\n",
    "               X_Test_teacher_prefix_one_hot,X_Test_grade_cat_one_hot,X_Test_tfidf_w2v_vectors,X_Test_titles_tfidf_w2v_vectors,\n",
    "               X_test_price_norm)).tocsr()\n",
    "\n",
    "print(\"Final Data matrix\")\n",
    "print(X_tr.shape, y_train.shape)\n",
    "print(X_cr.shape, y_cv.shape)\n",
    "print(X_te.shape, y_test.shape)\n",
    "print(\"=\"*100)"
   ]
  },
  {
   "cell_type": "code",
   "execution_count": 159,
   "metadata": {},
   "outputs": [
    {
     "name": "stdout",
     "output_type": "stream",
     "text": [
      "for C = 0.0001\n",
      "for regularization =  l1\n",
      "Log Loss : 0.420467039306\n",
      "for C = 0.001\n",
      "for regularization =  l1\n",
      "Log Loss : 0.417277913841\n",
      "for C = 0.01\n",
      "for regularization =  l1\n",
      "Log Loss : 0.423382775988\n",
      "for C = 0.1\n",
      "for regularization =  l1\n",
      "Log Loss : 0.425125084428\n",
      "for C = 1\n",
      "for regularization =  l1\n",
      "Log Loss : 0.425125084428\n",
      "for C = 10\n",
      "for regularization =  l1\n",
      "Log Loss : 0.425125084428\n",
      "for C = 100\n",
      "for regularization =  l1\n",
      "Log Loss : 0.425125084428\n",
      "for C = 1000\n",
      "for regularization =  l1\n",
      "Log Loss : 0.425125084428\n",
      "for C = 10000\n",
      "for regularization =  l1\n",
      "Log Loss : 0.425125084428\n",
      "for C = 0.0001\n",
      "for regularization =  l2\n",
      "Log Loss : 0.420825632387\n",
      "for C = 0.001\n",
      "for regularization =  l2\n",
      "Log Loss : 0.41782210487\n",
      "for C = 0.01\n",
      "for regularization =  l2\n",
      "Log Loss : 0.416152451382\n",
      "for C = 0.1\n",
      "for regularization =  l2\n",
      "Log Loss : 0.418708886842\n",
      "for C = 1\n",
      "for regularization =  l2\n",
      "Log Loss : 0.419529569292\n",
      "for C = 10\n",
      "for regularization =  l2\n",
      "Log Loss : 0.419545631035\n",
      "for C = 100\n",
      "for regularization =  l2\n",
      "Log Loss : 0.419545098667\n",
      "for C = 1000\n",
      "for regularization =  l2\n",
      "Log Loss : 0.419545098667\n",
      "for C = 10000\n",
      "for regularization =  l2\n",
      "Log Loss : 0.419545098671\n"
     ]
    }
   ],
   "source": [
    "from sklearn.linear_model import SGDClassifier\n",
    "from sklearn.calibration import CalibratedClassifierCV\n",
    "from sklearn.metrics.classification import accuracy_score, log_loss\n",
    "\n",
    "alpha = [10 ** x for x in range(-4, 5)]\n",
    "\n",
    "reg = ['l1', 'l2']\n",
    "\n",
    "for i in reg:\n",
    "    \n",
    "    cv_log_error_array = []\n",
    "    \n",
    "    for j in alpha:\n",
    "    \n",
    "        print(\"for C =\", j )\n",
    "        print (\"for regularization = \", i)\n",
    "\n",
    "        clf = SGDClassifier( class_weight='balanced', alpha=j, penalty=i, loss='hinge', random_state=0)\n",
    "        clf.fit(X_tr, y_train)\n",
    "\n",
    "        sig_clf = CalibratedClassifierCV(clf, method=\"sigmoid\")\n",
    "        sig_clf.fit(X_tr, y_train)\n",
    "\n",
    "        sig_clf_probs = sig_clf.predict_proba(X_cr)\n",
    "        \n",
    "        \n",
    "        cv_log_error_array.append(log_loss(y_cv, sig_clf_probs, labels=clf.classes_, eps=1e-15))\n",
    "\n",
    "        print(\"Log Loss :\",log_loss(y_cv, sig_clf_probs))\n",
    "    \n",
    "    \n",
    "    if (i == 'l1'):\n",
    "        \n",
    "        l1_cv_log_error = cv_log_error_array\n",
    "    \n",
    "    if (i == 'l2'):\n",
    "        \n",
    "        l2_cv_log_error = cv_log_error_array\n",
    "        \n",
    "    \n"
   ]
  },
  {
   "cell_type": "code",
   "execution_count": 160,
   "metadata": {},
   "outputs": [
    {
     "data": {
      "image/png": "[encoded data removed]",
      "text/plain": [
       "<Figure size 432x288 with 1 Axes>"
      ]
     },
     "metadata": {},
     "output_type": "display_data"
    },
    {
     "data": {
      "image/png": "[encoded data removed]",
      "text/plain": [
       "<Figure size 432x288 with 1 Axes>"
      ]
     },
     "metadata": {},
     "output_type": "display_data"
    }
   ],
   "source": [
    "r = [10 ** x for x in range(-4, 5)]\n",
    "\n",
    "x1 = [math.log10(i) for i in r]\n",
    "\n",
    "plt.plot(x1,l1_cv_log_error,label='log loss Error ')\n",
    "plt.scatter(x1,l1_cv_log_error)\n",
    "plt.legend()\n",
    "plt.xlabel('log of hyperparameter')\n",
    "plt.ylabel('Error measure')\n",
    "plt.title('Cross Validation Error for each alpha with L1 regularization')\n",
    "plt.grid()\n",
    "plt.show()\n",
    "\n",
    "\n",
    "x1 = [math.log10(i) for i in r]\n",
    "\n",
    "plt.plot(x1,l2_cv_log_error,label='log loss Error ')\n",
    "plt.scatter(x1,l2_cv_log_error)\n",
    "plt.legend()\n",
    "plt.xlabel('log of hyperparameter')\n",
    "plt.ylabel('Error measure')\n",
    "plt.title('Cross Validation Error for each alpha with L2 regularization')\n",
    "plt.grid()\n",
    "plt.show()\n"
   ]
  },
  {
   "cell_type": "code",
   "execution_count": 161,
   "metadata": {},
   "outputs": [
    {
     "name": "stdout",
     "output_type": "stream",
     "text": [
      "Best alpha with L1 regularization :  0.001\n",
      "Best L1 regularization Value:  0.417277913841\n",
      "Best alpha with L2 regularization :  0.01\n",
      "Best L2 regularization Value:  0.416152451382\n"
     ]
    }
   ],
   "source": [
    "l1_best_alpha = np.argmin(l1_cv_log_error)\n",
    "print(\"Best alpha with L1 regularization : \", alpha[l1_best_alpha])\n",
    "print(\"Best L1 regularization Value: \", l1_cv_log_error[l1_best_alpha])\n",
    "\n",
    "l2_best_alpha = np.argmin(l2_cv_log_error)\n",
    "print(\"Best alpha with L2 regularization : \", alpha[l2_best_alpha])\n",
    "print(\"Best L2 regularization Value: \", l2_cv_log_error[l2_best_alpha])\n"
   ]
  },
  {
   "cell_type": "code",
   "execution_count": 162,
   "metadata": {},
   "outputs": [
    {
     "name": "stdout",
     "output_type": "stream",
     "text": [
      "For values of best alpha =  0.01 The train log loss is: 0.412639664228\n",
      "For values of best alpha =  0.01 The cross validation log loss is: 0.416152451382\n",
      "For values of best alpha =  0.01 The test log loss is: 0.415147216083\n"
     ]
    }
   ],
   "source": [
    "# Since L2 has better regularization value so taken L2 penalty and its best alpha\n",
    "\n",
    "clf = SGDClassifier(class_weight='balanced', alpha=alpha[l2_best_alpha], penalty='l2', loss='hinge', random_state=0)\n",
    "clf.fit(X_tr, y_train)\n",
    "sig_clf = CalibratedClassifierCV(clf, method=\"sigmoid\")\n",
    "sig_clf.fit(X_tr, y_train)\n",
    "\n",
    "predict_y = sig_clf.predict_proba(X_tr)\n",
    "print('For values of best alpha = ', alpha[l2_best_alpha], \"The train log loss is:\",log_loss(y_train, predict_y, labels=clf.classes_, eps=1e-15))\n",
    "predict_y = sig_clf.predict_proba(X_cr)\n",
    "print('For values of best alpha = ', alpha[l2_best_alpha], \"The cross validation log loss is:\",log_loss(y_cv, predict_y, labels=clf.classes_, eps=1e-15))\n",
    "predict_y = sig_clf.predict_proba(X_te)\n",
    "print('For values of best alpha = ', alpha[l2_best_alpha], \"The test log loss is:\",log_loss(y_test, predict_y, labels=clf.classes_, eps=1e-15))\n"
   ]
  },
  {
   "cell_type": "code",
   "execution_count": 163,
   "metadata": {},
   "outputs": [
    {
     "data": {
      "image/png": "[encoded data removed]",
      "text/plain": [
       "<Figure size 432x288 with 1 Axes>"
      ]
     },
     "metadata": {},
     "output_type": "display_data"
    }
   ],
   "source": [
    "# https://scikit-learn.org/stable/modules/generated/sklearn.metrics.roc_curve.html#sklearn.metrics.roc_curve\n",
    "from sklearn.metrics import roc_curve, auc\n",
    "\n",
    "neigh = SGDClassifier(class_weight='balanced', alpha=alpha[l2_best_alpha], penalty='l2', loss='hinge', random_state=0)\n",
    "#neigh = LogisticRegression(C=0.5)\n",
    "neigh.fit(X_tr, y_train)\n",
    "sig_clf = CalibratedClassifierCV(clf, method=\"sigmoid\")\n",
    "sig_clf.fit(X_tr, y_train)\n",
    "# roc_auc_score(y_true, y_score) the 2nd parameter should be probability estimates of the positive class\n",
    "# not the predicted outputs\n",
    "\n",
    "y_train_pred = batch_predict(sig_clf, X_tr)    \n",
    "y_test_pred = batch_predict(sig_clf, X_te)\n",
    "\n",
    "train_fpr, train_tpr, tr_thresholds = roc_curve(y_train, y_train_pred)\n",
    "test_fpr, test_tpr, te_thresholds = roc_curve(y_test, y_test_pred)\n",
    "\n",
    "plt.plot(train_fpr, train_tpr, label=\"train AUC =\"+str(auc(train_fpr, train_tpr)))\n",
    "plt.plot(test_fpr, test_tpr, label=\"test AUC =\"+str(auc(test_fpr, test_tpr)))\n",
    "plt.legend()\n",
    "plt.xlabel(\"C: hyperparameter\")\n",
    "plt.ylabel(\"AUC\")\n",
    "plt.title(\"ERROR PLOTS\")\n",
    "plt.grid()\n",
    "plt.show()"
   ]
  },
  {
   "cell_type": "code",
   "execution_count": 164,
   "metadata": {},
   "outputs": [
    {
     "name": "stdout",
     "output_type": "stream",
     "text": [
      "====================================================================================================\n",
      "Train confusion matrix\n",
      "the maximum value of tpr*(1-fpr) 0.25 for threshold 0.834\n",
      "[[ 3713  3713]\n",
      " [13138 28477]]\n",
      "Test confusion matrix\n",
      "the maximum value of tpr*(1-fpr) 0.249999991611 for threshold 0.853\n",
      "[[ 3226  2233]\n",
      " [12852 17741]]\n"
     ]
    }
   ],
   "source": [
    "print(\"=\"*100)\n",
    "from sklearn.metrics import confusion_matrix\n",
    "print(\"Train confusion matrix\")\n",
    "print(confusion_matrix(y_train, predict(y_train_pred, tr_thresholds, train_fpr, train_fpr)))\n",
    "print(\"Test confusion matrix\")\n",
    "print(confusion_matrix(y_test, predict(y_test_pred, tr_thresholds, test_fpr, test_fpr)))"
   ]
  },
  {
   "cell_type": "code",
   "execution_count": 165,
   "metadata": {},
   "outputs": [
    {
     "name": "stdout",
     "output_type": "stream",
     "text": [
      "the maximum value of tpr*(1-fpr) 0.25 for threshold 0.834\n",
      "Train Confusion Matrix\n"
     ]
    },
    {
     "data": {
      "text/plain": [
       "<matplotlib.axes._subplots.AxesSubplot at 0x163969fd940>"
      ]
     },
     "execution_count": 165,
     "metadata": {},
     "output_type": "execute_result"
    },
    {
     "data": {
      "image/png": "[encoded data removed]",
      "text/plain": [
       "<Figure size 432x288 with 2 Axes>"
      ]
     },
     "metadata": {},
     "output_type": "display_data"
    }
   ],
   "source": [
    "# https://seaborn.pydata.org/generated/seaborn.heatmap.html\n",
    "# https://stackoverflow.com/questions/29647749/seaborn-showing-scientific-notation-in-heatmap-for-3-digit-numbers\n",
    "\n",
    "# Train Confusion Matrix Heatmap\n",
    "train_confusion_matrix = confusion_matrix(y_train, predict(y_train_pred, tr_thresholds, train_fpr, train_fpr))\n",
    "\n",
    "print(\"Train Confusion Matrix\")\n",
    "sns.heatmap(train_confusion_matrix,annot=True,linewidth = 0.1, cmap='coolwarm', fmt='g')"
   ]
  },
  {
   "cell_type": "code",
   "execution_count": 166,
   "metadata": {},
   "outputs": [
    {
     "name": "stdout",
     "output_type": "stream",
     "text": [
      "the maximum value of tpr*(1-fpr) 0.249999991611 for threshold 0.853\n",
      "Test Confusion Matrix\n"
     ]
    },
    {
     "data": {
      "text/plain": [
       "<matplotlib.axes._subplots.AxesSubplot at 0x16396aa3438>"
      ]
     },
     "execution_count": 166,
     "metadata": {},
     "output_type": "execute_result"
    },
    {
     "data": {
      "image/png": "[encoded data removed]",
      "text/plain": [
       "<Figure size 432x288 with 2 Axes>"
      ]
     },
     "metadata": {},
     "output_type": "display_data"
    }
   ],
   "source": [
    "# https://seaborn.pydata.org/generated/seaborn.heatmap.html\n",
    "\n",
    "# Test Confusion Matrix Heatmap\n",
    "\n",
    "test_confusion_matrix = confusion_matrix(y_test, predict(y_test_pred, tr_thresholds, test_fpr, test_fpr))\n",
    "\n",
    "print(\"Test Confusion Matrix\")\n",
    "sns.heatmap(test_confusion_matrix,annot=True,linewidth = 0.5, cmap='coolwarm', fmt='g')"
   ]
  },
  {
   "cell_type": "markdown",
   "metadata": {
    "colab_type": "text",
    "id": "_T2l87JfoUH-"
   },
   "source": [
    "<h2>2.5 Support Vector Machines with added Features `Set 5` </h2>"
   ]
  },
  {
   "cell_type": "code",
   "execution_count": 167,
   "metadata": {
    "colab": {},
    "colab_type": "code",
    "id": "1JBBsjAzoUH_"
   },
   "outputs": [
    {
     "data": {
      "text/plain": [
       "(49041, 147)"
      ]
     },
     "execution_count": 167,
     "metadata": {},
     "output_type": "execute_result"
    }
   ],
   "source": [
    "X_Train_essay_tfidf.shape"
   ]
  },
  {
   "cell_type": "code",
   "execution_count": 169,
   "metadata": {},
   "outputs": [
    {
     "name": "stdout",
     "output_type": "stream",
     "text": [
      "Shape of train matrix after dimension reduction  (49041, 130)\n",
      "Shape of test matrix after dimension reduction  (36052, 130)\n",
      "Shape of cv matrix after dimension reduction  (24155, 130)\n"
     ]
    }
   ],
   "source": [
    "#https://scikit-learn.org/stable/modules/generated/sklearn.decomposition.TruncatedSVD.html\n",
    "from sklearn.decomposition import TruncatedSVD\n",
    "\n",
    "svd = TruncatedSVD(n_components= 130, n_iter=7, random_state=42)\n",
    "svd.fit(X_Train_essay_tfidf)\n",
    "svd_train = svd.transform(X_Train_essay_tfidf)\n",
    "svd_test = svd.transform(X_Test_essay_tfidf)\n",
    "svd_cv = svd.transform(X_CV_essay_tfidf)\n",
    "\n",
    "print(\"Shape of train matrix after dimension reduction \",svd_train.shape)\n",
    "print(\"Shape of test matrix after dimension reduction \",svd_test.shape)\n",
    "print(\"Shape of cv matrix after dimension reduction \",svd_cv.shape)"
   ]
  },
  {
   "cell_type": "code",
   "execution_count": 170,
   "metadata": {},
   "outputs": [
    {
     "name": "stdout",
     "output_type": "stream",
     "text": [
      "Final Data matrix\n",
      "(49041, 236) (49041,)\n",
      "(24155, 236) (24155,)\n",
      "(36052, 236) (36052,)\n",
      "====================================================================================================\n"
     ]
    }
   ],
   "source": [
    "# Train data stack\n",
    "X_tr = hstack((X_Train_categories_one_hot,X_Train_sub_categories_one_hot,X_Train_school_state_one_hot,\n",
    "               X_Train_teacher_prefix_one_hot,X_Train_grade_cat_one_hot,title_word_count_train,\n",
    "               essay_word_count_train, essay_sent_pos_train, essay_sent_neg_train, essay_sent_neu_train,\n",
    "               essay_sent_comp_train, svd_train)).tocsr()\n",
    "\n",
    "# CV data Stack\n",
    "X_cr = hstack((X_CV_categories_one_hot,X_CV_sub_categories_one_hot,X_CV_school_state_one_hot,\n",
    "               X_CV_teacher_prefix_one_hot,X_CV_grade_cat_one_hot,title_word_count_cv,\n",
    "               essay_word_count_cv, essay_sent_pos_cv, essay_sent_neg_cv, essay_sent_neu_cv,\n",
    "               essay_sent_comp_cv, svd_cv)).tocsr()\n",
    "\n",
    "# Test Data Stack\n",
    "X_te = hstack((X_Test_categories_one_hot,X_Test_sub_categories_one_hot,X_Test_school_state_one_hot,\n",
    "               X_Test_teacher_prefix_one_hot,X_Test_grade_cat_one_hot,title_word_count_test,\n",
    "               essay_word_count_test, essay_sent_pos_test, essay_sent_neg_test, essay_sent_neu_test,\n",
    "               essay_sent_comp_test, svd_test)).tocsr()\n",
    "\n",
    "print(\"Final Data matrix\")\n",
    "print(X_tr.shape, y_train.shape)\n",
    "print(X_cr.shape, y_cv.shape)\n",
    "print(X_te.shape, y_test.shape)\n",
    "print(\"=\"*100)"
   ]
  },
  {
   "cell_type": "code",
   "execution_count": 171,
   "metadata": {},
   "outputs": [
    {
     "name": "stdout",
     "output_type": "stream",
     "text": [
      "for C = 0.0001\n",
      "for regularization =  l1\n",
      "Log Loss : 0.422684378404\n",
      "for C = 0.001\n",
      "for regularization =  l1\n",
      "Log Loss : 0.422451980342\n",
      "for C = 0.01\n",
      "for regularization =  l1\n",
      "Log Loss : 0.424039163182\n",
      "for C = 0.1\n",
      "for regularization =  l1\n",
      "Log Loss : 0.425125084428\n",
      "for C = 1\n",
      "for regularization =  l1\n",
      "Log Loss : 0.425125084428\n",
      "for C = 10\n",
      "for regularization =  l1\n",
      "Log Loss : 0.425125084428\n",
      "for C = 100\n",
      "for regularization =  l1\n",
      "Log Loss : 0.425125084428\n",
      "for C = 1000\n",
      "for regularization =  l1\n",
      "Log Loss : 0.425125084428\n",
      "for C = 10000\n",
      "for regularization =  l1\n",
      "Log Loss : 0.425125084428\n",
      "for C = 0.0001\n",
      "for regularization =  l2\n",
      "Log Loss : 0.423569155226\n",
      "for C = 0.001\n",
      "for regularization =  l2\n",
      "Log Loss : 0.422499235601\n",
      "for C = 0.01\n",
      "for regularization =  l2\n",
      "Log Loss : 0.422775679303\n",
      "for C = 0.1\n",
      "for regularization =  l2\n",
      "Log Loss : 0.423176049184\n",
      "for C = 1\n",
      "for regularization =  l2\n",
      "Log Loss : 0.423183007346\n",
      "for C = 10\n",
      "for regularization =  l2\n",
      "Log Loss : 0.423183453646\n",
      "for C = 100\n",
      "for regularization =  l2\n",
      "Log Loss : 0.423183453646\n",
      "for C = 1000\n",
      "for regularization =  l2\n",
      "Log Loss : 0.423183417774\n",
      "for C = 10000\n",
      "for regularization =  l2\n",
      "Log Loss : 0.423183417783\n"
     ]
    }
   ],
   "source": [
    "from sklearn.linear_model import SGDClassifier\n",
    "from sklearn.calibration import CalibratedClassifierCV\n",
    "from sklearn.metrics.classification import accuracy_score, log_loss\n",
    "\n",
    "alpha = [10 ** x for x in range(-4, 5)]\n",
    "\n",
    "reg = ['l1', 'l2']\n",
    "\n",
    "for i in reg:\n",
    "    \n",
    "    cv_log_error_array = []\n",
    "    \n",
    "    for j in alpha:\n",
    "    \n",
    "        print(\"for C =\", j )\n",
    "        print (\"for regularization = \", i)\n",
    "\n",
    "        clf = SGDClassifier( class_weight='balanced', alpha=j, penalty=i, loss='hinge', random_state=0)\n",
    "        clf.fit(X_tr, y_train)\n",
    "\n",
    "        sig_clf = CalibratedClassifierCV(clf, method=\"sigmoid\")\n",
    "        sig_clf.fit(X_tr, y_train)\n",
    "\n",
    "        sig_clf_probs = sig_clf.predict_proba(X_cr)\n",
    "        \n",
    "        \n",
    "        cv_log_error_array.append(log_loss(y_cv, sig_clf_probs, labels=clf.classes_, eps=1e-15))\n",
    "\n",
    "        print(\"Log Loss :\",log_loss(y_cv, sig_clf_probs))\n",
    "    \n",
    "    \n",
    "    if (i == 'l1'):\n",
    "        \n",
    "        l1_cv_log_error = cv_log_error_array\n",
    "    \n",
    "    if (i == 'l2'):\n",
    "        \n",
    "        l2_cv_log_error = cv_log_error_array\n",
    "        \n",
    "    \n"
   ]
  },
  {
   "cell_type": "code",
   "execution_count": 172,
   "metadata": {},
   "outputs": [
    {
     "data": {
      "image/png": "[encoded data removed]",
      "text/plain": [
       "<Figure size 432x288 with 1 Axes>"
      ]
     },
     "metadata": {},
     "output_type": "display_data"
    },
    {
     "data": {
      "image/png": "[encoded data removed]",
      "text/plain": [
       "<Figure size 432x288 with 1 Axes>"
      ]
     },
     "metadata": {},
     "output_type": "display_data"
    }
   ],
   "source": [
    "r = [10 ** x for x in range(-4, 5)]\n",
    "\n",
    "x1 = [math.log10(i) for i in r]\n",
    "\n",
    "plt.plot(x1,l1_cv_log_error,label='log loss Error ')\n",
    "plt.scatter(x1,l1_cv_log_error)\n",
    "plt.legend()\n",
    "plt.xlabel('log of hyperparameter')\n",
    "plt.ylabel('Error measure')\n",
    "plt.title('Cross Validation Error for each alpha with L1 regularization')\n",
    "plt.grid()\n",
    "plt.show()\n",
    "\n",
    "\n",
    "x1 = [math.log10(i) for i in r]\n",
    "\n",
    "plt.plot(x1,l2_cv_log_error,label='log loss Error ')\n",
    "plt.scatter(x1,l2_cv_log_error)\n",
    "plt.legend()\n",
    "plt.xlabel('log of hyperparameter')\n",
    "plt.ylabel('Error measure')\n",
    "plt.title('Cross Validation Error for each alpha with L2 regularization')\n",
    "plt.grid()\n",
    "plt.show()\n"
   ]
  },
  {
   "cell_type": "code",
   "execution_count": 173,
   "metadata": {},
   "outputs": [
    {
     "name": "stdout",
     "output_type": "stream",
     "text": [
      "Best alpha with L1 regularization :  0.001\n",
      "Best L1 regularization Value:  0.422451980342\n",
      "Best alpha with L2 regularization :  0.001\n",
      "Best L2 regularization Value:  0.422499235601\n"
     ]
    }
   ],
   "source": [
    "l1_best_alpha = np.argmin(l1_cv_log_error)\n",
    "print(\"Best alpha with L1 regularization : \", alpha[l1_best_alpha])\n",
    "print(\"Best L1 regularization Value: \", l1_cv_log_error[l1_best_alpha])\n",
    "\n",
    "l2_best_alpha = np.argmin(l2_cv_log_error)\n",
    "print(\"Best alpha with L2 regularization : \", alpha[l2_best_alpha])\n",
    "print(\"Best L2 regularization Value: \", l2_cv_log_error[l2_best_alpha])\n"
   ]
  },
  {
   "cell_type": "code",
   "execution_count": 174,
   "metadata": {},
   "outputs": [
    {
     "name": "stdout",
     "output_type": "stream",
     "text": [
      "For values of best alpha =  0.001 The train log loss is: 0.421614158998\n",
      "For values of best alpha =  0.001 The cross validation log loss is: 0.422499235601\n",
      "For values of best alpha =  0.001 The test log loss is: 0.42202988579\n"
     ]
    }
   ],
   "source": [
    "# Since L2 has better regularization value so taken L2 penalty and its best alpha\n",
    "\n",
    "clf = SGDClassifier(class_weight='balanced', alpha=alpha[l2_best_alpha], penalty='l2', loss='hinge', random_state=0)\n",
    "clf.fit(X_tr, y_train)\n",
    "sig_clf = CalibratedClassifierCV(clf, method=\"sigmoid\")\n",
    "sig_clf.fit(X_tr, y_train)\n",
    "\n",
    "predict_y = sig_clf.predict_proba(X_tr)\n",
    "print('For values of best alpha = ', alpha[l2_best_alpha], \"The train log loss is:\",log_loss(y_train, predict_y, labels=clf.classes_, eps=1e-15))\n",
    "predict_y = sig_clf.predict_proba(X_cr)\n",
    "print('For values of best alpha = ', alpha[l2_best_alpha], \"The cross validation log loss is:\",log_loss(y_cv, predict_y, labels=clf.classes_, eps=1e-15))\n",
    "predict_y = sig_clf.predict_proba(X_te)\n",
    "print('For values of best alpha = ', alpha[l2_best_alpha], \"The test log loss is:\",log_loss(y_test, predict_y, labels=clf.classes_, eps=1e-15))\n"
   ]
  },
  {
   "cell_type": "code",
   "execution_count": 175,
   "metadata": {},
   "outputs": [
    {
     "data": {
      "image/png": "[encoded data removed]",
      "text/plain": [
       "<Figure size 432x288 with 1 Axes>"
      ]
     },
     "metadata": {},
     "output_type": "display_data"
    }
   ],
   "source": [
    "# https://scikit-learn.org/stable/modules/generated/sklearn.metrics.roc_curve.html#sklearn.metrics.roc_curve\n",
    "from sklearn.metrics import roc_curve, auc\n",
    "\n",
    "neigh = SGDClassifier(class_weight='balanced', alpha=alpha[l2_best_alpha], penalty='l2', loss='hinge', random_state=0)\n",
    "#neigh = LogisticRegression(C=0.5)\n",
    "neigh.fit(X_tr, y_train)\n",
    "sig_clf = CalibratedClassifierCV(clf, method=\"sigmoid\")\n",
    "sig_clf.fit(X_tr, y_train)\n",
    "# roc_auc_score(y_true, y_score) the 2nd parameter should be probability estimates of the positive class\n",
    "# not the predicted outputs\n",
    "\n",
    "y_train_pred = batch_predict(sig_clf, X_tr)    \n",
    "y_test_pred = batch_predict(sig_clf, X_te)\n",
    "\n",
    "train_fpr, train_tpr, tr_thresholds = roc_curve(y_train, y_train_pred)\n",
    "test_fpr, test_tpr, te_thresholds = roc_curve(y_test, y_test_pred)\n",
    "\n",
    "plt.plot(train_fpr, train_tpr, label=\"train AUC =\"+str(auc(train_fpr, train_tpr)))\n",
    "plt.plot(test_fpr, test_tpr, label=\"test AUC =\"+str(auc(test_fpr, test_tpr)))\n",
    "plt.legend()\n",
    "plt.xlabel(\"C: hyperparameter\")\n",
    "plt.ylabel(\"AUC\")\n",
    "plt.title(\"ERROR PLOTS\")\n",
    "plt.grid()\n",
    "plt.show()"
   ]
  },
  {
   "cell_type": "code",
   "execution_count": 176,
   "metadata": {},
   "outputs": [
    {
     "name": "stdout",
     "output_type": "stream",
     "text": [
      "====================================================================================================\n",
      "Train confusion matrix\n",
      "the maximum value of tpr*(1-fpr) 0.249999927465 for threshold 0.845\n",
      "[[ 3711  3715]\n",
      " [16474 25141]]\n",
      "Test confusion matrix\n",
      "the maximum value of tpr*(1-fpr) 0.249999991611 for threshold 0.843\n",
      "[[ 2285  3174]\n",
      " [ 9929 20664]]\n"
     ]
    }
   ],
   "source": [
    "print(\"=\"*100)\n",
    "from sklearn.metrics import confusion_matrix\n",
    "print(\"Train confusion matrix\")\n",
    "print(confusion_matrix(y_train, predict(y_train_pred, tr_thresholds, train_fpr, train_fpr)))\n",
    "print(\"Test confusion matrix\")\n",
    "print(confusion_matrix(y_test, predict(y_test_pred, tr_thresholds, test_fpr, test_fpr)))"
   ]
  },
  {
   "cell_type": "code",
   "execution_count": 177,
   "metadata": {},
   "outputs": [
    {
     "name": "stdout",
     "output_type": "stream",
     "text": [
      "the maximum value of tpr*(1-fpr) 0.249999927465 for threshold 0.845\n",
      "Train Confusion Matrix\n"
     ]
    },
    {
     "data": {
      "text/plain": [
       "<matplotlib.axes._subplots.AxesSubplot at 0x16398242860>"
      ]
     },
     "execution_count": 177,
     "metadata": {},
     "output_type": "execute_result"
    },
    {
     "data": {
      "image/png": "[encoded data removed]",
      "text/plain": [
       "<Figure size 432x288 with 2 Axes>"
      ]
     },
     "metadata": {},
     "output_type": "display_data"
    }
   ],
   "source": [
    "# https://seaborn.pydata.org/generated/seaborn.heatmap.html\n",
    "# https://stackoverflow.com/questions/29647749/seaborn-showing-scientific-notation-in-heatmap-for-3-digit-numbers\n",
    "\n",
    "# Train Confusion Matrix Heatmap\n",
    "train_confusion_matrix = confusion_matrix(y_train, predict(y_train_pred, tr_thresholds, train_fpr, train_fpr))\n",
    "\n",
    "print(\"Train Confusion Matrix\")\n",
    "sns.heatmap(train_confusion_matrix,annot=True,linewidth = 0.1, cmap='coolwarm', fmt='g')"
   ]
  },
  {
   "cell_type": "code",
   "execution_count": 178,
   "metadata": {},
   "outputs": [
    {
     "name": "stdout",
     "output_type": "stream",
     "text": [
      "the maximum value of tpr*(1-fpr) 0.249999991611 for threshold 0.843\n",
      "Test Confusion Matrix\n"
     ]
    },
    {
     "data": {
      "text/plain": [
       "<matplotlib.axes._subplots.AxesSubplot at 0x16397290a90>"
      ]
     },
     "execution_count": 178,
     "metadata": {},
     "output_type": "execute_result"
    },
    {
     "data": {
      "image/png": "[encoded data removed]",
      "text/plain": [
       "<Figure size 432x288 with 2 Axes>"
      ]
     },
     "metadata": {},
     "output_type": "display_data"
    }
   ],
   "source": [
    "# https://seaborn.pydata.org/generated/seaborn.heatmap.html\n",
    "\n",
    "# Test Confusion Matrix Heatmap\n",
    "\n",
    "test_confusion_matrix = confusion_matrix(y_test, predict(y_test_pred, tr_thresholds, test_fpr, test_fpr))\n",
    "\n",
    "print(\"Test Confusion Matrix\")\n",
    "sns.heatmap(test_confusion_matrix,annot=True,linewidth = 0.5, cmap='coolwarm', fmt='g')"
   ]
  },
  {
   "cell_type": "markdown",
   "metadata": {
    "colab": {},
    "colab_type": "code",
    "id": "uZfzkquRoUIB"
   },
   "source": [
    "# Conclusion\n"
   ]
  },
  {
   "cell_type": "code",
   "execution_count": 179,
   "metadata": {},
   "outputs": [
    {
     "name": "stdout",
     "output_type": "stream",
     "text": [
      "+----------------------------------------------------------------+------------+-----------+----------+\n",
      "|                            Feature                             | Best alpha | Train AUC | Test AUC |\n",
      "+----------------------------------------------------------------+------------+-----------+----------+\n",
      "|                       Linear SVM on BOW                        |    1000    |    0.61   |   0.57   |\n",
      "|                      Linear SVM on TFIDF                       |   0.001    |    0.6    |   0.58   |\n",
      "|                     Linear SVM on AVG W2V                      |   0.001    |    0.57   |   0.56   |\n",
      "|                    Linear SVM on TFIDF W2V                     |    0.01    |    0.63   |   0.62   |\n",
      "| Linear SVM on Cat, Num, Essay Sentiments & truncated svd essay |   0.001    |    0.57   |   0.56   |\n",
      "+----------------------------------------------------------------+------------+-----------+----------+\n"
     ]
    }
   ],
   "source": [
    "# http://zetcode.com/python/prettytable/\n",
    "\n",
    "from prettytable import PrettyTable\n",
    "\n",
    "x = PrettyTable()\n",
    "\n",
    "x.field_names = [\"Feature\", \"Best alpha\", \"Train AUC\", \"Test AUC\"]\n",
    "\n",
    "x.add_row([\"Linear SVM on BOW\", 1000, 0.61, 0.57])\n",
    "x.add_row([\"Linear SVM on TFIDF\", 0.001, 0.60, 0.58])\n",
    "x.add_row([\"Linear SVM on AVG W2V\", 0.001, 0.57, 0.56])\n",
    "x.add_row([\"Linear SVM on TFIDF W2V\", 0.01, 0.63, 0.62])\n",
    "x.add_row([\"Linear SVM on Cat, Num, Essay Sentiments & truncated svd essay\", 0.001, 0.57, 0.56])\n",
    "\n",
    "print(x)"
   ]
  },
  {
   "cell_type": "code",
   "execution_count": null,
   "metadata": {
    "collapsed": true
   },
   "outputs": [],
   "source": []
  }
 ],
 "metadata": {
  "colab": {
   "collapsed_sections": [
    "1xr5XNfxoUHJ",
    "k_rW-gxmoUHR",
    "VMvzxx_koUHR",
    "HjDdqenYoUHX",
    "ElMda-g1oUHZ",
    "919fc_i1oUHf"
   ],
   "name": "7_DonorsChoose_SVM.ipynb",
   "provenance": [],
   "version": "0.3.2"
  },
  "kernelspec": {
   "display_name": "Python 3",
   "language": "python",
   "name": "python3"
  },
  "language_info": {
   "codemirror_mode": {
    "name": "ipython",
    "version": 3
   },
   "file_extension": ".py",
   "mimetype": "text/x-python",
   "name": "python",
   "nbconvert_exporter": "python",
   "pygments_lexer": "ipython3",
   "version": "3.6.2"
  }
 },
 "nbformat": 4,
 "nbformat_minor": 1
}
